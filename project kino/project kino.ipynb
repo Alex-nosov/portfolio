{
 "cells": [
  {
   "cell_type": "markdown",
   "metadata": {},
   "source": [
    "<div class=\"alert alert-success\">\n",
    "<h1> Привет, Александр!</h1>\n",
    "    \n",
    "    \n",
    "Меня зовут Даниил, я буду проверять твой проект. Предлагаю общаться на \"ты\" :). Если это не совсем комфортно, пожалуйста, дай знать.\n",
    "    \n",
    "Моя главная цель - не указывать на твои ошибки, а помочь тебе закрепить изученный материал и приблизиться к освоению профессии. \n",
    "    \n",
    "Здесь и далее я буду помечать свои комментарии в отдельных раскрашенных ячейках: \n",
    "    \n",
    "- В зеленых ячейках (как эта) я буду оставлять свои рекомендации и комментарии, которые помогут сделать твое решение лучше. Доработки, приведенные в таких ячейках, не обязательны к выполнению. \n",
    "\n",
    "<div class=\"alert alert-warning\">\n",
    "<h1> Комментарий ревьюера \t&#128276;</h1>\n",
    "\n",
    "В желтых ячейках я буду подсвечивать тебе некритичные ошибки и оставлять рекомендации на будущее, которые помогут тебе писать более эффективный код, защищать себя от ошибок, сделать проект более выразительным для заказчика. \n",
    "    \n",
    "Не обязательно вносить правки по желтым комментариям для того, чтобы проект был принят.\n",
    "\n",
    "</div>\n",
    "    \n",
    "<div class=\"alert alert-danger\">\n",
    "<h1> Комментарий ревьюера &#9940;</h1>\n",
    "\n",
    "В красных комментариях будут оставлены рекомендации, выполнение которых необходимо для успешной сдачи проекта. Причины простановки каждого такого комментария я подробно опишу. В случае, если что-то осталось непонятным, пожалуйста, спрашивай. Очень важно, чтобы проект принес тебе максимум пользы. \n",
    "\n",
    "</div>\n",
    "    \n",
    "Давай работать над проектом в диалоге: если ты вносишь какие-то изменения согласно моим рекомендациям, обязательно укажи на это. Выбери для своих комментариев заметный цвет, чтобы я мог легче отследить изменения. Важно не перемещать и не удалять наши комментарии: так мы сможем провести повторное ревью оперативнее. \n",
    "    \n",
    "<div class=\"alert alert-info\"> \n",
    "    \n",
    "<h1>Комментарий студента</h1> \n",
    "    \n",
    "В таких ячейках ты можешь оставлять свои комментарии)\n",
    "\n",
    "</div>\n",
    "\n",
    "</div>"
   ]
  },
  {
   "cell_type": "markdown",
   "metadata": {
    "id": "sIfNaMOxgFyK"
   },
   "source": [
    "## Исследование данных о российском кинопрокате\n",
    "\n"
   ]
  },
  {
   "cell_type": "markdown",
   "metadata": {
    "id": "3bSlkCsbgFyL"
   },
   "source": [
    "### Шаг 1. Откройте файлы с данными и объедините их в один датафрейм. \n",
    "\n",
    "Объедините данные таким образом, чтобы все объекты из датасета `mkrf_movies` обязательно вошли в получившийся датафрейм. \n",
    "\n",
    "<div id=\"accordion\">\n",
    "    <div class=\"card\">\n",
    "        <div class=\"card-header\" id=\"headingThree\">\n",
    "            <button class=\"btn btn-link collapsed\" data-toggle=\"collapse\" data-target=\"#collapseHint_0\" aria-expanded=\"false\" aria-controls=\"collapseHint_0\">Подсказка</button>\n",
    "        </div>\n",
    "        <div id=\"collapseHint_0\" class=\"collapse\" aria-labelledby=\"headingThree\" data-parent=\"#accordion\">\n",
    "            <div class=\"card-body\">\n",
    "Обратите внимание на тип данных столбца, по которому будете соединять датафреймы. Тип данных этих столбцов должен быть одинаковым в обоих датафреймах.\n",
    "            </div>\n",
    "        </div>\n",
    "    </div>\n",
    "</div>"
   ]
  },
  {
   "cell_type": "markdown",
   "metadata": {},
   "source": [
    "#### Импорт данных\n",
    "Импортируем две таблицы с данными mkrf_shows.csv и mkrf_movies.csv"
   ]
  },
  {
   "cell_type": "code",
   "execution_count": 1,
   "metadata": {},
   "outputs": [
    {
     "name": "stdout",
     "output_type": "stream",
     "text": [
      "<class 'pandas.core.frame.DataFrame'>\n",
      "RangeIndex: 7486 entries, 0 to 7485\n",
      "Data columns (total 15 columns):\n",
      " #   Column                 Non-Null Count  Dtype  \n",
      "---  ------                 --------------  -----  \n",
      " 0   title                  7486 non-null   object \n",
      " 1   puNumber               7486 non-null   object \n",
      " 2   show_start_date        7486 non-null   object \n",
      " 3   type                   7486 non-null   object \n",
      " 4   film_studio            7468 non-null   object \n",
      " 5   production_country     7484 non-null   object \n",
      " 6   director               7477 non-null   object \n",
      " 7   producer               6918 non-null   object \n",
      " 8   age_restriction        7486 non-null   object \n",
      " 9   refundable_support     332 non-null    float64\n",
      " 10  nonrefundable_support  332 non-null    float64\n",
      " 11  budget                 332 non-null    float64\n",
      " 12  financing_source       332 non-null    object \n",
      " 13  ratings                6519 non-null   object \n",
      " 14  genres                 6510 non-null   object \n",
      "dtypes: float64(3), object(12)\n",
      "memory usage: 877.4+ KB\n"
     ]
    },
    {
     "data": {
      "text/plain": [
       "None"
      ]
     },
     "metadata": {},
     "output_type": "display_data"
    },
    {
     "name": "stdout",
     "output_type": "stream",
     "text": [
      "<class 'pandas.core.frame.DataFrame'>\n",
      "RangeIndex: 3158 entries, 0 to 3157\n",
      "Data columns (total 2 columns):\n",
      " #   Column      Non-Null Count  Dtype  \n",
      "---  ------      --------------  -----  \n",
      " 0   puNumber    3158 non-null   int64  \n",
      " 1   box_office  3158 non-null   float64\n",
      "dtypes: float64(1), int64(1)\n",
      "memory usage: 49.5 KB\n"
     ]
    },
    {
     "data": {
      "text/plain": [
       "None"
      ]
     },
     "metadata": {},
     "output_type": "display_data"
    }
   ],
   "source": [
    "import pandas as pd\n",
    "data_movies = pd.read_csv('/datasets/mkrf_movies.csv')\n",
    "data_shows = pd.read_csv('/datasets/mkrf_shows.csv')\n",
    "display(data_movies.info())\n",
    "display(data_shows.info())"
   ]
  },
  {
   "cell_type": "markdown",
   "metadata": {},
   "source": [
    "#### Объединение таблиц \n",
    "Таблицы data_movies и data_shows будут соединены по общему столбу 'puNumber', столбец data_movies['puNumber'] переводим в числовой формат из строчного, для корректного слияния."
   ]
  },
  {
   "cell_type": "code",
   "execution_count": 2,
   "metadata": {
    "id": "dw87FlzMgFyM"
   },
   "outputs": [],
   "source": [
    "data_movies['puNumber'] = data_movies['puNumber'].replace('нет','0') #перезапись нет в нули\n",
    "data_movies['puNumber'] = data_movies['puNumber'].astype('int') #перевод столбца в число\n",
    "data = pd.merge(data_movies,data_shows,left_on='puNumber',right_on='puNumber',how='left') #объединил две таблицы используя столбец data_movies['puNumber'] "
   ]
  },
  {
   "cell_type": "markdown",
   "metadata": {},
   "source": [
    "#### Проверка результатов объединения на корректность."
   ]
  },
  {
   "cell_type": "code",
   "execution_count": 3,
   "metadata": {},
   "outputs": [
    {
     "name": "stdout",
     "output_type": "stream",
     "text": [
      "<class 'pandas.core.frame.DataFrame'>\n",
      "Int64Index: 7486 entries, 0 to 7485\n",
      "Data columns (total 16 columns):\n",
      " #   Column                 Non-Null Count  Dtype  \n",
      "---  ------                 --------------  -----  \n",
      " 0   title                  7486 non-null   object \n",
      " 1   puNumber               7486 non-null   int64  \n",
      " 2   show_start_date        7486 non-null   object \n",
      " 3   type                   7486 non-null   object \n",
      " 4   film_studio            7468 non-null   object \n",
      " 5   production_country     7484 non-null   object \n",
      " 6   director               7477 non-null   object \n",
      " 7   producer               6918 non-null   object \n",
      " 8   age_restriction        7486 non-null   object \n",
      " 9   refundable_support     332 non-null    float64\n",
      " 10  nonrefundable_support  332 non-null    float64\n",
      " 11  budget                 332 non-null    float64\n",
      " 12  financing_source       332 non-null    object \n",
      " 13  ratings                6519 non-null   object \n",
      " 14  genres                 6510 non-null   object \n",
      " 15  box_office             3158 non-null   float64\n",
      "dtypes: float64(4), int64(1), object(11)\n",
      "memory usage: 994.2+ KB\n"
     ]
    },
    {
     "data": {
      "text/html": [
       "<div>\n",
       "<style scoped>\n",
       "    .dataframe tbody tr th:only-of-type {\n",
       "        vertical-align: middle;\n",
       "    }\n",
       "\n",
       "    .dataframe tbody tr th {\n",
       "        vertical-align: top;\n",
       "    }\n",
       "\n",
       "    .dataframe thead th {\n",
       "        text-align: right;\n",
       "    }\n",
       "</style>\n",
       "<table border=\"1\" class=\"dataframe\">\n",
       "  <thead>\n",
       "    <tr style=\"text-align: right;\">\n",
       "      <th></th>\n",
       "      <th>title</th>\n",
       "      <th>puNumber</th>\n",
       "      <th>show_start_date</th>\n",
       "      <th>type</th>\n",
       "      <th>film_studio</th>\n",
       "      <th>production_country</th>\n",
       "      <th>director</th>\n",
       "      <th>producer</th>\n",
       "      <th>age_restriction</th>\n",
       "      <th>refundable_support</th>\n",
       "      <th>nonrefundable_support</th>\n",
       "      <th>budget</th>\n",
       "      <th>financing_source</th>\n",
       "      <th>ratings</th>\n",
       "      <th>genres</th>\n",
       "      <th>box_office</th>\n",
       "    </tr>\n",
       "  </thead>\n",
       "  <tbody>\n",
       "    <tr>\n",
       "      <th>0</th>\n",
       "      <td>Открытый простор</td>\n",
       "      <td>221048915</td>\n",
       "      <td>2015-11-27T12:00:00.000Z</td>\n",
       "      <td>Художественный</td>\n",
       "      <td>Тачстоун Пикчерз, Кобальт Пикчерз, Бикон Пикче...</td>\n",
       "      <td>США</td>\n",
       "      <td>Кевин Костнер</td>\n",
       "      <td>Дэвид Валдес, Кевин Костнер, Джейк Эбертс</td>\n",
       "      <td>«18+» - запрещено для детей</td>\n",
       "      <td>NaN</td>\n",
       "      <td>NaN</td>\n",
       "      <td>NaN</td>\n",
       "      <td>NaN</td>\n",
       "      <td>7.2</td>\n",
       "      <td>боевик,драма,мелодрама</td>\n",
       "      <td>NaN</td>\n",
       "    </tr>\n",
       "    <tr>\n",
       "      <th>1</th>\n",
       "      <td>Особо важное задание</td>\n",
       "      <td>111013716</td>\n",
       "      <td>2016-09-13T12:00:00.000Z</td>\n",
       "      <td>Художественный</td>\n",
       "      <td>Киностудия \"Мосфильм\"</td>\n",
       "      <td>СССР</td>\n",
       "      <td>Е.Матвеев</td>\n",
       "      <td>NaN</td>\n",
       "      <td>«6+» - для детей старше 6 лет</td>\n",
       "      <td>NaN</td>\n",
       "      <td>NaN</td>\n",
       "      <td>NaN</td>\n",
       "      <td>NaN</td>\n",
       "      <td>6.6</td>\n",
       "      <td>драма,военный</td>\n",
       "      <td>NaN</td>\n",
       "    </tr>\n",
       "    <tr>\n",
       "      <th>2</th>\n",
       "      <td>Особо опасен</td>\n",
       "      <td>221038416</td>\n",
       "      <td>2016-10-10T12:00:00.000Z</td>\n",
       "      <td>Художественный</td>\n",
       "      <td>Юниверсал Пикчерз, Кикстарт Продакшнз, Марк Пл...</td>\n",
       "      <td>США</td>\n",
       "      <td>Тимур Бекмамбетов</td>\n",
       "      <td>Джим Лемли, Джейсон Нетер, Марк Е.Платт, Яйн Смит</td>\n",
       "      <td>«18+» - запрещено для детей</td>\n",
       "      <td>NaN</td>\n",
       "      <td>NaN</td>\n",
       "      <td>NaN</td>\n",
       "      <td>NaN</td>\n",
       "      <td>6.8</td>\n",
       "      <td>фантастика,боевик,триллер</td>\n",
       "      <td>NaN</td>\n",
       "    </tr>\n",
       "    <tr>\n",
       "      <th>3</th>\n",
       "      <td>Особо опасен</td>\n",
       "      <td>221026916</td>\n",
       "      <td>2016-06-10T12:00:00.000Z</td>\n",
       "      <td>Художественный</td>\n",
       "      <td>Юниверсал Пикчерз, Кикстарт Продакшнз, Марк Пл...</td>\n",
       "      <td>США</td>\n",
       "      <td>Тимур Бекмамбетов</td>\n",
       "      <td>Джим Лемли, Джейсон Нетер, Марк Е.Платт, Яйн Смит</td>\n",
       "      <td>«18+» - запрещено для детей</td>\n",
       "      <td>NaN</td>\n",
       "      <td>NaN</td>\n",
       "      <td>NaN</td>\n",
       "      <td>NaN</td>\n",
       "      <td>6.8</td>\n",
       "      <td>фантастика,боевик,триллер</td>\n",
       "      <td>NaN</td>\n",
       "    </tr>\n",
       "    <tr>\n",
       "      <th>4</th>\n",
       "      <td>Особо опасен</td>\n",
       "      <td>221030815</td>\n",
       "      <td>2015-07-29T12:00:00.000Z</td>\n",
       "      <td>Художественный</td>\n",
       "      <td>Юниверсал Пикчерз, Кикстарт Продакшнз, Марк Пл...</td>\n",
       "      <td>США</td>\n",
       "      <td>Тимур Бекмамбетов</td>\n",
       "      <td>Джим Лемли, Джейсон Нетер, Марк Е.Платт, Яйн Смит</td>\n",
       "      <td>«18+» - запрещено для детей</td>\n",
       "      <td>NaN</td>\n",
       "      <td>NaN</td>\n",
       "      <td>NaN</td>\n",
       "      <td>NaN</td>\n",
       "      <td>6.8</td>\n",
       "      <td>фантастика,боевик,триллер</td>\n",
       "      <td>NaN</td>\n",
       "    </tr>\n",
       "    <tr>\n",
       "      <th>5</th>\n",
       "      <td>Остановился поезд</td>\n",
       "      <td>111013816</td>\n",
       "      <td>2016-09-13T12:00:00.000Z</td>\n",
       "      <td>Художественный</td>\n",
       "      <td>Киностудия \"Мосфильм\"</td>\n",
       "      <td>СССР</td>\n",
       "      <td>В.Абдрашитов</td>\n",
       "      <td>NaN</td>\n",
       "      <td>«6+» - для детей старше 6 лет</td>\n",
       "      <td>NaN</td>\n",
       "      <td>NaN</td>\n",
       "      <td>NaN</td>\n",
       "      <td>NaN</td>\n",
       "      <td>7.7</td>\n",
       "      <td>драма</td>\n",
       "      <td>NaN</td>\n",
       "    </tr>\n",
       "    <tr>\n",
       "      <th>6</th>\n",
       "      <td>Любовь и голуби</td>\n",
       "      <td>111007013</td>\n",
       "      <td>2013-10-18T12:00:00.000Z</td>\n",
       "      <td>Художественный</td>\n",
       "      <td>Киностудия \"Мосфильм\"</td>\n",
       "      <td>СССР</td>\n",
       "      <td>В.Меньшов</td>\n",
       "      <td>NaN</td>\n",
       "      <td>«12+» - для детей старше 12 лет</td>\n",
       "      <td>NaN</td>\n",
       "      <td>NaN</td>\n",
       "      <td>NaN</td>\n",
       "      <td>NaN</td>\n",
       "      <td>8.3</td>\n",
       "      <td>мелодрама,комедия</td>\n",
       "      <td>2700.0</td>\n",
       "    </tr>\n",
       "    <tr>\n",
       "      <th>7</th>\n",
       "      <td>Любовь и сигареты</td>\n",
       "      <td>221074614</td>\n",
       "      <td>2014-12-29T12:00:00.000Z</td>\n",
       "      <td>Художественный</td>\n",
       "      <td>Юнайтед Артистс, Грин Стрит Филмз, Айкон Интер...</td>\n",
       "      <td>США</td>\n",
       "      <td>Джон Туртурро</td>\n",
       "      <td>Джон Пенотти, Джон Туртурро</td>\n",
       "      <td>«18+» - запрещено для детей</td>\n",
       "      <td>NaN</td>\n",
       "      <td>NaN</td>\n",
       "      <td>NaN</td>\n",
       "      <td>NaN</td>\n",
       "      <td>6.6</td>\n",
       "      <td>мюзикл,мелодрама,комедия</td>\n",
       "      <td>NaN</td>\n",
       "    </tr>\n",
       "    <tr>\n",
       "      <th>8</th>\n",
       "      <td>Отпетые мошенники.</td>\n",
       "      <td>121011416</td>\n",
       "      <td>2016-05-05T12:00:00.000Z</td>\n",
       "      <td>Художественный</td>\n",
       "      <td>Пульсар Продюксьон, ТФ1 Фильм</td>\n",
       "      <td>Франция</td>\n",
       "      <td>Эрик Беснард</td>\n",
       "      <td>Патрис Леду</td>\n",
       "      <td>«18+» - запрещено для детей</td>\n",
       "      <td>NaN</td>\n",
       "      <td>NaN</td>\n",
       "      <td>NaN</td>\n",
       "      <td>NaN</td>\n",
       "      <td>8.0</td>\n",
       "      <td>комедия,криминал</td>\n",
       "      <td>NaN</td>\n",
       "    </tr>\n",
       "    <tr>\n",
       "      <th>9</th>\n",
       "      <td>Отпуск за свой счет</td>\n",
       "      <td>111019114</td>\n",
       "      <td>2014-12-01T12:00:00.000Z</td>\n",
       "      <td>Художественный</td>\n",
       "      <td>Киностудия \"Мосфильм\", Телевидение ВНР</td>\n",
       "      <td>СССР, Венгрия</td>\n",
       "      <td>В.Титов</td>\n",
       "      <td>NaN</td>\n",
       "      <td>«12+» - для детей старше 12 лет</td>\n",
       "      <td>NaN</td>\n",
       "      <td>NaN</td>\n",
       "      <td>NaN</td>\n",
       "      <td>NaN</td>\n",
       "      <td>7.8</td>\n",
       "      <td>мелодрама,комедия</td>\n",
       "      <td>NaN</td>\n",
       "    </tr>\n",
       "  </tbody>\n",
       "</table>\n",
       "</div>"
      ],
      "text/plain": [
       "                  title   puNumber           show_start_date            type  \\\n",
       "0      Открытый простор  221048915  2015-11-27T12:00:00.000Z  Художественный   \n",
       "1  Особо важное задание  111013716  2016-09-13T12:00:00.000Z  Художественный   \n",
       "2          Особо опасен  221038416  2016-10-10T12:00:00.000Z  Художественный   \n",
       "3          Особо опасен  221026916  2016-06-10T12:00:00.000Z  Художественный   \n",
       "4          Особо опасен  221030815  2015-07-29T12:00:00.000Z  Художественный   \n",
       "5     Остановился поезд  111013816  2016-09-13T12:00:00.000Z  Художественный   \n",
       "6       Любовь и голуби  111007013  2013-10-18T12:00:00.000Z  Художественный   \n",
       "7     Любовь и сигареты  221074614  2014-12-29T12:00:00.000Z  Художественный   \n",
       "8    Отпетые мошенники.  121011416  2016-05-05T12:00:00.000Z  Художественный   \n",
       "9   Отпуск за свой счет  111019114  2014-12-01T12:00:00.000Z  Художественный   \n",
       "\n",
       "                                         film_studio production_country  \\\n",
       "0  Тачстоун Пикчерз, Кобальт Пикчерз, Бикон Пикче...                США   \n",
       "1                              Киностудия \"Мосфильм\"               СССР   \n",
       "2  Юниверсал Пикчерз, Кикстарт Продакшнз, Марк Пл...                США   \n",
       "3  Юниверсал Пикчерз, Кикстарт Продакшнз, Марк Пл...                США   \n",
       "4  Юниверсал Пикчерз, Кикстарт Продакшнз, Марк Пл...                США   \n",
       "5                              Киностудия \"Мосфильм\"               СССР   \n",
       "6                              Киностудия \"Мосфильм\"               СССР   \n",
       "7  Юнайтед Артистс, Грин Стрит Филмз, Айкон Интер...                США   \n",
       "8                     Пульсар Продюксьон, ТФ1 Фильм             Франция   \n",
       "9             Киностудия \"Мосфильм\", Телевидение ВНР      СССР, Венгрия   \n",
       "\n",
       "            director                                           producer  \\\n",
       "0      Кевин Костнер          Дэвид Валдес, Кевин Костнер, Джейк Эбертс   \n",
       "1          Е.Матвеев                                                NaN   \n",
       "2  Тимур Бекмамбетов  Джим Лемли, Джейсон Нетер, Марк Е.Платт, Яйн Смит   \n",
       "3  Тимур Бекмамбетов  Джим Лемли, Джейсон Нетер, Марк Е.Платт, Яйн Смит   \n",
       "4  Тимур Бекмамбетов  Джим Лемли, Джейсон Нетер, Марк Е.Платт, Яйн Смит   \n",
       "5       В.Абдрашитов                                                NaN   \n",
       "6          В.Меньшов                                                NaN   \n",
       "7      Джон Туртурро                        Джон Пенотти, Джон Туртурро   \n",
       "8       Эрик Беснард                                        Патрис Леду   \n",
       "9            В.Титов                                                NaN   \n",
       "\n",
       "                   age_restriction  refundable_support  nonrefundable_support  \\\n",
       "0      «18+» - запрещено для детей                 NaN                    NaN   \n",
       "1    «6+» - для детей старше 6 лет                 NaN                    NaN   \n",
       "2      «18+» - запрещено для детей                 NaN                    NaN   \n",
       "3      «18+» - запрещено для детей                 NaN                    NaN   \n",
       "4      «18+» - запрещено для детей                 NaN                    NaN   \n",
       "5    «6+» - для детей старше 6 лет                 NaN                    NaN   \n",
       "6  «12+» - для детей старше 12 лет                 NaN                    NaN   \n",
       "7      «18+» - запрещено для детей                 NaN                    NaN   \n",
       "8      «18+» - запрещено для детей                 NaN                    NaN   \n",
       "9  «12+» - для детей старше 12 лет                 NaN                    NaN   \n",
       "\n",
       "   budget financing_source ratings                     genres  box_office  \n",
       "0     NaN              NaN     7.2     боевик,драма,мелодрама         NaN  \n",
       "1     NaN              NaN     6.6              драма,военный         NaN  \n",
       "2     NaN              NaN     6.8  фантастика,боевик,триллер         NaN  \n",
       "3     NaN              NaN     6.8  фантастика,боевик,триллер         NaN  \n",
       "4     NaN              NaN     6.8  фантастика,боевик,триллер         NaN  \n",
       "5     NaN              NaN     7.7                      драма         NaN  \n",
       "6     NaN              NaN     8.3          мелодрама,комедия      2700.0  \n",
       "7     NaN              NaN     6.6   мюзикл,мелодрама,комедия         NaN  \n",
       "8     NaN              NaN     8.0           комедия,криминал         NaN  \n",
       "9     NaN              NaN     7.8          мелодрама,комедия         NaN  "
      ]
     },
     "metadata": {},
     "output_type": "display_data"
    }
   ],
   "source": [
    "data.info()\n",
    "display(data.head(10))"
   ]
  },
  {
   "cell_type": "markdown",
   "metadata": {},
   "source": [
    "После слияния кол-во строк отсалось 7486, добавился столбец 'box_office' с кол-вом значений 3158. Слияние прошло корректно."
   ]
  },
  {
   "cell_type": "markdown",
   "metadata": {},
   "source": [
    "<div class=\"alert alert-success\">\n",
    "<h1> Комментарий ревьюера. vol. 2 &#9989;</h1>\n",
    "\n",
    "Отлично.\n",
    "    \n",
    "</div>"
   ]
  },
  {
   "cell_type": "markdown",
   "metadata": {
    "id": "KLDGpPG0gFyM"
   },
   "source": [
    "### Шаг 2. Предобработка данных"
   ]
  },
  {
   "cell_type": "markdown",
   "metadata": {
    "id": "ssWwKXsxgFyO"
   },
   "source": [
    "#### Шаг 2.1. Проверьте типы данных\n",
    "\n",
    "- Проверьте типы данных в датафрейме и преобразуйте их там, где это необходимо."
   ]
  },
  {
   "cell_type": "code",
   "execution_count": 4,
   "metadata": {
    "id": "kVGSplJOgFyO"
   },
   "outputs": [
    {
     "data": {
      "text/html": [
       "<div>\n",
       "<style scoped>\n",
       "    .dataframe tbody tr th:only-of-type {\n",
       "        vertical-align: middle;\n",
       "    }\n",
       "\n",
       "    .dataframe tbody tr th {\n",
       "        vertical-align: top;\n",
       "    }\n",
       "\n",
       "    .dataframe thead th {\n",
       "        text-align: right;\n",
       "    }\n",
       "</style>\n",
       "<table border=\"1\" class=\"dataframe\">\n",
       "  <thead>\n",
       "    <tr style=\"text-align: right;\">\n",
       "      <th></th>\n",
       "      <th>title</th>\n",
       "      <th>puNumber</th>\n",
       "      <th>show_start_date</th>\n",
       "      <th>type</th>\n",
       "      <th>film_studio</th>\n",
       "      <th>production_country</th>\n",
       "      <th>director</th>\n",
       "      <th>producer</th>\n",
       "      <th>age_restriction</th>\n",
       "      <th>refundable_support</th>\n",
       "      <th>nonrefundable_support</th>\n",
       "      <th>budget</th>\n",
       "      <th>financing_source</th>\n",
       "      <th>ratings</th>\n",
       "      <th>genres</th>\n",
       "      <th>box_office</th>\n",
       "    </tr>\n",
       "  </thead>\n",
       "  <tbody>\n",
       "    <tr>\n",
       "      <th>0</th>\n",
       "      <td>Открытый простор</td>\n",
       "      <td>221048915</td>\n",
       "      <td>2015-11-27 12:00:00+00:00</td>\n",
       "      <td>Художественный</td>\n",
       "      <td>Тачстоун Пикчерз, Кобальт Пикчерз, Бикон Пикче...</td>\n",
       "      <td>США</td>\n",
       "      <td>Кевин Костнер</td>\n",
       "      <td>Дэвид Валдес, Кевин Костнер, Джейк Эбертс</td>\n",
       "      <td>«18+» - запрещено для детей</td>\n",
       "      <td>NaN</td>\n",
       "      <td>NaN</td>\n",
       "      <td>NaN</td>\n",
       "      <td>NaN</td>\n",
       "      <td>7.2</td>\n",
       "      <td>боевик,драма,мелодрама</td>\n",
       "      <td>NaN</td>\n",
       "    </tr>\n",
       "    <tr>\n",
       "      <th>1</th>\n",
       "      <td>Особо важное задание</td>\n",
       "      <td>111013716</td>\n",
       "      <td>2016-09-13 12:00:00+00:00</td>\n",
       "      <td>Художественный</td>\n",
       "      <td>Киностудия \"Мосфильм\"</td>\n",
       "      <td>СССР</td>\n",
       "      <td>Е.Матвеев</td>\n",
       "      <td>NaN</td>\n",
       "      <td>«6+» - для детей старше 6 лет</td>\n",
       "      <td>NaN</td>\n",
       "      <td>NaN</td>\n",
       "      <td>NaN</td>\n",
       "      <td>NaN</td>\n",
       "      <td>6.6</td>\n",
       "      <td>драма,военный</td>\n",
       "      <td>NaN</td>\n",
       "    </tr>\n",
       "    <tr>\n",
       "      <th>2</th>\n",
       "      <td>Особо опасен</td>\n",
       "      <td>221038416</td>\n",
       "      <td>2016-10-10 12:00:00+00:00</td>\n",
       "      <td>Художественный</td>\n",
       "      <td>Юниверсал Пикчерз, Кикстарт Продакшнз, Марк Пл...</td>\n",
       "      <td>США</td>\n",
       "      <td>Тимур Бекмамбетов</td>\n",
       "      <td>Джим Лемли, Джейсон Нетер, Марк Е.Платт, Яйн Смит</td>\n",
       "      <td>«18+» - запрещено для детей</td>\n",
       "      <td>NaN</td>\n",
       "      <td>NaN</td>\n",
       "      <td>NaN</td>\n",
       "      <td>NaN</td>\n",
       "      <td>6.8</td>\n",
       "      <td>фантастика,боевик,триллер</td>\n",
       "      <td>NaN</td>\n",
       "    </tr>\n",
       "    <tr>\n",
       "      <th>3</th>\n",
       "      <td>Особо опасен</td>\n",
       "      <td>221026916</td>\n",
       "      <td>2016-06-10 12:00:00+00:00</td>\n",
       "      <td>Художественный</td>\n",
       "      <td>Юниверсал Пикчерз, Кикстарт Продакшнз, Марк Пл...</td>\n",
       "      <td>США</td>\n",
       "      <td>Тимур Бекмамбетов</td>\n",
       "      <td>Джим Лемли, Джейсон Нетер, Марк Е.Платт, Яйн Смит</td>\n",
       "      <td>«18+» - запрещено для детей</td>\n",
       "      <td>NaN</td>\n",
       "      <td>NaN</td>\n",
       "      <td>NaN</td>\n",
       "      <td>NaN</td>\n",
       "      <td>6.8</td>\n",
       "      <td>фантастика,боевик,триллер</td>\n",
       "      <td>NaN</td>\n",
       "    </tr>\n",
       "    <tr>\n",
       "      <th>4</th>\n",
       "      <td>Особо опасен</td>\n",
       "      <td>221030815</td>\n",
       "      <td>2015-07-29 12:00:00+00:00</td>\n",
       "      <td>Художественный</td>\n",
       "      <td>Юниверсал Пикчерз, Кикстарт Продакшнз, Марк Пл...</td>\n",
       "      <td>США</td>\n",
       "      <td>Тимур Бекмамбетов</td>\n",
       "      <td>Джим Лемли, Джейсон Нетер, Марк Е.Платт, Яйн Смит</td>\n",
       "      <td>«18+» - запрещено для детей</td>\n",
       "      <td>NaN</td>\n",
       "      <td>NaN</td>\n",
       "      <td>NaN</td>\n",
       "      <td>NaN</td>\n",
       "      <td>6.8</td>\n",
       "      <td>фантастика,боевик,триллер</td>\n",
       "      <td>NaN</td>\n",
       "    </tr>\n",
       "    <tr>\n",
       "      <th>5</th>\n",
       "      <td>Остановился поезд</td>\n",
       "      <td>111013816</td>\n",
       "      <td>2016-09-13 12:00:00+00:00</td>\n",
       "      <td>Художественный</td>\n",
       "      <td>Киностудия \"Мосфильм\"</td>\n",
       "      <td>СССР</td>\n",
       "      <td>В.Абдрашитов</td>\n",
       "      <td>NaN</td>\n",
       "      <td>«6+» - для детей старше 6 лет</td>\n",
       "      <td>NaN</td>\n",
       "      <td>NaN</td>\n",
       "      <td>NaN</td>\n",
       "      <td>NaN</td>\n",
       "      <td>7.7</td>\n",
       "      <td>драма</td>\n",
       "      <td>NaN</td>\n",
       "    </tr>\n",
       "    <tr>\n",
       "      <th>6</th>\n",
       "      <td>Любовь и голуби</td>\n",
       "      <td>111007013</td>\n",
       "      <td>2013-10-18 12:00:00+00:00</td>\n",
       "      <td>Художественный</td>\n",
       "      <td>Киностудия \"Мосфильм\"</td>\n",
       "      <td>СССР</td>\n",
       "      <td>В.Меньшов</td>\n",
       "      <td>NaN</td>\n",
       "      <td>«12+» - для детей старше 12 лет</td>\n",
       "      <td>NaN</td>\n",
       "      <td>NaN</td>\n",
       "      <td>NaN</td>\n",
       "      <td>NaN</td>\n",
       "      <td>8.3</td>\n",
       "      <td>мелодрама,комедия</td>\n",
       "      <td>2700.0</td>\n",
       "    </tr>\n",
       "    <tr>\n",
       "      <th>7</th>\n",
       "      <td>Любовь и сигареты</td>\n",
       "      <td>221074614</td>\n",
       "      <td>2014-12-29 12:00:00+00:00</td>\n",
       "      <td>Художественный</td>\n",
       "      <td>Юнайтед Артистс, Грин Стрит Филмз, Айкон Интер...</td>\n",
       "      <td>США</td>\n",
       "      <td>Джон Туртурро</td>\n",
       "      <td>Джон Пенотти, Джон Туртурро</td>\n",
       "      <td>«18+» - запрещено для детей</td>\n",
       "      <td>NaN</td>\n",
       "      <td>NaN</td>\n",
       "      <td>NaN</td>\n",
       "      <td>NaN</td>\n",
       "      <td>6.6</td>\n",
       "      <td>мюзикл,мелодрама,комедия</td>\n",
       "      <td>NaN</td>\n",
       "    </tr>\n",
       "    <tr>\n",
       "      <th>8</th>\n",
       "      <td>Отпетые мошенники.</td>\n",
       "      <td>121011416</td>\n",
       "      <td>2016-05-05 12:00:00+00:00</td>\n",
       "      <td>Художественный</td>\n",
       "      <td>Пульсар Продюксьон, ТФ1 Фильм</td>\n",
       "      <td>Франция</td>\n",
       "      <td>Эрик Беснард</td>\n",
       "      <td>Патрис Леду</td>\n",
       "      <td>«18+» - запрещено для детей</td>\n",
       "      <td>NaN</td>\n",
       "      <td>NaN</td>\n",
       "      <td>NaN</td>\n",
       "      <td>NaN</td>\n",
       "      <td>8.0</td>\n",
       "      <td>комедия,криминал</td>\n",
       "      <td>NaN</td>\n",
       "    </tr>\n",
       "    <tr>\n",
       "      <th>9</th>\n",
       "      <td>Отпуск за свой счет</td>\n",
       "      <td>111019114</td>\n",
       "      <td>2014-12-01 12:00:00+00:00</td>\n",
       "      <td>Художественный</td>\n",
       "      <td>Киностудия \"Мосфильм\", Телевидение ВНР</td>\n",
       "      <td>СССР, Венгрия</td>\n",
       "      <td>В.Титов</td>\n",
       "      <td>NaN</td>\n",
       "      <td>«12+» - для детей старше 12 лет</td>\n",
       "      <td>NaN</td>\n",
       "      <td>NaN</td>\n",
       "      <td>NaN</td>\n",
       "      <td>NaN</td>\n",
       "      <td>7.8</td>\n",
       "      <td>мелодрама,комедия</td>\n",
       "      <td>NaN</td>\n",
       "    </tr>\n",
       "  </tbody>\n",
       "</table>\n",
       "</div>"
      ],
      "text/plain": [
       "                  title   puNumber           show_start_date            type  \\\n",
       "0      Открытый простор  221048915 2015-11-27 12:00:00+00:00  Художественный   \n",
       "1  Особо важное задание  111013716 2016-09-13 12:00:00+00:00  Художественный   \n",
       "2          Особо опасен  221038416 2016-10-10 12:00:00+00:00  Художественный   \n",
       "3          Особо опасен  221026916 2016-06-10 12:00:00+00:00  Художественный   \n",
       "4          Особо опасен  221030815 2015-07-29 12:00:00+00:00  Художественный   \n",
       "5     Остановился поезд  111013816 2016-09-13 12:00:00+00:00  Художественный   \n",
       "6       Любовь и голуби  111007013 2013-10-18 12:00:00+00:00  Художественный   \n",
       "7     Любовь и сигареты  221074614 2014-12-29 12:00:00+00:00  Художественный   \n",
       "8    Отпетые мошенники.  121011416 2016-05-05 12:00:00+00:00  Художественный   \n",
       "9   Отпуск за свой счет  111019114 2014-12-01 12:00:00+00:00  Художественный   \n",
       "\n",
       "                                         film_studio production_country  \\\n",
       "0  Тачстоун Пикчерз, Кобальт Пикчерз, Бикон Пикче...                США   \n",
       "1                              Киностудия \"Мосфильм\"               СССР   \n",
       "2  Юниверсал Пикчерз, Кикстарт Продакшнз, Марк Пл...                США   \n",
       "3  Юниверсал Пикчерз, Кикстарт Продакшнз, Марк Пл...                США   \n",
       "4  Юниверсал Пикчерз, Кикстарт Продакшнз, Марк Пл...                США   \n",
       "5                              Киностудия \"Мосфильм\"               СССР   \n",
       "6                              Киностудия \"Мосфильм\"               СССР   \n",
       "7  Юнайтед Артистс, Грин Стрит Филмз, Айкон Интер...                США   \n",
       "8                     Пульсар Продюксьон, ТФ1 Фильм             Франция   \n",
       "9             Киностудия \"Мосфильм\", Телевидение ВНР      СССР, Венгрия   \n",
       "\n",
       "            director                                           producer  \\\n",
       "0      Кевин Костнер          Дэвид Валдес, Кевин Костнер, Джейк Эбертс   \n",
       "1          Е.Матвеев                                                NaN   \n",
       "2  Тимур Бекмамбетов  Джим Лемли, Джейсон Нетер, Марк Е.Платт, Яйн Смит   \n",
       "3  Тимур Бекмамбетов  Джим Лемли, Джейсон Нетер, Марк Е.Платт, Яйн Смит   \n",
       "4  Тимур Бекмамбетов  Джим Лемли, Джейсон Нетер, Марк Е.Платт, Яйн Смит   \n",
       "5       В.Абдрашитов                                                NaN   \n",
       "6          В.Меньшов                                                NaN   \n",
       "7      Джон Туртурро                        Джон Пенотти, Джон Туртурро   \n",
       "8       Эрик Беснард                                        Патрис Леду   \n",
       "9            В.Титов                                                NaN   \n",
       "\n",
       "                   age_restriction  refundable_support  nonrefundable_support  \\\n",
       "0      «18+» - запрещено для детей                 NaN                    NaN   \n",
       "1    «6+» - для детей старше 6 лет                 NaN                    NaN   \n",
       "2      «18+» - запрещено для детей                 NaN                    NaN   \n",
       "3      «18+» - запрещено для детей                 NaN                    NaN   \n",
       "4      «18+» - запрещено для детей                 NaN                    NaN   \n",
       "5    «6+» - для детей старше 6 лет                 NaN                    NaN   \n",
       "6  «12+» - для детей старше 12 лет                 NaN                    NaN   \n",
       "7      «18+» - запрещено для детей                 NaN                    NaN   \n",
       "8      «18+» - запрещено для детей                 NaN                    NaN   \n",
       "9  «12+» - для детей старше 12 лет                 NaN                    NaN   \n",
       "\n",
       "   budget financing_source  ratings                     genres  box_office  \n",
       "0     NaN              NaN      7.2     боевик,драма,мелодрама         NaN  \n",
       "1     NaN              NaN      6.6              драма,военный         NaN  \n",
       "2     NaN              NaN      6.8  фантастика,боевик,триллер         NaN  \n",
       "3     NaN              NaN      6.8  фантастика,боевик,триллер         NaN  \n",
       "4     NaN              NaN      6.8  фантастика,боевик,триллер         NaN  \n",
       "5     NaN              NaN      7.7                      драма         NaN  \n",
       "6     NaN              NaN      8.3          мелодрама,комедия      2700.0  \n",
       "7     NaN              NaN      6.6   мюзикл,мелодрама,комедия         NaN  \n",
       "8     NaN              NaN      8.0           комедия,криминал         NaN  \n",
       "9     NaN              NaN      7.8          мелодрама,комедия         NaN  "
      ]
     },
     "metadata": {},
     "output_type": "display_data"
    }
   ],
   "source": [
    "data['show_start_date'] = pd.to_datetime(data['show_start_date'])\n",
    "data['refundable_support'] = data['refundable_support'].astype('float')\n",
    "data['nonrefundable_support'] = data['nonrefundable_support'].astype('float')\n",
    "data['budget'] = data['budget'].astype('float')\n",
    "data['ratings'] = data['ratings'].replace('99%','9.9')\n",
    "data['ratings'] = data['ratings'].replace('28%','2.8')\n",
    "data['ratings'] = data['ratings'].replace('97%','9.7')\n",
    "data['ratings'] = data['ratings'].replace('83%','8.3')\n",
    "data['ratings'] = data['ratings'].replace('64%','6.4')\n",
    "data['ratings'] = data['ratings'].replace('91%','9.1')\n",
    "data['ratings'] = data['ratings'].replace('94%','9.4')\n",
    "data['ratings'] = data['ratings'].replace('62%','6.2')\n",
    "data['ratings'] = data['ratings'].replace('79%','7.9')\n",
    "data['ratings'] = data['ratings'].replace('90%','9.0')\n",
    "data['ratings'] = data['ratings'].replace('19%','1.9')\n",
    "data['ratings'] = data['ratings'].replace('88%','8.8')\n",
    "data['ratings'] = data['ratings'].replace('89%','8.9')\n",
    "data['ratings'] = data['ratings'].replace('98%','9.8')\n",
    "data['ratings'] = data['ratings'].astype('float')\n",
    "#data['ratings'].unique()\n",
    "#print(data['refundable_support'].unique())\n",
    "\n",
    "#data.info()\n",
    "display(data.head(10))"
   ]
  },
  {
   "cell_type": "markdown",
   "metadata": {},
   "source": [
    "- столбец data['show_start_date'] - преобразован в формат datetime64 и убрано время.\n",
    "- столбец data['refundable_support'] - преобразован в формат float64.\n",
    "- столбец data['nonrefundable_support'] - преобразован в формат float64.\n",
    "- столбец data['budget'] - преобразован в формат float64.\n",
    "- столбец data['ratings'] - преобразован в формат float64."
   ]
  },
  {
   "cell_type": "markdown",
   "metadata": {
    "id": "i0MOLbF-gFyP"
   },
   "source": [
    "#### Шаг 2.2. Изучите пропуски в датафрейме\n",
    "\n",
    "- Объясните, почему заполнили пропуски определённым образом или почему не стали этого делать."
   ]
  },
  {
   "cell_type": "code",
   "execution_count": 5,
   "metadata": {
    "id": "8MJD_lkngFyP"
   },
   "outputs": [
    {
     "name": "stdout",
     "output_type": "stream",
     "text": [
      "<class 'pandas.core.frame.DataFrame'>\n",
      "Int64Index: 7486 entries, 0 to 7485\n",
      "Data columns (total 16 columns):\n",
      " #   Column                 Non-Null Count  Dtype              \n",
      "---  ------                 --------------  -----              \n",
      " 0   title                  7486 non-null   object             \n",
      " 1   puNumber               7486 non-null   int64              \n",
      " 2   show_start_date        7486 non-null   datetime64[ns, UTC]\n",
      " 3   type                   7486 non-null   object             \n",
      " 4   film_studio            7468 non-null   object             \n",
      " 5   production_country     7484 non-null   object             \n",
      " 6   director               7477 non-null   object             \n",
      " 7   producer               6918 non-null   object             \n",
      " 8   age_restriction        7486 non-null   object             \n",
      " 9   refundable_support     332 non-null    float64            \n",
      " 10  nonrefundable_support  332 non-null    float64            \n",
      " 11  budget                 332 non-null    float64            \n",
      " 12  financing_source       332 non-null    object             \n",
      " 13  ratings                6519 non-null   float64            \n",
      " 14  genres                 6510 non-null   object             \n",
      " 15  box_office             3158 non-null   float64            \n",
      "dtypes: datetime64[ns, UTC](1), float64(5), int64(1), object(9)\n",
      "memory usage: 994.2+ KB\n"
     ]
    },
    {
     "data": {
      "text/plain": [
       "None"
      ]
     },
     "metadata": {},
     "output_type": "display_data"
    },
    {
     "data": {
      "text/html": [
       "<style  type=\"text/css\" >\n",
       "#T_f12ad_row0_col0,#T_f12ad_row1_col0,#T_f12ad_row2_col0,#T_f12ad_row3_col0,#T_f12ad_row4_col0,#T_f12ad_row5_col0,#T_f12ad_row6_col0,#T_f12ad_row8_col0{\n",
       "            background-color:  #3b4cc0;\n",
       "            color:  #f1f1f1;\n",
       "        }#T_f12ad_row7_col0{\n",
       "            background-color:  #5470de;\n",
       "            color:  #000000;\n",
       "        }#T_f12ad_row9_col0,#T_f12ad_row10_col0,#T_f12ad_row11_col0,#T_f12ad_row12_col0{\n",
       "            background-color:  #b40426;\n",
       "            color:  #f1f1f1;\n",
       "        }#T_f12ad_row13_col0,#T_f12ad_row14_col0{\n",
       "            background-color:  #6485ec;\n",
       "            color:  #000000;\n",
       "        }#T_f12ad_row15_col0{\n",
       "            background-color:  #f2cab5;\n",
       "            color:  #000000;\n",
       "        }</style><table id=\"T_f12ad_\" ><thead>    <tr>        <th class=\"blank level0\" ></th>        <th class=\"col_heading level0 col0\" >0</th>    </tr></thead><tbody>\n",
       "                <tr>\n",
       "                        <th id=\"T_f12ad_level0_row0\" class=\"row_heading level0 row0\" >title</th>\n",
       "                        <td id=\"T_f12ad_row0_col0\" class=\"data row0 col0\" >0.000000</td>\n",
       "            </tr>\n",
       "            <tr>\n",
       "                        <th id=\"T_f12ad_level0_row1\" class=\"row_heading level0 row1\" >puNumber</th>\n",
       "                        <td id=\"T_f12ad_row1_col0\" class=\"data row1 col0\" >0.000000</td>\n",
       "            </tr>\n",
       "            <tr>\n",
       "                        <th id=\"T_f12ad_level0_row2\" class=\"row_heading level0 row2\" >show_start_date</th>\n",
       "                        <td id=\"T_f12ad_row2_col0\" class=\"data row2 col0\" >0.000000</td>\n",
       "            </tr>\n",
       "            <tr>\n",
       "                        <th id=\"T_f12ad_level0_row3\" class=\"row_heading level0 row3\" >type</th>\n",
       "                        <td id=\"T_f12ad_row3_col0\" class=\"data row3 col0\" >0.000000</td>\n",
       "            </tr>\n",
       "            <tr>\n",
       "                        <th id=\"T_f12ad_level0_row4\" class=\"row_heading level0 row4\" >film_studio</th>\n",
       "                        <td id=\"T_f12ad_row4_col0\" class=\"data row4 col0\" >0.000000</td>\n",
       "            </tr>\n",
       "            <tr>\n",
       "                        <th id=\"T_f12ad_level0_row5\" class=\"row_heading level0 row5\" >production_country</th>\n",
       "                        <td id=\"T_f12ad_row5_col0\" class=\"data row5 col0\" >0.000000</td>\n",
       "            </tr>\n",
       "            <tr>\n",
       "                        <th id=\"T_f12ad_level0_row6\" class=\"row_heading level0 row6\" >director</th>\n",
       "                        <td id=\"T_f12ad_row6_col0\" class=\"data row6 col0\" >0.000000</td>\n",
       "            </tr>\n",
       "            <tr>\n",
       "                        <th id=\"T_f12ad_level0_row7\" class=\"row_heading level0 row7\" >producer</th>\n",
       "                        <td id=\"T_f12ad_row7_col0\" class=\"data row7 col0\" >8.000000</td>\n",
       "            </tr>\n",
       "            <tr>\n",
       "                        <th id=\"T_f12ad_level0_row8\" class=\"row_heading level0 row8\" >age_restriction</th>\n",
       "                        <td id=\"T_f12ad_row8_col0\" class=\"data row8 col0\" >0.000000</td>\n",
       "            </tr>\n",
       "            <tr>\n",
       "                        <th id=\"T_f12ad_level0_row9\" class=\"row_heading level0 row9\" >refundable_support</th>\n",
       "                        <td id=\"T_f12ad_row9_col0\" class=\"data row9 col0\" >96.000000</td>\n",
       "            </tr>\n",
       "            <tr>\n",
       "                        <th id=\"T_f12ad_level0_row10\" class=\"row_heading level0 row10\" >nonrefundable_support</th>\n",
       "                        <td id=\"T_f12ad_row10_col0\" class=\"data row10 col0\" >96.000000</td>\n",
       "            </tr>\n",
       "            <tr>\n",
       "                        <th id=\"T_f12ad_level0_row11\" class=\"row_heading level0 row11\" >budget</th>\n",
       "                        <td id=\"T_f12ad_row11_col0\" class=\"data row11 col0\" >96.000000</td>\n",
       "            </tr>\n",
       "            <tr>\n",
       "                        <th id=\"T_f12ad_level0_row12\" class=\"row_heading level0 row12\" >financing_source</th>\n",
       "                        <td id=\"T_f12ad_row12_col0\" class=\"data row12 col0\" >96.000000</td>\n",
       "            </tr>\n",
       "            <tr>\n",
       "                        <th id=\"T_f12ad_level0_row13\" class=\"row_heading level0 row13\" >ratings</th>\n",
       "                        <td id=\"T_f12ad_row13_col0\" class=\"data row13 col0\" >13.000000</td>\n",
       "            </tr>\n",
       "            <tr>\n",
       "                        <th id=\"T_f12ad_level0_row14\" class=\"row_heading level0 row14\" >genres</th>\n",
       "                        <td id=\"T_f12ad_row14_col0\" class=\"data row14 col0\" >13.000000</td>\n",
       "            </tr>\n",
       "            <tr>\n",
       "                        <th id=\"T_f12ad_level0_row15\" class=\"row_heading level0 row15\" >box_office</th>\n",
       "                        <td id=\"T_f12ad_row15_col0\" class=\"data row15 col0\" >58.000000</td>\n",
       "            </tr>\n",
       "    </tbody></table>"
      ],
      "text/plain": [
       "<pandas.io.formats.style.Styler at 0x7f06e419f1f0>"
      ]
     },
     "metadata": {},
     "output_type": "display_data"
    }
   ],
   "source": [
    "display(data.info())\n",
    "display(pd.DataFrame(round(data.isna().mean()*100,)).style.background_gradient('coolwarm'))\n",
    "\n",
    "# Замена пропусков в количественных переменных\n",
    "#data['refundable_support'] = data['refundable_support'].fillna(0) \n",
    "#data['nonrefundable_support'] = data['nonrefundable_support'].fillna(0) \n",
    "#data['budget'] = data['budget'].fillna(0) \n",
    "#data['box_office'] = data['box_office'].fillna(0) \n",
    "data['director'] = data['director'].astype('str')\n",
    "data['genres'] = data['genres'].astype('str')\n"
   ]
  },
  {
   "cell_type": "markdown",
   "metadata": {},
   "source": [
    "- пропуски в колонках refundable_support, nonrefundable_support, budget, financing_source указывают на отсутсвие гос поддержки, такие пропуски можно не заполнять.\n",
    "- пропуск в колонках ratings, genres, producer не превышают 13% общего числа, это не критично.\n",
    "- пропуски box_office это фильмы которые не вошли в таблицу сборов."
   ]
  },
  {
   "cell_type": "markdown",
   "metadata": {},
   "source": [
    "<div class=\"alert alert-success\">\n",
    "<h1> Комментарий ревьюера. vol. 2 &#9989;</h1>\n",
    "\n",
    "Правка принята)\n",
    "    \n",
    "</div>"
   ]
  },
  {
   "cell_type": "markdown",
   "metadata": {
    "id": "4c6k1t9ygFyQ"
   },
   "source": [
    "#### Шаг 2.3. Изучите дубликаты в датафрейме\n",
    "- Проверьте, есть ли в данных дубликаты. Опишите причины, которые могли повлиять на появление дублей."
   ]
  },
  {
   "cell_type": "code",
   "execution_count": 6,
   "metadata": {
    "id": "aKck8RIdgFyQ"
   },
   "outputs": [
    {
     "data": {
      "text/html": [
       "<div>\n",
       "<style scoped>\n",
       "    .dataframe tbody tr th:only-of-type {\n",
       "        vertical-align: middle;\n",
       "    }\n",
       "\n",
       "    .dataframe tbody tr th {\n",
       "        vertical-align: top;\n",
       "    }\n",
       "\n",
       "    .dataframe thead th {\n",
       "        text-align: right;\n",
       "    }\n",
       "</style>\n",
       "<table border=\"1\" class=\"dataframe\">\n",
       "  <thead>\n",
       "    <tr style=\"text-align: right;\">\n",
       "      <th></th>\n",
       "      <th>title</th>\n",
       "      <th>puNumber</th>\n",
       "      <th>show_start_date</th>\n",
       "      <th>type</th>\n",
       "      <th>film_studio</th>\n",
       "      <th>production_country</th>\n",
       "      <th>director</th>\n",
       "      <th>producer</th>\n",
       "      <th>age_restriction</th>\n",
       "      <th>refundable_support</th>\n",
       "      <th>nonrefundable_support</th>\n",
       "      <th>budget</th>\n",
       "      <th>financing_source</th>\n",
       "      <th>ratings</th>\n",
       "      <th>genres</th>\n",
       "      <th>box_office</th>\n",
       "    </tr>\n",
       "  </thead>\n",
       "  <tbody>\n",
       "    <tr>\n",
       "      <th>0</th>\n",
       "      <td>Открытый простор</td>\n",
       "      <td>221048915</td>\n",
       "      <td>2015-11-27 12:00:00+00:00</td>\n",
       "      <td>Художественный</td>\n",
       "      <td>Тачстоун Пикчерз, Кобальт Пикчерз, Бикон Пикче...</td>\n",
       "      <td>США</td>\n",
       "      <td>Кевин Костнер</td>\n",
       "      <td>Дэвид Валдес, Кевин Костнер, Джейк Эбертс</td>\n",
       "      <td>«18+» - запрещено для детей</td>\n",
       "      <td>NaN</td>\n",
       "      <td>NaN</td>\n",
       "      <td>NaN</td>\n",
       "      <td>NaN</td>\n",
       "      <td>7.2</td>\n",
       "      <td>боевик,драма,мелодрама</td>\n",
       "      <td>NaN</td>\n",
       "    </tr>\n",
       "    <tr>\n",
       "      <th>1</th>\n",
       "      <td>Особо важное задание</td>\n",
       "      <td>111013716</td>\n",
       "      <td>2016-09-13 12:00:00+00:00</td>\n",
       "      <td>Художественный</td>\n",
       "      <td>Киностудия \"Мосфильм\"</td>\n",
       "      <td>СССР</td>\n",
       "      <td>Е.Матвеев</td>\n",
       "      <td>NaN</td>\n",
       "      <td>«6+» - для детей старше 6 лет</td>\n",
       "      <td>NaN</td>\n",
       "      <td>NaN</td>\n",
       "      <td>NaN</td>\n",
       "      <td>NaN</td>\n",
       "      <td>6.6</td>\n",
       "      <td>драма,военный</td>\n",
       "      <td>NaN</td>\n",
       "    </tr>\n",
       "    <tr>\n",
       "      <th>2</th>\n",
       "      <td>Особо опасен</td>\n",
       "      <td>221038416</td>\n",
       "      <td>2016-10-10 12:00:00+00:00</td>\n",
       "      <td>Художественный</td>\n",
       "      <td>Юниверсал Пикчерз, Кикстарт Продакшнз, Марк Пл...</td>\n",
       "      <td>США</td>\n",
       "      <td>Тимур Бекмамбетов</td>\n",
       "      <td>Джим Лемли, Джейсон Нетер, Марк Е.Платт, Яйн Смит</td>\n",
       "      <td>«18+» - запрещено для детей</td>\n",
       "      <td>NaN</td>\n",
       "      <td>NaN</td>\n",
       "      <td>NaN</td>\n",
       "      <td>NaN</td>\n",
       "      <td>6.8</td>\n",
       "      <td>фантастика,боевик,триллер</td>\n",
       "      <td>NaN</td>\n",
       "    </tr>\n",
       "    <tr>\n",
       "      <th>5</th>\n",
       "      <td>Остановился поезд</td>\n",
       "      <td>111013816</td>\n",
       "      <td>2016-09-13 12:00:00+00:00</td>\n",
       "      <td>Художественный</td>\n",
       "      <td>Киностудия \"Мосфильм\"</td>\n",
       "      <td>СССР</td>\n",
       "      <td>В.Абдрашитов</td>\n",
       "      <td>NaN</td>\n",
       "      <td>«6+» - для детей старше 6 лет</td>\n",
       "      <td>NaN</td>\n",
       "      <td>NaN</td>\n",
       "      <td>NaN</td>\n",
       "      <td>NaN</td>\n",
       "      <td>7.7</td>\n",
       "      <td>драма</td>\n",
       "      <td>NaN</td>\n",
       "    </tr>\n",
       "    <tr>\n",
       "      <th>6</th>\n",
       "      <td>Любовь и голуби</td>\n",
       "      <td>111007013</td>\n",
       "      <td>2013-10-18 12:00:00+00:00</td>\n",
       "      <td>Художественный</td>\n",
       "      <td>Киностудия \"Мосфильм\"</td>\n",
       "      <td>СССР</td>\n",
       "      <td>В.Меньшов</td>\n",
       "      <td>NaN</td>\n",
       "      <td>«12+» - для детей старше 12 лет</td>\n",
       "      <td>NaN</td>\n",
       "      <td>NaN</td>\n",
       "      <td>NaN</td>\n",
       "      <td>NaN</td>\n",
       "      <td>8.3</td>\n",
       "      <td>мелодрама,комедия</td>\n",
       "      <td>2700.0</td>\n",
       "    </tr>\n",
       "    <tr>\n",
       "      <th>7</th>\n",
       "      <td>Любовь и сигареты</td>\n",
       "      <td>221074614</td>\n",
       "      <td>2014-12-29 12:00:00+00:00</td>\n",
       "      <td>Художественный</td>\n",
       "      <td>Юнайтед Артистс, Грин Стрит Филмз, Айкон Интер...</td>\n",
       "      <td>США</td>\n",
       "      <td>Джон Туртурро</td>\n",
       "      <td>Джон Пенотти, Джон Туртурро</td>\n",
       "      <td>«18+» - запрещено для детей</td>\n",
       "      <td>NaN</td>\n",
       "      <td>NaN</td>\n",
       "      <td>NaN</td>\n",
       "      <td>NaN</td>\n",
       "      <td>6.6</td>\n",
       "      <td>мюзикл,мелодрама,комедия</td>\n",
       "      <td>NaN</td>\n",
       "    </tr>\n",
       "    <tr>\n",
       "      <th>8</th>\n",
       "      <td>Отпетые мошенники.</td>\n",
       "      <td>121011416</td>\n",
       "      <td>2016-05-05 12:00:00+00:00</td>\n",
       "      <td>Художественный</td>\n",
       "      <td>Пульсар Продюксьон, ТФ1 Фильм</td>\n",
       "      <td>Франция</td>\n",
       "      <td>Эрик Беснард</td>\n",
       "      <td>Патрис Леду</td>\n",
       "      <td>«18+» - запрещено для детей</td>\n",
       "      <td>NaN</td>\n",
       "      <td>NaN</td>\n",
       "      <td>NaN</td>\n",
       "      <td>NaN</td>\n",
       "      <td>8.0</td>\n",
       "      <td>комедия,криминал</td>\n",
       "      <td>NaN</td>\n",
       "    </tr>\n",
       "    <tr>\n",
       "      <th>9</th>\n",
       "      <td>Отпуск за свой счет</td>\n",
       "      <td>111019114</td>\n",
       "      <td>2014-12-01 12:00:00+00:00</td>\n",
       "      <td>Художественный</td>\n",
       "      <td>Киностудия \"Мосфильм\", Телевидение ВНР</td>\n",
       "      <td>СССР, Венгрия</td>\n",
       "      <td>В.Титов</td>\n",
       "      <td>NaN</td>\n",
       "      <td>«12+» - для детей старше 12 лет</td>\n",
       "      <td>NaN</td>\n",
       "      <td>NaN</td>\n",
       "      <td>NaN</td>\n",
       "      <td>NaN</td>\n",
       "      <td>7.8</td>\n",
       "      <td>мелодрама,комедия</td>\n",
       "      <td>NaN</td>\n",
       "    </tr>\n",
       "    <tr>\n",
       "      <th>10</th>\n",
       "      <td>Превосходство Борна /По одноименной новелле Ро...</td>\n",
       "      <td>221031416</td>\n",
       "      <td>2016-06-29 12:00:00+00:00</td>\n",
       "      <td>Художественный</td>\n",
       "      <td>Кеннеди/Маршал Компани, Юниверсал Пикчерз, Гип...</td>\n",
       "      <td>США</td>\n",
       "      <td>Пол Грингросс</td>\n",
       "      <td>Патрик Кроули, Фрэнк Маршалл, Пол Сэндберг</td>\n",
       "      <td>«16+» - для детей старше 16 лет</td>\n",
       "      <td>NaN</td>\n",
       "      <td>NaN</td>\n",
       "      <td>NaN</td>\n",
       "      <td>NaN</td>\n",
       "      <td>7.7</td>\n",
       "      <td>боевик,триллер,детектив</td>\n",
       "      <td>NaN</td>\n",
       "    </tr>\n",
       "    <tr>\n",
       "      <th>11</th>\n",
       "      <td>Ответный ход</td>\n",
       "      <td>111019014</td>\n",
       "      <td>2014-12-01 12:00:00+00:00</td>\n",
       "      <td>Художественный</td>\n",
       "      <td>Киностудия \"Мосфильм\"</td>\n",
       "      <td>СССР</td>\n",
       "      <td>М.Туманишвили</td>\n",
       "      <td>NaN</td>\n",
       "      <td>«12+» - для детей старше 12 лет</td>\n",
       "      <td>NaN</td>\n",
       "      <td>NaN</td>\n",
       "      <td>NaN</td>\n",
       "      <td>NaN</td>\n",
       "      <td>7.8</td>\n",
       "      <td>боевик,драма,приключения</td>\n",
       "      <td>NaN</td>\n",
       "    </tr>\n",
       "  </tbody>\n",
       "</table>\n",
       "</div>"
      ],
      "text/plain": [
       "                                                title   puNumber  \\\n",
       "0                                    Открытый простор  221048915   \n",
       "1                                Особо важное задание  111013716   \n",
       "2                                        Особо опасен  221038416   \n",
       "5                                   Остановился поезд  111013816   \n",
       "6                                     Любовь и голуби  111007013   \n",
       "7                                   Любовь и сигареты  221074614   \n",
       "8                                  Отпетые мошенники.  121011416   \n",
       "9                                 Отпуск за свой счет  111019114   \n",
       "10  Превосходство Борна /По одноименной новелле Ро...  221031416   \n",
       "11                                       Ответный ход  111019014   \n",
       "\n",
       "             show_start_date            type  \\\n",
       "0  2015-11-27 12:00:00+00:00  Художественный   \n",
       "1  2016-09-13 12:00:00+00:00  Художественный   \n",
       "2  2016-10-10 12:00:00+00:00  Художественный   \n",
       "5  2016-09-13 12:00:00+00:00  Художественный   \n",
       "6  2013-10-18 12:00:00+00:00  Художественный   \n",
       "7  2014-12-29 12:00:00+00:00  Художественный   \n",
       "8  2016-05-05 12:00:00+00:00  Художественный   \n",
       "9  2014-12-01 12:00:00+00:00  Художественный   \n",
       "10 2016-06-29 12:00:00+00:00  Художественный   \n",
       "11 2014-12-01 12:00:00+00:00  Художественный   \n",
       "\n",
       "                                          film_studio production_country  \\\n",
       "0   Тачстоун Пикчерз, Кобальт Пикчерз, Бикон Пикче...                США   \n",
       "1                               Киностудия \"Мосфильм\"               СССР   \n",
       "2   Юниверсал Пикчерз, Кикстарт Продакшнз, Марк Пл...                США   \n",
       "5                               Киностудия \"Мосфильм\"               СССР   \n",
       "6                               Киностудия \"Мосфильм\"               СССР   \n",
       "7   Юнайтед Артистс, Грин Стрит Филмз, Айкон Интер...                США   \n",
       "8                      Пульсар Продюксьон, ТФ1 Фильм             Франция   \n",
       "9              Киностудия \"Мосфильм\", Телевидение ВНР      СССР, Венгрия   \n",
       "10  Кеннеди/Маршал Компани, Юниверсал Пикчерз, Гип...                США   \n",
       "11                              Киностудия \"Мосфильм\"               СССР   \n",
       "\n",
       "             director                                           producer  \\\n",
       "0       Кевин Костнер          Дэвид Валдес, Кевин Костнер, Джейк Эбертс   \n",
       "1           Е.Матвеев                                                NaN   \n",
       "2   Тимур Бекмамбетов  Джим Лемли, Джейсон Нетер, Марк Е.Платт, Яйн Смит   \n",
       "5        В.Абдрашитов                                                NaN   \n",
       "6           В.Меньшов                                                NaN   \n",
       "7       Джон Туртурро                        Джон Пенотти, Джон Туртурро   \n",
       "8        Эрик Беснард                                        Патрис Леду   \n",
       "9             В.Титов                                                NaN   \n",
       "10      Пол Грингросс         Патрик Кроули, Фрэнк Маршалл, Пол Сэндберг   \n",
       "11      М.Туманишвили                                                NaN   \n",
       "\n",
       "                    age_restriction  refundable_support  \\\n",
       "0       «18+» - запрещено для детей                 NaN   \n",
       "1     «6+» - для детей старше 6 лет                 NaN   \n",
       "2       «18+» - запрещено для детей                 NaN   \n",
       "5     «6+» - для детей старше 6 лет                 NaN   \n",
       "6   «12+» - для детей старше 12 лет                 NaN   \n",
       "7       «18+» - запрещено для детей                 NaN   \n",
       "8       «18+» - запрещено для детей                 NaN   \n",
       "9   «12+» - для детей старше 12 лет                 NaN   \n",
       "10  «16+» - для детей старше 16 лет                 NaN   \n",
       "11  «12+» - для детей старше 12 лет                 NaN   \n",
       "\n",
       "    nonrefundable_support  budget financing_source  ratings  \\\n",
       "0                     NaN     NaN              NaN      7.2   \n",
       "1                     NaN     NaN              NaN      6.6   \n",
       "2                     NaN     NaN              NaN      6.8   \n",
       "5                     NaN     NaN              NaN      7.7   \n",
       "6                     NaN     NaN              NaN      8.3   \n",
       "7                     NaN     NaN              NaN      6.6   \n",
       "8                     NaN     NaN              NaN      8.0   \n",
       "9                     NaN     NaN              NaN      7.8   \n",
       "10                    NaN     NaN              NaN      7.7   \n",
       "11                    NaN     NaN              NaN      7.8   \n",
       "\n",
       "                       genres  box_office  \n",
       "0      боевик,драма,мелодрама         NaN  \n",
       "1               драма,военный         NaN  \n",
       "2   фантастика,боевик,триллер         NaN  \n",
       "5                       драма         NaN  \n",
       "6           мелодрама,комедия      2700.0  \n",
       "7    мюзикл,мелодрама,комедия         NaN  \n",
       "8            комедия,криминал         NaN  \n",
       "9           мелодрама,комедия         NaN  \n",
       "10    боевик,триллер,детектив         NaN  \n",
       "11   боевик,драма,приключения         NaN  "
      ]
     },
     "metadata": {},
     "output_type": "display_data"
    }
   ],
   "source": [
    "#data = data.duplicated(subset=['title','director'], keep=False)\n",
    "data = data.drop_duplicates(subset=['puNumber'], keep=\"first\")\n",
    "data = data.drop_duplicates(subset=['title','director'], keep=\"first\")\n",
    "display(data.head(10))\n"
   ]
  },
  {
   "cell_type": "markdown",
   "metadata": {},
   "source": [
    "так как у фильма может быть несколько номеров прокатных удостоверений, искать и удалять дубликаты имеет смысл по совпадению колонок title и director.\n",
    "пример фильм \"Особо опасен\" номера прокатных удостоверений 221038416, 221026916, 221030815\t\t\n"
   ]
  },
  {
   "cell_type": "markdown",
   "metadata": {},
   "source": [
    "<div class=\"alert alert-success\">\n",
    "<h1> Комментарий ревьюера. vol. 2 &#9989;</h1>\n",
    "\n",
    "Вижу, спасибо)\n",
    "    \n",
    "</div>"
   ]
  },
  {
   "cell_type": "markdown",
   "metadata": {
    "id": "52fOPrEBgFyQ"
   },
   "source": [
    "#### Шаг 2.4. Изучите категориальные значения\n",
    "\n",
    "- Посмотрите, какая общая проблема встречается почти во всех категориальных столбцах;\n",
    "- Исправьте проблемные значения в поле `type`.\n",
    "\n",
    "<div id=\"accordion\">\n",
    "    <div class=\"card\">\n",
    "        <div class=\"card-header\" id=\"headingThree\">\n",
    "            <button class=\"btn btn-link collapsed\" data-toggle=\"collapse\" data-target=\"#collapseHint_1\" aria-expanded=\"false\" aria-controls=\"collapseHint_1\">Подсказка</button>\n",
    "        </div>\n",
    "        <div id=\"collapseHint_1\" class=\"collapse\" aria-labelledby=\"headingThree\" data-parent=\"#accordion\">\n",
    "            <div class=\"card-body\">\n",
    "В поле <code>type</code> есть несколько значений, у которых появился пробел в начале строки. Самый простой способ их «починить» -- использовать метод <a href=\"https://pandas.pydata.org/docs/reference/api/pandas.Series.str.strip.html#pandas.Series.str.strip\">.str.strip</a>. Этот метод удаляет все пробелы, которые встречаются в начале и в конце строки. Применяют его таким образом:<br>\n",
    "<code>df['type'].str.strip()</code>\n",
    "            </div>\n",
    "        </div>\n",
    "    </div>\n",
    "</div>"
   ]
  },
  {
   "cell_type": "code",
   "execution_count": 7,
   "metadata": {
    "id": "PnXKIVdFgFyR"
   },
   "outputs": [],
   "source": [
    "data['type'] = data['type'].str.lower().str.strip().str.rstrip(' !_.')\n",
    "data['film_studio'] = data['film_studio'].str.lower().str.strip().str.rstrip(' !_.')\n",
    "data['production_country'] = data['production_country'].str.lower().str.strip().str.rstrip(' !_.')\n",
    "data['genres'] = data['genres'].str.lower().str.strip().str.rstrip(' !_.')\n",
    "data['age_restriction'] = data['age_restriction'].str.lower().str.strip().str.rstrip(' !_.')\n",
    "data['financing_source'] = data['financing_source'].str.lower().str.strip().str.rstrip(' !_.')\n"
   ]
  },
  {
   "cell_type": "markdown",
   "metadata": {},
   "source": [
    "Общая проблема почти во всех категориальных столбцах, это:\n",
    "- проблема в лишних знаках ! _ и пробелы\n",
    "- разном написании имени режиссёра (где-то имя сокращено)\n",
    "- разном реестре \n",
    "<br>\n",
    "Проделана работа по:\n",
    "- удалению пробелов и лишних знаков в столбцах 'type''film_studio''production_country''genres''age_restriction''financing_source'\n",
    "- приведению всех категориальных столбцов к нижнему реестру'type''film_studio''production_country''genres''age_restriction''financing_source'\n"
   ]
  },
  {
   "cell_type": "markdown",
   "metadata": {},
   "source": [
    "<div class=\"alert alert-success\">\n",
    "<h1> Комментарий ревьюера. vol. 3 &#9989;</h1>\n",
    "\n",
    "Вижу: правка принята, этап зачтен в полном объеме)\n",
    "    \n",
    "</div>"
   ]
  },
  {
   "cell_type": "markdown",
   "metadata": {
    "id": "XFSN5lrEgFyR"
   },
   "source": [
    "#### Шаг 2.5. Проверьте количественные значения\n",
    "\n",
    "- Проверьте, обнаружились ли в таких столбцах подозрительные данные. Как с такими данными лучше поступить?\n",
    "\n",
    "<div id=\"accordion\">\n",
    "    <div class=\"card\">\n",
    "        <div class=\"card-header\" id=\"headingThree\">\n",
    "            <button class=\"btn btn-link collapsed\" data-toggle=\"collapse\" data-target=\"#collapseHint_budget\" aria-expanded=\"false\" aria-controls=\"collapseHint_budget\">Подсказка</button>\n",
    "        </div>\n",
    "        <div id=\"collapseHint_budget\" class=\"collapse\" aria-labelledby=\"headingThree\" data-parent=\"#accordion\">\n",
    "            <div class=\"card-body\">\n",
    "Обратите внимание на описание столбца <code>budget</code>. Как этот столбец соотносится с двумя другими: <code>refundable_support</code> и <code>nonrefundable_support</code>?\n",
    "            </div>\n",
    "        </div>\n",
    "    </div>\n",
    "</div>"
   ]
  },
  {
   "cell_type": "code",
   "execution_count": 8,
   "metadata": {
    "id": "YbzClBxagFyS"
   },
   "outputs": [
    {
     "data": {
      "text/html": [
       "<div>\n",
       "<style scoped>\n",
       "    .dataframe tbody tr th:only-of-type {\n",
       "        vertical-align: middle;\n",
       "    }\n",
       "\n",
       "    .dataframe tbody tr th {\n",
       "        vertical-align: top;\n",
       "    }\n",
       "\n",
       "    .dataframe thead th {\n",
       "        text-align: right;\n",
       "    }\n",
       "</style>\n",
       "<table border=\"1\" class=\"dataframe\">\n",
       "  <thead>\n",
       "    <tr style=\"text-align: right;\">\n",
       "      <th></th>\n",
       "      <th>title</th>\n",
       "      <th>puNumber</th>\n",
       "      <th>show_start_date</th>\n",
       "      <th>type</th>\n",
       "      <th>film_studio</th>\n",
       "      <th>production_country</th>\n",
       "      <th>director</th>\n",
       "      <th>producer</th>\n",
       "      <th>age_restriction</th>\n",
       "      <th>refundable_support</th>\n",
       "      <th>nonrefundable_support</th>\n",
       "      <th>budget</th>\n",
       "      <th>financing_source</th>\n",
       "      <th>ratings</th>\n",
       "      <th>genres</th>\n",
       "      <th>box_office</th>\n",
       "    </tr>\n",
       "  </thead>\n",
       "  <tbody>\n",
       "    <tr>\n",
       "      <th>1281</th>\n",
       "      <td>Пока еще жива</td>\n",
       "      <td>111005313</td>\n",
       "      <td>2013-10-11 12:00:00+00:00</td>\n",
       "      <td>художественный</td>\n",
       "      <td>ано содействия развитию кинематографии \"ангел-...</td>\n",
       "      <td>россия</td>\n",
       "      <td>А.Атанесян</td>\n",
       "      <td>А.Атанесян, М.Бабаханов, Р.Бутко</td>\n",
       "      <td>«16+» - для детей старше 16 лет</td>\n",
       "      <td>0.0</td>\n",
       "      <td>26500000.0</td>\n",
       "      <td>79411900.0</td>\n",
       "      <td>министерство культуры</td>\n",
       "      <td>8.1</td>\n",
       "      <td>драма,мелодрама</td>\n",
       "      <td>3.653536e+05</td>\n",
       "    </tr>\n",
       "    <tr>\n",
       "      <th>1448</th>\n",
       "      <td>Бесславные придурки</td>\n",
       "      <td>111003314</td>\n",
       "      <td>2014-03-28 12:00:00+00:00</td>\n",
       "      <td>художественный</td>\n",
       "      <td>ооо \"компания \"атк-студио\"</td>\n",
       "      <td>россия</td>\n",
       "      <td>А.Якимчук</td>\n",
       "      <td>А.Тютрюмов</td>\n",
       "      <td>«12+» - для детей старше 12 лет</td>\n",
       "      <td>0.0</td>\n",
       "      <td>26000000.0</td>\n",
       "      <td>37142857.0</td>\n",
       "      <td>министерство культуры</td>\n",
       "      <td>NaN</td>\n",
       "      <td>nan</td>\n",
       "      <td>2.814000e+04</td>\n",
       "    </tr>\n",
       "    <tr>\n",
       "      <th>1498</th>\n",
       "      <td>Невидимки</td>\n",
       "      <td>111004213</td>\n",
       "      <td>2013-09-10 12:00:00+00:00</td>\n",
       "      <td>художественный</td>\n",
       "      <td>ооо \"компания \"реал-дакота\"</td>\n",
       "      <td>россия</td>\n",
       "      <td>Р.Давлетьяров, С.Комаров</td>\n",
       "      <td>Р.Давлетьяров, А.Котелевский, А.Олейников</td>\n",
       "      <td>«12+» - для детей старше 12 лет</td>\n",
       "      <td>0.0</td>\n",
       "      <td>107847945.0</td>\n",
       "      <td>176023490.0</td>\n",
       "      <td>фонд кино</td>\n",
       "      <td>5.3</td>\n",
       "      <td>комедия,фантастика</td>\n",
       "      <td>1.995703e+07</td>\n",
       "    </tr>\n",
       "    <tr>\n",
       "      <th>1524</th>\n",
       "      <td>БЕРЦЫ</td>\n",
       "      <td>111004314</td>\n",
       "      <td>2014-05-05 12:00:00+00:00</td>\n",
       "      <td>художественный</td>\n",
       "      <td>ооо \"студия \"пассажир\"</td>\n",
       "      <td>россия</td>\n",
       "      <td>Е.Миндадзе (псевдоним Катя Шагалова)</td>\n",
       "      <td>Л.Антонова</td>\n",
       "      <td>«16+» - для детей старше 16 лет</td>\n",
       "      <td>0.0</td>\n",
       "      <td>28000000.0</td>\n",
       "      <td>40574140.0</td>\n",
       "      <td>министерство культуры</td>\n",
       "      <td>4.2</td>\n",
       "      <td>драма</td>\n",
       "      <td>5.591750e+04</td>\n",
       "    </tr>\n",
       "    <tr>\n",
       "      <th>1792</th>\n",
       "      <td>Братья Ч</td>\n",
       "      <td>111004414</td>\n",
       "      <td>2014-04-23 12:00:00+00:00</td>\n",
       "      <td>художественный</td>\n",
       "      <td>ооо \"студия \"пассажир\"</td>\n",
       "      <td>россия</td>\n",
       "      <td>М.Угаров</td>\n",
       "      <td>А.Миндадзе, Л.Антонова</td>\n",
       "      <td>«16+» - для детей старше 16 лет</td>\n",
       "      <td>0.0</td>\n",
       "      <td>25000000.0</td>\n",
       "      <td>40015122.0</td>\n",
       "      <td>министерство культуры</td>\n",
       "      <td>6.4</td>\n",
       "      <td>драма</td>\n",
       "      <td>2.321000e+05</td>\n",
       "    </tr>\n",
       "    <tr>\n",
       "      <th>...</th>\n",
       "      <td>...</td>\n",
       "      <td>...</td>\n",
       "      <td>...</td>\n",
       "      <td>...</td>\n",
       "      <td>...</td>\n",
       "      <td>...</td>\n",
       "      <td>...</td>\n",
       "      <td>...</td>\n",
       "      <td>...</td>\n",
       "      <td>...</td>\n",
       "      <td>...</td>\n",
       "      <td>...</td>\n",
       "      <td>...</td>\n",
       "      <td>...</td>\n",
       "      <td>...</td>\n",
       "      <td>...</td>\n",
       "    </tr>\n",
       "    <tr>\n",
       "      <th>7464</th>\n",
       "      <td>Союз спасения</td>\n",
       "      <td>111022019</td>\n",
       "      <td>2019-12-26 12:00:00+00:00</td>\n",
       "      <td>художественный</td>\n",
       "      <td>зао \"дирекция кино\"</td>\n",
       "      <td>россия</td>\n",
       "      <td>А.Кравчук</td>\n",
       "      <td>А.Максимов, К.Эрнст</td>\n",
       "      <td>«12+» - для детей старше 12 лет</td>\n",
       "      <td>100000000.0</td>\n",
       "      <td>400000000.0</td>\n",
       "      <td>980000000.0</td>\n",
       "      <td>фонд кино</td>\n",
       "      <td>6.0</td>\n",
       "      <td>история,биография,драма</td>\n",
       "      <td>7.177032e+08</td>\n",
       "    </tr>\n",
       "    <tr>\n",
       "      <th>7466</th>\n",
       "      <td>Иван Царевич и Серый Волк 4</td>\n",
       "      <td>114005019</td>\n",
       "      <td>2019-12-20 12:00:00+00:00</td>\n",
       "      <td>анимационный</td>\n",
       "      <td>ооо \"студия анимационного кино \"мельница\"</td>\n",
       "      <td>россия</td>\n",
       "      <td>Д.Шмидт, К.Феоктистов</td>\n",
       "      <td>С.Сельянов, А.Боярский</td>\n",
       "      <td>«6+» - для детей старше 6 лет</td>\n",
       "      <td>100000000.0</td>\n",
       "      <td>0.0</td>\n",
       "      <td>190000000.0</td>\n",
       "      <td>фонд кино</td>\n",
       "      <td>6.7</td>\n",
       "      <td>мультфильм,приключения,семейный</td>\n",
       "      <td>5.010692e+08</td>\n",
       "    </tr>\n",
       "    <tr>\n",
       "      <th>7474</th>\n",
       "      <td>Вторжение</td>\n",
       "      <td>111022519</td>\n",
       "      <td>2019-12-23 12:00:00+00:00</td>\n",
       "      <td>художественный</td>\n",
       "      <td>ооо \"арт пикчерс студия\", ооо \"водород 2011\"</td>\n",
       "      <td>россия</td>\n",
       "      <td>Ф.Бондарчук</td>\n",
       "      <td>Ф.Бондарчук, М.Врубель, А.Андрющенко, Д.Рудовский</td>\n",
       "      <td>«12+» - для детей старше 12 лет</td>\n",
       "      <td>100000000.0</td>\n",
       "      <td>400000000.0</td>\n",
       "      <td>944000000.0</td>\n",
       "      <td>фонд кино</td>\n",
       "      <td>5.7</td>\n",
       "      <td>фантастика,боевик</td>\n",
       "      <td>NaN</td>\n",
       "    </tr>\n",
       "    <tr>\n",
       "      <th>7476</th>\n",
       "      <td>Я свободен</td>\n",
       "      <td>111023019</td>\n",
       "      <td>2019-12-26 12:00:00+00:00</td>\n",
       "      <td>художественный</td>\n",
       "      <td>ао \"тпо \"киностудия им. м.горького\"</td>\n",
       "      <td>россия</td>\n",
       "      <td>И.Северов</td>\n",
       "      <td>С.Зернов</td>\n",
       "      <td>«12+» - для детей старше 12 лет</td>\n",
       "      <td>0.0</td>\n",
       "      <td>30000000.0</td>\n",
       "      <td>46154000.0</td>\n",
       "      <td>министерство культуры</td>\n",
       "      <td>5.9</td>\n",
       "      <td>драма</td>\n",
       "      <td>NaN</td>\n",
       "    </tr>\n",
       "    <tr>\n",
       "      <th>7478</th>\n",
       "      <td>(Не)идеальный мужчина</td>\n",
       "      <td>111023119</td>\n",
       "      <td>2019-12-24 12:00:00+00:00</td>\n",
       "      <td>художественный</td>\n",
       "      <td>ооо \"нон-стоп продакшн\"</td>\n",
       "      <td>россия</td>\n",
       "      <td>М.Бальчюнас (псевдоним М.Вайсберг)</td>\n",
       "      <td>С.Мелькумов, А.Роднянский, М.Вайсберг, Р.Минас...</td>\n",
       "      <td>«12+» - для детей старше 12 лет</td>\n",
       "      <td>40000000.0</td>\n",
       "      <td>60000000.0</td>\n",
       "      <td>150147502.0</td>\n",
       "      <td>фонд кино</td>\n",
       "      <td>4.5</td>\n",
       "      <td>комедия,фантастика,мелодрама</td>\n",
       "      <td>NaN</td>\n",
       "    </tr>\n",
       "  </tbody>\n",
       "</table>\n",
       "<p>314 rows × 16 columns</p>\n",
       "</div>"
      ],
      "text/plain": [
       "                            title   puNumber           show_start_date  \\\n",
       "1281                Пока еще жива  111005313 2013-10-11 12:00:00+00:00   \n",
       "1448          Бесславные придурки  111003314 2014-03-28 12:00:00+00:00   \n",
       "1498                    Невидимки  111004213 2013-09-10 12:00:00+00:00   \n",
       "1524                        БЕРЦЫ  111004314 2014-05-05 12:00:00+00:00   \n",
       "1792                     Братья Ч  111004414 2014-04-23 12:00:00+00:00   \n",
       "...                           ...        ...                       ...   \n",
       "7464                Союз спасения  111022019 2019-12-26 12:00:00+00:00   \n",
       "7466  Иван Царевич и Серый Волк 4  114005019 2019-12-20 12:00:00+00:00   \n",
       "7474                    Вторжение  111022519 2019-12-23 12:00:00+00:00   \n",
       "7476                   Я свободен  111023019 2019-12-26 12:00:00+00:00   \n",
       "7478        (Не)идеальный мужчина  111023119 2019-12-24 12:00:00+00:00   \n",
       "\n",
       "                type                                        film_studio  \\\n",
       "1281  художественный  ано содействия развитию кинематографии \"ангел-...   \n",
       "1448  художественный                         ооо \"компания \"атк-студио\"   \n",
       "1498  художественный                        ооо \"компания \"реал-дакота\"   \n",
       "1524  художественный                             ооо \"студия \"пассажир\"   \n",
       "1792  художественный                             ооо \"студия \"пассажир\"   \n",
       "...              ...                                                ...   \n",
       "7464  художественный                                зао \"дирекция кино\"   \n",
       "7466    анимационный          ооо \"студия анимационного кино \"мельница\"   \n",
       "7474  художественный       ооо \"арт пикчерс студия\", ооо \"водород 2011\"   \n",
       "7476  художественный                ао \"тпо \"киностудия им. м.горького\"   \n",
       "7478  художественный                            ооо \"нон-стоп продакшн\"   \n",
       "\n",
       "     production_country                              director  \\\n",
       "1281             россия                            А.Атанесян   \n",
       "1448             россия                             А.Якимчук   \n",
       "1498             россия              Р.Давлетьяров, С.Комаров   \n",
       "1524             россия  Е.Миндадзе (псевдоним Катя Шагалова)   \n",
       "1792             россия                              М.Угаров   \n",
       "...                 ...                                   ...   \n",
       "7464             россия                             А.Кравчук   \n",
       "7466             россия                 Д.Шмидт, К.Феоктистов   \n",
       "7474             россия                           Ф.Бондарчук   \n",
       "7476             россия                             И.Северов   \n",
       "7478             россия    М.Бальчюнас (псевдоним М.Вайсберг)   \n",
       "\n",
       "                                               producer  \\\n",
       "1281                   А.Атанесян, М.Бабаханов, Р.Бутко   \n",
       "1448                                         А.Тютрюмов   \n",
       "1498          Р.Давлетьяров, А.Котелевский, А.Олейников   \n",
       "1524                                         Л.Антонова   \n",
       "1792                             А.Миндадзе, Л.Антонова   \n",
       "...                                                 ...   \n",
       "7464                                А.Максимов, К.Эрнст   \n",
       "7466                             С.Сельянов, А.Боярский   \n",
       "7474  Ф.Бондарчук, М.Врубель, А.Андрющенко, Д.Рудовский   \n",
       "7476                                           С.Зернов   \n",
       "7478  С.Мелькумов, А.Роднянский, М.Вайсберг, Р.Минас...   \n",
       "\n",
       "                      age_restriction  refundable_support  \\\n",
       "1281  «16+» - для детей старше 16 лет                 0.0   \n",
       "1448  «12+» - для детей старше 12 лет                 0.0   \n",
       "1498  «12+» - для детей старше 12 лет                 0.0   \n",
       "1524  «16+» - для детей старше 16 лет                 0.0   \n",
       "1792  «16+» - для детей старше 16 лет                 0.0   \n",
       "...                               ...                 ...   \n",
       "7464  «12+» - для детей старше 12 лет         100000000.0   \n",
       "7466    «6+» - для детей старше 6 лет         100000000.0   \n",
       "7474  «12+» - для детей старше 12 лет         100000000.0   \n",
       "7476  «12+» - для детей старше 12 лет                 0.0   \n",
       "7478  «12+» - для детей старше 12 лет          40000000.0   \n",
       "\n",
       "      nonrefundable_support       budget       financing_source  ratings  \\\n",
       "1281             26500000.0   79411900.0  министерство культуры      8.1   \n",
       "1448             26000000.0   37142857.0  министерство культуры      NaN   \n",
       "1498            107847945.0  176023490.0              фонд кино      5.3   \n",
       "1524             28000000.0   40574140.0  министерство культуры      4.2   \n",
       "1792             25000000.0   40015122.0  министерство культуры      6.4   \n",
       "...                     ...          ...                    ...      ...   \n",
       "7464            400000000.0  980000000.0              фонд кино      6.0   \n",
       "7466                    0.0  190000000.0              фонд кино      6.7   \n",
       "7474            400000000.0  944000000.0              фонд кино      5.7   \n",
       "7476             30000000.0   46154000.0  министерство культуры      5.9   \n",
       "7478             60000000.0  150147502.0              фонд кино      4.5   \n",
       "\n",
       "                               genres    box_office  \n",
       "1281                  драма,мелодрама  3.653536e+05  \n",
       "1448                              nan  2.814000e+04  \n",
       "1498               комедия,фантастика  1.995703e+07  \n",
       "1524                            драма  5.591750e+04  \n",
       "1792                            драма  2.321000e+05  \n",
       "...                               ...           ...  \n",
       "7464          история,биография,драма  7.177032e+08  \n",
       "7466  мультфильм,приключения,семейный  5.010692e+08  \n",
       "7474                фантастика,боевик           NaN  \n",
       "7476                            драма           NaN  \n",
       "7478     комедия,фантастика,мелодрама           NaN  \n",
       "\n",
       "[314 rows x 16 columns]"
      ]
     },
     "metadata": {},
     "output_type": "display_data"
    }
   ],
   "source": [
    "data_proverka = data.loc[(data['refundable_support']+data['nonrefundable_support']) <= data['budget']]\n",
    "display(data_proverka)"
   ]
  },
  {
   "cell_type": "markdown",
   "metadata": {},
   "source": [
    "Сумма столбов data['refundable_support'] и data['nonrefundable_support'] должна быть меньше значения столба data['budget'].<br>\n",
    "Для проверки вызвал таблицу по соответствующему фильтру.\n"
   ]
  },
  {
   "cell_type": "markdown",
   "metadata": {
    "id": "Eu6oWp2CgFyS"
   },
   "source": [
    "#### Шаг 2.6. Добавьте новые столбцы\n",
    "\n",
    "\n",
    "\n"
   ]
  },
  {
   "cell_type": "markdown",
   "metadata": {
    "id": "7GgW-UpAgFyS"
   },
   "source": [
    "- Создайте столбец с информацией о годе проката. Выделите год из даты премьеры фильма."
   ]
  },
  {
   "cell_type": "code",
   "execution_count": 9,
   "metadata": {
    "id": "I-yd1DkWgFyT"
   },
   "outputs": [
    {
     "data": {
      "text/html": [
       "<div>\n",
       "<style scoped>\n",
       "    .dataframe tbody tr th:only-of-type {\n",
       "        vertical-align: middle;\n",
       "    }\n",
       "\n",
       "    .dataframe tbody tr th {\n",
       "        vertical-align: top;\n",
       "    }\n",
       "\n",
       "    .dataframe thead th {\n",
       "        text-align: right;\n",
       "    }\n",
       "</style>\n",
       "<table border=\"1\" class=\"dataframe\">\n",
       "  <thead>\n",
       "    <tr style=\"text-align: right;\">\n",
       "      <th></th>\n",
       "      <th>title</th>\n",
       "      <th>puNumber</th>\n",
       "      <th>show_start_date</th>\n",
       "      <th>type</th>\n",
       "      <th>film_studio</th>\n",
       "      <th>production_country</th>\n",
       "      <th>director</th>\n",
       "      <th>producer</th>\n",
       "      <th>age_restriction</th>\n",
       "      <th>refundable_support</th>\n",
       "      <th>nonrefundable_support</th>\n",
       "      <th>budget</th>\n",
       "      <th>financing_source</th>\n",
       "      <th>ratings</th>\n",
       "      <th>genres</th>\n",
       "      <th>box_office</th>\n",
       "      <th>show_start_year</th>\n",
       "    </tr>\n",
       "  </thead>\n",
       "  <tbody>\n",
       "    <tr>\n",
       "      <th>0</th>\n",
       "      <td>Открытый простор</td>\n",
       "      <td>221048915</td>\n",
       "      <td>2015-11-27 12:00:00+00:00</td>\n",
       "      <td>художественный</td>\n",
       "      <td>тачстоун пикчерз, кобальт пикчерз, бикон пикче...</td>\n",
       "      <td>сша</td>\n",
       "      <td>Кевин Костнер</td>\n",
       "      <td>Дэвид Валдес, Кевин Костнер, Джейк Эбертс</td>\n",
       "      <td>«18+» - запрещено для детей</td>\n",
       "      <td>NaN</td>\n",
       "      <td>NaN</td>\n",
       "      <td>NaN</td>\n",
       "      <td>NaN</td>\n",
       "      <td>7.2</td>\n",
       "      <td>боевик,драма,мелодрама</td>\n",
       "      <td>NaN</td>\n",
       "      <td>2015</td>\n",
       "    </tr>\n",
       "    <tr>\n",
       "      <th>1</th>\n",
       "      <td>Особо важное задание</td>\n",
       "      <td>111013716</td>\n",
       "      <td>2016-09-13 12:00:00+00:00</td>\n",
       "      <td>художественный</td>\n",
       "      <td>киностудия \"мосфильм\"</td>\n",
       "      <td>ссср</td>\n",
       "      <td>Е.Матвеев</td>\n",
       "      <td>NaN</td>\n",
       "      <td>«6+» - для детей старше 6 лет</td>\n",
       "      <td>NaN</td>\n",
       "      <td>NaN</td>\n",
       "      <td>NaN</td>\n",
       "      <td>NaN</td>\n",
       "      <td>6.6</td>\n",
       "      <td>драма,военный</td>\n",
       "      <td>NaN</td>\n",
       "      <td>2016</td>\n",
       "    </tr>\n",
       "    <tr>\n",
       "      <th>2</th>\n",
       "      <td>Особо опасен</td>\n",
       "      <td>221038416</td>\n",
       "      <td>2016-10-10 12:00:00+00:00</td>\n",
       "      <td>художественный</td>\n",
       "      <td>юниверсал пикчерз, кикстарт продакшнз, марк пл...</td>\n",
       "      <td>сша</td>\n",
       "      <td>Тимур Бекмамбетов</td>\n",
       "      <td>Джим Лемли, Джейсон Нетер, Марк Е.Платт, Яйн Смит</td>\n",
       "      <td>«18+» - запрещено для детей</td>\n",
       "      <td>NaN</td>\n",
       "      <td>NaN</td>\n",
       "      <td>NaN</td>\n",
       "      <td>NaN</td>\n",
       "      <td>6.8</td>\n",
       "      <td>фантастика,боевик,триллер</td>\n",
       "      <td>NaN</td>\n",
       "      <td>2016</td>\n",
       "    </tr>\n",
       "    <tr>\n",
       "      <th>5</th>\n",
       "      <td>Остановился поезд</td>\n",
       "      <td>111013816</td>\n",
       "      <td>2016-09-13 12:00:00+00:00</td>\n",
       "      <td>художественный</td>\n",
       "      <td>киностудия \"мосфильм\"</td>\n",
       "      <td>ссср</td>\n",
       "      <td>В.Абдрашитов</td>\n",
       "      <td>NaN</td>\n",
       "      <td>«6+» - для детей старше 6 лет</td>\n",
       "      <td>NaN</td>\n",
       "      <td>NaN</td>\n",
       "      <td>NaN</td>\n",
       "      <td>NaN</td>\n",
       "      <td>7.7</td>\n",
       "      <td>драма</td>\n",
       "      <td>NaN</td>\n",
       "      <td>2016</td>\n",
       "    </tr>\n",
       "    <tr>\n",
       "      <th>6</th>\n",
       "      <td>Любовь и голуби</td>\n",
       "      <td>111007013</td>\n",
       "      <td>2013-10-18 12:00:00+00:00</td>\n",
       "      <td>художественный</td>\n",
       "      <td>киностудия \"мосфильм\"</td>\n",
       "      <td>ссср</td>\n",
       "      <td>В.Меньшов</td>\n",
       "      <td>NaN</td>\n",
       "      <td>«12+» - для детей старше 12 лет</td>\n",
       "      <td>NaN</td>\n",
       "      <td>NaN</td>\n",
       "      <td>NaN</td>\n",
       "      <td>NaN</td>\n",
       "      <td>8.3</td>\n",
       "      <td>мелодрама,комедия</td>\n",
       "      <td>2700.0</td>\n",
       "      <td>2013</td>\n",
       "    </tr>\n",
       "  </tbody>\n",
       "</table>\n",
       "</div>"
      ],
      "text/plain": [
       "                  title   puNumber           show_start_date            type  \\\n",
       "0      Открытый простор  221048915 2015-11-27 12:00:00+00:00  художественный   \n",
       "1  Особо важное задание  111013716 2016-09-13 12:00:00+00:00  художественный   \n",
       "2          Особо опасен  221038416 2016-10-10 12:00:00+00:00  художественный   \n",
       "5     Остановился поезд  111013816 2016-09-13 12:00:00+00:00  художественный   \n",
       "6       Любовь и голуби  111007013 2013-10-18 12:00:00+00:00  художественный   \n",
       "\n",
       "                                         film_studio production_country  \\\n",
       "0  тачстоун пикчерз, кобальт пикчерз, бикон пикче...                сша   \n",
       "1                              киностудия \"мосфильм\"               ссср   \n",
       "2  юниверсал пикчерз, кикстарт продакшнз, марк пл...                сша   \n",
       "5                              киностудия \"мосфильм\"               ссср   \n",
       "6                              киностудия \"мосфильм\"               ссср   \n",
       "\n",
       "            director                                           producer  \\\n",
       "0      Кевин Костнер          Дэвид Валдес, Кевин Костнер, Джейк Эбертс   \n",
       "1          Е.Матвеев                                                NaN   \n",
       "2  Тимур Бекмамбетов  Джим Лемли, Джейсон Нетер, Марк Е.Платт, Яйн Смит   \n",
       "5       В.Абдрашитов                                                NaN   \n",
       "6          В.Меньшов                                                NaN   \n",
       "\n",
       "                   age_restriction  refundable_support  nonrefundable_support  \\\n",
       "0      «18+» - запрещено для детей                 NaN                    NaN   \n",
       "1    «6+» - для детей старше 6 лет                 NaN                    NaN   \n",
       "2      «18+» - запрещено для детей                 NaN                    NaN   \n",
       "5    «6+» - для детей старше 6 лет                 NaN                    NaN   \n",
       "6  «12+» - для детей старше 12 лет                 NaN                    NaN   \n",
       "\n",
       "   budget financing_source  ratings                     genres  box_office  \\\n",
       "0     NaN              NaN      7.2     боевик,драма,мелодрама         NaN   \n",
       "1     NaN              NaN      6.6              драма,военный         NaN   \n",
       "2     NaN              NaN      6.8  фантастика,боевик,триллер         NaN   \n",
       "5     NaN              NaN      7.7                      драма         NaN   \n",
       "6     NaN              NaN      8.3          мелодрама,комедия      2700.0   \n",
       "\n",
       "   show_start_year  \n",
       "0             2015  \n",
       "1             2016  \n",
       "2             2016  \n",
       "5             2016  \n",
       "6             2013  "
      ]
     },
     "metadata": {},
     "output_type": "display_data"
    }
   ],
   "source": [
    "data['show_start_year'] = pd.to_datetime(data['show_start_date']).dt.year\n",
    "display(data.head(5))\n"
   ]
  },
  {
   "cell_type": "markdown",
   "metadata": {},
   "source": [
    "<div class=\"alert alert-success\">\n",
    "<h1> Комментарий ревьюера &#9989;</h1>\n",
    "\n",
    "Все верно)\n",
    "    \n",
    "</div>"
   ]
  },
  {
   "cell_type": "markdown",
   "metadata": {
    "id": "nFTDLDYOgFyT"
   },
   "source": [
    "- Создайте два столбца: с именем и фамилией главного режиссёра и основным жанром фильма. В столбцы войдут первые значения из списка режиссёров и жанров соответственно.\n",
    "\n",
    "<div id=\"accordion\">\n",
    "    <div class=\"card\">\n",
    "        <div class=\"card-header\" id=\"headingThree\">\n",
    "            <button class=\"btn btn-link collapsed\" data-toggle=\"collapse\" data-target=\"#collapseHint_2\" aria-expanded=\"false\" aria-controls=\"collapseHint_2\">Подсказка</button>\n",
    "        </div>\n",
    "        <div id=\"collapseHint_2\" class=\"collapse\" aria-labelledby=\"headingThree\" data-parent=\"#accordion\">\n",
    "            <div class=\"card-body\">\n",
    "Чтобы создать такие столбцы, лучше всего использовать собственную функцию. Эту функцию можно применить к двум столбцам сразу. \n",
    "            </div>\n",
    "        </div>\n",
    "    </div>\n",
    "</div>"
   ]
  },
  {
   "cell_type": "code",
   "execution_count": 10,
   "metadata": {
    "id": "LSbRZKbMgFyU"
   },
   "outputs": [],
   "source": [
    "def get_first_value(s, sep = ','):\n",
    "    value_lst = s.split(sep=sep)\n",
    "    return value_lst[0]"
   ]
  },
  {
   "cell_type": "code",
   "execution_count": 11,
   "metadata": {},
   "outputs": [],
   "source": [
    "data['main_director'] = data['director'].apply(get_first_value)\n"
   ]
  },
  {
   "cell_type": "code",
   "execution_count": 12,
   "metadata": {},
   "outputs": [],
   "source": [
    "data['main_genre'] = data['genres'].apply(get_first_value)\n",
    "# display(data)"
   ]
  },
  {
   "cell_type": "markdown",
   "metadata": {},
   "source": [
    "<div class=\"alert alert-success\">\n",
    "<h1> Комментарий ревьюера &#9989;</h1>\n",
    "\n",
    "Колонки добавлены корректно. \n",
    "    \n",
    "</div>"
   ]
  },
  {
   "cell_type": "markdown",
   "metadata": {
    "id": "1FsCXHwdgFyU"
   },
   "source": [
    "- Посчитайте, какую долю от общего бюджета фильма составляет государственная поддержка."
   ]
  },
  {
   "cell_type": "code",
   "execution_count": 13,
   "metadata": {
    "id": "LV6qFuZLgFyV"
   },
   "outputs": [],
   "source": [
    "data['support_dolya'] = (((data['refundable_support'] + data['nonrefundable_support'])/data['budget'])*100)\n",
    "data['support_total'] = data['refundable_support'] + data['nonrefundable_support']\n",
    "#display(data[data['support_dolya'] > 0])"
   ]
  },
  {
   "cell_type": "markdown",
   "metadata": {},
   "source": [
    "#### Промежуточный вывод"
   ]
  },
  {
   "cell_type": "markdown",
   "metadata": {},
   "source": [
    "\n",
    "В ходе предобработки данных  было сделано:\n",
    "- Объединение таблиц данных.\n",
    "- Работа по поиску и удалению дубликатов.\n",
    "- Анализ пропусков значений.\n",
    "- Проверка корректности значений.\n",
    "- Добавление необходимых столбцов в соответствии с ТЗ.\n"
   ]
  },
  {
   "cell_type": "markdown",
   "metadata": {},
   "source": [
    "<div class=\"alert alert-success\">\n",
    "<h1> Комментарий ревьюера. vol. 2 &#9989;</h1>\n",
    "\n",
    "Вижу, отлично)\n",
    "    \n",
    "Выше осталась одна правка, на которую нужно внимания, после этого смогу зачесть этап)\n",
    "    \n",
    "</div>"
   ]
  },
  {
   "cell_type": "markdown",
   "metadata": {
    "id": "6t4EukPLgFyV"
   },
   "source": [
    "### Шаг 3. Проведите исследовательский анализ данных\n"
   ]
  },
  {
   "cell_type": "markdown",
   "metadata": {
    "id": "vAH8WCzugFyV"
   },
   "source": [
    "- Посмотрите, сколько фильмов выходило в прокат каждый год. Обратите внимание, что данные о прокате в кинотеатрах известны не для всех фильмов. Посчитайте, какую долю составляют фильмы с указанной информацией о прокате в кинотеатрах."
   ]
  },
  {
   "cell_type": "code",
   "execution_count": 14,
   "metadata": {
    "id": "ABeV47y7gFyW"
   },
   "outputs": [
    {
     "data": {
      "text/html": [
       "<div>\n",
       "<style scoped>\n",
       "    .dataframe tbody tr th:only-of-type {\n",
       "        vertical-align: middle;\n",
       "    }\n",
       "\n",
       "    .dataframe tbody tr th {\n",
       "        vertical-align: top;\n",
       "    }\n",
       "\n",
       "    .dataframe thead th {\n",
       "        text-align: right;\n",
       "    }\n",
       "</style>\n",
       "<table border=\"1\" class=\"dataframe\">\n",
       "  <thead>\n",
       "    <tr style=\"text-align: right;\">\n",
       "      <th></th>\n",
       "      <th>box_office</th>\n",
       "      <th>title</th>\n",
       "      <th>dolya</th>\n",
       "    </tr>\n",
       "    <tr>\n",
       "      <th>show_start_year</th>\n",
       "      <th></th>\n",
       "      <th></th>\n",
       "      <th></th>\n",
       "    </tr>\n",
       "  </thead>\n",
       "  <tbody>\n",
       "    <tr>\n",
       "      <th>2010</th>\n",
       "      <td>88</td>\n",
       "      <td>761</td>\n",
       "      <td>11.563732</td>\n",
       "    </tr>\n",
       "    <tr>\n",
       "      <th>2011</th>\n",
       "      <td>98</td>\n",
       "      <td>477</td>\n",
       "      <td>20.545073</td>\n",
       "    </tr>\n",
       "    <tr>\n",
       "      <th>2012</th>\n",
       "      <td>116</td>\n",
       "      <td>517</td>\n",
       "      <td>22.437137</td>\n",
       "    </tr>\n",
       "    <tr>\n",
       "      <th>2013</th>\n",
       "      <td>176</td>\n",
       "      <td>590</td>\n",
       "      <td>29.830508</td>\n",
       "    </tr>\n",
       "    <tr>\n",
       "      <th>2014</th>\n",
       "      <td>257</td>\n",
       "      <td>730</td>\n",
       "      <td>35.205479</td>\n",
       "    </tr>\n",
       "    <tr>\n",
       "      <th>2015</th>\n",
       "      <td>431</td>\n",
       "      <td>661</td>\n",
       "      <td>65.204236</td>\n",
       "    </tr>\n",
       "    <tr>\n",
       "      <th>2016</th>\n",
       "      <td>501</td>\n",
       "      <td>771</td>\n",
       "      <td>64.980545</td>\n",
       "    </tr>\n",
       "    <tr>\n",
       "      <th>2017</th>\n",
       "      <td>357</td>\n",
       "      <td>500</td>\n",
       "      <td>71.400000</td>\n",
       "    </tr>\n",
       "    <tr>\n",
       "      <th>2018</th>\n",
       "      <td>474</td>\n",
       "      <td>882</td>\n",
       "      <td>53.741497</td>\n",
       "    </tr>\n",
       "    <tr>\n",
       "      <th>2019</th>\n",
       "      <td>529</td>\n",
       "      <td>913</td>\n",
       "      <td>57.940854</td>\n",
       "    </tr>\n",
       "  </tbody>\n",
       "</table>\n",
       "</div>"
      ],
      "text/plain": [
       "                 box_office  title      dolya\n",
       "show_start_year                              \n",
       "2010                     88    761  11.563732\n",
       "2011                     98    477  20.545073\n",
       "2012                    116    517  22.437137\n",
       "2013                    176    590  29.830508\n",
       "2014                    257    730  35.205479\n",
       "2015                    431    661  65.204236\n",
       "2016                    501    771  64.980545\n",
       "2017                    357    500  71.400000\n",
       "2018                    474    882  53.741497\n",
       "2019                    529    913  57.940854"
      ]
     },
     "metadata": {},
     "output_type": "display_data"
    }
   ],
   "source": [
    "data_prokat = data.pivot_table(index='show_start_year', values=('title','box_office'), aggfunc ='count')\n",
    "data_prokat['dolya'] = (data_prokat['box_office'] / data_prokat['title'])*100\n",
    "display(data_prokat)\n",
    "\n"
   ]
  },
  {
   "cell_type": "markdown",
   "metadata": {
    "id": "BEOdcIrIgFyW"
   },
   "source": [
    "- Изучите, как менялась динамика проката по годам. В каком году сумма сборов была минимальной? А максимальной?"
   ]
  },
  {
   "cell_type": "code",
   "execution_count": 15,
   "metadata": {
    "id": "tfEhofYvgFyX"
   },
   "outputs": [
    {
     "data": {
      "text/html": [
       "<div>\n",
       "<style scoped>\n",
       "    .dataframe tbody tr th:only-of-type {\n",
       "        vertical-align: middle;\n",
       "    }\n",
       "\n",
       "    .dataframe tbody tr th {\n",
       "        vertical-align: top;\n",
       "    }\n",
       "\n",
       "    .dataframe thead th {\n",
       "        text-align: right;\n",
       "    }\n",
       "</style>\n",
       "<table border=\"1\" class=\"dataframe\">\n",
       "  <thead>\n",
       "    <tr style=\"text-align: right;\">\n",
       "      <th></th>\n",
       "      <th>box_office</th>\n",
       "    </tr>\n",
       "    <tr>\n",
       "      <th>show_start_year</th>\n",
       "      <th></th>\n",
       "    </tr>\n",
       "  </thead>\n",
       "  <tbody>\n",
       "    <tr>\n",
       "      <th>2010</th>\n",
       "      <td>2.374340e+06</td>\n",
       "    </tr>\n",
       "    <tr>\n",
       "      <th>2011</th>\n",
       "      <td>1.394439e+07</td>\n",
       "    </tr>\n",
       "    <tr>\n",
       "      <th>2012</th>\n",
       "      <td>6.465111e+06</td>\n",
       "    </tr>\n",
       "    <tr>\n",
       "      <th>2013</th>\n",
       "      <td>2.976853e+07</td>\n",
       "    </tr>\n",
       "    <tr>\n",
       "      <th>2014</th>\n",
       "      <td>7.372599e+09</td>\n",
       "    </tr>\n",
       "    <tr>\n",
       "      <th>2015</th>\n",
       "      <td>3.208465e+10</td>\n",
       "    </tr>\n",
       "    <tr>\n",
       "      <th>2016</th>\n",
       "      <td>4.373144e+10</td>\n",
       "    </tr>\n",
       "    <tr>\n",
       "      <th>2017</th>\n",
       "      <td>4.856371e+10</td>\n",
       "    </tr>\n",
       "    <tr>\n",
       "      <th>2018</th>\n",
       "      <td>4.798572e+10</td>\n",
       "    </tr>\n",
       "    <tr>\n",
       "      <th>2019</th>\n",
       "      <td>4.842345e+10</td>\n",
       "    </tr>\n",
       "  </tbody>\n",
       "</table>\n",
       "</div>"
      ],
      "text/plain": [
       "                   box_office\n",
       "show_start_year              \n",
       "2010             2.374340e+06\n",
       "2011             1.394439e+07\n",
       "2012             6.465111e+06\n",
       "2013             2.976853e+07\n",
       "2014             7.372599e+09\n",
       "2015             3.208465e+10\n",
       "2016             4.373144e+10\n",
       "2017             4.856371e+10\n",
       "2018             4.798572e+10\n",
       "2019             4.842345e+10"
      ]
     },
     "metadata": {},
     "output_type": "display_data"
    },
    {
     "data": {
      "text/plain": [
       "<AxesSubplot:xlabel='show_start_year'>"
      ]
     },
     "execution_count": 15,
     "metadata": {},
     "output_type": "execute_result"
    },
    {
     "data": {
      "image/png": "[encoded data removed]",
      "text/plain": [
       "<Figure size 1080x1080 with 1 Axes>"
      ]
     },
     "metadata": {
      "needs_background": "light"
     },
     "output_type": "display_data"
    }
   ],
   "source": [
    "data_prokat2 = data.pivot_table(index='show_start_year', values='box_office', aggfunc ='sum')\n",
    "display(data_prokat2)\n",
    "data_prokat2.plot(kind='bar',figsize=(15,15))\n"
   ]
  },
  {
   "cell_type": "markdown",
   "metadata": {},
   "source": [
    "Рост суммы сборов наблюдается с 2010г.(минимальное значение 2,374,340.00) по 2017г.(максимальное значение 48,563,707,217.51).\n",
    "2018-2019г. года есть небольшое снижение суммы сборов по сравнению с 2017г.\n",
    " "
   ]
  },
  {
   "cell_type": "markdown",
   "metadata": {},
   "source": [
    "<div class=\"alert alert-success\">\n",
    "<h1> Комментарий ревьюера &#9989;</h1>\n",
    "\n",
    "Согласен. \n",
    "    \n",
    "</div>"
   ]
  },
  {
   "cell_type": "markdown",
   "metadata": {
    "id": "G-7qS-N-gFyY"
   },
   "source": [
    "- С помощью сводной таблицы посчитайте среднюю и медианную сумму сборов для каждого года."
   ]
  },
  {
   "cell_type": "code",
   "execution_count": 16,
   "metadata": {
    "id": "jmp-rgg9gFyY"
   },
   "outputs": [
    {
     "data": {
      "text/html": [
       "<div>\n",
       "<style scoped>\n",
       "    .dataframe tbody tr th:only-of-type {\n",
       "        vertical-align: middle;\n",
       "    }\n",
       "\n",
       "    .dataframe tbody tr th {\n",
       "        vertical-align: top;\n",
       "    }\n",
       "\n",
       "    .dataframe thead th {\n",
       "        text-align: right;\n",
       "    }\n",
       "</style>\n",
       "<table border=\"1\" class=\"dataframe\">\n",
       "  <thead>\n",
       "    <tr style=\"text-align: right;\">\n",
       "      <th></th>\n",
       "      <th>mean</th>\n",
       "      <th>median</th>\n",
       "      <th>sum</th>\n",
       "    </tr>\n",
       "    <tr>\n",
       "      <th>show_start_year</th>\n",
       "      <th></th>\n",
       "      <th></th>\n",
       "      <th></th>\n",
       "    </tr>\n",
       "  </thead>\n",
       "  <tbody>\n",
       "    <tr>\n",
       "      <th>2010</th>\n",
       "      <td>26,981.14</td>\n",
       "      <td>1,868.00</td>\n",
       "      <td>2,374,340.00</td>\n",
       "    </tr>\n",
       "    <tr>\n",
       "      <th>2011</th>\n",
       "      <td>142,289.69</td>\n",
       "      <td>3,042.50</td>\n",
       "      <td>13,944,390.00</td>\n",
       "    </tr>\n",
       "    <tr>\n",
       "      <th>2012</th>\n",
       "      <td>55,733.72</td>\n",
       "      <td>6,692.50</td>\n",
       "      <td>6,465,111.00</td>\n",
       "    </tr>\n",
       "    <tr>\n",
       "      <th>2013</th>\n",
       "      <td>169,139.38</td>\n",
       "      <td>3,565.00</td>\n",
       "      <td>29,768,531.20</td>\n",
       "    </tr>\n",
       "    <tr>\n",
       "      <th>2014</th>\n",
       "      <td>28,687,153.98</td>\n",
       "      <td>22,490.00</td>\n",
       "      <td>7,372,598,571.60</td>\n",
       "    </tr>\n",
       "    <tr>\n",
       "      <th>2015</th>\n",
       "      <td>74,442,343.06</td>\n",
       "      <td>4,327,265.70</td>\n",
       "      <td>32,084,649,858.37</td>\n",
       "    </tr>\n",
       "    <tr>\n",
       "      <th>2016</th>\n",
       "      <td>87,288,312.75</td>\n",
       "      <td>3,640,802.30</td>\n",
       "      <td>43,731,444,689.34</td>\n",
       "    </tr>\n",
       "    <tr>\n",
       "      <th>2017</th>\n",
       "      <td>136,032,793.33</td>\n",
       "      <td>9,968,340.00</td>\n",
       "      <td>48,563,707,217.51</td>\n",
       "    </tr>\n",
       "    <tr>\n",
       "      <th>2018</th>\n",
       "      <td>101,235,702.73</td>\n",
       "      <td>8,821,498.98</td>\n",
       "      <td>47,985,723,095.29</td>\n",
       "    </tr>\n",
       "    <tr>\n",
       "      <th>2019</th>\n",
       "      <td>91,537,713.41</td>\n",
       "      <td>4,654,563.09</td>\n",
       "      <td>48,423,450,395.59</td>\n",
       "    </tr>\n",
       "  </tbody>\n",
       "</table>\n",
       "</div>"
      ],
      "text/plain": [
       "                          mean       median               sum\n",
       "show_start_year                                              \n",
       "2010                 26,981.14     1,868.00      2,374,340.00\n",
       "2011                142,289.69     3,042.50     13,944,390.00\n",
       "2012                 55,733.72     6,692.50      6,465,111.00\n",
       "2013                169,139.38     3,565.00     29,768,531.20\n",
       "2014             28,687,153.98    22,490.00  7,372,598,571.60\n",
       "2015             74,442,343.06 4,327,265.70 32,084,649,858.37\n",
       "2016             87,288,312.75 3,640,802.30 43,731,444,689.34\n",
       "2017            136,032,793.33 9,968,340.00 48,563,707,217.51\n",
       "2018            101,235,702.73 8,821,498.98 47,985,723,095.29\n",
       "2019             91,537,713.41 4,654,563.09 48,423,450,395.59"
      ]
     },
     "metadata": {},
     "output_type": "display_data"
    }
   ],
   "source": [
    "pd.options.display.float_format = '{:,.2f}'.format\n",
    "\n",
    "data_prokat2 = data.pivot_table(index='show_start_year', values='box_office', aggfunc =('sum','mean','median'))\n",
    "display(data_prokat2)"
   ]
  },
  {
   "cell_type": "markdown",
   "metadata": {
    "id": "Ok89WFwJgFyZ"
   },
   "source": [
    "- Определите, влияет ли возрастное ограничение аудитории («6+», «12+», «16+», «18+» и т. д.) на сборы фильма в прокате в период с 2015 по 2019 год? Фильмы с каким возрастным ограничением собрали больше всего денег в прокате? Меняется ли картина в зависимости от года? Если да, предположите, с чем это может быть связано."
   ]
  },
  {
   "cell_type": "code",
   "execution_count": 17,
   "metadata": {
    "id": "jsSbEqfjgFya"
   },
   "outputs": [
    {
     "data": {
      "text/html": [
       "<div>\n",
       "<style scoped>\n",
       "    .dataframe tbody tr th:only-of-type {\n",
       "        vertical-align: middle;\n",
       "    }\n",
       "\n",
       "    .dataframe tbody tr th {\n",
       "        vertical-align: top;\n",
       "    }\n",
       "\n",
       "    .dataframe thead th {\n",
       "        text-align: right;\n",
       "    }\n",
       "</style>\n",
       "<table border=\"1\" class=\"dataframe\">\n",
       "  <thead>\n",
       "    <tr style=\"text-align: right;\">\n",
       "      <th></th>\n",
       "      <th></th>\n",
       "      <th>box_office</th>\n",
       "    </tr>\n",
       "    <tr>\n",
       "      <th>show_start_year</th>\n",
       "      <th>age_restriction</th>\n",
       "      <th></th>\n",
       "    </tr>\n",
       "  </thead>\n",
       "  <tbody>\n",
       "    <tr>\n",
       "      <th rowspan=\"5\" valign=\"top\">2015</th>\n",
       "      <th>«0+» - для любой зрительской аудитории</th>\n",
       "      <td>273,367,767.78</td>\n",
       "    </tr>\n",
       "    <tr>\n",
       "      <th>«12+» - для детей старше 12 лет</th>\n",
       "      <td>11,957,220,583.41</td>\n",
       "    </tr>\n",
       "    <tr>\n",
       "      <th>«16+» - для детей старше 16 лет</th>\n",
       "      <td>8,274,253,188.89</td>\n",
       "    </tr>\n",
       "    <tr>\n",
       "      <th>«18+» - запрещено для детей</th>\n",
       "      <td>3,184,097,942.98</td>\n",
       "    </tr>\n",
       "    <tr>\n",
       "      <th>«6+» - для детей старше 6 лет</th>\n",
       "      <td>8,395,710,375.31</td>\n",
       "    </tr>\n",
       "    <tr>\n",
       "      <th rowspan=\"5\" valign=\"top\">2016</th>\n",
       "      <th>«0+» - для любой зрительской аудитории</th>\n",
       "      <td>150,183,548.67</td>\n",
       "    </tr>\n",
       "    <tr>\n",
       "      <th>«12+» - для детей старше 12 лет</th>\n",
       "      <td>12,178,337,053.01</td>\n",
       "    </tr>\n",
       "    <tr>\n",
       "      <th>«16+» - для детей старше 16 лет</th>\n",
       "      <td>14,359,349,614.80</td>\n",
       "    </tr>\n",
       "    <tr>\n",
       "      <th>«18+» - запрещено для детей</th>\n",
       "      <td>4,990,430,064.62</td>\n",
       "    </tr>\n",
       "    <tr>\n",
       "      <th>«6+» - для детей старше 6 лет</th>\n",
       "      <td>12,053,144,408.24</td>\n",
       "    </tr>\n",
       "    <tr>\n",
       "      <th rowspan=\"5\" valign=\"top\">2017</th>\n",
       "      <th>«0+» - для любой зрительской аудитории</th>\n",
       "      <td>229,598,930.00</td>\n",
       "    </tr>\n",
       "    <tr>\n",
       "      <th>«12+» - для детей старше 12 лет</th>\n",
       "      <td>7,851,427,660.67</td>\n",
       "    </tr>\n",
       "    <tr>\n",
       "      <th>«16+» - для детей старше 16 лет</th>\n",
       "      <td>18,745,042,900.06</td>\n",
       "    </tr>\n",
       "    <tr>\n",
       "      <th>«18+» - запрещено для детей</th>\n",
       "      <td>9,651,495,581.02</td>\n",
       "    </tr>\n",
       "    <tr>\n",
       "      <th>«6+» - для детей старше 6 лет</th>\n",
       "      <td>12,086,142,145.76</td>\n",
       "    </tr>\n",
       "    <tr>\n",
       "      <th rowspan=\"5\" valign=\"top\">2018</th>\n",
       "      <th>«0+» - для любой зрительской аудитории</th>\n",
       "      <td>32,449,002.11</td>\n",
       "    </tr>\n",
       "    <tr>\n",
       "      <th>«12+» - для детей старше 12 лет</th>\n",
       "      <td>14,267,291,660.69</td>\n",
       "    </tr>\n",
       "    <tr>\n",
       "      <th>«16+» - для детей старше 16 лет</th>\n",
       "      <td>14,820,922,307.93</td>\n",
       "    </tr>\n",
       "    <tr>\n",
       "      <th>«18+» - запрещено для детей</th>\n",
       "      <td>8,760,085,501.15</td>\n",
       "    </tr>\n",
       "    <tr>\n",
       "      <th>«6+» - для детей старше 6 лет</th>\n",
       "      <td>10,104,974,623.41</td>\n",
       "    </tr>\n",
       "    <tr>\n",
       "      <th rowspan=\"5\" valign=\"top\">2019</th>\n",
       "      <th>«0+» - для любой зрительской аудитории</th>\n",
       "      <td>17,746,066.82</td>\n",
       "    </tr>\n",
       "    <tr>\n",
       "      <th>«12+» - для детей старше 12 лет</th>\n",
       "      <td>12,680,198,773.67</td>\n",
       "    </tr>\n",
       "    <tr>\n",
       "      <th>«16+» - для детей старше 16 лет</th>\n",
       "      <td>12,751,160,600.60</td>\n",
       "    </tr>\n",
       "    <tr>\n",
       "      <th>«18+» - запрещено для детей</th>\n",
       "      <td>10,121,796,303.64</td>\n",
       "    </tr>\n",
       "    <tr>\n",
       "      <th>«6+» - для детей старше 6 лет</th>\n",
       "      <td>12,852,548,650.86</td>\n",
       "    </tr>\n",
       "  </tbody>\n",
       "</table>\n",
       "</div>"
      ],
      "text/plain": [
       "                                                              box_office\n",
       "show_start_year age_restriction                                         \n",
       "2015            «0+» - для любой зрительской аудитории    273,367,767.78\n",
       "                «12+» - для детей старше 12 лет        11,957,220,583.41\n",
       "                «16+» - для детей старше 16 лет         8,274,253,188.89\n",
       "                «18+» - запрещено для детей             3,184,097,942.98\n",
       "                «6+» - для детей старше 6 лет           8,395,710,375.31\n",
       "2016            «0+» - для любой зрительской аудитории    150,183,548.67\n",
       "                «12+» - для детей старше 12 лет        12,178,337,053.01\n",
       "                «16+» - для детей старше 16 лет        14,359,349,614.80\n",
       "                «18+» - запрещено для детей             4,990,430,064.62\n",
       "                «6+» - для детей старше 6 лет          12,053,144,408.24\n",
       "2017            «0+» - для любой зрительской аудитории    229,598,930.00\n",
       "                «12+» - для детей старше 12 лет         7,851,427,660.67\n",
       "                «16+» - для детей старше 16 лет        18,745,042,900.06\n",
       "                «18+» - запрещено для детей             9,651,495,581.02\n",
       "                «6+» - для детей старше 6 лет          12,086,142,145.76\n",
       "2018            «0+» - для любой зрительской аудитории     32,449,002.11\n",
       "                «12+» - для детей старше 12 лет        14,267,291,660.69\n",
       "                «16+» - для детей старше 16 лет        14,820,922,307.93\n",
       "                «18+» - запрещено для детей             8,760,085,501.15\n",
       "                «6+» - для детей старше 6 лет          10,104,974,623.41\n",
       "2019            «0+» - для любой зрительской аудитории     17,746,066.82\n",
       "                «12+» - для детей старше 12 лет        12,680,198,773.67\n",
       "                «16+» - для детей старше 16 лет        12,751,160,600.60\n",
       "                «18+» - запрещено для детей            10,121,796,303.64\n",
       "                «6+» - для детей старше 6 лет          12,852,548,650.86"
      ]
     },
     "metadata": {},
     "output_type": "display_data"
    },
    {
     "data": {
      "text/plain": [
       "<AxesSubplot:xlabel='show_start_year,age_restriction'>"
      ]
     },
     "execution_count": 17,
     "metadata": {},
     "output_type": "execute_result"
    },
    {
     "data": {
      "image/png": "[encoded data removed]",
      "text/plain": [
       "<Figure size 1800x360 with 1 Axes>"
      ]
     },
     "metadata": {
      "needs_background": "light"
     },
     "output_type": "display_data"
    }
   ],
   "source": [
    "data_prokat3 = data.loc[data['show_start_year'] >= 2015].pivot_table(index=('show_start_year','age_restriction'), values='box_office', aggfunc ='sum')\n",
    "display(data_prokat3)\n",
    "data_prokat3.plot(kind='bar',figsize=(25,5))\n"
   ]
  },
  {
   "cell_type": "markdown",
   "metadata": {},
   "source": [
    "График сверху наглядно показывает влияние возрастного ограничения на кассовые сборы. Так больше всех собирают фильмы с ограничением 16+,12+,6+ , а меньше всех 0+ и 18+(фильмы с ограничением 18+ не рассчитаны на массового зрителя)"
   ]
  },
  {
   "cell_type": "markdown",
   "metadata": {},
   "source": [
    "<div class=\"alert alert-success\">\n",
    "<h1> Комментарий ревьюера &#9989;</h1>\n",
    "\n",
    "Согласен. \n",
    "    \n",
    "</div>"
   ]
  },
  {
   "cell_type": "markdown",
   "metadata": {
    "id": "l_Kg6Ku4gFya"
   },
   "source": [
    "### Шаг 4. Исследуйте фильмы, которые получили государственную поддержку\n",
    "\n",
    "На этом этапе нет конкретных инструкций и заданий — поищите интересные закономерности в данных. Посмотрите, сколько выделяют средств на поддержку кино. Проверьте, хорошо ли окупаются такие фильмы, какой у них рейтинг."
   ]
  },
  {
   "cell_type": "code",
   "execution_count": 18,
   "metadata": {
    "id": "W9QKpjUdgFyb"
   },
   "outputs": [
    {
     "data": {
      "text/html": [
       "<div>\n",
       "<style scoped>\n",
       "    .dataframe tbody tr th:only-of-type {\n",
       "        vertical-align: middle;\n",
       "    }\n",
       "\n",
       "    .dataframe tbody tr th {\n",
       "        vertical-align: top;\n",
       "    }\n",
       "\n",
       "    .dataframe thead th {\n",
       "        text-align: right;\n",
       "    }\n",
       "</style>\n",
       "<table border=\"1\" class=\"dataframe\">\n",
       "  <thead>\n",
       "    <tr style=\"text-align: right;\">\n",
       "      <th></th>\n",
       "      <th>support_total</th>\n",
       "    </tr>\n",
       "    <tr>\n",
       "      <th>show_start_year</th>\n",
       "      <th></th>\n",
       "    </tr>\n",
       "  </thead>\n",
       "  <tbody>\n",
       "    <tr>\n",
       "      <th>2014</th>\n",
       "      <td>146,000,000.00</td>\n",
       "    </tr>\n",
       "    <tr>\n",
       "      <th>2015</th>\n",
       "      <td>1,493,952,404.00</td>\n",
       "    </tr>\n",
       "    <tr>\n",
       "      <th>2016</th>\n",
       "      <td>2,914,104,482.00</td>\n",
       "    </tr>\n",
       "    <tr>\n",
       "      <th>2017</th>\n",
       "      <td>1,977,971,662.00</td>\n",
       "    </tr>\n",
       "    <tr>\n",
       "      <th>2018</th>\n",
       "      <td>1,592,000,000.00</td>\n",
       "    </tr>\n",
       "    <tr>\n",
       "      <th>2019</th>\n",
       "      <td>2,458,000,000.00</td>\n",
       "    </tr>\n",
       "  </tbody>\n",
       "</table>\n",
       "</div>"
      ],
      "text/plain": [
       "                   support_total\n",
       "show_start_year                 \n",
       "2014              146,000,000.00\n",
       "2015            1,493,952,404.00\n",
       "2016            2,914,104,482.00\n",
       "2017            1,977,971,662.00\n",
       "2018            1,592,000,000.00\n",
       "2019            2,458,000,000.00"
      ]
     },
     "metadata": {},
     "output_type": "display_data"
    },
    {
     "data": {
      "image/png": "[encoded data removed]",
      "text/plain": [
       "<Figure size 432x288 with 1 Axes>"
      ]
     },
     "metadata": {
      "needs_background": "light"
     },
     "output_type": "display_data"
    }
   ],
   "source": [
    "data_support = data.loc[data['refundable_support'] > 0]\n",
    "#сколько средств выделяется на поддержку кино\n",
    "data_support1 = data_support.pivot_table(index='show_start_year', values='support_total', aggfunc='sum')\n",
    "data_support1.plot(kind='bar',title='Гос поддержка кино')\n",
    "display(data_support1)\n"
   ]
  },
  {
   "cell_type": "markdown",
   "metadata": {},
   "source": [
    "После санкций 2014, гос поддержка фильмов начала стремительно увеличиваться. "
   ]
  },
  {
   "cell_type": "code",
   "execution_count": 19,
   "metadata": {},
   "outputs": [
    {
     "name": "stderr",
     "output_type": "stream",
     "text": [
      "/tmp/ipykernel_55/1992838341.py:2: SettingWithCopyWarning: \n",
      "A value is trying to be set on a copy of a slice from a DataFrame.\n",
      "Try using .loc[row_indexer,col_indexer] = value instead\n",
      "\n",
      "See the caveats in the documentation: https://pandas.pydata.org/pandas-docs/stable/user_guide/indexing.html#returning-a-view-versus-a-copy\n",
      "  data_support['pribyl'] = data_support['box_office'] - data_support['budget']\n"
     ]
    },
    {
     "data": {
      "text/plain": [
       "count              109.00\n",
       "mean        44,989,162.75\n",
       "std        456,341,218.14\n",
       "min     -1,971,477,243.41\n",
       "25%        -78,375,033.00\n",
       "50%        -39,269,755.12\n",
       "75%         70,299,052.00\n",
       "max      2,913,568,690.79\n",
       "Name: pribyl, dtype: float64"
      ]
     },
     "metadata": {},
     "output_type": "display_data"
    },
    {
     "data": {
      "text/plain": [
       "<AxesSubplot:title={'center':'окупаемость'}, ylabel='Frequency'>"
      ]
     },
     "execution_count": 19,
     "metadata": {},
     "output_type": "execute_result"
    },
    {
     "data": {
      "image/png": "[encoded data removed]",
      "text/plain": [
       "<Figure size 1800x360 with 1 Axes>"
      ]
     },
     "metadata": {
      "needs_background": "light"
     },
     "output_type": "display_data"
    }
   ],
   "source": [
    "#окупаемость\n",
    "data_support['pribyl'] = data_support['box_office'] - data_support['budget']\n",
    "pd.options.display.float_format = '{:,.2f}'.format\n",
    "display(data_support['pribyl'].describe())\n",
    "data_support['pribyl'].plot(kind='hist',bins=111,figsize=(25,5), title='окупаемость')\n"
   ]
  },
  {
   "cell_type": "markdown",
   "metadata": {},
   "source": [
    "<div class=\"alert alert-danger\">\n",
    "<h1> Комментарий ревьюера &#9940;</h1>\n",
    "    \n",
    "Александр, выше ты ввел метрику окупаемости.\n",
    "    \n",
    "Сейчас заказчику для того, чтобы понять, о чем идет речь, нужно будет читать код, что не очень хорошо.\n",
    "    \n",
    "Важно дополнить пояснения к графику объеснением того, что такое окупаемость и что именно мы видим на графике?\n",
    "\n",
    "</div>\n",
    "<div class=\"alert alert-info\"> \n",
    "    \n",
    "<h1>Комментарий студента</h1> \n",
    "    \n",
    "Поправил\n",
    "\n",
    "</div>"
   ]
  },
  {
   "cell_type": "markdown",
   "metadata": {},
   "source": [
    "Произведён расчёт окупаемости фильмов по формуле  прибыль = сборы - бюджет <br>\n",
    "Данные выведены в виде гистограммы. Как мы видим основная масса значений находиться около нуля в отрицательной зоне, что говорит о следующем:\n",
    "- Фильмы с гос поддержкой очень плохо окупаются.\n"
   ]
  },
  {
   "cell_type": "markdown",
   "metadata": {},
   "source": [
    "<div class=\"alert alert-success\">\n",
    "<h1> Комментарий ревьюера. vol. 2 &#9989;</h1>\n",
    "\n",
    "Отлично, думаю, пояснения пошли на пользу. Спасибо!\n",
    "    \n",
    "</div>"
   ]
  },
  {
   "cell_type": "code",
   "execution_count": 20,
   "metadata": {},
   "outputs": [
    {
     "data": {
      "text/plain": [
       "count   108.00\n",
       "mean      5.84\n",
       "std       1.24\n",
       "min       2.80\n",
       "25%       5.00\n",
       "50%       5.95\n",
       "75%       6.70\n",
       "max       8.50\n",
       "Name: ratings, dtype: float64"
      ]
     },
     "execution_count": 20,
     "metadata": {},
     "output_type": "execute_result"
    },
    {
     "data": {
      "image/png": "[encoded data removed]",
      "text/plain": [
       "<Figure size 1800x360 with 1 Axes>"
      ]
     },
     "metadata": {
      "needs_background": "light"
     },
     "output_type": "display_data"
    }
   ],
   "source": [
    "#рейтинг фильмов с гос участием \n",
    "data_support['ratings'].sort_values().plot(kind='hist',bins=108,figsize=(25,5))\n",
    "data_support['ratings'].describe()\n",
    "#display(data_support)"
   ]
  },
  {
   "cell_type": "markdown",
   "metadata": {},
   "source": [
    "Средний рейтинг фильмов с гос.поддержкой 5,84 (медиана 5,95 близка к среднему, это указывает на нормальное распределение данных)<br>\n",
    "Рейтинг фильмов с гос.поддержкой 5,84 это хороший результат."
   ]
  },
  {
   "cell_type": "markdown",
   "metadata": {},
   "source": [
    "<div class=\"alert alert-warning\">\n",
    "<h1> Комментарий ревьюера &#128276;</h1>\n",
    "\n",
    "Думаю, стоит дополнить пояснения объяснением того, почему близость среднего и медианы - это \"неплохо\"?\n",
    "    \n",
    "</div>"
   ]
  },
  {
   "cell_type": "markdown",
   "metadata": {
    "id": "V2gYwMcPgFyd"
   },
   "source": [
    "### Шаг 5. Напишите общий вывод"
   ]
  },
  {
   "cell_type": "markdown",
   "metadata": {
    "id": "AYRg3dzXgFye"
   },
   "source": [
    "<h4>Предобработки данных</h4>\n",
    "\n",
    "В ходе предобработки данных  было сделано:\n",
    "- Объединение таблиц данных.\n",
    "- Работа по поиску и удалению дубликатов.\n",
    "- Анализ пропусков значений.\n",
    "- Проверка корректности значений.\n",
    "- Добавление необходимых столбцов в соответствии с ТЗ.\n",
    "\n",
    "<h4>Результаты</h4>\n",
    "\n",
    "- Рост суммы сборов наблюдается с 2010г.(минимальное значение 2,374,340.00) по 2017г.(максимальное значение 48,563,707,217.51).\n",
    "2018-2019г. года есть небольшое снижение суммы сборов по сравнению с 2017г.\n",
    "- Больше всех собирают фильмы с ограничением 16+,12+,6+ , а меньше всех 0+ и 18+\n",
    "- После санкций 2014, гос.поддержка фильмов начала стремительно увеличиваться\n",
    "- Фильмы с гос.поддержкой очень плохо окупаются.\n",
    "- Рейтинг фильмов с гос.поддержкой 5,84 это хороший результат.\n",
    "\n",
    "\n",
    "<h4>Общие рекомендации и наблюдения</h4>\n",
    "\n",
    "Фильмы для которых оказывалась гос поддержка имеют средний рейтинг, и плохую окупаемость,\n",
    "это наводит мысли на то, что студии получив финансирование особо не беспокоятся о качестве конечного продукта.\n",
    "- Предложения:\n",
    "- Исключить пункт «невозвратные средства».\n",
    "- Ужесточить контроль над расходованием бюджетных средств.\n"
   ]
  },
  {
   "cell_type": "markdown",
   "metadata": {},
   "source": [
    "<div class=\"alert alert-warning\">\n",
    "<h1> Комментарий ревьюера &#128276;</h1>\n",
    "\n",
    "Неплохой вывод. \n",
    "    \n",
    "Очень рекомендую включать в общий вывод данные обо всем исследовании: \n",
    "    \n",
    "1. Коротко описать ход предобработки данных (какие именно действия были предприняты и как эти действия повлияли на датасет)\n",
    "2. Повторно привести экстримальные значения в результирующих таблицах (например: \"самая успешная группа заемщиков - заемщики с пятью детьми (должников нет), наименее успешная - семьи с 2 и 4 детьми (9.5% и более)\" и так далее)\n",
    "3. Общие рекомендации и наблюдения (у тебя это включено)\n",
    "    \n",
    "Подобная организация вывода позволит заказчику максимально быстро ознакомиться с результатами исследования и вернуться к тебе с обратной связью, а ты в свою очередь дополнительно закрепишь результаты своей работы в собственной голове, что поможет отвечать на поступающие вопросы быстрее. \n",
    "\n",
    "</div>\n",
    "</div>\n",
    "<div class=\"alert alert-info\"> \n",
    "    \n",
    "<h1>Комментарий студента</h1> \n",
    "    \n",
    "Поправил\n",
    "\n",
    "</div>"
   ]
  },
  {
   "cell_type": "markdown",
   "metadata": {},
   "source": [
    "<div class=\"alert alert-success\">\n",
    "<h1> Итерация 1. Заключение. </h1>\n",
    "    \n",
    "Александр, в работе выше есть ряд недостатков, которые важно исправить.\n",
    "    \n",
    "Речь в первую очередь о пропуске некоторых этапов и отсутствии пояснении к исследованию. Важно предоставлять заказчику не только код и графики, но и пояснения на естественном языке. Этот аспект важно будет доработать.\n",
    "\n",
    "В своем ответе под этой ячейкой подскажи, пожалуйста, сильно ли тебя поджимает время. Если этот проект не единственный и ты выполняешь какие-то еще, дай знать: мы найдем способ ускорить работу над этим заданием. \n",
    "    \n",
    "Не забывай, что я буду рад ответить на любые твои вопросы относительно требуемых правок. \n",
    "    \n",
    "Очень жду работу на повторную проверку. Удачи!)\n",
    "\n",
    "</div>\n",
    "\n",
    "<div class=\"alert alert-info\"> \n",
    "    \n",
    "<h1>Комментарий студента</h1> \n",
    "    \n",
    "Все сделаю\n",
    "\n",
    "</div>"
   ]
  },
  {
   "cell_type": "markdown",
   "metadata": {},
   "source": [
    "<div class=\"alert alert-success\">\n",
    "<h1> Итерация 2. Заключение. </h1>\n",
    "    \n",
    "Александр, правки выше внесены корректно.\n",
    "    \n",
    "Остался один аспект, который я просил подсветить на первой итерации. Отметил его выше. После внесения этого дополнения смогу принять проект. Осталось совсем чуть-чуть)\n",
    "    \n",
    "Жду работу на повторное ревью. Успехов!)\n",
    "\n",
    "</div>"
   ]
  },
  {
   "cell_type": "markdown",
   "metadata": {},
   "source": [
    "<div class=\"alert alert-success\">\n",
    "<h1> Итерация 3. Заключение. </h1>\n",
    "    \n",
    "Александр, все правки учтены - проект принят.\n",
    "    \n",
    "Успехов в дальнейшем обучении!)\n",
    "\n",
    "</div>"
   ]
  },
  {
   "cell_type": "code",
   "execution_count": null,
   "metadata": {},
   "outputs": [],
   "source": []
  }
 ],
 "metadata": {
  "ExecuteTimeLog": [
   {
    "duration": 537,
    "start_time": "2021-07-07T10:12:08.634Z"
   },
   {
    "duration": 206,
    "start_time": "2021-07-07T10:12:30.191Z"
   },
   {
    "duration": 227,
    "start_time": "2021-07-07T10:12:33.078Z"
   },
   {
    "duration": 153,
    "start_time": "2021-07-07T10:13:42.146Z"
   },
   {
    "duration": 233,
    "start_time": "2021-07-07T10:30:09.252Z"
   },
   {
    "duration": 19,
    "start_time": "2021-07-07T10:30:15.577Z"
   },
   {
    "duration": 18,
    "start_time": "2021-07-07T10:30:57.348Z"
   },
   {
    "duration": 19,
    "start_time": "2021-07-07T10:31:17.452Z"
   },
   {
    "duration": 21,
    "start_time": "2021-07-07T10:31:32.227Z"
   },
   {
    "duration": 27,
    "start_time": "2021-07-07T10:32:06.588Z"
   },
   {
    "duration": 23,
    "start_time": "2021-07-07T10:32:43.645Z"
   },
   {
    "duration": 24,
    "start_time": "2021-07-07T10:33:06.948Z"
   },
   {
    "duration": 7,
    "start_time": "2021-07-07T10:33:28.558Z"
   },
   {
    "duration": 23,
    "start_time": "2021-07-07T10:33:43.761Z"
   },
   {
    "duration": 28,
    "start_time": "2021-07-07T10:34:13.466Z"
   },
   {
    "duration": 23,
    "start_time": "2021-07-07T10:35:56.187Z"
   },
   {
    "duration": 6,
    "start_time": "2021-07-07T10:36:48.182Z"
   },
   {
    "duration": 14,
    "start_time": "2021-07-07T10:37:49.641Z"
   },
   {
    "duration": 6,
    "start_time": "2021-07-07T10:38:06.694Z"
   },
   {
    "duration": 6,
    "start_time": "2021-07-07T10:38:13.493Z"
   },
   {
    "duration": 19,
    "start_time": "2021-07-07T10:38:44.056Z"
   },
   {
    "duration": 186,
    "start_time": "2021-07-07T10:48:35.618Z"
   },
   {
    "duration": 24,
    "start_time": "2021-07-07T10:48:51.498Z"
   },
   {
    "duration": 20,
    "start_time": "2021-07-07T10:48:59.415Z"
   },
   {
    "duration": 20,
    "start_time": "2021-07-07T10:53:02.195Z"
   },
   {
    "duration": 188,
    "start_time": "2021-07-07T10:54:40.486Z"
   },
   {
    "duration": 115,
    "start_time": "2021-07-07T10:54:52.552Z"
   },
   {
    "duration": 214,
    "start_time": "2021-07-07T10:54:56.354Z"
   },
   {
    "duration": 47,
    "start_time": "2021-07-07T10:54:58.282Z"
   },
   {
    "duration": 217,
    "start_time": "2021-07-07T10:59:16.075Z"
   },
   {
    "duration": 51,
    "start_time": "2021-07-07T10:59:16.243Z"
   },
   {
    "duration": 578,
    "start_time": "2021-07-07T10:59:18.774Z"
   },
   {
    "duration": 161,
    "start_time": "2021-07-07T10:59:21.238Z"
   },
   {
    "duration": 59,
    "start_time": "2021-07-07T10:59:21.453Z"
   },
   {
    "duration": 3,
    "start_time": "2021-07-07T11:02:10.786Z"
   },
   {
    "duration": 13,
    "start_time": "2021-07-07T11:07:07.722Z"
   },
   {
    "duration": 26,
    "start_time": "2021-07-07T11:07:17.958Z"
   },
   {
    "duration": 22,
    "start_time": "2021-07-07T11:08:17.939Z"
   },
   {
    "duration": 212,
    "start_time": "2021-07-07T11:08:19.665Z"
   },
   {
    "duration": 21,
    "start_time": "2021-07-07T11:08:29.945Z"
   },
   {
    "duration": 31,
    "start_time": "2021-07-07T11:08:38.899Z"
   },
   {
    "duration": 23,
    "start_time": "2021-07-07T11:08:54.527Z"
   },
   {
    "duration": 8,
    "start_time": "2021-07-07T11:18:55.974Z"
   },
   {
    "duration": 7,
    "start_time": "2021-07-07T11:19:03.639Z"
   },
   {
    "duration": 7,
    "start_time": "2021-07-07T11:19:06.444Z"
   },
   {
    "duration": 578,
    "start_time": "2021-07-07T12:09:59.576Z"
   },
   {
    "duration": 195,
    "start_time": "2021-07-07T12:10:00.156Z"
   },
   {
    "duration": 115,
    "start_time": "2021-07-07T12:10:00.353Z"
   },
   {
    "duration": 3,
    "start_time": "2021-07-07T12:10:00.470Z"
   },
   {
    "duration": 32,
    "start_time": "2021-07-07T12:10:00.474Z"
   },
   {
    "duration": 23,
    "start_time": "2021-07-07T12:10:00.508Z"
   },
   {
    "duration": 19,
    "start_time": "2021-07-07T12:10:00.533Z"
   },
   {
    "duration": 44,
    "start_time": "2021-07-07T12:10:00.553Z"
   },
   {
    "duration": 7,
    "start_time": "2021-07-07T12:10:00.600Z"
   },
   {
    "duration": 7,
    "start_time": "2021-07-07T12:19:45.761Z"
   },
   {
    "duration": 21,
    "start_time": "2021-07-07T12:21:35.482Z"
   },
   {
    "duration": 21,
    "start_time": "2021-07-07T12:29:23.569Z"
   },
   {
    "duration": 525,
    "start_time": "2021-07-07T12:29:44.542Z"
   },
   {
    "duration": 214,
    "start_time": "2021-07-07T12:29:45.069Z"
   },
   {
    "duration": 92,
    "start_time": "2021-07-07T12:29:45.285Z"
   },
   {
    "duration": 3,
    "start_time": "2021-07-07T12:29:45.379Z"
   },
   {
    "duration": 28,
    "start_time": "2021-07-07T12:29:45.384Z"
   },
   {
    "duration": 23,
    "start_time": "2021-07-07T12:29:45.413Z"
   },
   {
    "duration": 21,
    "start_time": "2021-07-07T12:29:45.437Z"
   },
   {
    "duration": 41,
    "start_time": "2021-07-07T12:29:45.460Z"
   },
   {
    "duration": 7,
    "start_time": "2021-07-07T12:29:45.502Z"
   },
   {
    "duration": 20,
    "start_time": "2021-07-07T12:29:45.511Z"
   },
   {
    "duration": 12,
    "start_time": "2021-07-07T12:34:02.800Z"
   },
   {
    "duration": 7,
    "start_time": "2021-07-07T12:35:10.479Z"
   },
   {
    "duration": 8,
    "start_time": "2021-07-07T12:35:22.440Z"
   },
   {
    "duration": 6,
    "start_time": "2021-07-07T12:35:35.649Z"
   },
   {
    "duration": 6,
    "start_time": "2021-07-07T12:35:43.107Z"
   },
   {
    "duration": 22,
    "start_time": "2021-07-07T12:38:03.029Z"
   },
   {
    "duration": 10,
    "start_time": "2021-07-07T12:38:06.592Z"
   },
   {
    "duration": 563,
    "start_time": "2021-07-07T12:38:46.493Z"
   },
   {
    "duration": 265,
    "start_time": "2021-07-07T12:38:47.058Z"
   },
   {
    "duration": 94,
    "start_time": "2021-07-07T12:38:47.325Z"
   },
   {
    "duration": 3,
    "start_time": "2021-07-07T12:38:47.422Z"
   },
   {
    "duration": 30,
    "start_time": "2021-07-07T12:38:47.427Z"
   },
   {
    "duration": 16,
    "start_time": "2021-07-07T12:38:53.305Z"
   },
   {
    "duration": 10,
    "start_time": "2021-07-07T12:38:53.499Z"
   },
   {
    "duration": 8,
    "start_time": "2021-07-07T12:39:48.161Z"
   },
   {
    "duration": 27,
    "start_time": "2021-07-07T12:41:17.629Z"
   },
   {
    "duration": 17,
    "start_time": "2021-07-07T12:41:17.867Z"
   },
   {
    "duration": 21,
    "start_time": "2021-07-07T12:41:19.310Z"
   },
   {
    "duration": 7,
    "start_time": "2021-07-07T12:41:19.544Z"
   },
   {
    "duration": 20,
    "start_time": "2021-07-07T12:41:20.504Z"
   },
   {
    "duration": 554,
    "start_time": "2021-07-07T12:56:23.696Z"
   },
   {
    "duration": 200,
    "start_time": "2021-07-07T12:56:25.234Z"
   },
   {
    "duration": 119,
    "start_time": "2021-07-07T12:56:25.480Z"
   },
   {
    "duration": 4,
    "start_time": "2021-07-07T12:56:25.762Z"
   },
   {
    "duration": 26,
    "start_time": "2021-07-07T12:56:27.172Z"
   },
   {
    "duration": 12,
    "start_time": "2021-07-07T12:56:29.051Z"
   },
   {
    "duration": 10,
    "start_time": "2021-07-07T12:56:29.291Z"
   },
   {
    "duration": 8,
    "start_time": "2021-07-07T12:56:29.623Z"
   },
   {
    "duration": 28,
    "start_time": "2021-07-07T12:56:32.137Z"
   },
   {
    "duration": 19,
    "start_time": "2021-07-07T12:56:39.785Z"
   },
   {
    "duration": 20,
    "start_time": "2021-07-07T12:56:44.297Z"
   },
   {
    "duration": 7,
    "start_time": "2021-07-07T12:56:45.392Z"
   },
   {
    "duration": 23,
    "start_time": "2021-07-07T12:56:46.615Z"
   },
   {
    "duration": 4,
    "start_time": "2021-07-07T12:57:06.625Z"
   },
   {
    "duration": 32,
    "start_time": "2021-07-07T12:57:36.690Z"
   },
   {
    "duration": 18,
    "start_time": "2021-07-07T12:58:00.149Z"
   },
   {
    "duration": 15,
    "start_time": "2021-07-07T12:59:16.793Z"
   },
   {
    "duration": 7,
    "start_time": "2021-07-07T13:19:22.624Z"
   },
   {
    "duration": 6,
    "start_time": "2021-07-07T14:17:33.527Z"
   },
   {
    "duration": 9,
    "start_time": "2021-07-07T14:17:48.409Z"
   },
   {
    "duration": 8,
    "start_time": "2021-07-07T14:20:13.060Z"
   },
   {
    "duration": 8,
    "start_time": "2021-07-07T14:20:37.957Z"
   },
   {
    "duration": 8,
    "start_time": "2021-07-07T14:20:47.470Z"
   },
   {
    "duration": 9,
    "start_time": "2021-07-07T14:20:54.503Z"
   },
   {
    "duration": 10,
    "start_time": "2021-07-07T14:28:57.763Z"
   },
   {
    "duration": 3,
    "start_time": "2021-07-07T14:30:23.377Z"
   },
   {
    "duration": 3,
    "start_time": "2021-07-07T14:30:36.489Z"
   },
   {
    "duration": 103,
    "start_time": "2021-07-07T14:30:52.351Z"
   },
   {
    "duration": 8,
    "start_time": "2021-07-07T14:30:54.763Z"
   },
   {
    "duration": 8,
    "start_time": "2021-07-07T14:31:29.301Z"
   },
   {
    "duration": 13,
    "start_time": "2021-07-07T14:31:44.516Z"
   },
   {
    "duration": 7,
    "start_time": "2021-07-07T14:33:10.972Z"
   },
   {
    "duration": 11,
    "start_time": "2021-07-07T14:33:27.780Z"
   },
   {
    "duration": 8,
    "start_time": "2021-07-07T14:34:44.588Z"
   },
   {
    "duration": 57,
    "start_time": "2021-07-07T14:35:59.042Z"
   },
   {
    "duration": 3,
    "start_time": "2021-07-07T14:36:28.168Z"
   },
   {
    "duration": 5,
    "start_time": "2021-07-07T14:36:46.254Z"
   },
   {
    "duration": 4,
    "start_time": "2021-07-07T14:36:52.714Z"
   },
   {
    "duration": 3,
    "start_time": "2021-07-07T14:36:56.612Z"
   },
   {
    "duration": 4,
    "start_time": "2021-07-07T14:36:57.049Z"
   },
   {
    "duration": 3,
    "start_time": "2021-07-07T14:39:21.214Z"
   },
   {
    "duration": 7,
    "start_time": "2021-07-07T14:39:52.406Z"
   },
   {
    "duration": 11,
    "start_time": "2021-07-07T14:39:58.576Z"
   },
   {
    "duration": 9,
    "start_time": "2021-07-07T14:40:26.301Z"
   },
   {
    "duration": 10,
    "start_time": "2021-07-07T14:40:31.704Z"
   },
   {
    "duration": 11,
    "start_time": "2021-07-07T14:40:36.249Z"
   },
   {
    "duration": 10,
    "start_time": "2021-07-07T14:40:39.783Z"
   },
   {
    "duration": 9,
    "start_time": "2021-07-07T14:40:48.558Z"
   },
   {
    "duration": 10,
    "start_time": "2021-07-07T14:40:57.143Z"
   },
   {
    "duration": 9,
    "start_time": "2021-07-07T14:41:06.074Z"
   },
   {
    "duration": 4324,
    "start_time": "2021-07-07T14:41:22.004Z"
   },
   {
    "duration": 11,
    "start_time": "2021-07-07T14:41:33.392Z"
   },
   {
    "duration": 9,
    "start_time": "2021-07-07T14:41:39.288Z"
   },
   {
    "duration": 569,
    "start_time": "2021-07-07T14:42:14.387Z"
   },
   {
    "duration": 197,
    "start_time": "2021-07-07T14:42:14.959Z"
   },
   {
    "duration": 84,
    "start_time": "2021-07-07T14:42:16.052Z"
   },
   {
    "duration": 4,
    "start_time": "2021-07-07T14:42:16.900Z"
   },
   {
    "duration": 27,
    "start_time": "2021-07-07T14:42:19.898Z"
   },
   {
    "duration": 12,
    "start_time": "2021-07-07T14:42:21.577Z"
   },
   {
    "duration": 9,
    "start_time": "2021-07-07T14:42:21.813Z"
   },
   {
    "duration": 9,
    "start_time": "2021-07-07T14:42:22.569Z"
   },
   {
    "duration": 29,
    "start_time": "2021-07-07T14:42:25.837Z"
   },
   {
    "duration": 20,
    "start_time": "2021-07-07T14:42:27.003Z"
   },
   {
    "duration": 21,
    "start_time": "2021-07-07T14:42:28.767Z"
   },
   {
    "duration": 7,
    "start_time": "2021-07-07T14:42:29.838Z"
   },
   {
    "duration": 4,
    "start_time": "2021-07-07T14:43:25.493Z"
   },
   {
    "duration": 7,
    "start_time": "2021-07-07T14:43:26.573Z"
   },
   {
    "duration": 10,
    "start_time": "2021-07-07T14:43:31.639Z"
   },
   {
    "duration": 9,
    "start_time": "2021-07-07T14:43:32.046Z"
   },
   {
    "duration": 10,
    "start_time": "2021-07-07T14:43:33.301Z"
   },
   {
    "duration": 12,
    "start_time": "2021-07-07T14:43:33.658Z"
   },
   {
    "duration": 8,
    "start_time": "2021-07-07T14:43:34.552Z"
   },
   {
    "duration": 9,
    "start_time": "2021-07-07T14:43:35.058Z"
   },
   {
    "duration": 12,
    "start_time": "2021-07-07T14:43:35.914Z"
   },
   {
    "duration": 17,
    "start_time": "2021-07-07T14:45:34.368Z"
   },
   {
    "duration": 512,
    "start_time": "2021-07-07T14:51:58.236Z"
   },
   {
    "duration": 223,
    "start_time": "2021-07-07T14:51:58.750Z"
   },
   {
    "duration": 93,
    "start_time": "2021-07-07T14:51:58.977Z"
   },
   {
    "duration": 4,
    "start_time": "2021-07-07T14:51:59.071Z"
   },
   {
    "duration": 37,
    "start_time": "2021-07-07T14:51:59.077Z"
   },
   {
    "duration": 18,
    "start_time": "2021-07-07T14:51:59.116Z"
   },
   {
    "duration": 10,
    "start_time": "2021-07-07T14:51:59.137Z"
   },
   {
    "duration": 8,
    "start_time": "2021-07-07T14:51:59.149Z"
   },
   {
    "duration": 54,
    "start_time": "2021-07-07T14:51:59.158Z"
   },
   {
    "duration": 18,
    "start_time": "2021-07-07T14:51:59.213Z"
   },
   {
    "duration": 22,
    "start_time": "2021-07-07T14:51:59.232Z"
   },
   {
    "duration": 36,
    "start_time": "2021-07-07T14:51:59.255Z"
   },
   {
    "duration": 7,
    "start_time": "2021-07-07T14:51:59.293Z"
   },
   {
    "duration": 10,
    "start_time": "2021-07-07T14:51:59.302Z"
   },
   {
    "duration": 9,
    "start_time": "2021-07-07T14:51:59.313Z"
   },
   {
    "duration": 11,
    "start_time": "2021-07-07T14:51:59.324Z"
   },
   {
    "duration": 8,
    "start_time": "2021-07-07T14:51:59.337Z"
   },
   {
    "duration": 46,
    "start_time": "2021-07-07T14:51:59.347Z"
   },
   {
    "duration": 22,
    "start_time": "2021-07-07T14:51:59.395Z"
   },
   {
    "duration": 24,
    "start_time": "2021-07-07T14:57:32.911Z"
   },
   {
    "duration": 7,
    "start_time": "2021-07-07T14:58:22.070Z"
   },
   {
    "duration": 4,
    "start_time": "2021-07-07T14:59:11.239Z"
   },
   {
    "duration": 25,
    "start_time": "2021-07-07T15:07:22.208Z"
   },
   {
    "duration": 16,
    "start_time": "2021-07-07T15:08:25.560Z"
   },
   {
    "duration": 15,
    "start_time": "2021-07-07T15:08:40.647Z"
   },
   {
    "duration": 14,
    "start_time": "2021-07-07T15:08:46.669Z"
   },
   {
    "duration": 533,
    "start_time": "2021-07-07T15:18:07.440Z"
   },
   {
    "duration": 173,
    "start_time": "2021-07-07T15:18:07.974Z"
   },
   {
    "duration": 84,
    "start_time": "2021-07-07T15:18:08.149Z"
   },
   {
    "duration": 3,
    "start_time": "2021-07-07T15:18:08.235Z"
   },
   {
    "duration": 30,
    "start_time": "2021-07-07T15:18:08.240Z"
   },
   {
    "duration": 22,
    "start_time": "2021-07-07T15:18:08.272Z"
   },
   {
    "duration": 11,
    "start_time": "2021-07-07T15:18:08.295Z"
   },
   {
    "duration": 11,
    "start_time": "2021-07-07T15:18:08.309Z"
   },
   {
    "duration": 40,
    "start_time": "2021-07-07T15:18:08.322Z"
   },
   {
    "duration": 42,
    "start_time": "2021-07-07T15:18:08.364Z"
   },
   {
    "duration": 22,
    "start_time": "2021-07-07T15:18:08.408Z"
   },
   {
    "duration": 5,
    "start_time": "2021-07-07T15:18:08.432Z"
   },
   {
    "duration": 13,
    "start_time": "2021-07-07T15:18:08.439Z"
   },
   {
    "duration": 9,
    "start_time": "2021-07-07T15:18:08.454Z"
   },
   {
    "duration": 32,
    "start_time": "2021-07-07T15:18:08.465Z"
   },
   {
    "duration": 10,
    "start_time": "2021-07-07T15:18:08.501Z"
   },
   {
    "duration": 7,
    "start_time": "2021-07-07T15:18:08.513Z"
   },
   {
    "duration": 11,
    "start_time": "2021-07-07T15:18:08.521Z"
   },
   {
    "duration": 17,
    "start_time": "2021-07-07T15:18:08.534Z"
   },
   {
    "duration": 44,
    "start_time": "2021-07-07T15:18:08.553Z"
   },
   {
    "duration": 22,
    "start_time": "2021-07-07T15:18:08.599Z"
   },
   {
    "duration": 61,
    "start_time": "2021-07-07T15:18:08.622Z"
   },
   {
    "duration": 7,
    "start_time": "2021-07-07T15:18:39.457Z"
   },
   {
    "duration": 5,
    "start_time": "2021-07-07T16:05:17.020Z"
   },
   {
    "duration": 5,
    "start_time": "2021-07-07T16:51:28.794Z"
   },
   {
    "duration": 546,
    "start_time": "2021-07-07T16:52:26.306Z"
   },
   {
    "duration": 203,
    "start_time": "2021-07-07T16:52:27.523Z"
   },
   {
    "duration": 85,
    "start_time": "2021-07-07T16:52:27.736Z"
   },
   {
    "duration": 4,
    "start_time": "2021-07-07T16:52:27.899Z"
   },
   {
    "duration": 25,
    "start_time": "2021-07-07T16:52:28.674Z"
   },
   {
    "duration": 8,
    "start_time": "2021-07-07T16:52:32.956Z"
   },
   {
    "duration": 18,
    "start_time": "2021-07-07T16:52:35.616Z"
   },
   {
    "duration": 6,
    "start_time": "2021-07-07T16:52:36.913Z"
   },
   {
    "duration": 11,
    "start_time": "2021-07-07T16:52:40.258Z"
   },
   {
    "duration": 10,
    "start_time": "2021-07-07T16:52:46.251Z"
   },
   {
    "duration": 8,
    "start_time": "2021-07-07T16:52:47.182Z"
   },
   {
    "duration": 27,
    "start_time": "2021-07-07T16:53:20.391Z"
   },
   {
    "duration": 20,
    "start_time": "2021-07-07T16:53:22.022Z"
   },
   {
    "duration": 23,
    "start_time": "2021-07-07T16:53:23.690Z"
   },
   {
    "duration": 8,
    "start_time": "2021-07-07T16:53:24.261Z"
   },
   {
    "duration": 4,
    "start_time": "2021-07-07T16:53:38.733Z"
   },
   {
    "duration": 7,
    "start_time": "2021-07-07T16:53:40.445Z"
   },
   {
    "duration": 11,
    "start_time": "2021-07-07T16:53:41.348Z"
   },
   {
    "duration": 13,
    "start_time": "2021-07-07T16:53:45.250Z"
   },
   {
    "duration": 12,
    "start_time": "2021-07-07T16:53:45.467Z"
   },
   {
    "duration": 4,
    "start_time": "2021-07-07T16:55:32.704Z"
   },
   {
    "duration": 12,
    "start_time": "2021-07-07T16:55:49.012Z"
   },
   {
    "duration": 18,
    "start_time": "2021-07-07T16:55:49.547Z"
   },
   {
    "duration": 611,
    "start_time": "2021-07-07T16:58:35.156Z"
   },
   {
    "duration": 200,
    "start_time": "2021-07-07T16:58:35.770Z"
   },
   {
    "duration": 86,
    "start_time": "2021-07-07T16:58:35.972Z"
   },
   {
    "duration": 3,
    "start_time": "2021-07-07T16:58:36.060Z"
   },
   {
    "duration": 27,
    "start_time": "2021-07-07T16:58:36.065Z"
   },
   {
    "duration": 8,
    "start_time": "2021-07-07T16:58:36.094Z"
   },
   {
    "duration": 17,
    "start_time": "2021-07-07T16:58:36.103Z"
   },
   {
    "duration": 5,
    "start_time": "2021-07-07T16:58:36.123Z"
   },
   {
    "duration": 11,
    "start_time": "2021-07-07T16:58:36.130Z"
   },
   {
    "duration": 7,
    "start_time": "2021-07-07T16:58:36.143Z"
   },
   {
    "duration": 37,
    "start_time": "2021-07-07T16:58:36.152Z"
   },
   {
    "duration": 27,
    "start_time": "2021-07-07T16:58:36.191Z"
   },
   {
    "duration": 19,
    "start_time": "2021-07-07T16:58:36.219Z"
   },
   {
    "duration": 49,
    "start_time": "2021-07-07T16:58:36.240Z"
   },
   {
    "duration": 6,
    "start_time": "2021-07-07T16:58:36.291Z"
   },
   {
    "duration": 3,
    "start_time": "2021-07-07T16:58:36.299Z"
   },
   {
    "duration": 13,
    "start_time": "2021-07-07T16:58:36.304Z"
   },
   {
    "duration": 10,
    "start_time": "2021-07-07T16:58:36.319Z"
   },
   {
    "duration": 10,
    "start_time": "2021-07-07T16:58:36.331Z"
   },
   {
    "duration": 44,
    "start_time": "2021-07-07T16:58:36.343Z"
   },
   {
    "duration": 4,
    "start_time": "2021-07-07T16:58:36.388Z"
   },
   {
    "duration": 13,
    "start_time": "2021-07-07T16:58:36.394Z"
   },
   {
    "duration": 16,
    "start_time": "2021-07-07T16:58:36.410Z"
   },
   {
    "duration": 8,
    "start_time": "2021-07-07T17:02:31.629Z"
   },
   {
    "duration": 8,
    "start_time": "2021-07-07T17:02:34.308Z"
   },
   {
    "duration": 6,
    "start_time": "2021-07-07T17:05:13.483Z"
   },
   {
    "duration": 17,
    "start_time": "2021-07-07T17:05:20.606Z"
   },
   {
    "duration": 7,
    "start_time": "2021-07-07T17:05:34.638Z"
   },
   {
    "duration": 3,
    "start_time": "2021-07-07T17:06:31.883Z"
   },
   {
    "duration": 570,
    "start_time": "2021-07-07T17:06:37.165Z"
   },
   {
    "duration": 174,
    "start_time": "2021-07-07T17:06:37.737Z"
   },
   {
    "duration": 47,
    "start_time": "2021-07-07T17:06:37.913Z"
   },
   {
    "duration": 3,
    "start_time": "2021-07-07T17:06:37.962Z"
   },
   {
    "duration": 27,
    "start_time": "2021-07-07T17:06:37.967Z"
   },
   {
    "duration": 7,
    "start_time": "2021-07-07T17:06:37.996Z"
   },
   {
    "duration": 16,
    "start_time": "2021-07-07T17:06:38.005Z"
   },
   {
    "duration": 6,
    "start_time": "2021-07-07T17:06:38.024Z"
   },
   {
    "duration": 12,
    "start_time": "2021-07-07T17:06:38.031Z"
   },
   {
    "duration": 41,
    "start_time": "2021-07-07T17:06:38.045Z"
   },
   {
    "duration": 8,
    "start_time": "2021-07-07T17:06:38.088Z"
   },
   {
    "duration": 26,
    "start_time": "2021-07-07T17:06:38.098Z"
   },
   {
    "duration": 17,
    "start_time": "2021-07-07T17:06:38.126Z"
   },
   {
    "duration": 43,
    "start_time": "2021-07-07T17:06:38.144Z"
   },
   {
    "duration": 6,
    "start_time": "2021-07-07T17:06:38.188Z"
   },
   {
    "duration": 5,
    "start_time": "2021-07-07T17:06:38.195Z"
   },
   {
    "duration": 9,
    "start_time": "2021-07-07T17:06:38.201Z"
   },
   {
    "duration": 12,
    "start_time": "2021-07-07T17:06:38.212Z"
   },
   {
    "duration": 11,
    "start_time": "2021-07-07T17:06:38.226Z"
   },
   {
    "duration": 47,
    "start_time": "2021-07-07T17:06:38.239Z"
   },
   {
    "duration": 4,
    "start_time": "2021-07-07T17:06:38.288Z"
   },
   {
    "duration": 13,
    "start_time": "2021-07-07T17:06:38.293Z"
   },
   {
    "duration": 5,
    "start_time": "2021-07-07T17:06:38.309Z"
   },
   {
    "duration": 18,
    "start_time": "2021-07-07T17:06:38.325Z"
   },
   {
    "duration": 20,
    "start_time": "2021-07-07T17:07:02.805Z"
   },
   {
    "duration": 19,
    "start_time": "2021-07-07T17:07:08.527Z"
   },
   {
    "duration": 19,
    "start_time": "2021-07-07T17:07:12.758Z"
   },
   {
    "duration": 22,
    "start_time": "2021-07-07T17:07:17.497Z"
   },
   {
    "duration": 19,
    "start_time": "2021-07-07T17:07:19.645Z"
   },
   {
    "duration": 10,
    "start_time": "2021-07-07T17:07:34.239Z"
   },
   {
    "duration": 17,
    "start_time": "2021-07-07T17:07:54.144Z"
   },
   {
    "duration": 14,
    "start_time": "2021-07-07T17:08:14.357Z"
   },
   {
    "duration": 616,
    "start_time": "2021-07-07T17:08:45.254Z"
   },
   {
    "duration": 178,
    "start_time": "2021-07-07T17:08:45.872Z"
   },
   {
    "duration": 60,
    "start_time": "2021-07-07T17:08:46.054Z"
   },
   {
    "duration": 3,
    "start_time": "2021-07-07T17:08:46.116Z"
   },
   {
    "duration": 26,
    "start_time": "2021-07-07T17:08:46.121Z"
   },
   {
    "duration": 7,
    "start_time": "2021-07-07T17:08:46.149Z"
   },
   {
    "duration": 17,
    "start_time": "2021-07-07T17:08:46.158Z"
   },
   {
    "duration": 14,
    "start_time": "2021-07-07T17:08:46.176Z"
   },
   {
    "duration": 17,
    "start_time": "2021-07-07T17:08:46.193Z"
   },
   {
    "duration": 9,
    "start_time": "2021-07-07T17:08:46.211Z"
   },
   {
    "duration": 21,
    "start_time": "2021-07-07T17:08:46.221Z"
   },
   {
    "duration": 49,
    "start_time": "2021-07-07T17:08:46.244Z"
   },
   {
    "duration": 24,
    "start_time": "2021-07-07T17:08:46.295Z"
   },
   {
    "duration": 22,
    "start_time": "2021-07-07T17:08:46.321Z"
   },
   {
    "duration": 6,
    "start_time": "2021-07-07T17:08:46.345Z"
   },
   {
    "duration": 5,
    "start_time": "2021-07-07T17:08:46.353Z"
   },
   {
    "duration": 13,
    "start_time": "2021-07-07T17:08:46.386Z"
   },
   {
    "duration": 12,
    "start_time": "2021-07-07T17:08:46.402Z"
   },
   {
    "duration": 10,
    "start_time": "2021-07-07T17:08:46.415Z"
   },
   {
    "duration": 7,
    "start_time": "2021-07-07T17:08:46.427Z"
   },
   {
    "duration": 8,
    "start_time": "2021-07-07T17:08:46.435Z"
   },
   {
    "duration": 68,
    "start_time": "2021-07-07T17:08:46.446Z"
   },
   {
    "duration": 13,
    "start_time": "2021-07-07T17:08:46.516Z"
   },
   {
    "duration": 78,
    "start_time": "2021-07-07T17:08:46.530Z"
   },
   {
    "duration": 40,
    "start_time": "2021-07-07T17:09:08.185Z"
   },
   {
    "duration": 16,
    "start_time": "2021-07-07T17:09:19.324Z"
   },
   {
    "duration": 21,
    "start_time": "2021-07-07T17:09:23.290Z"
   },
   {
    "duration": 13,
    "start_time": "2021-07-07T17:09:54.812Z"
   },
   {
    "duration": 13,
    "start_time": "2021-07-07T17:10:02.039Z"
   },
   {
    "duration": 10,
    "start_time": "2021-07-07T17:10:29.632Z"
   },
   {
    "duration": 13,
    "start_time": "2021-07-07T17:10:52.372Z"
   },
   {
    "duration": 13,
    "start_time": "2021-07-07T17:11:17.270Z"
   },
   {
    "duration": 13,
    "start_time": "2021-07-07T17:14:59.284Z"
   },
   {
    "duration": 547,
    "start_time": "2021-07-07T17:18:52.403Z"
   },
   {
    "duration": 163,
    "start_time": "2021-07-07T17:18:52.952Z"
   },
   {
    "duration": 44,
    "start_time": "2021-07-07T17:18:53.117Z"
   },
   {
    "duration": 3,
    "start_time": "2021-07-07T17:18:53.162Z"
   },
   {
    "duration": 26,
    "start_time": "2021-07-07T17:18:53.167Z"
   },
   {
    "duration": 6,
    "start_time": "2021-07-07T17:18:53.195Z"
   },
   {
    "duration": 15,
    "start_time": "2021-07-07T17:18:53.203Z"
   },
   {
    "duration": 5,
    "start_time": "2021-07-07T17:18:53.220Z"
   },
   {
    "duration": 11,
    "start_time": "2021-07-07T17:18:53.228Z"
   },
   {
    "duration": 9,
    "start_time": "2021-07-07T17:18:53.241Z"
   },
   {
    "duration": 41,
    "start_time": "2021-07-07T17:18:53.252Z"
   },
   {
    "duration": 33,
    "start_time": "2021-07-07T17:18:53.295Z"
   },
   {
    "duration": 19,
    "start_time": "2021-07-07T17:18:53.330Z"
   },
   {
    "duration": 49,
    "start_time": "2021-07-07T17:18:53.350Z"
   },
   {
    "duration": 5,
    "start_time": "2021-07-07T17:18:53.401Z"
   },
   {
    "duration": 5,
    "start_time": "2021-07-07T17:18:53.408Z"
   },
   {
    "duration": 11,
    "start_time": "2021-07-07T17:18:53.414Z"
   },
   {
    "duration": 9,
    "start_time": "2021-07-07T17:18:53.427Z"
   },
   {
    "duration": 10,
    "start_time": "2021-07-07T17:18:53.437Z"
   },
   {
    "duration": 39,
    "start_time": "2021-07-07T17:18:53.448Z"
   },
   {
    "duration": 26,
    "start_time": "2021-07-07T17:18:55.799Z"
   },
   {
    "duration": 598,
    "start_time": "2021-07-07T17:20:17.862Z"
   },
   {
    "duration": 161,
    "start_time": "2021-07-07T17:20:18.462Z"
   },
   {
    "duration": 45,
    "start_time": "2021-07-07T17:20:18.626Z"
   },
   {
    "duration": 4,
    "start_time": "2021-07-07T17:20:18.673Z"
   },
   {
    "duration": 38,
    "start_time": "2021-07-07T17:20:26.877Z"
   },
   {
    "duration": 7,
    "start_time": "2021-07-07T17:20:37.405Z"
   },
   {
    "duration": 19,
    "start_time": "2021-07-07T17:20:51.534Z"
   },
   {
    "duration": 5,
    "start_time": "2021-07-07T17:20:57.228Z"
   },
   {
    "duration": 7,
    "start_time": "2021-07-07T17:21:08.235Z"
   },
   {
    "duration": 19,
    "start_time": "2021-07-07T17:21:42.158Z"
   },
   {
    "duration": 14,
    "start_time": "2021-07-07T17:21:50.225Z"
   },
   {
    "duration": 22,
    "start_time": "2021-07-07T17:22:54.104Z"
   },
   {
    "duration": 5,
    "start_time": "2021-07-07T17:22:56.371Z"
   },
   {
    "duration": 14,
    "start_time": "2021-07-07T17:22:58.316Z"
   },
   {
    "duration": 5,
    "start_time": "2021-07-07T17:22:58.493Z"
   },
   {
    "duration": 35,
    "start_time": "2021-07-07T17:22:59.666Z"
   },
   {
    "duration": 6,
    "start_time": "2021-07-07T17:23:02.410Z"
   },
   {
    "duration": 611,
    "start_time": "2021-07-07T17:24:59.664Z"
   },
   {
    "duration": 178,
    "start_time": "2021-07-07T17:25:01.945Z"
   },
   {
    "duration": 47,
    "start_time": "2021-07-07T17:25:02.125Z"
   },
   {
    "duration": 2,
    "start_time": "2021-07-07T17:25:07.903Z"
   },
   {
    "duration": 254,
    "start_time": "2021-07-07T17:25:08.232Z"
   },
   {
    "duration": 182,
    "start_time": "2021-07-07T17:25:08.671Z"
   },
   {
    "duration": 6,
    "start_time": "2021-07-07T17:25:13.104Z"
   },
   {
    "duration": 36,
    "start_time": "2021-07-07T17:25:13.662Z"
   },
   {
    "duration": 7,
    "start_time": "2021-07-07T17:25:14.528Z"
   },
   {
    "duration": 24,
    "start_time": "2021-07-07T17:25:27.982Z"
   },
   {
    "duration": 3,
    "start_time": "2021-07-07T17:25:48.982Z"
   },
   {
    "duration": 165,
    "start_time": "2021-07-07T17:25:48.987Z"
   },
   {
    "duration": 50,
    "start_time": "2021-07-07T17:25:49.154Z"
   },
   {
    "duration": 4,
    "start_time": "2021-07-07T17:25:49.206Z"
   },
   {
    "duration": 26,
    "start_time": "2021-07-07T17:25:49.212Z"
   },
   {
    "duration": 7,
    "start_time": "2021-07-07T17:25:49.240Z"
   },
   {
    "duration": 16,
    "start_time": "2021-07-07T17:25:49.249Z"
   },
   {
    "duration": 22,
    "start_time": "2021-07-07T17:25:49.266Z"
   },
   {
    "duration": 16,
    "start_time": "2021-07-07T17:25:49.291Z"
   },
   {
    "duration": 9,
    "start_time": "2021-07-07T17:25:49.309Z"
   },
   {
    "duration": 7,
    "start_time": "2021-07-07T17:25:49.319Z"
   },
   {
    "duration": 28,
    "start_time": "2021-07-07T17:25:49.328Z"
   },
   {
    "duration": 44,
    "start_time": "2021-07-07T17:25:49.357Z"
   },
   {
    "duration": 22,
    "start_time": "2021-07-07T17:25:49.403Z"
   },
   {
    "duration": 7,
    "start_time": "2021-07-07T17:25:49.427Z"
   },
   {
    "duration": 3,
    "start_time": "2021-07-07T17:25:49.436Z"
   },
   {
    "duration": 44,
    "start_time": "2021-07-07T17:25:49.441Z"
   },
   {
    "duration": 12,
    "start_time": "2021-07-07T17:25:49.488Z"
   },
   {
    "duration": 13,
    "start_time": "2021-07-07T17:25:49.502Z"
   },
   {
    "duration": 10,
    "start_time": "2021-07-07T17:25:49.516Z"
   },
   {
    "duration": 62,
    "start_time": "2021-07-07T17:25:49.527Z"
   },
   {
    "duration": 26,
    "start_time": "2021-07-07T17:26:51.809Z"
   },
   {
    "duration": 26,
    "start_time": "2021-07-07T17:26:55.759Z"
   },
   {
    "duration": 26,
    "start_time": "2021-07-07T17:27:04.501Z"
   },
   {
    "duration": 25,
    "start_time": "2021-07-07T17:28:24.859Z"
   },
   {
    "duration": 21,
    "start_time": "2021-07-07T17:28:55.250Z"
   },
   {
    "duration": 21,
    "start_time": "2021-07-07T17:28:58.885Z"
   },
   {
    "duration": 7,
    "start_time": "2021-07-07T17:45:40.972Z"
   },
   {
    "duration": 13,
    "start_time": "2021-07-07T17:45:42.529Z"
   },
   {
    "duration": 27,
    "start_time": "2021-07-07T17:45:51.026Z"
   },
   {
    "duration": 518,
    "start_time": "2021-07-07T17:46:15.532Z"
   },
   {
    "duration": 235,
    "start_time": "2021-07-07T17:46:16.053Z"
   },
   {
    "duration": 80,
    "start_time": "2021-07-07T17:46:16.292Z"
   },
   {
    "duration": 5,
    "start_time": "2021-07-07T17:46:16.373Z"
   },
   {
    "duration": 26,
    "start_time": "2021-07-07T17:46:16.380Z"
   },
   {
    "duration": 7,
    "start_time": "2021-07-07T17:46:16.408Z"
   },
   {
    "duration": 16,
    "start_time": "2021-07-07T17:46:16.418Z"
   },
   {
    "duration": 5,
    "start_time": "2021-07-07T17:46:16.436Z"
   },
   {
    "duration": 13,
    "start_time": "2021-07-07T17:46:16.442Z"
   },
   {
    "duration": 35,
    "start_time": "2021-07-07T17:46:16.456Z"
   },
   {
    "duration": 8,
    "start_time": "2021-07-07T17:46:16.493Z"
   },
   {
    "duration": 28,
    "start_time": "2021-07-07T17:46:16.502Z"
   },
   {
    "duration": 17,
    "start_time": "2021-07-07T17:46:16.532Z"
   },
   {
    "duration": 44,
    "start_time": "2021-07-07T17:46:16.551Z"
   },
   {
    "duration": 6,
    "start_time": "2021-07-07T17:46:16.597Z"
   },
   {
    "duration": 4,
    "start_time": "2021-07-07T17:46:16.605Z"
   },
   {
    "duration": 9,
    "start_time": "2021-07-07T17:46:16.610Z"
   },
   {
    "duration": 9,
    "start_time": "2021-07-07T17:46:16.621Z"
   },
   {
    "duration": 10,
    "start_time": "2021-07-07T17:46:16.632Z"
   },
   {
    "duration": 43,
    "start_time": "2021-07-07T17:46:16.644Z"
   },
   {
    "duration": 26,
    "start_time": "2021-07-07T17:46:16.689Z"
   },
   {
    "duration": 19,
    "start_time": "2021-07-07T17:46:16.718Z"
   },
   {
    "duration": 8,
    "start_time": "2021-07-07T17:46:16.738Z"
   },
   {
    "duration": 43,
    "start_time": "2021-07-07T17:46:16.747Z"
   },
   {
    "duration": 19,
    "start_time": "2021-07-07T17:46:16.791Z"
   },
   {
    "duration": 9,
    "start_time": "2021-07-07T17:46:16.812Z"
   },
   {
    "duration": 60,
    "start_time": "2021-07-07T17:46:16.822Z"
   },
   {
    "duration": -8,
    "start_time": "2021-07-07T17:46:16.892Z"
   },
   {
    "duration": 12,
    "start_time": "2021-07-07T17:48:47.707Z"
   },
   {
    "duration": 553,
    "start_time": "2021-07-07T18:10:09.350Z"
   },
   {
    "duration": 230,
    "start_time": "2021-07-07T18:10:09.905Z"
   },
   {
    "duration": 97,
    "start_time": "2021-07-07T18:10:10.137Z"
   },
   {
    "duration": 5,
    "start_time": "2021-07-07T18:10:10.236Z"
   },
   {
    "duration": 29,
    "start_time": "2021-07-07T18:10:10.242Z"
   },
   {
    "duration": 7,
    "start_time": "2021-07-07T18:10:10.272Z"
   },
   {
    "duration": 15,
    "start_time": "2021-07-07T18:10:10.281Z"
   },
   {
    "duration": 4,
    "start_time": "2021-07-07T18:10:10.299Z"
   },
   {
    "duration": 14,
    "start_time": "2021-07-07T18:10:10.305Z"
   },
   {
    "duration": 8,
    "start_time": "2021-07-07T18:10:10.321Z"
   },
   {
    "duration": 8,
    "start_time": "2021-07-07T18:10:10.331Z"
   },
   {
    "duration": 56,
    "start_time": "2021-07-07T18:10:10.341Z"
   },
   {
    "duration": 19,
    "start_time": "2021-07-07T18:10:10.399Z"
   },
   {
    "duration": 23,
    "start_time": "2021-07-07T18:10:10.419Z"
   },
   {
    "duration": 6,
    "start_time": "2021-07-07T18:10:10.444Z"
   },
   {
    "duration": 9,
    "start_time": "2021-07-07T18:10:10.451Z"
   },
   {
    "duration": 30,
    "start_time": "2021-07-07T18:10:10.462Z"
   },
   {
    "duration": 9,
    "start_time": "2021-07-07T18:10:10.494Z"
   },
   {
    "duration": 14,
    "start_time": "2021-07-07T18:10:10.505Z"
   },
   {
    "duration": 7,
    "start_time": "2021-07-07T18:10:10.521Z"
   },
   {
    "duration": 26,
    "start_time": "2021-07-07T18:10:10.530Z"
   },
   {
    "duration": 44,
    "start_time": "2021-07-07T18:10:10.558Z"
   },
   {
    "duration": 7,
    "start_time": "2021-07-07T18:10:10.605Z"
   },
   {
    "duration": 11,
    "start_time": "2021-07-07T18:10:10.614Z"
   },
   {
    "duration": 19,
    "start_time": "2021-07-07T18:10:10.626Z"
   },
   {
    "duration": 44,
    "start_time": "2021-07-07T18:10:10.646Z"
   },
   {
    "duration": 516,
    "start_time": "2021-07-07T18:14:00.826Z"
   },
   {
    "duration": 230,
    "start_time": "2021-07-07T18:14:01.344Z"
   },
   {
    "duration": 105,
    "start_time": "2021-07-07T18:14:01.576Z"
   },
   {
    "duration": 5,
    "start_time": "2021-07-07T18:14:01.683Z"
   },
   {
    "duration": 46,
    "start_time": "2021-07-07T18:14:01.690Z"
   },
   {
    "duration": 7,
    "start_time": "2021-07-07T18:14:01.738Z"
   },
   {
    "duration": 20,
    "start_time": "2021-07-07T18:14:01.747Z"
   },
   {
    "duration": 16,
    "start_time": "2021-07-07T18:14:01.769Z"
   },
   {
    "duration": 14,
    "start_time": "2021-07-07T18:14:01.787Z"
   },
   {
    "duration": 15,
    "start_time": "2021-07-07T18:14:01.803Z"
   },
   {
    "duration": 12,
    "start_time": "2021-07-07T18:14:01.820Z"
   },
   {
    "duration": 35,
    "start_time": "2021-07-07T18:14:01.833Z"
   },
   {
    "duration": 31,
    "start_time": "2021-07-07T18:14:01.869Z"
   },
   {
    "duration": 37,
    "start_time": "2021-07-07T18:14:01.902Z"
   },
   {
    "duration": 8,
    "start_time": "2021-07-07T18:14:01.942Z"
   },
   {
    "duration": 16,
    "start_time": "2021-07-07T18:14:01.952Z"
   },
   {
    "duration": 13,
    "start_time": "2021-07-07T18:14:01.970Z"
   },
   {
    "duration": 32,
    "start_time": "2021-07-07T18:14:01.985Z"
   },
   {
    "duration": 11,
    "start_time": "2021-07-07T18:14:02.019Z"
   },
   {
    "duration": 22,
    "start_time": "2021-07-07T18:14:02.031Z"
   },
   {
    "duration": 27,
    "start_time": "2021-07-07T18:14:02.055Z"
   },
   {
    "duration": 18,
    "start_time": "2021-07-07T18:14:02.084Z"
   },
   {
    "duration": 18,
    "start_time": "2021-07-07T18:14:02.106Z"
   },
   {
    "duration": 11,
    "start_time": "2021-07-07T18:14:02.126Z"
   },
   {
    "duration": 21,
    "start_time": "2021-07-07T18:14:02.138Z"
   },
   {
    "duration": 32,
    "start_time": "2021-07-07T18:14:02.161Z"
   },
   {
    "duration": 28,
    "start_time": "2021-07-07T18:14:44.295Z"
   },
   {
    "duration": 6,
    "start_time": "2021-07-07T18:15:05.834Z"
   },
   {
    "duration": 511,
    "start_time": "2021-07-07T18:15:41.541Z"
   },
   {
    "duration": 183,
    "start_time": "2021-07-07T18:15:42.054Z"
   },
   {
    "duration": 50,
    "start_time": "2021-07-07T18:15:42.239Z"
   },
   {
    "duration": 5,
    "start_time": "2021-07-07T18:15:42.291Z"
   },
   {
    "duration": 48,
    "start_time": "2021-07-07T18:15:42.297Z"
   },
   {
    "duration": 8,
    "start_time": "2021-07-07T18:15:42.346Z"
   },
   {
    "duration": 17,
    "start_time": "2021-07-07T18:15:42.356Z"
   },
   {
    "duration": 15,
    "start_time": "2021-07-07T18:15:42.375Z"
   },
   {
    "duration": 12,
    "start_time": "2021-07-07T18:15:42.392Z"
   },
   {
    "duration": 7,
    "start_time": "2021-07-07T18:15:42.406Z"
   },
   {
    "duration": 7,
    "start_time": "2021-07-07T18:15:42.415Z"
   },
   {
    "duration": 29,
    "start_time": "2021-07-07T18:15:42.423Z"
   },
   {
    "duration": 43,
    "start_time": "2021-07-07T18:15:42.453Z"
   },
   {
    "duration": 18,
    "start_time": "2021-07-07T18:15:42.497Z"
   },
   {
    "duration": 6,
    "start_time": "2021-07-07T18:15:42.516Z"
   },
   {
    "duration": 3,
    "start_time": "2021-07-07T18:15:42.523Z"
   },
   {
    "duration": 18,
    "start_time": "2021-07-07T18:15:42.528Z"
   },
   {
    "duration": 10,
    "start_time": "2021-07-07T18:15:42.547Z"
   },
   {
    "duration": 36,
    "start_time": "2021-07-07T18:15:42.559Z"
   },
   {
    "duration": 8,
    "start_time": "2021-07-07T18:15:42.597Z"
   },
   {
    "duration": 28,
    "start_time": "2021-07-07T18:15:42.606Z"
   },
   {
    "duration": 52,
    "start_time": "2021-07-07T18:15:42.635Z"
   },
   {
    "duration": 7,
    "start_time": "2021-07-07T18:15:42.690Z"
   },
   {
    "duration": 10,
    "start_time": "2021-07-07T18:15:42.699Z"
   },
   {
    "duration": 19,
    "start_time": "2021-07-07T18:15:42.711Z"
   },
   {
    "duration": 9,
    "start_time": "2021-07-07T18:15:42.732Z"
   },
   {
    "duration": 5,
    "start_time": "2021-07-07T18:15:42.743Z"
   },
   {
    "duration": 1450,
    "start_time": "2021-07-07T18:15:51.984Z"
   },
   {
    "duration": 161,
    "start_time": "2021-07-07T18:15:53.435Z"
   },
   {
    "duration": 124,
    "start_time": "2021-07-07T18:15:53.598Z"
   },
   {
    "duration": 5,
    "start_time": "2021-07-07T18:15:53.724Z"
   },
   {
    "duration": 34,
    "start_time": "2021-07-07T18:15:53.730Z"
   },
   {
    "duration": 7,
    "start_time": "2021-07-07T18:15:53.765Z"
   },
   {
    "duration": 15,
    "start_time": "2021-07-07T18:15:53.773Z"
   },
   {
    "duration": 5,
    "start_time": "2021-07-07T18:15:53.791Z"
   },
   {
    "duration": 19,
    "start_time": "2021-07-07T18:15:53.798Z"
   },
   {
    "duration": 9,
    "start_time": "2021-07-07T18:15:53.818Z"
   },
   {
    "duration": 19,
    "start_time": "2021-07-07T18:15:53.828Z"
   },
   {
    "duration": 27,
    "start_time": "2021-07-07T18:15:53.848Z"
   },
   {
    "duration": 16,
    "start_time": "2021-07-07T18:15:53.884Z"
   },
   {
    "duration": 29,
    "start_time": "2021-07-07T18:15:53.901Z"
   },
   {
    "duration": 5,
    "start_time": "2021-07-07T18:15:53.932Z"
   },
   {
    "duration": 15,
    "start_time": "2021-07-07T18:15:53.939Z"
   },
   {
    "duration": 13,
    "start_time": "2021-07-07T18:15:53.956Z"
   },
   {
    "duration": 20,
    "start_time": "2021-07-07T18:15:53.971Z"
   },
   {
    "duration": 14,
    "start_time": "2021-07-07T18:15:53.992Z"
   },
   {
    "duration": 9,
    "start_time": "2021-07-07T18:15:54.009Z"
   },
   {
    "duration": 28,
    "start_time": "2021-07-07T18:15:54.020Z"
   },
   {
    "duration": 50,
    "start_time": "2021-07-07T18:15:54.051Z"
   },
   {
    "duration": 8,
    "start_time": "2021-07-07T18:15:54.105Z"
   },
   {
    "duration": 11,
    "start_time": "2021-07-07T18:15:54.115Z"
   },
   {
    "duration": 20,
    "start_time": "2021-07-07T18:15:54.128Z"
   },
   {
    "duration": 13,
    "start_time": "2021-07-07T18:15:54.184Z"
   },
   {
    "duration": 7,
    "start_time": "2021-07-07T18:15:54.199Z"
   },
   {
    "duration": 7,
    "start_time": "2021-07-07T18:17:08.042Z"
   },
   {
    "duration": 8,
    "start_time": "2021-07-07T18:17:21.008Z"
   },
   {
    "duration": 7,
    "start_time": "2021-07-07T18:17:29.003Z"
   },
   {
    "duration": 8,
    "start_time": "2021-07-07T18:17:32.492Z"
   },
   {
    "duration": 9,
    "start_time": "2021-07-07T18:17:41.758Z"
   },
   {
    "duration": 255,
    "start_time": "2021-07-07T18:20:20.897Z"
   },
   {
    "duration": 173,
    "start_time": "2021-07-07T18:20:26.636Z"
   },
   {
    "duration": 7,
    "start_time": "2021-07-07T18:21:47.164Z"
   },
   {
    "duration": 254,
    "start_time": "2021-07-07T18:23:08.703Z"
   },
   {
    "duration": 21,
    "start_time": "2021-07-07T18:23:22.506Z"
   },
   {
    "duration": 315,
    "start_time": "2021-07-07T18:25:54.801Z"
   },
   {
    "duration": 34,
    "start_time": "2021-07-07T18:26:51.817Z"
   },
   {
    "duration": 327,
    "start_time": "2021-07-07T18:26:56.147Z"
   },
   {
    "duration": 342,
    "start_time": "2021-07-07T18:27:15.887Z"
   },
   {
    "duration": 302,
    "start_time": "2021-07-07T18:28:18.569Z"
   },
   {
    "duration": 226,
    "start_time": "2021-07-07T18:29:20.879Z"
   },
   {
    "duration": 207,
    "start_time": "2021-07-07T18:29:58.114Z"
   },
   {
    "duration": 140,
    "start_time": "2021-07-07T18:32:04.372Z"
   },
   {
    "duration": 158,
    "start_time": "2021-07-07T18:32:32.508Z"
   },
   {
    "duration": 145,
    "start_time": "2021-07-07T18:32:41.365Z"
   },
   {
    "duration": 132,
    "start_time": "2021-07-07T18:32:45.199Z"
   },
   {
    "duration": 11,
    "start_time": "2021-07-07T18:35:24.679Z"
   },
   {
    "duration": 268,
    "start_time": "2021-07-07T18:36:16.145Z"
   },
   {
    "duration": 227,
    "start_time": "2021-07-07T18:37:04.918Z"
   },
   {
    "duration": 3,
    "start_time": "2021-07-07T18:37:33.012Z"
   },
   {
    "duration": 671,
    "start_time": "2021-07-07T18:37:38.295Z"
   },
   {
    "duration": 54,
    "start_time": "2021-07-07T18:37:53.406Z"
   },
   {
    "duration": 631,
    "start_time": "2021-07-07T18:37:56.463Z"
   },
   {
    "duration": 19,
    "start_time": "2021-07-07T18:39:40.535Z"
   },
   {
    "duration": 20,
    "start_time": "2021-07-07T18:40:12.236Z"
   },
   {
    "duration": 633,
    "start_time": "2021-07-07T18:42:00.398Z"
   },
   {
    "duration": 218,
    "start_time": "2021-07-07T18:42:01.033Z"
   },
   {
    "duration": 49,
    "start_time": "2021-07-07T18:42:01.253Z"
   },
   {
    "duration": 5,
    "start_time": "2021-07-07T18:42:01.303Z"
   },
   {
    "duration": 27,
    "start_time": "2021-07-07T18:42:01.310Z"
   },
   {
    "duration": 8,
    "start_time": "2021-07-07T18:42:01.339Z"
   },
   {
    "duration": 20,
    "start_time": "2021-07-07T18:42:01.348Z"
   },
   {
    "duration": 6,
    "start_time": "2021-07-07T18:42:01.386Z"
   },
   {
    "duration": 16,
    "start_time": "2021-07-07T18:42:01.394Z"
   },
   {
    "duration": 9,
    "start_time": "2021-07-07T18:42:01.411Z"
   },
   {
    "duration": 11,
    "start_time": "2021-07-07T18:42:01.421Z"
   },
   {
    "duration": 31,
    "start_time": "2021-07-07T18:42:01.434Z"
   },
   {
    "duration": 18,
    "start_time": "2021-07-07T18:42:01.485Z"
   },
   {
    "duration": 23,
    "start_time": "2021-07-07T18:42:01.505Z"
   },
   {
    "duration": 6,
    "start_time": "2021-07-07T18:42:01.530Z"
   },
   {
    "duration": 10,
    "start_time": "2021-07-07T18:42:01.538Z"
   },
   {
    "duration": 13,
    "start_time": "2021-07-07T18:42:01.550Z"
   },
   {
    "duration": 24,
    "start_time": "2021-07-07T18:42:01.564Z"
   },
   {
    "duration": 20,
    "start_time": "2021-07-07T18:42:01.590Z"
   },
   {
    "duration": 8,
    "start_time": "2021-07-07T18:42:01.611Z"
   },
   {
    "duration": 31,
    "start_time": "2021-07-07T18:42:01.620Z"
   },
   {
    "duration": 39,
    "start_time": "2021-07-07T18:42:01.653Z"
   },
   {
    "duration": 8,
    "start_time": "2021-07-07T18:42:01.696Z"
   },
   {
    "duration": 13,
    "start_time": "2021-07-07T18:42:01.705Z"
   },
   {
    "duration": 20,
    "start_time": "2021-07-07T18:42:01.720Z"
   },
   {
    "duration": 12,
    "start_time": "2021-07-07T18:42:01.741Z"
   },
   {
    "duration": 35,
    "start_time": "2021-07-07T18:42:01.755Z"
   },
   {
    "duration": 14,
    "start_time": "2021-07-07T18:42:01.792Z"
   },
   {
    "duration": 188,
    "start_time": "2021-07-07T18:42:01.808Z"
   },
   {
    "duration": 19,
    "start_time": "2021-07-07T18:42:01.998Z"
   },
   {
    "duration": 175,
    "start_time": "2021-07-07T18:42:02.019Z"
   },
   {
    "duration": 134,
    "start_time": "2021-07-07T18:42:02.196Z"
   },
   {
    "duration": 10,
    "start_time": "2021-07-07T18:42:02.331Z"
   },
   {
    "duration": 19,
    "start_time": "2021-07-07T18:42:02.343Z"
   },
   {
    "duration": 628,
    "start_time": "2021-07-07T18:46:30.701Z"
   },
   {
    "duration": 183,
    "start_time": "2021-07-07T18:46:31.331Z"
   },
   {
    "duration": 48,
    "start_time": "2021-07-07T18:46:31.516Z"
   },
   {
    "duration": 5,
    "start_time": "2021-07-07T18:46:31.566Z"
   },
   {
    "duration": 28,
    "start_time": "2021-07-07T18:46:31.572Z"
   },
   {
    "duration": 8,
    "start_time": "2021-07-07T18:46:31.602Z"
   },
   {
    "duration": 19,
    "start_time": "2021-07-07T18:46:31.611Z"
   },
   {
    "duration": 6,
    "start_time": "2021-07-07T18:46:31.633Z"
   },
   {
    "duration": 17,
    "start_time": "2021-07-07T18:46:31.642Z"
   },
   {
    "duration": 10,
    "start_time": "2021-07-07T18:46:31.684Z"
   },
   {
    "duration": 9,
    "start_time": "2021-07-07T18:46:31.695Z"
   },
   {
    "duration": 28,
    "start_time": "2021-07-07T18:46:31.705Z"
   },
   {
    "duration": 18,
    "start_time": "2021-07-07T18:46:31.735Z"
   },
   {
    "duration": 48,
    "start_time": "2021-07-07T18:46:31.755Z"
   },
   {
    "duration": 6,
    "start_time": "2021-07-07T18:46:31.804Z"
   },
   {
    "duration": 4,
    "start_time": "2021-07-07T18:46:31.812Z"
   },
   {
    "duration": 9,
    "start_time": "2021-07-07T18:46:31.817Z"
   },
   {
    "duration": 10,
    "start_time": "2021-07-07T18:46:31.827Z"
   },
   {
    "duration": 12,
    "start_time": "2021-07-07T18:46:31.838Z"
   },
   {
    "duration": 39,
    "start_time": "2021-07-07T18:46:31.851Z"
   },
   {
    "duration": 24,
    "start_time": "2021-07-07T18:46:31.892Z"
   },
   {
    "duration": 15,
    "start_time": "2021-07-07T18:46:31.918Z"
   },
   {
    "duration": 7,
    "start_time": "2021-07-07T18:46:31.936Z"
   },
   {
    "duration": 8,
    "start_time": "2021-07-07T18:46:31.944Z"
   },
   {
    "duration": 19,
    "start_time": "2021-07-07T18:46:31.984Z"
   },
   {
    "duration": 10,
    "start_time": "2021-07-07T18:46:32.004Z"
   },
   {
    "duration": 5,
    "start_time": "2021-07-07T18:46:32.016Z"
   },
   {
    "duration": 9,
    "start_time": "2021-07-07T18:46:32.023Z"
   },
   {
    "duration": 199,
    "start_time": "2021-07-07T18:46:32.033Z"
   },
   {
    "duration": 19,
    "start_time": "2021-07-07T18:46:32.234Z"
   },
   {
    "duration": 159,
    "start_time": "2021-07-07T18:46:32.255Z"
   },
   {
    "duration": 134,
    "start_time": "2021-07-07T18:46:32.416Z"
   },
   {
    "duration": 10,
    "start_time": "2021-07-07T18:46:32.552Z"
   },
   {
    "duration": 34,
    "start_time": "2021-07-07T18:46:32.563Z"
   },
   {
    "duration": 1039,
    "start_time": "2021-07-08T08:41:09.419Z"
   },
   {
    "duration": 333,
    "start_time": "2021-07-08T08:41:10.459Z"
   },
   {
    "duration": 173,
    "start_time": "2021-07-08T08:41:10.794Z"
   },
   {
    "duration": 5,
    "start_time": "2021-07-08T08:41:10.968Z"
   },
   {
    "duration": 25,
    "start_time": "2021-07-08T08:41:10.975Z"
   },
   {
    "duration": 9,
    "start_time": "2021-07-08T08:41:11.002Z"
   },
   {
    "duration": 18,
    "start_time": "2021-07-08T08:41:11.013Z"
   },
   {
    "duration": 6,
    "start_time": "2021-07-08T08:41:11.033Z"
   },
   {
    "duration": 44,
    "start_time": "2021-07-08T08:41:11.042Z"
   },
   {
    "duration": 10,
    "start_time": "2021-07-08T08:41:11.088Z"
   },
   {
    "duration": 9,
    "start_time": "2021-07-08T08:41:11.100Z"
   },
   {
    "duration": 27,
    "start_time": "2021-07-08T08:41:11.111Z"
   },
   {
    "duration": 46,
    "start_time": "2021-07-08T08:41:11.140Z"
   },
   {
    "duration": 17,
    "start_time": "2021-07-08T08:41:11.187Z"
   },
   {
    "duration": 6,
    "start_time": "2021-07-08T08:41:11.206Z"
   },
   {
    "duration": 5,
    "start_time": "2021-07-08T08:41:11.213Z"
   },
   {
    "duration": 10,
    "start_time": "2021-07-08T08:41:11.219Z"
   },
   {
    "duration": 9,
    "start_time": "2021-07-08T08:41:11.230Z"
   },
   {
    "duration": 45,
    "start_time": "2021-07-08T08:41:11.241Z"
   },
   {
    "duration": 7,
    "start_time": "2021-07-08T08:41:11.287Z"
   },
   {
    "duration": 24,
    "start_time": "2021-07-08T08:41:11.296Z"
   },
   {
    "duration": 16,
    "start_time": "2021-07-08T08:41:11.322Z"
   },
   {
    "duration": 7,
    "start_time": "2021-07-08T08:41:11.341Z"
   },
   {
    "duration": 41,
    "start_time": "2021-07-08T08:41:11.349Z"
   },
   {
    "duration": 17,
    "start_time": "2021-07-08T08:41:11.391Z"
   },
   {
    "duration": 9,
    "start_time": "2021-07-08T08:41:11.410Z"
   },
   {
    "duration": 5,
    "start_time": "2021-07-08T08:41:11.421Z"
   },
   {
    "duration": 6,
    "start_time": "2021-07-08T08:41:11.428Z"
   },
   {
    "duration": 198,
    "start_time": "2021-07-08T08:41:11.435Z"
   },
   {
    "duration": 18,
    "start_time": "2021-07-08T08:41:11.635Z"
   },
   {
    "duration": 155,
    "start_time": "2021-07-08T08:41:11.655Z"
   },
   {
    "duration": 138,
    "start_time": "2021-07-08T08:41:11.811Z"
   },
   {
    "duration": 10,
    "start_time": "2021-07-08T08:41:11.950Z"
   },
   {
    "duration": 29,
    "start_time": "2021-07-08T08:41:11.961Z"
   },
   {
    "duration": 171,
    "start_time": "2021-07-08T08:47:44.522Z"
   },
   {
    "duration": 124,
    "start_time": "2021-07-08T08:47:46.872Z"
   },
   {
    "duration": 191,
    "start_time": "2021-07-08T08:47:58.148Z"
   },
   {
    "duration": 191,
    "start_time": "2021-07-08T08:48:07.412Z"
   },
   {
    "duration": 261,
    "start_time": "2021-07-08T08:48:10.385Z"
   },
   {
    "duration": 255,
    "start_time": "2021-07-08T08:48:14.494Z"
   },
   {
    "duration": 219,
    "start_time": "2021-07-08T08:48:22.752Z"
   },
   {
    "duration": 173,
    "start_time": "2021-07-08T08:49:06.395Z"
   },
   {
    "duration": 180,
    "start_time": "2021-07-08T08:49:21.011Z"
   },
   {
    "duration": 6,
    "start_time": "2021-07-08T08:50:31.697Z"
   },
   {
    "duration": 10,
    "start_time": "2021-07-08T08:50:47.394Z"
   },
   {
    "duration": 11,
    "start_time": "2021-07-08T08:53:49.332Z"
   },
   {
    "duration": 171,
    "start_time": "2021-07-08T08:54:28.408Z"
   },
   {
    "duration": 636,
    "start_time": "2021-07-08T09:02:48.385Z"
   },
   {
    "duration": 227,
    "start_time": "2021-07-08T09:02:49.023Z"
   },
   {
    "duration": 104,
    "start_time": "2021-07-08T09:02:49.252Z"
   },
   {
    "duration": 5,
    "start_time": "2021-07-08T09:02:49.358Z"
   },
   {
    "duration": 27,
    "start_time": "2021-07-08T09:02:49.365Z"
   },
   {
    "duration": 8,
    "start_time": "2021-07-08T09:02:49.394Z"
   },
   {
    "duration": 18,
    "start_time": "2021-07-08T09:02:49.404Z"
   },
   {
    "duration": 6,
    "start_time": "2021-07-08T09:02:49.424Z"
   },
   {
    "duration": 11,
    "start_time": "2021-07-08T09:02:49.433Z"
   },
   {
    "duration": 13,
    "start_time": "2021-07-08T09:02:49.485Z"
   },
   {
    "duration": 9,
    "start_time": "2021-07-08T09:02:49.500Z"
   },
   {
    "duration": 38,
    "start_time": "2021-07-08T09:02:49.511Z"
   },
   {
    "duration": 42,
    "start_time": "2021-07-08T09:02:49.551Z"
   },
   {
    "duration": 21,
    "start_time": "2021-07-08T09:02:49.594Z"
   },
   {
    "duration": 6,
    "start_time": "2021-07-08T09:02:49.616Z"
   },
   {
    "duration": 3,
    "start_time": "2021-07-08T09:02:49.623Z"
   },
   {
    "duration": 9,
    "start_time": "2021-07-08T09:02:49.628Z"
   },
   {
    "duration": 52,
    "start_time": "2021-07-08T09:02:49.638Z"
   },
   {
    "duration": 11,
    "start_time": "2021-07-08T09:02:49.692Z"
   },
   {
    "duration": 8,
    "start_time": "2021-07-08T09:02:49.704Z"
   },
   {
    "duration": 27,
    "start_time": "2021-07-08T09:02:49.713Z"
   },
   {
    "duration": 59,
    "start_time": "2021-07-08T09:02:49.741Z"
   },
   {
    "duration": 8,
    "start_time": "2021-07-08T09:02:49.803Z"
   },
   {
    "duration": 14,
    "start_time": "2021-07-08T09:02:49.813Z"
   },
   {
    "duration": 20,
    "start_time": "2021-07-08T09:02:49.829Z"
   },
   {
    "duration": 44,
    "start_time": "2021-07-08T09:02:49.851Z"
   },
   {
    "duration": 14,
    "start_time": "2021-07-08T09:02:49.896Z"
   },
   {
    "duration": 221,
    "start_time": "2021-07-08T09:02:49.912Z"
   },
   {
    "duration": 6,
    "start_time": "2021-07-08T09:02:50.134Z"
   },
   {
    "duration": 206,
    "start_time": "2021-07-08T09:02:50.142Z"
   },
   {
    "duration": 19,
    "start_time": "2021-07-08T09:02:50.350Z"
   },
   {
    "duration": 21,
    "start_time": "2021-07-08T09:02:50.370Z"
   },
   {
    "duration": 20,
    "start_time": "2021-07-08T09:02:50.393Z"
   },
   {
    "duration": 5,
    "start_time": "2021-07-08T09:02:50.414Z"
   },
   {
    "duration": 5,
    "start_time": "2021-07-08T09:03:34.173Z"
   },
   {
    "duration": 6,
    "start_time": "2021-07-08T09:04:49.062Z"
   },
   {
    "duration": 9,
    "start_time": "2021-07-08T09:04:50.118Z"
   },
   {
    "duration": 14,
    "start_time": "2021-07-08T09:04:58.512Z"
   },
   {
    "duration": 9,
    "start_time": "2021-07-08T09:05:10.988Z"
   },
   {
    "duration": 11,
    "start_time": "2021-07-08T09:05:11.743Z"
   },
   {
    "duration": 7,
    "start_time": "2021-07-08T09:05:25.677Z"
   },
   {
    "duration": 13,
    "start_time": "2021-07-08T09:05:47.189Z"
   },
   {
    "duration": 13,
    "start_time": "2021-07-08T09:05:54.755Z"
   },
   {
    "duration": 4,
    "start_time": "2021-07-08T09:06:29.189Z"
   },
   {
    "duration": 244,
    "start_time": "2021-07-08T09:06:29.195Z"
   },
   {
    "duration": 91,
    "start_time": "2021-07-08T09:06:29.441Z"
   },
   {
    "duration": 4,
    "start_time": "2021-07-08T09:06:29.534Z"
   },
   {
    "duration": 28,
    "start_time": "2021-07-08T09:06:29.540Z"
   },
   {
    "duration": 6,
    "start_time": "2021-07-08T09:06:29.570Z"
   },
   {
    "duration": 18,
    "start_time": "2021-07-08T09:06:29.578Z"
   },
   {
    "duration": 5,
    "start_time": "2021-07-08T09:06:29.597Z"
   },
   {
    "duration": 13,
    "start_time": "2021-07-08T09:06:29.605Z"
   },
   {
    "duration": 8,
    "start_time": "2021-07-08T09:06:29.620Z"
   },
   {
    "duration": 7,
    "start_time": "2021-07-08T09:06:29.630Z"
   },
   {
    "duration": 63,
    "start_time": "2021-07-08T09:06:29.639Z"
   },
   {
    "duration": 17,
    "start_time": "2021-07-08T09:06:29.704Z"
   },
   {
    "duration": 20,
    "start_time": "2021-07-08T09:06:29.723Z"
   },
   {
    "duration": 6,
    "start_time": "2021-07-08T09:06:29.745Z"
   },
   {
    "duration": 3,
    "start_time": "2021-07-08T09:06:29.752Z"
   },
   {
    "duration": 7,
    "start_time": "2021-07-08T09:06:29.785Z"
   },
   {
    "duration": 11,
    "start_time": "2021-07-08T09:06:29.794Z"
   },
   {
    "duration": 15,
    "start_time": "2021-07-08T09:06:29.807Z"
   },
   {
    "duration": 8,
    "start_time": "2021-07-08T09:06:29.823Z"
   },
   {
    "duration": 70,
    "start_time": "2021-07-08T09:06:29.832Z"
   },
   {
    "duration": 17,
    "start_time": "2021-07-08T09:06:29.903Z"
   },
   {
    "duration": 9,
    "start_time": "2021-07-08T09:06:29.921Z"
   },
   {
    "duration": 9,
    "start_time": "2021-07-08T09:06:29.932Z"
   },
   {
    "duration": 57,
    "start_time": "2021-07-08T09:06:29.942Z"
   },
   {
    "duration": 11,
    "start_time": "2021-07-08T09:06:30.001Z"
   },
   {
    "duration": 19,
    "start_time": "2021-07-08T09:06:30.016Z"
   },
   {
    "duration": 217,
    "start_time": "2021-07-08T09:06:30.037Z"
   },
   {
    "duration": 6,
    "start_time": "2021-07-08T09:06:30.255Z"
   },
   {
    "duration": 205,
    "start_time": "2021-07-08T09:06:30.263Z"
   },
   {
    "duration": 27,
    "start_time": "2021-07-08T09:06:30.470Z"
   },
   {
    "duration": 11,
    "start_time": "2021-07-08T09:06:30.500Z"
   },
   {
    "duration": 31,
    "start_time": "2021-07-08T09:06:30.513Z"
   },
   {
    "duration": 18,
    "start_time": "2021-07-08T09:06:30.546Z"
   },
   {
    "duration": 11,
    "start_time": "2021-07-08T09:06:30.566Z"
   },
   {
    "duration": 19,
    "start_time": "2021-07-08T09:06:30.579Z"
   },
   {
    "duration": 20,
    "start_time": "2021-07-08T09:06:49.466Z"
   },
   {
    "duration": 9,
    "start_time": "2021-07-08T09:06:51.994Z"
   },
   {
    "duration": 20,
    "start_time": "2021-07-08T09:06:52.273Z"
   },
   {
    "duration": 246,
    "start_time": "2021-07-08T09:10:21.272Z"
   },
   {
    "duration": 84,
    "start_time": "2021-07-08T09:10:21.436Z"
   },
   {
    "duration": 7,
    "start_time": "2021-07-08T09:10:37.608Z"
   },
   {
    "duration": 189,
    "start_time": "2021-07-08T09:10:38.573Z"
   },
   {
    "duration": 185,
    "start_time": "2021-07-08T09:10:53.181Z"
   },
   {
    "duration": 11,
    "start_time": "2021-07-08T09:10:59.549Z"
   },
   {
    "duration": 42,
    "start_time": "2021-07-08T09:10:59.709Z"
   },
   {
    "duration": 12,
    "start_time": "2021-07-08T09:11:02.857Z"
   },
   {
    "duration": 28,
    "start_time": "2021-07-08T09:11:10.062Z"
   },
   {
    "duration": 249,
    "start_time": "2021-07-08T09:11:37.388Z"
   },
   {
    "duration": 232,
    "start_time": "2021-07-08T09:11:49.485Z"
   },
   {
    "duration": 453,
    "start_time": "2021-07-08T09:12:01.546Z"
   },
   {
    "duration": 440,
    "start_time": "2021-07-08T09:12:12.347Z"
   },
   {
    "duration": 213,
    "start_time": "2021-07-08T09:13:32.196Z"
   },
   {
    "duration": 172,
    "start_time": "2021-07-08T09:14:07.400Z"
   },
   {
    "duration": 185,
    "start_time": "2021-07-08T09:14:14.905Z"
   },
   {
    "duration": 209,
    "start_time": "2021-07-08T09:14:40.109Z"
   },
   {
    "duration": 201,
    "start_time": "2021-07-08T09:14:54.506Z"
   },
   {
    "duration": 622,
    "start_time": "2021-07-08T09:18:14.497Z"
   },
   {
    "duration": 220,
    "start_time": "2021-07-08T09:18:15.121Z"
   },
   {
    "duration": 79,
    "start_time": "2021-07-08T09:18:15.343Z"
   },
   {
    "duration": 4,
    "start_time": "2021-07-08T09:18:15.425Z"
   },
   {
    "duration": 24,
    "start_time": "2021-07-08T09:18:15.431Z"
   },
   {
    "duration": 8,
    "start_time": "2021-07-08T09:18:15.457Z"
   },
   {
    "duration": 16,
    "start_time": "2021-07-08T09:18:15.466Z"
   },
   {
    "duration": 5,
    "start_time": "2021-07-08T09:18:15.484Z"
   },
   {
    "duration": 10,
    "start_time": "2021-07-08T09:18:15.493Z"
   },
   {
    "duration": 8,
    "start_time": "2021-07-08T09:18:15.504Z"
   },
   {
    "duration": 7,
    "start_time": "2021-07-08T09:18:15.513Z"
   },
   {
    "duration": 26,
    "start_time": "2021-07-08T09:18:15.522Z"
   },
   {
    "duration": 49,
    "start_time": "2021-07-08T09:18:15.550Z"
   },
   {
    "duration": 21,
    "start_time": "2021-07-08T09:18:15.601Z"
   },
   {
    "duration": 8,
    "start_time": "2021-07-08T09:18:15.624Z"
   },
   {
    "duration": 3,
    "start_time": "2021-07-08T09:18:15.634Z"
   },
   {
    "duration": 8,
    "start_time": "2021-07-08T09:18:15.639Z"
   },
   {
    "duration": 45,
    "start_time": "2021-07-08T09:18:15.649Z"
   },
   {
    "duration": 13,
    "start_time": "2021-07-08T09:18:15.696Z"
   },
   {
    "duration": 10,
    "start_time": "2021-07-08T09:18:15.711Z"
   },
   {
    "duration": 64,
    "start_time": "2021-07-08T09:18:15.722Z"
   },
   {
    "duration": 19,
    "start_time": "2021-07-08T09:18:15.788Z"
   },
   {
    "duration": 9,
    "start_time": "2021-07-08T09:18:15.809Z"
   },
   {
    "duration": 9,
    "start_time": "2021-07-08T09:18:15.820Z"
   },
   {
    "duration": 18,
    "start_time": "2021-07-08T09:18:15.831Z"
   },
   {
    "duration": 43,
    "start_time": "2021-07-08T09:18:15.851Z"
   },
   {
    "duration": 12,
    "start_time": "2021-07-08T09:18:15.897Z"
   },
   {
    "duration": 219,
    "start_time": "2021-07-08T09:18:15.911Z"
   },
   {
    "duration": 8,
    "start_time": "2021-07-08T09:18:16.132Z"
   },
   {
    "duration": 199,
    "start_time": "2021-07-08T09:18:16.141Z"
   },
   {
    "duration": 18,
    "start_time": "2021-07-08T09:18:16.341Z"
   },
   {
    "duration": 24,
    "start_time": "2021-07-08T09:18:16.361Z"
   },
   {
    "duration": 24,
    "start_time": "2021-07-08T09:18:16.387Z"
   },
   {
    "duration": 211,
    "start_time": "2021-07-08T09:18:16.413Z"
   },
   {
    "duration": 18,
    "start_time": "2021-07-08T09:18:16.626Z"
   },
   {
    "duration": 596,
    "start_time": "2021-07-08T10:06:33.623Z"
   },
   {
    "duration": 181,
    "start_time": "2021-07-08T10:06:34.221Z"
   },
   {
    "duration": 176,
    "start_time": "2021-07-08T10:06:34.635Z"
   },
   {
    "duration": 239,
    "start_time": "2021-07-08T10:06:55.572Z"
   },
   {
    "duration": 6,
    "start_time": "2021-07-08T10:06:57.687Z"
   },
   {
    "duration": 4,
    "start_time": "2021-07-08T10:07:03.956Z"
   },
   {
    "duration": 4,
    "start_time": "2021-07-08T10:07:10.376Z"
   },
   {
    "duration": 4,
    "start_time": "2021-07-08T10:17:19.889Z"
   },
   {
    "duration": 3,
    "start_time": "2021-07-08T10:19:19.407Z"
   },
   {
    "duration": 197,
    "start_time": "2021-07-08T10:19:19.412Z"
   },
   {
    "duration": 127,
    "start_time": "2021-07-08T10:19:19.611Z"
   },
   {
    "duration": 4,
    "start_time": "2021-07-08T10:19:19.740Z"
   },
   {
    "duration": 27,
    "start_time": "2021-07-08T10:19:19.746Z"
   },
   {
    "duration": 7,
    "start_time": "2021-07-08T10:19:19.775Z"
   },
   {
    "duration": 30,
    "start_time": "2021-07-08T10:19:19.784Z"
   },
   {
    "duration": 7,
    "start_time": "2021-07-08T10:19:19.817Z"
   },
   {
    "duration": 26,
    "start_time": "2021-07-08T10:19:19.826Z"
   },
   {
    "duration": 18,
    "start_time": "2021-07-08T10:19:19.854Z"
   },
   {
    "duration": 14,
    "start_time": "2021-07-08T10:19:19.874Z"
   },
   {
    "duration": 48,
    "start_time": "2021-07-08T10:19:19.890Z"
   },
   {
    "duration": 17,
    "start_time": "2021-07-08T10:19:19.940Z"
   },
   {
    "duration": 38,
    "start_time": "2021-07-08T10:19:19.959Z"
   },
   {
    "duration": 8,
    "start_time": "2021-07-08T10:19:19.999Z"
   },
   {
    "duration": 15,
    "start_time": "2021-07-08T10:19:20.009Z"
   },
   {
    "duration": 22,
    "start_time": "2021-07-08T10:19:20.026Z"
   },
   {
    "duration": 10,
    "start_time": "2021-07-08T10:19:20.050Z"
   },
   {
    "duration": 10,
    "start_time": "2021-07-08T10:19:20.062Z"
   },
   {
    "duration": 20,
    "start_time": "2021-07-08T10:19:20.073Z"
   },
   {
    "duration": 29,
    "start_time": "2021-07-08T10:19:20.095Z"
   },
   {
    "duration": 17,
    "start_time": "2021-07-08T10:19:20.126Z"
   },
   {
    "duration": 40,
    "start_time": "2021-07-08T10:19:20.146Z"
   },
   {
    "duration": 15,
    "start_time": "2021-07-08T10:19:20.189Z"
   },
   {
    "duration": 19,
    "start_time": "2021-07-08T10:19:20.206Z"
   },
   {
    "duration": 10,
    "start_time": "2021-07-08T10:19:20.226Z"
   },
   {
    "duration": 11,
    "start_time": "2021-07-08T10:19:20.238Z"
   },
   {
    "duration": 297,
    "start_time": "2021-07-08T10:19:20.250Z"
   },
   {
    "duration": 6,
    "start_time": "2021-07-08T10:19:20.549Z"
   },
   {
    "duration": 191,
    "start_time": "2021-07-08T10:19:20.557Z"
   },
   {
    "duration": 19,
    "start_time": "2021-07-08T10:19:20.750Z"
   },
   {
    "duration": 20,
    "start_time": "2021-07-08T10:19:20.771Z"
   },
   {
    "duration": 15,
    "start_time": "2021-07-08T10:19:20.793Z"
   },
   {
    "duration": 222,
    "start_time": "2021-07-08T10:19:20.809Z"
   },
   {
    "duration": 20,
    "start_time": "2021-07-08T10:19:21.033Z"
   },
   {
    "duration": 27,
    "start_time": "2021-07-08T10:45:04.055Z"
   },
   {
    "duration": 8,
    "start_time": "2021-07-08T10:45:08.478Z"
   },
   {
    "duration": 8,
    "start_time": "2021-07-08T10:45:31.982Z"
   },
   {
    "duration": 10,
    "start_time": "2021-07-08T10:46:01.221Z"
   },
   {
    "duration": 17,
    "start_time": "2021-07-08T10:46:40.011Z"
   },
   {
    "duration": 193,
    "start_time": "2021-07-08T10:48:19.471Z"
   },
   {
    "duration": 225,
    "start_time": "2021-07-08T10:49:26.480Z"
   },
   {
    "duration": 204,
    "start_time": "2021-07-08T10:49:59.992Z"
   },
   {
    "duration": 435,
    "start_time": "2021-07-08T10:50:06.779Z"
   },
   {
    "duration": 199,
    "start_time": "2021-07-08T10:50:14.891Z"
   },
   {
    "duration": 204,
    "start_time": "2021-07-08T10:50:18.501Z"
   },
   {
    "duration": 244,
    "start_time": "2021-07-08T10:50:23.359Z"
   },
   {
    "duration": 192,
    "start_time": "2021-07-08T10:50:29.135Z"
   },
   {
    "duration": 218,
    "start_time": "2021-07-08T10:50:33.092Z"
   },
   {
    "duration": 207,
    "start_time": "2021-07-08T10:52:45.381Z"
   },
   {
    "duration": 5,
    "start_time": "2021-07-08T10:53:34.641Z"
   },
   {
    "duration": 196,
    "start_time": "2021-07-08T10:53:41.478Z"
   },
   {
    "duration": 43,
    "start_time": "2021-07-08T10:53:50.335Z"
   },
   {
    "duration": 32,
    "start_time": "2021-07-08T10:53:55.294Z"
   },
   {
    "duration": 55,
    "start_time": "2021-07-08T10:54:09.675Z"
   },
   {
    "duration": 16,
    "start_time": "2021-07-08T10:54:12.260Z"
   },
   {
    "duration": 15,
    "start_time": "2021-07-08T10:54:49.150Z"
   },
   {
    "duration": 20,
    "start_time": "2021-07-08T10:56:07.596Z"
   },
   {
    "duration": 16,
    "start_time": "2021-07-08T10:58:26.276Z"
   },
   {
    "duration": 22,
    "start_time": "2021-07-08T10:59:00.486Z"
   },
   {
    "duration": 18,
    "start_time": "2021-07-08T11:02:09.653Z"
   },
   {
    "duration": 10,
    "start_time": "2021-07-08T11:03:44.331Z"
   },
   {
    "duration": 10,
    "start_time": "2021-07-08T11:03:54.055Z"
   },
   {
    "duration": 12,
    "start_time": "2021-07-08T11:04:41.967Z"
   },
   {
    "duration": 24,
    "start_time": "2021-07-08T11:07:30.732Z"
   },
   {
    "duration": 6,
    "start_time": "2021-07-08T11:07:37.364Z"
   },
   {
    "duration": 16,
    "start_time": "2021-07-08T11:08:01.819Z"
   },
   {
    "duration": 17,
    "start_time": "2021-07-08T11:09:47.488Z"
   },
   {
    "duration": 246,
    "start_time": "2021-07-08T11:10:00.830Z"
   },
   {
    "duration": 18,
    "start_time": "2021-07-08T11:13:55.195Z"
   },
   {
    "duration": 204,
    "start_time": "2021-07-08T11:14:04.951Z"
   },
   {
    "duration": 19,
    "start_time": "2021-07-08T11:15:10.613Z"
   },
   {
    "duration": 680,
    "start_time": "2021-07-08T11:16:25.793Z"
   },
   {
    "duration": 451,
    "start_time": "2021-07-08T11:16:40.313Z"
   },
   {
    "duration": 469,
    "start_time": "2021-07-08T11:17:21.286Z"
   },
   {
    "duration": 20,
    "start_time": "2021-07-08T11:19:12.554Z"
   },
   {
    "duration": 35,
    "start_time": "2021-07-08T11:20:05.484Z"
   },
   {
    "duration": 53,
    "start_time": "2021-07-08T11:21:40.050Z"
   },
   {
    "duration": 13,
    "start_time": "2021-07-08T11:22:26.059Z"
   },
   {
    "duration": 19,
    "start_time": "2021-07-08T11:22:47.419Z"
   },
   {
    "duration": 25,
    "start_time": "2021-07-08T11:23:19.958Z"
   },
   {
    "duration": 29,
    "start_time": "2021-07-08T11:23:25.415Z"
   },
   {
    "duration": 10,
    "start_time": "2021-07-08T11:24:45.138Z"
   },
   {
    "duration": 19,
    "start_time": "2021-07-08T11:24:54.498Z"
   },
   {
    "duration": 12,
    "start_time": "2021-07-08T11:25:32.225Z"
   },
   {
    "duration": 19,
    "start_time": "2021-07-08T11:25:37.092Z"
   },
   {
    "duration": 17,
    "start_time": "2021-07-08T11:25:58.116Z"
   },
   {
    "duration": 15,
    "start_time": "2021-07-08T11:26:02.258Z"
   },
   {
    "duration": 8,
    "start_time": "2021-07-08T11:26:59.682Z"
   },
   {
    "duration": 184,
    "start_time": "2021-07-08T11:27:21.894Z"
   },
   {
    "duration": 8,
    "start_time": "2021-07-08T11:27:23.824Z"
   },
   {
    "duration": 202,
    "start_time": "2021-07-08T11:27:23.962Z"
   },
   {
    "duration": 360,
    "start_time": "2021-07-08T11:28:33.215Z"
   },
   {
    "duration": 231,
    "start_time": "2021-07-08T11:32:05.542Z"
   },
   {
    "duration": 607,
    "start_time": "2021-07-08T11:36:27.854Z"
   },
   {
    "duration": 241,
    "start_time": "2021-07-08T11:36:28.463Z"
   },
   {
    "duration": 67,
    "start_time": "2021-07-08T11:36:28.709Z"
   },
   {
    "duration": 5,
    "start_time": "2021-07-08T11:36:28.778Z"
   },
   {
    "duration": 32,
    "start_time": "2021-07-08T11:36:28.784Z"
   },
   {
    "duration": 11,
    "start_time": "2021-07-08T11:36:28.819Z"
   },
   {
    "duration": 20,
    "start_time": "2021-07-08T11:36:28.834Z"
   },
   {
    "duration": 36,
    "start_time": "2021-07-08T11:36:28.857Z"
   },
   {
    "duration": 16,
    "start_time": "2021-07-08T11:36:28.895Z"
   },
   {
    "duration": 14,
    "start_time": "2021-07-08T11:36:28.913Z"
   },
   {
    "duration": 9,
    "start_time": "2021-07-08T11:36:28.930Z"
   },
   {
    "duration": 55,
    "start_time": "2021-07-08T11:36:28.941Z"
   },
   {
    "duration": 27,
    "start_time": "2021-07-08T11:36:28.999Z"
   },
   {
    "duration": 30,
    "start_time": "2021-07-08T11:36:29.028Z"
   },
   {
    "duration": 31,
    "start_time": "2021-07-08T11:36:29.060Z"
   },
   {
    "duration": 3,
    "start_time": "2021-07-08T11:36:29.093Z"
   },
   {
    "duration": 12,
    "start_time": "2021-07-08T11:36:29.099Z"
   },
   {
    "duration": 11,
    "start_time": "2021-07-08T11:36:29.112Z"
   },
   {
    "duration": 12,
    "start_time": "2021-07-08T11:36:29.125Z"
   },
   {
    "duration": 9,
    "start_time": "2021-07-08T11:36:29.139Z"
   },
   {
    "duration": 31,
    "start_time": "2021-07-08T11:36:29.191Z"
   },
   {
    "duration": 17,
    "start_time": "2021-07-08T11:36:29.226Z"
   },
   {
    "duration": 7,
    "start_time": "2021-07-08T11:36:29.245Z"
   },
   {
    "duration": 10,
    "start_time": "2021-07-08T11:36:29.254Z"
   },
   {
    "duration": 30,
    "start_time": "2021-07-08T11:36:29.292Z"
   },
   {
    "duration": 11,
    "start_time": "2021-07-08T11:36:29.324Z"
   },
   {
    "duration": 11,
    "start_time": "2021-07-08T11:36:29.337Z"
   },
   {
    "duration": 230,
    "start_time": "2021-07-08T11:36:29.349Z"
   },
   {
    "duration": 13,
    "start_time": "2021-07-08T11:36:29.588Z"
   },
   {
    "duration": 205,
    "start_time": "2021-07-08T11:36:29.603Z"
   },
   {
    "duration": 20,
    "start_time": "2021-07-08T11:36:29.810Z"
   },
   {
    "duration": 9,
    "start_time": "2021-07-08T11:36:29.832Z"
   },
   {
    "duration": 16,
    "start_time": "2021-07-08T11:36:29.843Z"
   },
   {
    "duration": 283,
    "start_time": "2021-07-08T11:36:29.861Z"
   },
   {
    "duration": 50,
    "start_time": "2021-07-08T11:36:30.146Z"
   },
   {
    "duration": 14,
    "start_time": "2021-07-08T11:36:30.198Z"
   },
   {
    "duration": 11,
    "start_time": "2021-07-08T11:36:30.214Z"
   },
   {
    "duration": 245,
    "start_time": "2021-07-08T11:36:30.227Z"
   },
   {
    "duration": 439,
    "start_time": "2021-07-08T11:36:30.474Z"
   },
   {
    "duration": 210,
    "start_time": "2021-07-08T11:36:30.915Z"
   },
   {
    "duration": 15,
    "start_time": "2021-07-08T11:36:31.127Z"
   },
   {
    "duration": 17,
    "start_time": "2021-07-08T11:38:20.451Z"
   },
   {
    "duration": 642,
    "start_time": "2021-07-08T11:46:17.881Z"
   },
   {
    "duration": 210,
    "start_time": "2021-07-08T11:46:18.525Z"
   },
   {
    "duration": 104,
    "start_time": "2021-07-08T11:46:18.741Z"
   },
   {
    "duration": 8,
    "start_time": "2021-07-08T11:46:18.847Z"
   },
   {
    "duration": 25,
    "start_time": "2021-07-08T11:46:18.857Z"
   },
   {
    "duration": 14,
    "start_time": "2021-07-08T11:46:18.884Z"
   },
   {
    "duration": 22,
    "start_time": "2021-07-08T11:46:18.900Z"
   },
   {
    "duration": 5,
    "start_time": "2021-07-08T11:46:18.924Z"
   },
   {
    "duration": 13,
    "start_time": "2021-07-08T11:46:18.931Z"
   },
   {
    "duration": 45,
    "start_time": "2021-07-08T11:46:18.946Z"
   },
   {
    "duration": 12,
    "start_time": "2021-07-08T11:46:18.993Z"
   },
   {
    "duration": 38,
    "start_time": "2021-07-08T11:46:19.006Z"
   },
   {
    "duration": 50,
    "start_time": "2021-07-08T11:46:19.046Z"
   },
   {
    "duration": 29,
    "start_time": "2021-07-08T11:46:19.099Z"
   },
   {
    "duration": 7,
    "start_time": "2021-07-08T11:46:19.130Z"
   },
   {
    "duration": 3,
    "start_time": "2021-07-08T11:46:19.139Z"
   },
   {
    "duration": 11,
    "start_time": "2021-07-08T11:46:19.144Z"
   },
   {
    "duration": 40,
    "start_time": "2021-07-08T11:46:19.157Z"
   },
   {
    "duration": 15,
    "start_time": "2021-07-08T11:46:19.199Z"
   },
   {
    "duration": 10,
    "start_time": "2021-07-08T11:46:19.217Z"
   },
   {
    "duration": 68,
    "start_time": "2021-07-08T11:46:19.230Z"
   },
   {
    "duration": 17,
    "start_time": "2021-07-08T11:46:19.301Z"
   },
   {
    "duration": 7,
    "start_time": "2021-07-08T11:46:19.321Z"
   },
   {
    "duration": 11,
    "start_time": "2021-07-08T11:46:19.330Z"
   },
   {
    "duration": 59,
    "start_time": "2021-07-08T11:46:19.343Z"
   },
   {
    "duration": 17,
    "start_time": "2021-07-08T11:46:19.405Z"
   },
   {
    "duration": 16,
    "start_time": "2021-07-08T11:46:19.424Z"
   },
   {
    "duration": 252,
    "start_time": "2021-07-08T11:46:19.443Z"
   },
   {
    "duration": 9,
    "start_time": "2021-07-08T11:46:19.697Z"
   },
   {
    "duration": 224,
    "start_time": "2021-07-08T11:46:19.708Z"
   },
   {
    "duration": 21,
    "start_time": "2021-07-08T11:46:19.934Z"
   },
   {
    "duration": 9,
    "start_time": "2021-07-08T11:46:19.956Z"
   },
   {
    "duration": 32,
    "start_time": "2021-07-08T11:46:19.967Z"
   },
   {
    "duration": 288,
    "start_time": "2021-07-08T11:46:20.004Z"
   },
   {
    "duration": 23,
    "start_time": "2021-07-08T11:46:20.300Z"
   },
   {
    "duration": 11,
    "start_time": "2021-07-08T11:46:20.325Z"
   },
   {
    "duration": 11,
    "start_time": "2021-07-08T11:46:20.339Z"
   },
   {
    "duration": 259,
    "start_time": "2021-07-08T11:46:20.352Z"
   },
   {
    "duration": 438,
    "start_time": "2021-07-08T11:46:20.613Z"
   },
   {
    "duration": 207,
    "start_time": "2021-07-08T11:46:21.054Z"
   },
   {
    "duration": 27,
    "start_time": "2021-07-08T11:46:21.262Z"
   },
   {
    "duration": 19,
    "start_time": "2021-07-08T11:46:21.291Z"
   },
   {
    "duration": 820,
    "start_time": "2021-07-08T11:49:01.655Z"
   },
   {
    "duration": 372,
    "start_time": "2021-07-08T11:49:02.478Z"
   },
   {
    "duration": 98,
    "start_time": "2021-07-08T11:49:02.853Z"
   },
   {
    "duration": 6,
    "start_time": "2021-07-08T11:49:02.953Z"
   },
   {
    "duration": 39,
    "start_time": "2021-07-08T11:49:02.960Z"
   },
   {
    "duration": 9,
    "start_time": "2021-07-08T11:49:03.003Z"
   },
   {
    "duration": 23,
    "start_time": "2021-07-08T11:49:03.014Z"
   },
   {
    "duration": 6,
    "start_time": "2021-07-08T11:49:03.041Z"
   },
   {
    "duration": 20,
    "start_time": "2021-07-08T11:49:03.049Z"
   },
   {
    "duration": 18,
    "start_time": "2021-07-08T11:49:03.084Z"
   },
   {
    "duration": 14,
    "start_time": "2021-07-08T11:49:03.104Z"
   },
   {
    "duration": 39,
    "start_time": "2021-07-08T11:49:03.119Z"
   },
   {
    "duration": 38,
    "start_time": "2021-07-08T11:49:03.160Z"
   },
   {
    "duration": 26,
    "start_time": "2021-07-08T11:49:03.200Z"
   },
   {
    "duration": 7,
    "start_time": "2021-07-08T11:49:03.227Z"
   },
   {
    "duration": 4,
    "start_time": "2021-07-08T11:49:03.236Z"
   },
   {
    "duration": 15,
    "start_time": "2021-07-08T11:49:03.243Z"
   },
   {
    "duration": 21,
    "start_time": "2021-07-08T11:49:03.285Z"
   },
   {
    "duration": 17,
    "start_time": "2021-07-08T11:49:03.309Z"
   },
   {
    "duration": 10,
    "start_time": "2021-07-08T11:49:03.328Z"
   },
   {
    "duration": 65,
    "start_time": "2021-07-08T11:49:03.340Z"
   },
   {
    "duration": 18,
    "start_time": "2021-07-08T11:49:03.407Z"
   },
   {
    "duration": 8,
    "start_time": "2021-07-08T11:49:03.428Z"
   },
   {
    "duration": 15,
    "start_time": "2021-07-08T11:49:03.438Z"
   },
   {
    "duration": 40,
    "start_time": "2021-07-08T11:49:03.455Z"
   },
   {
    "duration": 12,
    "start_time": "2021-07-08T11:49:03.497Z"
   },
   {
    "duration": 29,
    "start_time": "2021-07-08T11:49:03.511Z"
   },
   {
    "duration": 285,
    "start_time": "2021-07-08T11:49:03.542Z"
   },
   {
    "duration": 8,
    "start_time": "2021-07-08T11:49:03.829Z"
   },
   {
    "duration": 227,
    "start_time": "2021-07-08T11:49:03.838Z"
   },
   {
    "duration": 40,
    "start_time": "2021-07-08T11:49:04.066Z"
   },
   {
    "duration": 10,
    "start_time": "2021-07-08T11:49:04.108Z"
   },
   {
    "duration": 26,
    "start_time": "2021-07-08T11:49:04.121Z"
   },
   {
    "duration": 290,
    "start_time": "2021-07-08T11:49:04.149Z"
   },
   {
    "duration": 26,
    "start_time": "2021-07-08T11:49:04.441Z"
   },
   {
    "duration": 31,
    "start_time": "2021-07-08T11:49:04.470Z"
   },
   {
    "duration": 14,
    "start_time": "2021-07-08T11:49:04.503Z"
   },
   {
    "duration": 259,
    "start_time": "2021-07-08T11:49:04.521Z"
   },
   {
    "duration": 480,
    "start_time": "2021-07-08T11:49:04.782Z"
   },
   {
    "duration": 225,
    "start_time": "2021-07-08T11:49:05.264Z"
   },
   {
    "duration": 22,
    "start_time": "2021-07-08T11:49:05.491Z"
   },
   {
    "duration": 24,
    "start_time": "2021-07-08T11:49:05.515Z"
   },
   {
    "duration": 634,
    "start_time": "2021-07-08T11:52:24.960Z"
   },
   {
    "duration": 199,
    "start_time": "2021-07-08T11:52:25.599Z"
   },
   {
    "duration": 106,
    "start_time": "2021-07-08T11:52:25.803Z"
   },
   {
    "duration": 7,
    "start_time": "2021-07-08T11:52:25.911Z"
   },
   {
    "duration": 29,
    "start_time": "2021-07-08T11:52:25.920Z"
   },
   {
    "duration": 7,
    "start_time": "2021-07-08T11:52:25.951Z"
   },
   {
    "duration": 26,
    "start_time": "2021-07-08T11:52:25.961Z"
   },
   {
    "duration": 11,
    "start_time": "2021-07-08T11:52:25.990Z"
   },
   {
    "duration": 29,
    "start_time": "2021-07-08T11:52:26.005Z"
   },
   {
    "duration": 9,
    "start_time": "2021-07-08T11:52:26.036Z"
   },
   {
    "duration": 8,
    "start_time": "2021-07-08T11:52:26.047Z"
   },
   {
    "duration": 63,
    "start_time": "2021-07-08T11:52:26.057Z"
   },
   {
    "duration": 17,
    "start_time": "2021-07-08T11:52:26.122Z"
   },
   {
    "duration": 43,
    "start_time": "2021-07-08T11:52:26.142Z"
   },
   {
    "duration": 17,
    "start_time": "2021-07-08T11:52:26.187Z"
   },
   {
    "duration": 5,
    "start_time": "2021-07-08T11:52:26.206Z"
   },
   {
    "duration": 12,
    "start_time": "2021-07-08T11:52:26.212Z"
   },
   {
    "duration": 11,
    "start_time": "2021-07-08T11:52:26.226Z"
   },
   {
    "duration": 12,
    "start_time": "2021-07-08T11:52:26.238Z"
   },
   {
    "duration": 38,
    "start_time": "2021-07-08T11:52:26.252Z"
   },
   {
    "duration": 40,
    "start_time": "2021-07-08T11:52:26.292Z"
   },
   {
    "duration": 17,
    "start_time": "2021-07-08T11:52:26.336Z"
   },
   {
    "duration": 39,
    "start_time": "2021-07-08T11:52:26.355Z"
   },
   {
    "duration": 11,
    "start_time": "2021-07-08T11:52:26.395Z"
   },
   {
    "duration": 23,
    "start_time": "2021-07-08T11:52:26.408Z"
   },
   {
    "duration": 12,
    "start_time": "2021-07-08T11:52:26.432Z"
   },
   {
    "duration": 41,
    "start_time": "2021-07-08T11:52:26.446Z"
   },
   {
    "duration": 215,
    "start_time": "2021-07-08T11:52:26.493Z"
   },
   {
    "duration": 8,
    "start_time": "2021-07-08T11:52:26.710Z"
   },
   {
    "duration": 228,
    "start_time": "2021-07-08T11:52:26.720Z"
   },
   {
    "duration": 18,
    "start_time": "2021-07-08T11:52:26.950Z"
   },
   {
    "duration": 35,
    "start_time": "2021-07-08T11:52:26.969Z"
   },
   {
    "duration": 23,
    "start_time": "2021-07-08T11:52:27.006Z"
   },
   {
    "duration": 258,
    "start_time": "2021-07-08T11:52:27.030Z"
   },
   {
    "duration": 24,
    "start_time": "2021-07-08T11:52:27.290Z"
   },
   {
    "duration": 12,
    "start_time": "2021-07-08T11:52:27.316Z"
   },
   {
    "duration": 10,
    "start_time": "2021-07-08T11:52:27.329Z"
   },
   {
    "duration": 298,
    "start_time": "2021-07-08T11:52:27.341Z"
   },
   {
    "duration": 436,
    "start_time": "2021-07-08T11:52:27.641Z"
   },
   {
    "duration": 216,
    "start_time": "2021-07-08T11:52:28.079Z"
   },
   {
    "duration": 20,
    "start_time": "2021-07-08T11:52:28.297Z"
   },
   {
    "duration": 17,
    "start_time": "2021-07-08T11:52:28.319Z"
   },
   {
    "duration": 669,
    "start_time": "2022-09-14T10:27:23.695Z"
   },
   {
    "duration": 159,
    "start_time": "2022-09-14T10:28:09.137Z"
   },
   {
    "duration": 172,
    "start_time": "2022-09-14T10:28:24.370Z"
   },
   {
    "duration": 193,
    "start_time": "2022-09-14T10:35:50.546Z"
   },
   {
    "duration": 140,
    "start_time": "2022-09-14T10:37:37.296Z"
   },
   {
    "duration": 322,
    "start_time": "2022-09-14T10:40:15.379Z"
   },
   {
    "duration": 168,
    "start_time": "2022-09-14T10:40:54.499Z"
   },
   {
    "duration": 134,
    "start_time": "2022-09-14T10:42:02.665Z"
   },
   {
    "duration": 146,
    "start_time": "2022-09-14T10:42:14.168Z"
   },
   {
    "duration": 160,
    "start_time": "2022-09-14T10:45:48.563Z"
   },
   {
    "duration": 126,
    "start_time": "2022-09-14T10:49:14.896Z"
   },
   {
    "duration": 135,
    "start_time": "2022-09-14T10:49:23.750Z"
   },
   {
    "duration": 144,
    "start_time": "2022-09-14T10:49:54.694Z"
   },
   {
    "duration": 12,
    "start_time": "2022-09-15T07:39:59.431Z"
   },
   {
    "duration": 12,
    "start_time": "2022-09-15T07:46:12.388Z"
   },
   {
    "duration": 16,
    "start_time": "2022-09-15T07:48:55.843Z"
   },
   {
    "duration": 20,
    "start_time": "2022-09-15T07:49:23.499Z"
   },
   {
    "duration": 45,
    "start_time": "2022-09-15T07:49:37.508Z"
   },
   {
    "duration": 11,
    "start_time": "2022-09-15T07:50:02.530Z"
   },
   {
    "duration": 12,
    "start_time": "2022-09-15T07:50:32.185Z"
   },
   {
    "duration": 56,
    "start_time": "2022-09-15T08:08:01.364Z"
   },
   {
    "duration": 23,
    "start_time": "2022-09-15T08:08:12.651Z"
   },
   {
    "duration": 16,
    "start_time": "2022-09-15T08:08:25.523Z"
   },
   {
    "duration": 26,
    "start_time": "2022-09-15T08:08:32.051Z"
   },
   {
    "duration": 22,
    "start_time": "2022-09-15T08:08:39.938Z"
   },
   {
    "duration": 22,
    "start_time": "2022-09-15T08:08:59.714Z"
   },
   {
    "duration": 24,
    "start_time": "2022-09-15T08:09:16.649Z"
   },
   {
    "duration": 30,
    "start_time": "2022-09-15T08:09:22.002Z"
   },
   {
    "duration": 25,
    "start_time": "2022-09-15T08:17:11.378Z"
   },
   {
    "duration": 17,
    "start_time": "2022-09-15T08:17:33.071Z"
   },
   {
    "duration": 43,
    "start_time": "2022-09-15T08:17:41.111Z"
   },
   {
    "duration": 20,
    "start_time": "2022-09-15T08:17:59.238Z"
   },
   {
    "duration": 19,
    "start_time": "2022-09-15T08:21:01.408Z"
   },
   {
    "duration": 16,
    "start_time": "2022-09-15T08:21:09.106Z"
   },
   {
    "duration": 17,
    "start_time": "2022-09-15T08:21:39.833Z"
   },
   {
    "duration": 19,
    "start_time": "2022-09-15T08:21:46.346Z"
   },
   {
    "duration": 26,
    "start_time": "2022-09-15T08:22:08.834Z"
   },
   {
    "duration": 26,
    "start_time": "2022-09-15T08:22:29.913Z"
   },
   {
    "duration": 24,
    "start_time": "2022-09-15T08:22:47.912Z"
   },
   {
    "duration": 26,
    "start_time": "2022-09-15T08:24:23.399Z"
   },
   {
    "duration": 17,
    "start_time": "2022-09-15T08:24:31.589Z"
   },
   {
    "duration": 17,
    "start_time": "2022-09-15T08:24:59.478Z"
   },
   {
    "duration": 43,
    "start_time": "2022-09-15T08:25:06.596Z"
   },
   {
    "duration": 16,
    "start_time": "2022-09-15T08:25:11.973Z"
   },
   {
    "duration": 16,
    "start_time": "2022-09-15T08:25:20.924Z"
   },
   {
    "duration": 17,
    "start_time": "2022-09-15T08:25:33.988Z"
   },
   {
    "duration": 17,
    "start_time": "2022-09-15T08:25:40.476Z"
   },
   {
    "duration": 16,
    "start_time": "2022-09-15T08:25:50.556Z"
   },
   {
    "duration": 16,
    "start_time": "2022-09-15T08:26:00.677Z"
   },
   {
    "duration": 16,
    "start_time": "2022-09-15T08:26:22.171Z"
   },
   {
    "duration": 28,
    "start_time": "2022-09-15T08:26:41.691Z"
   },
   {
    "duration": 38,
    "start_time": "2022-09-15T08:37:37.094Z"
   },
   {
    "duration": 5,
    "start_time": "2022-09-15T08:39:21.966Z"
   },
   {
    "duration": 39,
    "start_time": "2022-09-15T08:39:25.650Z"
   },
   {
    "duration": 34,
    "start_time": "2022-09-15T08:39:33.723Z"
   },
   {
    "duration": 142,
    "start_time": "2022-09-15T08:39:37.011Z"
   },
   {
    "duration": 780,
    "start_time": "2022-09-15T08:39:37.155Z"
   },
   {
    "duration": 528,
    "start_time": "2022-09-15T08:42:11.551Z"
   },
   {
    "duration": 389,
    "start_time": "2022-09-15T08:42:36.073Z"
   },
   {
    "duration": 40,
    "start_time": "2022-09-15T08:42:58.853Z"
   },
   {
    "duration": 37,
    "start_time": "2022-09-15T08:43:11.025Z"
   },
   {
    "duration": 38,
    "start_time": "2022-09-15T08:46:10.265Z"
   },
   {
    "duration": 14,
    "start_time": "2022-09-15T08:46:28.265Z"
   },
   {
    "duration": 14,
    "start_time": "2022-09-15T08:47:43.984Z"
   },
   {
    "duration": 15,
    "start_time": "2022-09-15T08:50:21.178Z"
   },
   {
    "duration": 144,
    "start_time": "2022-09-15T08:50:38.250Z"
   },
   {
    "duration": 16,
    "start_time": "2022-09-15T08:50:38.396Z"
   },
   {
    "duration": 17,
    "start_time": "2022-09-15T08:51:17.660Z"
   },
   {
    "duration": 42,
    "start_time": "2022-09-15T08:54:18.831Z"
   },
   {
    "duration": 55,
    "start_time": "2022-09-15T08:56:21.855Z"
   },
   {
    "duration": 26,
    "start_time": "2022-09-15T12:39:46.015Z"
   },
   {
    "duration": 13,
    "start_time": "2022-09-15T12:42:48.648Z"
   },
   {
    "duration": 6,
    "start_time": "2022-09-15T12:44:21.823Z"
   },
   {
    "duration": 5,
    "start_time": "2022-09-15T12:44:30.590Z"
   },
   {
    "duration": 8,
    "start_time": "2022-09-15T12:45:08.239Z"
   },
   {
    "duration": 5,
    "start_time": "2022-09-15T12:45:12.510Z"
   },
   {
    "duration": 4,
    "start_time": "2022-09-15T12:45:20.414Z"
   },
   {
    "duration": 436,
    "start_time": "2022-09-16T08:09:05.136Z"
   },
   {
    "duration": 4,
    "start_time": "2022-09-16T08:44:03.306Z"
   },
   {
    "duration": 18,
    "start_time": "2022-09-16T08:44:45.389Z"
   },
   {
    "duration": 5,
    "start_time": "2022-09-16T08:44:54.285Z"
   },
   {
    "duration": 7,
    "start_time": "2022-09-16T08:45:18.667Z"
   },
   {
    "duration": 7,
    "start_time": "2022-09-16T08:45:52.843Z"
   },
   {
    "duration": 7,
    "start_time": "2022-09-16T08:46:37.720Z"
   },
   {
    "duration": 8,
    "start_time": "2022-09-16T08:48:48.726Z"
   },
   {
    "duration": 8,
    "start_time": "2022-09-16T08:48:54.374Z"
   },
   {
    "duration": 4,
    "start_time": "2022-09-16T08:48:59.798Z"
   },
   {
    "duration": 19,
    "start_time": "2022-09-16T10:28:57.892Z"
   },
   {
    "duration": 22,
    "start_time": "2022-09-16T10:30:52.413Z"
   },
   {
    "duration": 7,
    "start_time": "2022-09-16T10:31:07.813Z"
   },
   {
    "duration": 8,
    "start_time": "2022-09-16T10:31:29.821Z"
   },
   {
    "duration": 10,
    "start_time": "2022-09-16T10:31:46.253Z"
   },
   {
    "duration": 147,
    "start_time": "2022-09-16T10:31:50.562Z"
   },
   {
    "duration": 33,
    "start_time": "2022-09-16T10:31:50.711Z"
   },
   {
    "duration": 21,
    "start_time": "2022-09-16T10:31:50.745Z"
   },
   {
    "duration": 45,
    "start_time": "2022-09-16T10:31:50.768Z"
   },
   {
    "duration": 8,
    "start_time": "2022-09-16T10:33:28.577Z"
   },
   {
    "duration": 8,
    "start_time": "2022-09-16T10:34:15.425Z"
   },
   {
    "duration": 7,
    "start_time": "2022-09-16T10:34:23.889Z"
   },
   {
    "duration": 8,
    "start_time": "2022-09-16T10:34:52.168Z"
   },
   {
    "duration": 146,
    "start_time": "2022-09-16T10:34:55.396Z"
   },
   {
    "duration": 29,
    "start_time": "2022-09-16T10:34:55.544Z"
   },
   {
    "duration": 41,
    "start_time": "2022-09-16T10:34:55.575Z"
   },
   {
    "duration": 25,
    "start_time": "2022-09-16T10:34:55.617Z"
   },
   {
    "duration": 7,
    "start_time": "2022-09-16T10:35:16.399Z"
   },
   {
    "duration": 7,
    "start_time": "2022-09-16T10:36:36.081Z"
   },
   {
    "duration": 6,
    "start_time": "2022-09-16T10:36:53.165Z"
   },
   {
    "duration": 144,
    "start_time": "2022-09-16T10:36:56.574Z"
   },
   {
    "duration": 28,
    "start_time": "2022-09-16T10:36:56.720Z"
   },
   {
    "duration": 20,
    "start_time": "2022-09-16T10:36:56.749Z"
   },
   {
    "duration": 12,
    "start_time": "2022-09-16T10:36:56.771Z"
   },
   {
    "duration": 7,
    "start_time": "2022-09-16T10:37:04.276Z"
   },
   {
    "duration": 153,
    "start_time": "2022-09-16T10:37:09.214Z"
   },
   {
    "duration": 30,
    "start_time": "2022-09-16T10:37:09.369Z"
   },
   {
    "duration": 20,
    "start_time": "2022-09-16T10:37:09.401Z"
   },
   {
    "duration": 12,
    "start_time": "2022-09-16T10:37:09.423Z"
   },
   {
    "duration": 11,
    "start_time": "2022-09-16T10:39:54.458Z"
   },
   {
    "duration": 146,
    "start_time": "2022-09-16T10:39:59.296Z"
   },
   {
    "duration": 32,
    "start_time": "2022-09-16T10:39:59.443Z"
   },
   {
    "duration": 45,
    "start_time": "2022-09-16T10:39:59.477Z"
   },
   {
    "duration": 26,
    "start_time": "2022-09-16T10:39:59.525Z"
   },
   {
    "duration": 13,
    "start_time": "2022-09-16T10:42:24.718Z"
   },
   {
    "duration": 13,
    "start_time": "2022-09-16T10:42:35.765Z"
   },
   {
    "duration": 8,
    "start_time": "2022-09-16T10:42:44.732Z"
   },
   {
    "duration": 9,
    "start_time": "2022-09-16T10:42:53.510Z"
   },
   {
    "duration": 9,
    "start_time": "2022-09-16T10:43:20.252Z"
   },
   {
    "duration": 8,
    "start_time": "2022-09-16T10:43:26.678Z"
   },
   {
    "duration": 8,
    "start_time": "2022-09-16T10:43:42.692Z"
   },
   {
    "duration": 8,
    "start_time": "2022-09-16T10:43:46.113Z"
   },
   {
    "duration": 5,
    "start_time": "2022-09-16T10:44:21.146Z"
   },
   {
    "duration": 5,
    "start_time": "2022-09-16T10:44:30.403Z"
   },
   {
    "duration": 4,
    "start_time": "2022-09-16T10:44:42.282Z"
   },
   {
    "duration": 6,
    "start_time": "2022-09-16T10:44:59.729Z"
   },
   {
    "duration": 8,
    "start_time": "2022-09-16T10:45:24.937Z"
   },
   {
    "duration": 12,
    "start_time": "2022-09-16T10:45:50.553Z"
   },
   {
    "duration": 16,
    "start_time": "2022-09-16T10:46:03.025Z"
   },
   {
    "duration": 12,
    "start_time": "2022-09-16T10:46:28.888Z"
   },
   {
    "duration": 13,
    "start_time": "2022-09-16T10:46:33.056Z"
   },
   {
    "duration": 15,
    "start_time": "2022-09-16T10:46:36.551Z"
   },
   {
    "duration": 21,
    "start_time": "2022-09-16T10:46:40.584Z"
   },
   {
    "duration": 9,
    "start_time": "2022-09-16T10:46:47.751Z"
   },
   {
    "duration": 8,
    "start_time": "2022-09-16T10:46:50.079Z"
   },
   {
    "duration": 70,
    "start_time": "2022-09-16T10:46:53.519Z"
   },
   {
    "duration": 8,
    "start_time": "2022-09-16T10:46:59.829Z"
   },
   {
    "duration": 9,
    "start_time": "2022-09-16T10:47:05.647Z"
   },
   {
    "duration": 9,
    "start_time": "2022-09-16T10:47:08.775Z"
   },
   {
    "duration": 7,
    "start_time": "2022-09-16T10:50:54.145Z"
   },
   {
    "duration": 29,
    "start_time": "2022-09-16T10:51:13.304Z"
   },
   {
    "duration": 20,
    "start_time": "2022-09-16T10:51:25.352Z"
   },
   {
    "duration": 42,
    "start_time": "2022-09-16T10:51:34.503Z"
   },
   {
    "duration": 9,
    "start_time": "2022-09-16T10:51:40.231Z"
   },
   {
    "duration": 9,
    "start_time": "2022-09-16T10:51:49.951Z"
   },
   {
    "duration": 47,
    "start_time": "2022-09-16T10:51:56.179Z"
   },
   {
    "duration": 9,
    "start_time": "2022-09-16T10:52:06.870Z"
   },
   {
    "duration": 9,
    "start_time": "2022-09-16T10:54:09.380Z"
   },
   {
    "duration": 9,
    "start_time": "2022-09-16T10:54:32.483Z"
   },
   {
    "duration": 9,
    "start_time": "2022-09-16T10:54:44.866Z"
   },
   {
    "duration": 12,
    "start_time": "2022-09-16T10:54:47.843Z"
   },
   {
    "duration": 146,
    "start_time": "2022-09-16T10:54:59.577Z"
   },
   {
    "duration": 30,
    "start_time": "2022-09-16T10:54:59.725Z"
   },
   {
    "duration": 20,
    "start_time": "2022-09-16T10:54:59.757Z"
   },
   {
    "duration": 37,
    "start_time": "2022-09-16T10:54:59.778Z"
   },
   {
    "duration": 18,
    "start_time": "2022-09-16T10:55:44.234Z"
   },
   {
    "duration": 9,
    "start_time": "2022-09-16T10:59:02.156Z"
   },
   {
    "duration": 395,
    "start_time": "2022-09-16T11:00:47.138Z"
   },
   {
    "duration": 15,
    "start_time": "2022-09-16T11:01:18.641Z"
   },
   {
    "duration": 157,
    "start_time": "2022-09-16T11:01:26.207Z"
   },
   {
    "duration": 30,
    "start_time": "2022-09-16T11:01:26.366Z"
   },
   {
    "duration": 21,
    "start_time": "2022-09-16T11:01:26.398Z"
   },
   {
    "duration": 21,
    "start_time": "2022-09-16T11:01:26.420Z"
   },
   {
    "duration": 14,
    "start_time": "2022-09-16T11:02:42.959Z"
   },
   {
    "duration": 17,
    "start_time": "2022-09-16T11:02:48.174Z"
   },
   {
    "duration": 20,
    "start_time": "2022-09-16T11:06:03.098Z"
   },
   {
    "duration": 21,
    "start_time": "2022-09-16T11:07:51.360Z"
   },
   {
    "duration": 23,
    "start_time": "2022-09-16T11:08:06.096Z"
   },
   {
    "duration": 23,
    "start_time": "2022-09-16T11:08:25.111Z"
   },
   {
    "duration": 22,
    "start_time": "2022-09-16T11:08:53.200Z"
   },
   {
    "duration": 15,
    "start_time": "2022-09-16T11:11:24.292Z"
   },
   {
    "duration": 24,
    "start_time": "2022-09-16T11:12:28.905Z"
   },
   {
    "duration": 5,
    "start_time": "2022-09-16T11:14:26.382Z"
   },
   {
    "duration": 31,
    "start_time": "2022-09-16T11:18:35.705Z"
   },
   {
    "duration": 153,
    "start_time": "2022-09-16T11:19:31.965Z"
   },
   {
    "duration": 32,
    "start_time": "2022-09-16T11:19:32.120Z"
   },
   {
    "duration": 24,
    "start_time": "2022-09-16T11:19:32.153Z"
   },
   {
    "duration": 58,
    "start_time": "2022-09-16T11:19:32.179Z"
   },
   {
    "duration": 4,
    "start_time": "2022-09-16T11:19:32.238Z"
   },
   {
    "duration": 18,
    "start_time": "2022-09-16T11:20:22.070Z"
   },
   {
    "duration": 23,
    "start_time": "2022-09-16T11:20:56.286Z"
   },
   {
    "duration": 144,
    "start_time": "2022-09-16T11:21:22.402Z"
   },
   {
    "duration": 18,
    "start_time": "2022-09-16T11:21:22.548Z"
   },
   {
    "duration": 0,
    "start_time": "2022-09-16T11:21:22.568Z"
   },
   {
    "duration": 0,
    "start_time": "2022-09-16T11:21:22.569Z"
   },
   {
    "duration": 0,
    "start_time": "2022-09-16T11:21:22.570Z"
   },
   {
    "duration": 28,
    "start_time": "2022-09-16T11:33:00.971Z"
   },
   {
    "duration": 4,
    "start_time": "2022-09-16T11:36:59.862Z"
   },
   {
    "duration": 8,
    "start_time": "2022-09-16T11:39:57.098Z"
   },
   {
    "duration": 11,
    "start_time": "2022-09-16T11:40:05.483Z"
   },
   {
    "duration": 15,
    "start_time": "2022-09-16T11:40:34.464Z"
   },
   {
    "duration": 31,
    "start_time": "2022-09-16T11:41:26.760Z"
   },
   {
    "duration": 143,
    "start_time": "2022-09-16T11:41:44.765Z"
   },
   {
    "duration": 32,
    "start_time": "2022-09-16T11:41:44.910Z"
   },
   {
    "duration": 21,
    "start_time": "2022-09-16T11:41:44.943Z"
   },
   {
    "duration": 44,
    "start_time": "2022-09-16T11:41:44.966Z"
   },
   {
    "duration": 12,
    "start_time": "2022-09-16T11:41:45.011Z"
   },
   {
    "duration": 10,
    "start_time": "2022-09-16T11:42:34.046Z"
   },
   {
    "duration": 27,
    "start_time": "2022-09-16T11:42:42.436Z"
   },
   {
    "duration": 8,
    "start_time": "2022-09-16T11:49:11.148Z"
   },
   {
    "duration": 394,
    "start_time": "2022-09-16T11:49:34.340Z"
   },
   {
    "duration": 9,
    "start_time": "2022-09-16T11:50:27.891Z"
   },
   {
    "duration": 27,
    "start_time": "2022-09-16T11:54:21.911Z"
   },
   {
    "duration": 26,
    "start_time": "2022-09-16T11:54:39.381Z"
   },
   {
    "duration": 151,
    "start_time": "2022-09-16T11:54:51.202Z"
   },
   {
    "duration": 29,
    "start_time": "2022-09-16T11:54:51.355Z"
   },
   {
    "duration": 24,
    "start_time": "2022-09-16T11:54:51.385Z"
   },
   {
    "duration": 27,
    "start_time": "2022-09-16T11:54:51.411Z"
   },
   {
    "duration": 11,
    "start_time": "2022-09-16T11:54:51.440Z"
   },
   {
    "duration": 13,
    "start_time": "2022-09-16T11:54:51.452Z"
   },
   {
    "duration": 613,
    "start_time": "2022-09-16T11:54:51.467Z"
   },
   {
    "duration": 24,
    "start_time": "2022-09-16T11:56:52.288Z"
   },
   {
    "duration": 200,
    "start_time": "2022-09-16T11:56:58.161Z"
   },
   {
    "duration": 159,
    "start_time": "2022-09-16T11:57:13.208Z"
   },
   {
    "duration": 31,
    "start_time": "2022-09-16T11:57:13.369Z"
   },
   {
    "duration": 25,
    "start_time": "2022-09-16T11:57:13.402Z"
   },
   {
    "duration": 26,
    "start_time": "2022-09-16T11:57:13.429Z"
   },
   {
    "duration": 10,
    "start_time": "2022-09-16T11:57:13.457Z"
   },
   {
    "duration": 10,
    "start_time": "2022-09-16T11:57:13.468Z"
   },
   {
    "duration": 526,
    "start_time": "2022-09-16T11:57:13.479Z"
   },
   {
    "duration": 2,
    "start_time": "2022-09-16T11:58:25.549Z"
   },
   {
    "duration": 272,
    "start_time": "2022-09-16T11:58:27.766Z"
   },
   {
    "duration": 2,
    "start_time": "2022-09-16T11:58:37.897Z"
   },
   {
    "duration": 356,
    "start_time": "2022-09-16T11:58:42.238Z"
   },
   {
    "duration": 11,
    "start_time": "2022-09-16T11:59:36.813Z"
   },
   {
    "duration": 16,
    "start_time": "2022-09-16T12:00:10.723Z"
   },
   {
    "duration": 13,
    "start_time": "2022-09-16T12:00:18.028Z"
   },
   {
    "duration": 10,
    "start_time": "2022-09-16T12:00:29.332Z"
   },
   {
    "duration": 33,
    "start_time": "2022-09-16T12:04:33.127Z"
   },
   {
    "duration": 281,
    "start_time": "2022-09-16T12:04:56.965Z"
   },
   {
    "duration": 20,
    "start_time": "2022-09-16T12:05:40.150Z"
   },
   {
    "duration": 392,
    "start_time": "2022-09-16T12:05:55.676Z"
   },
   {
    "duration": 148,
    "start_time": "2022-09-16T12:06:02.290Z"
   },
   {
    "duration": 33,
    "start_time": "2022-09-16T12:06:02.440Z"
   },
   {
    "duration": 37,
    "start_time": "2022-09-16T12:06:02.474Z"
   },
   {
    "duration": 25,
    "start_time": "2022-09-16T12:06:02.513Z"
   },
   {
    "duration": 9,
    "start_time": "2022-09-16T12:06:02.540Z"
   },
   {
    "duration": 12,
    "start_time": "2022-09-16T12:06:02.550Z"
   },
   {
    "duration": 5,
    "start_time": "2022-09-16T12:06:02.563Z"
   },
   {
    "duration": 587,
    "start_time": "2022-09-16T12:06:02.570Z"
   },
   {
    "duration": 0,
    "start_time": "2022-09-16T12:06:03.159Z"
   },
   {
    "duration": 27,
    "start_time": "2022-09-16T12:06:26.164Z"
   },
   {
    "duration": 735,
    "start_time": "2022-09-16T12:06:33.923Z"
   },
   {
    "duration": 964,
    "start_time": "2022-09-16T12:06:44.235Z"
   },
   {
    "duration": 41,
    "start_time": "2022-09-16T12:09:14.640Z"
   },
   {
    "duration": 25,
    "start_time": "2022-09-16T12:09:29.159Z"
   },
   {
    "duration": 35,
    "start_time": "2022-09-16T12:09:45.942Z"
   },
   {
    "duration": 29,
    "start_time": "2022-09-16T12:10:15.806Z"
   },
   {
    "duration": 28,
    "start_time": "2022-09-16T12:11:01.271Z"
   },
   {
    "duration": 195,
    "start_time": "2022-09-16T12:11:15.490Z"
   },
   {
    "duration": 48,
    "start_time": "2022-09-16T12:11:15.688Z"
   },
   {
    "duration": 34,
    "start_time": "2022-09-16T12:11:15.738Z"
   },
   {
    "duration": 58,
    "start_time": "2022-09-16T12:11:15.775Z"
   },
   {
    "duration": 16,
    "start_time": "2022-09-16T12:11:15.835Z"
   },
   {
    "duration": 15,
    "start_time": "2022-09-16T12:11:15.854Z"
   },
   {
    "duration": 4,
    "start_time": "2022-09-16T12:11:15.871Z"
   },
   {
    "duration": 36,
    "start_time": "2022-09-16T12:11:15.877Z"
   },
   {
    "duration": 467,
    "start_time": "2022-09-16T12:11:15.915Z"
   },
   {
    "duration": 9,
    "start_time": "2022-09-16T12:11:32.036Z"
   },
   {
    "duration": 23,
    "start_time": "2022-09-16T12:12:00.291Z"
   },
   {
    "duration": 7,
    "start_time": "2022-09-16T12:12:05.922Z"
   },
   {
    "duration": 29,
    "start_time": "2022-09-16T12:12:23.497Z"
   },
   {
    "duration": 8,
    "start_time": "2022-09-16T12:24:21.850Z"
   },
   {
    "duration": 7,
    "start_time": "2022-09-16T12:25:14.904Z"
   },
   {
    "duration": 40,
    "start_time": "2022-09-16T12:25:26.160Z"
   },
   {
    "duration": 46,
    "start_time": "2022-09-16T12:26:02.094Z"
   },
   {
    "duration": 48,
    "start_time": "2022-09-16T12:26:35.471Z"
   },
   {
    "duration": 318,
    "start_time": "2022-09-16T12:28:55.075Z"
   },
   {
    "duration": 25,
    "start_time": "2022-09-16T12:29:35.068Z"
   },
   {
    "duration": 7,
    "start_time": "2022-09-16T12:32:38.279Z"
   },
   {
    "duration": 22,
    "start_time": "2022-09-16T12:32:43.094Z"
   },
   {
    "duration": 19,
    "start_time": "2022-09-16T12:34:00.686Z"
   },
   {
    "duration": 17,
    "start_time": "2022-09-16T12:34:05.172Z"
   },
   {
    "duration": 30,
    "start_time": "2022-09-16T12:34:14.463Z"
   },
   {
    "duration": 21,
    "start_time": "2022-09-16T12:34:43.845Z"
   },
   {
    "duration": 20,
    "start_time": "2022-09-16T12:34:55.452Z"
   },
   {
    "duration": 27,
    "start_time": "2022-09-16T12:38:55.758Z"
   },
   {
    "duration": 20,
    "start_time": "2022-09-16T12:42:44.629Z"
   },
   {
    "duration": 23,
    "start_time": "2022-09-16T12:43:06.594Z"
   },
   {
    "duration": 20,
    "start_time": "2022-09-16T12:43:14.534Z"
   },
   {
    "duration": 14,
    "start_time": "2022-09-16T12:43:25.504Z"
   },
   {
    "duration": 14,
    "start_time": "2022-09-16T12:43:30.232Z"
   },
   {
    "duration": 10,
    "start_time": "2022-09-16T12:43:44.768Z"
   },
   {
    "duration": 23,
    "start_time": "2022-09-16T12:43:51.503Z"
   },
   {
    "duration": 13,
    "start_time": "2022-09-16T12:44:04.471Z"
   },
   {
    "duration": 168,
    "start_time": "2022-09-16T12:44:18.469Z"
   },
   {
    "duration": 49,
    "start_time": "2022-09-16T12:44:18.641Z"
   },
   {
    "duration": 36,
    "start_time": "2022-09-16T12:44:18.692Z"
   },
   {
    "duration": 30,
    "start_time": "2022-09-16T12:44:18.730Z"
   },
   {
    "duration": 12,
    "start_time": "2022-09-16T12:44:18.762Z"
   },
   {
    "duration": 17,
    "start_time": "2022-09-16T12:44:18.775Z"
   },
   {
    "duration": 23,
    "start_time": "2022-09-16T12:44:18.793Z"
   },
   {
    "duration": 11,
    "start_time": "2022-09-16T12:44:18.817Z"
   },
   {
    "duration": 10,
    "start_time": "2022-09-16T12:44:18.829Z"
   },
   {
    "duration": 5,
    "start_time": "2022-09-16T12:44:18.841Z"
   },
   {
    "duration": 15,
    "start_time": "2022-09-16T12:44:18.848Z"
   },
   {
    "duration": 4,
    "start_time": "2022-09-16T12:44:23.631Z"
   },
   {
    "duration": 12,
    "start_time": "2022-09-16T12:44:27.625Z"
   },
   {
    "duration": 11,
    "start_time": "2022-09-16T12:44:42.958Z"
   },
   {
    "duration": 10,
    "start_time": "2022-09-16T12:44:51.853Z"
   },
   {
    "duration": 51,
    "start_time": "2022-09-19T08:44:19.914Z"
   },
   {
    "duration": 694,
    "start_time": "2022-09-19T08:44:25.929Z"
   },
   {
    "duration": 33,
    "start_time": "2022-09-19T08:44:26.624Z"
   },
   {
    "duration": 468,
    "start_time": "2022-09-19T08:44:26.658Z"
   },
   {
    "duration": 32,
    "start_time": "2022-09-19T08:44:27.128Z"
   },
   {
    "duration": 18,
    "start_time": "2022-09-19T08:44:27.162Z"
   },
   {
    "duration": 27,
    "start_time": "2022-09-19T08:44:27.182Z"
   },
   {
    "duration": 4,
    "start_time": "2022-09-19T08:44:27.210Z"
   },
   {
    "duration": 16,
    "start_time": "2022-09-19T08:44:27.215Z"
   },
   {
    "duration": 11,
    "start_time": "2022-09-19T08:44:27.233Z"
   },
   {
    "duration": 5,
    "start_time": "2022-09-19T08:44:27.247Z"
   },
   {
    "duration": 20,
    "start_time": "2022-09-19T08:44:27.253Z"
   },
   {
    "duration": 11,
    "start_time": "2022-09-19T08:45:10.909Z"
   },
   {
    "duration": 13,
    "start_time": "2022-09-19T08:45:53.219Z"
   },
   {
    "duration": 7,
    "start_time": "2022-09-19T08:47:04.417Z"
   },
   {
    "duration": 132,
    "start_time": "2022-09-19T10:06:43.624Z"
   },
   {
    "duration": 110,
    "start_time": "2022-09-19T10:07:08.757Z"
   },
   {
    "duration": 197,
    "start_time": "2022-09-19T10:07:12.478Z"
   },
   {
    "duration": 143,
    "start_time": "2022-09-19T10:07:19.269Z"
   },
   {
    "duration": 10,
    "start_time": "2022-09-19T10:43:53.912Z"
   },
   {
    "duration": 12,
    "start_time": "2022-09-19T10:44:12.269Z"
   },
   {
    "duration": 10,
    "start_time": "2022-09-19T10:44:29.845Z"
   },
   {
    "duration": 12,
    "start_time": "2022-09-19T10:44:43.437Z"
   },
   {
    "duration": 16,
    "start_time": "2022-09-19T10:45:08.725Z"
   },
   {
    "duration": 8,
    "start_time": "2022-09-19T10:45:28.600Z"
   },
   {
    "duration": 116,
    "start_time": "2022-09-19T10:45:47.474Z"
   },
   {
    "duration": 25,
    "start_time": "2022-09-19T10:54:01.702Z"
   },
   {
    "duration": 18,
    "start_time": "2022-09-19T10:56:17.042Z"
   },
   {
    "duration": 16,
    "start_time": "2022-09-19T10:56:48.330Z"
   },
   {
    "duration": 169,
    "start_time": "2022-09-19T11:01:05.064Z"
   },
   {
    "duration": 51,
    "start_time": "2022-09-19T11:01:05.235Z"
   },
   {
    "duration": 39,
    "start_time": "2022-09-19T11:01:05.288Z"
   },
   {
    "duration": 34,
    "start_time": "2022-09-19T11:01:05.329Z"
   },
   {
    "duration": 10,
    "start_time": "2022-09-19T11:01:05.364Z"
   },
   {
    "duration": 44,
    "start_time": "2022-09-19T11:01:05.375Z"
   },
   {
    "duration": 3,
    "start_time": "2022-09-19T11:01:05.421Z"
   },
   {
    "duration": 16,
    "start_time": "2022-09-19T11:01:05.425Z"
   },
   {
    "duration": 10,
    "start_time": "2022-09-19T11:01:05.442Z"
   },
   {
    "duration": 11,
    "start_time": "2022-09-19T11:01:05.454Z"
   },
   {
    "duration": 23,
    "start_time": "2022-09-19T11:01:05.466Z"
   },
   {
    "duration": 22,
    "start_time": "2022-09-19T11:45:03.604Z"
   },
   {
    "duration": 13,
    "start_time": "2022-09-19T11:45:19.736Z"
   },
   {
    "duration": 13,
    "start_time": "2022-09-19T11:45:47.709Z"
   },
   {
    "duration": 52,
    "start_time": "2022-09-19T11:47:28.628Z"
   },
   {
    "duration": 99,
    "start_time": "2022-09-19T11:47:38.723Z"
   },
   {
    "duration": 13,
    "start_time": "2022-09-19T11:47:47.331Z"
   },
   {
    "duration": 15,
    "start_time": "2022-09-19T11:49:51.835Z"
   },
   {
    "duration": 15,
    "start_time": "2022-09-19T11:50:18.667Z"
   },
   {
    "duration": 50,
    "start_time": "2022-09-19T11:51:32.955Z"
   },
   {
    "duration": 135,
    "start_time": "2022-09-19T11:51:39.849Z"
   },
   {
    "duration": 144,
    "start_time": "2022-09-19T11:52:18.609Z"
   },
   {
    "duration": 178,
    "start_time": "2022-09-19T11:53:10.203Z"
   },
   {
    "duration": 172,
    "start_time": "2022-09-19T11:53:17.563Z"
   },
   {
    "duration": 1368,
    "start_time": "2022-09-19T11:54:24.323Z"
   },
   {
    "duration": 1964,
    "start_time": "2022-09-19T11:55:26.851Z"
   },
   {
    "duration": 155,
    "start_time": "2022-09-19T11:57:45.823Z"
   },
   {
    "duration": 32,
    "start_time": "2022-09-19T11:57:45.979Z"
   },
   {
    "duration": 21,
    "start_time": "2022-09-19T11:57:46.012Z"
   },
   {
    "duration": 29,
    "start_time": "2022-09-19T11:57:46.035Z"
   },
   {
    "duration": 8,
    "start_time": "2022-09-19T11:57:46.065Z"
   },
   {
    "duration": 40,
    "start_time": "2022-09-19T11:57:46.075Z"
   },
   {
    "duration": 3,
    "start_time": "2022-09-19T11:57:46.117Z"
   },
   {
    "duration": 8,
    "start_time": "2022-09-19T11:57:46.121Z"
   },
   {
    "duration": 9,
    "start_time": "2022-09-19T11:57:46.131Z"
   },
   {
    "duration": 9,
    "start_time": "2022-09-19T11:57:46.142Z"
   },
   {
    "duration": 1539,
    "start_time": "2022-09-19T11:57:46.152Z"
   },
   {
    "duration": 213,
    "start_time": "2022-09-19T12:09:07.543Z"
   },
   {
    "duration": 153,
    "start_time": "2022-09-19T12:09:27.504Z"
   },
   {
    "duration": 135,
    "start_time": "2022-09-19T12:10:42.324Z"
   },
   {
    "duration": 17,
    "start_time": "2022-09-19T12:10:46.110Z"
   },
   {
    "duration": 9,
    "start_time": "2022-09-19T12:12:16.901Z"
   },
   {
    "duration": 9,
    "start_time": "2022-09-19T12:12:19.803Z"
   },
   {
    "duration": 160,
    "start_time": "2022-09-19T12:12:23.002Z"
   },
   {
    "duration": 36,
    "start_time": "2022-09-19T12:12:23.164Z"
   },
   {
    "duration": 25,
    "start_time": "2022-09-19T12:12:23.202Z"
   },
   {
    "duration": 31,
    "start_time": "2022-09-19T12:12:23.230Z"
   },
   {
    "duration": 9,
    "start_time": "2022-09-19T12:12:23.263Z"
   },
   {
    "duration": 55,
    "start_time": "2022-09-19T12:12:23.274Z"
   },
   {
    "duration": 4,
    "start_time": "2022-09-19T12:12:23.331Z"
   },
   {
    "duration": 11,
    "start_time": "2022-09-19T12:12:23.337Z"
   },
   {
    "duration": 10,
    "start_time": "2022-09-19T12:12:23.350Z"
   },
   {
    "duration": 8,
    "start_time": "2022-09-19T12:12:23.364Z"
   },
   {
    "duration": 20,
    "start_time": "2022-09-19T12:12:23.374Z"
   },
   {
    "duration": 192,
    "start_time": "2022-09-19T12:12:23.396Z"
   },
   {
    "duration": 10,
    "start_time": "2022-09-19T12:12:23.590Z"
   },
   {
    "duration": 13,
    "start_time": "2022-09-19T12:12:34.114Z"
   },
   {
    "duration": 86,
    "start_time": "2022-09-19T12:13:03.329Z"
   },
   {
    "duration": 17,
    "start_time": "2022-09-19T12:13:15.265Z"
   },
   {
    "duration": 17,
    "start_time": "2022-09-19T12:14:31.121Z"
   },
   {
    "duration": 155,
    "start_time": "2022-09-19T12:14:35.542Z"
   },
   {
    "duration": 33,
    "start_time": "2022-09-19T12:14:35.700Z"
   },
   {
    "duration": 22,
    "start_time": "2022-09-19T12:14:35.735Z"
   },
   {
    "duration": 31,
    "start_time": "2022-09-19T12:14:35.759Z"
   },
   {
    "duration": 9,
    "start_time": "2022-09-19T12:14:35.808Z"
   },
   {
    "duration": 30,
    "start_time": "2022-09-19T12:14:35.819Z"
   },
   {
    "duration": 3,
    "start_time": "2022-09-19T12:14:35.851Z"
   },
   {
    "duration": 14,
    "start_time": "2022-09-19T12:14:35.856Z"
   },
   {
    "duration": 8,
    "start_time": "2022-09-19T12:14:35.871Z"
   },
   {
    "duration": 19,
    "start_time": "2022-09-19T12:14:35.882Z"
   },
   {
    "duration": 20,
    "start_time": "2022-09-19T12:14:35.903Z"
   },
   {
    "duration": 155,
    "start_time": "2022-09-19T12:14:35.925Z"
   },
   {
    "duration": 33,
    "start_time": "2022-09-19T12:14:36.082Z"
   },
   {
    "duration": 15,
    "start_time": "2022-09-19T12:17:08.341Z"
   },
   {
    "duration": 161,
    "start_time": "2022-09-19T12:46:49.931Z"
   },
   {
    "duration": 216,
    "start_time": "2022-09-19T12:47:34.243Z"
   },
   {
    "duration": 27,
    "start_time": "2022-09-19T12:52:17.452Z"
   },
   {
    "duration": 4,
    "start_time": "2022-09-19T12:52:27.317Z"
   },
   {
    "duration": 153,
    "start_time": "2022-09-19T12:57:19.597Z"
   },
   {
    "duration": 140,
    "start_time": "2022-09-19T12:58:00.220Z"
   },
   {
    "duration": 269,
    "start_time": "2022-09-19T12:59:26.679Z"
   },
   {
    "duration": 2266,
    "start_time": "2022-09-19T13:05:49.225Z"
   },
   {
    "duration": 164,
    "start_time": "2022-09-19T13:06:01.024Z"
   },
   {
    "duration": 35,
    "start_time": "2022-09-19T13:06:01.190Z"
   },
   {
    "duration": 99,
    "start_time": "2022-09-19T13:06:01.227Z"
   },
   {
    "duration": 34,
    "start_time": "2022-09-19T13:06:01.328Z"
   },
   {
    "duration": 13,
    "start_time": "2022-09-19T13:06:01.364Z"
   },
   {
    "duration": 52,
    "start_time": "2022-09-19T13:06:01.379Z"
   },
   {
    "duration": 10,
    "start_time": "2022-09-19T13:06:01.433Z"
   },
   {
    "duration": 18,
    "start_time": "2022-09-19T13:06:01.444Z"
   },
   {
    "duration": 40,
    "start_time": "2022-09-19T13:06:01.463Z"
   },
   {
    "duration": 34,
    "start_time": "2022-09-19T13:06:01.506Z"
   },
   {
    "duration": 70,
    "start_time": "2022-09-19T13:06:01.541Z"
   },
   {
    "duration": 253,
    "start_time": "2022-09-19T13:06:01.612Z"
   },
   {
    "duration": 16,
    "start_time": "2022-09-19T13:06:01.866Z"
   },
   {
    "duration": 2033,
    "start_time": "2022-09-19T13:06:01.884Z"
   },
   {
    "duration": 13,
    "start_time": "2022-09-19T13:14:06.934Z"
   },
   {
    "duration": 68,
    "start_time": "2022-09-19T13:15:14.100Z"
   },
   {
    "duration": 17,
    "start_time": "2022-09-19T13:15:26.715Z"
   },
   {
    "duration": 15,
    "start_time": "2022-09-19T13:15:43.156Z"
   },
   {
    "duration": 12,
    "start_time": "2022-09-19T13:15:49.723Z"
   },
   {
    "duration": 17,
    "start_time": "2022-09-19T13:16:52.850Z"
   },
   {
    "duration": 16,
    "start_time": "2022-09-19T13:17:39.032Z"
   },
   {
    "duration": 18,
    "start_time": "2022-09-19T13:18:25.449Z"
   },
   {
    "duration": 13,
    "start_time": "2022-09-19T13:18:46.655Z"
   },
   {
    "duration": 16,
    "start_time": "2022-09-19T13:20:03.621Z"
   },
   {
    "duration": 17,
    "start_time": "2022-09-19T13:20:12.574Z"
   },
   {
    "duration": 18,
    "start_time": "2022-09-19T13:20:47.212Z"
   },
   {
    "duration": 16,
    "start_time": "2022-09-19T13:21:07.540Z"
   },
   {
    "duration": 436,
    "start_time": "2022-09-19T13:21:59.171Z"
   },
   {
    "duration": 330,
    "start_time": "2022-09-19T13:28:03.421Z"
   },
   {
    "duration": 408,
    "start_time": "2022-09-20T07:30:03.819Z"
   },
   {
    "duration": 380,
    "start_time": "2022-09-20T07:30:12.367Z"
   },
   {
    "duration": 423,
    "start_time": "2022-09-20T07:30:23.350Z"
   },
   {
    "duration": 155,
    "start_time": "2022-09-20T07:39:53.208Z"
   },
   {
    "duration": 167,
    "start_time": "2022-09-20T07:40:17.998Z"
   },
   {
    "duration": 61,
    "start_time": "2022-09-20T07:40:18.167Z"
   },
   {
    "duration": 27,
    "start_time": "2022-09-20T07:40:18.230Z"
   },
   {
    "duration": 26,
    "start_time": "2022-09-20T07:40:18.259Z"
   },
   {
    "duration": 8,
    "start_time": "2022-09-20T07:40:18.286Z"
   },
   {
    "duration": 38,
    "start_time": "2022-09-20T07:40:18.296Z"
   },
   {
    "duration": 3,
    "start_time": "2022-09-20T07:40:18.336Z"
   },
   {
    "duration": 18,
    "start_time": "2022-09-20T07:40:18.340Z"
   },
   {
    "duration": 9,
    "start_time": "2022-09-20T07:40:18.360Z"
   },
   {
    "duration": 8,
    "start_time": "2022-09-20T07:40:18.370Z"
   },
   {
    "duration": 21,
    "start_time": "2022-09-20T07:40:18.379Z"
   },
   {
    "duration": 223,
    "start_time": "2022-09-20T07:40:18.402Z"
   },
   {
    "duration": 17,
    "start_time": "2022-09-20T07:40:18.627Z"
   },
   {
    "duration": 242,
    "start_time": "2022-09-20T07:40:18.645Z"
   },
   {
    "duration": 146,
    "start_time": "2022-09-20T07:41:01.031Z"
   },
   {
    "duration": 157,
    "start_time": "2022-09-20T07:43:31.329Z"
   },
   {
    "duration": 36,
    "start_time": "2022-09-20T07:43:31.488Z"
   },
   {
    "duration": 26,
    "start_time": "2022-09-20T07:43:31.525Z"
   },
   {
    "duration": 29,
    "start_time": "2022-09-20T07:43:31.553Z"
   },
   {
    "duration": 8,
    "start_time": "2022-09-20T07:43:31.584Z"
   },
   {
    "duration": 40,
    "start_time": "2022-09-20T07:43:31.593Z"
   },
   {
    "duration": 2,
    "start_time": "2022-09-20T07:43:31.635Z"
   },
   {
    "duration": 19,
    "start_time": "2022-09-20T07:43:31.638Z"
   },
   {
    "duration": 17,
    "start_time": "2022-09-20T07:43:31.658Z"
   },
   {
    "duration": 6,
    "start_time": "2022-09-20T07:43:31.677Z"
   },
   {
    "duration": 42,
    "start_time": "2022-09-20T07:43:31.685Z"
   },
   {
    "duration": 235,
    "start_time": "2022-09-20T07:43:31.729Z"
   },
   {
    "duration": 16,
    "start_time": "2022-09-20T07:43:31.966Z"
   },
   {
    "duration": 441,
    "start_time": "2022-09-20T07:43:31.984Z"
   },
   {
    "duration": 8,
    "start_time": "2022-09-20T08:08:59.862Z"
   },
   {
    "duration": 25,
    "start_time": "2022-09-20T08:09:06.922Z"
   },
   {
    "duration": 5,
    "start_time": "2022-09-20T08:19:22.497Z"
   },
   {
    "duration": 149,
    "start_time": "2022-09-20T08:19:26.002Z"
   },
   {
    "duration": 34,
    "start_time": "2022-09-20T08:19:26.153Z"
   },
   {
    "duration": 31,
    "start_time": "2022-09-20T08:19:26.189Z"
   },
   {
    "duration": 27,
    "start_time": "2022-09-20T08:19:26.222Z"
   },
   {
    "duration": 9,
    "start_time": "2022-09-20T08:19:26.251Z"
   },
   {
    "duration": 27,
    "start_time": "2022-09-20T08:19:26.261Z"
   },
   {
    "duration": 21,
    "start_time": "2022-09-20T08:19:26.289Z"
   },
   {
    "duration": 9,
    "start_time": "2022-09-20T08:19:26.311Z"
   },
   {
    "duration": 8,
    "start_time": "2022-09-20T08:19:26.322Z"
   },
   {
    "duration": 7,
    "start_time": "2022-09-20T08:19:26.333Z"
   },
   {
    "duration": 18,
    "start_time": "2022-09-20T08:19:26.341Z"
   },
   {
    "duration": 230,
    "start_time": "2022-09-20T08:19:26.360Z"
   },
   {
    "duration": 30,
    "start_time": "2022-09-20T08:19:26.592Z"
   },
   {
    "duration": 429,
    "start_time": "2022-09-20T08:19:26.623Z"
   },
   {
    "duration": 59,
    "start_time": "2022-09-20T08:19:27.053Z"
   },
   {
    "duration": 12,
    "start_time": "2022-09-20T08:19:41.409Z"
   },
   {
    "duration": 42,
    "start_time": "2022-09-20T08:19:49.840Z"
   },
   {
    "duration": 9,
    "start_time": "2022-09-20T08:20:32.224Z"
   },
   {
    "duration": 35,
    "start_time": "2022-09-20T08:20:43.440Z"
   },
   {
    "duration": 12,
    "start_time": "2022-09-20T08:21:00.072Z"
   },
   {
    "duration": 147,
    "start_time": "2022-09-20T08:21:49.640Z"
   },
   {
    "duration": 130,
    "start_time": "2022-09-20T08:21:57.658Z"
   },
   {
    "duration": 12,
    "start_time": "2022-09-20T08:24:22.083Z"
   },
   {
    "duration": 155,
    "start_time": "2022-09-20T08:24:43.705Z"
   },
   {
    "duration": 128,
    "start_time": "2022-09-20T08:30:37.108Z"
   },
   {
    "duration": 37,
    "start_time": "2022-09-20T08:33:04.125Z"
   },
   {
    "duration": 232,
    "start_time": "2022-09-20T08:33:21.348Z"
   },
   {
    "duration": 11,
    "start_time": "2022-09-20T08:48:15.688Z"
   },
   {
    "duration": 107,
    "start_time": "2022-09-20T08:48:29.576Z"
   },
   {
    "duration": 1323,
    "start_time": "2022-09-20T08:48:52.721Z"
   },
   {
    "duration": 170,
    "start_time": "2022-09-20T08:49:05.358Z"
   },
   {
    "duration": 221,
    "start_time": "2022-09-20T08:49:20.190Z"
   },
   {
    "duration": 205,
    "start_time": "2022-09-20T08:53:21.473Z"
   },
   {
    "duration": 284,
    "start_time": "2022-09-20T08:54:15.072Z"
   },
   {
    "duration": 368,
    "start_time": "2022-09-20T08:54:24.071Z"
   },
   {
    "duration": 265,
    "start_time": "2022-09-20T08:55:17.047Z"
   },
   {
    "duration": 267,
    "start_time": "2022-09-20T08:55:49.495Z"
   },
   {
    "duration": 283,
    "start_time": "2022-09-20T08:56:13.981Z"
   },
   {
    "duration": 294,
    "start_time": "2022-09-20T08:56:38.445Z"
   },
   {
    "duration": 374,
    "start_time": "2022-09-20T09:00:40.449Z"
   },
   {
    "duration": 395,
    "start_time": "2022-09-20T09:03:19.172Z"
   },
   {
    "duration": 291,
    "start_time": "2022-09-20T09:03:25.460Z"
   },
   {
    "duration": 173,
    "start_time": "2022-09-20T09:03:43.307Z"
   },
   {
    "duration": 47,
    "start_time": "2022-09-20T09:03:43.481Z"
   },
   {
    "duration": 26,
    "start_time": "2022-09-20T09:03:43.529Z"
   },
   {
    "duration": 31,
    "start_time": "2022-09-20T09:03:43.557Z"
   },
   {
    "duration": 9,
    "start_time": "2022-09-20T09:03:43.590Z"
   },
   {
    "duration": 46,
    "start_time": "2022-09-20T09:03:43.600Z"
   },
   {
    "duration": 4,
    "start_time": "2022-09-20T09:03:43.647Z"
   },
   {
    "duration": 11,
    "start_time": "2022-09-20T09:03:43.652Z"
   },
   {
    "duration": 12,
    "start_time": "2022-09-20T09:03:43.664Z"
   },
   {
    "duration": 11,
    "start_time": "2022-09-20T09:03:43.679Z"
   },
   {
    "duration": 31,
    "start_time": "2022-09-20T09:03:43.692Z"
   },
   {
    "duration": 226,
    "start_time": "2022-09-20T09:03:43.724Z"
   },
   {
    "duration": 16,
    "start_time": "2022-09-20T09:03:43.952Z"
   },
   {
    "duration": 508,
    "start_time": "2022-09-20T09:03:43.970Z"
   },
   {
    "duration": 198,
    "start_time": "2022-09-20T09:03:44.480Z"
   },
   {
    "duration": 319,
    "start_time": "2022-09-20T09:03:44.680Z"
   },
   {
    "duration": 287,
    "start_time": "2022-09-20T09:03:45.001Z"
   },
   {
    "duration": 319,
    "start_time": "2022-09-20T09:03:45.290Z"
   },
   {
    "duration": 23,
    "start_time": "2022-09-20T09:04:16.803Z"
   },
   {
    "duration": 18,
    "start_time": "2022-09-20T09:04:32.340Z"
   },
   {
    "duration": 43,
    "start_time": "2022-09-20T09:04:39.387Z"
   },
   {
    "duration": 511,
    "start_time": "2022-09-20T11:38:25.749Z"
   },
   {
    "duration": 35,
    "start_time": "2022-09-20T11:38:26.262Z"
   },
   {
    "duration": 283,
    "start_time": "2022-09-20T11:38:26.299Z"
   },
   {
    "duration": 31,
    "start_time": "2022-09-20T11:38:26.584Z"
   },
   {
    "duration": 7,
    "start_time": "2022-09-20T11:38:26.618Z"
   },
   {
    "duration": 26,
    "start_time": "2022-09-20T11:38:26.627Z"
   },
   {
    "duration": 3,
    "start_time": "2022-09-20T11:38:26.654Z"
   },
   {
    "duration": 7,
    "start_time": "2022-09-20T11:38:26.659Z"
   },
   {
    "duration": 9,
    "start_time": "2022-09-20T11:38:26.667Z"
   },
   {
    "duration": 5,
    "start_time": "2022-09-20T11:38:26.701Z"
   },
   {
    "duration": 21,
    "start_time": "2022-09-20T11:38:26.707Z"
   },
   {
    "duration": 226,
    "start_time": "2022-09-20T11:38:26.729Z"
   },
   {
    "duration": 16,
    "start_time": "2022-09-20T11:38:26.957Z"
   },
   {
    "duration": 425,
    "start_time": "2022-09-20T11:38:26.976Z"
   },
   {
    "duration": 209,
    "start_time": "2022-09-20T11:38:27.403Z"
   },
   {
    "duration": 327,
    "start_time": "2022-09-20T11:38:27.614Z"
   },
   {
    "duration": 294,
    "start_time": "2022-09-20T11:38:27.943Z"
   },
   {
    "duration": 36,
    "start_time": "2022-09-20T11:39:41.903Z"
   },
   {
    "duration": 41,
    "start_time": "2022-09-20T11:49:02.149Z"
   },
   {
    "duration": 11,
    "start_time": "2022-09-20T11:49:12.736Z"
   },
   {
    "duration": 773,
    "start_time": "2022-09-20T12:16:30.015Z"
   },
   {
    "duration": 2,
    "start_time": "2022-09-20T12:22:10.366Z"
   },
   {
    "duration": 145,
    "start_time": "2022-09-20T12:22:37.266Z"
   },
   {
    "duration": 2,
    "start_time": "2022-09-20T12:25:54.038Z"
   },
   {
    "duration": 15,
    "start_time": "2022-09-20T12:26:01.940Z"
   },
   {
    "duration": 26,
    "start_time": "2022-09-20T12:26:06.444Z"
   },
   {
    "duration": 522,
    "start_time": "2022-09-20T12:28:59.545Z"
   },
   {
    "duration": 145,
    "start_time": "2022-09-20T12:36:29.239Z"
   },
   {
    "duration": 15,
    "start_time": "2022-09-20T12:36:29.386Z"
   },
   {
    "duration": 25,
    "start_time": "2022-09-20T12:36:29.402Z"
   },
   {
    "duration": 33,
    "start_time": "2022-09-20T12:36:29.429Z"
   },
   {
    "duration": 30,
    "start_time": "2022-09-20T12:36:29.463Z"
   },
   {
    "duration": 53,
    "start_time": "2022-09-20T12:36:29.495Z"
   },
   {
    "duration": 8,
    "start_time": "2022-09-20T12:36:29.549Z"
   },
   {
    "duration": 28,
    "start_time": "2022-09-20T12:36:29.558Z"
   },
   {
    "duration": 3,
    "start_time": "2022-09-20T12:36:29.587Z"
   },
   {
    "duration": 31,
    "start_time": "2022-09-20T12:36:29.592Z"
   },
   {
    "duration": 6,
    "start_time": "2022-09-20T12:36:29.624Z"
   },
   {
    "duration": 7,
    "start_time": "2022-09-20T12:36:29.631Z"
   },
   {
    "duration": 19,
    "start_time": "2022-09-20T12:36:29.640Z"
   },
   {
    "duration": 244,
    "start_time": "2022-09-20T12:36:29.660Z"
   },
   {
    "duration": 22,
    "start_time": "2022-09-20T12:36:29.906Z"
   },
   {
    "duration": 484,
    "start_time": "2022-09-20T12:36:29.930Z"
   },
   {
    "duration": 157,
    "start_time": "2022-09-20T12:36:30.415Z"
   },
   {
    "duration": 296,
    "start_time": "2022-09-20T12:36:30.574Z"
   },
   {
    "duration": 292,
    "start_time": "2022-09-20T12:36:30.872Z"
   },
   {
    "duration": 30,
    "start_time": "2022-09-20T13:01:42.596Z"
   },
   {
    "duration": 182,
    "start_time": "2022-09-20T13:02:38.997Z"
   },
   {
    "duration": 13,
    "start_time": "2022-09-20T13:02:39.181Z"
   },
   {
    "duration": 40,
    "start_time": "2022-09-20T13:02:39.196Z"
   },
   {
    "duration": 31,
    "start_time": "2022-09-20T13:02:39.238Z"
   },
   {
    "duration": 25,
    "start_time": "2022-09-20T13:02:39.271Z"
   },
   {
    "duration": 43,
    "start_time": "2022-09-20T13:02:39.297Z"
   },
   {
    "duration": 8,
    "start_time": "2022-09-20T13:02:39.342Z"
   },
   {
    "duration": 27,
    "start_time": "2022-09-20T13:02:39.352Z"
   },
   {
    "duration": 9,
    "start_time": "2022-09-20T13:02:39.381Z"
   },
   {
    "duration": 19,
    "start_time": "2022-09-20T13:02:39.392Z"
   },
   {
    "duration": 32,
    "start_time": "2022-09-20T13:02:39.412Z"
   },
   {
    "duration": 20,
    "start_time": "2022-09-20T13:02:39.446Z"
   },
   {
    "duration": 22,
    "start_time": "2022-09-20T13:02:39.468Z"
   },
   {
    "duration": 205,
    "start_time": "2022-09-20T13:02:39.491Z"
   },
   {
    "duration": 15,
    "start_time": "2022-09-20T13:02:39.698Z"
   },
   {
    "duration": 399,
    "start_time": "2022-09-20T13:02:39.722Z"
   },
   {
    "duration": 153,
    "start_time": "2022-09-20T13:02:40.126Z"
   },
   {
    "duration": 353,
    "start_time": "2022-09-20T13:02:40.280Z"
   },
   {
    "duration": 257,
    "start_time": "2022-09-20T13:02:40.634Z"
   },
   {
    "duration": 67,
    "start_time": "2022-09-20T13:20:14.941Z"
   },
   {
    "duration": 3165,
    "start_time": "2022-09-20T13:20:25.396Z"
   },
   {
    "duration": 2612,
    "start_time": "2022-09-20T13:20:29.126Z"
   },
   {
    "duration": 14,
    "start_time": "2022-09-20T13:21:08.612Z"
   },
   {
    "duration": 2113,
    "start_time": "2022-09-20T13:21:33.555Z"
   },
   {
    "duration": 10,
    "start_time": "2022-09-20T13:23:07.249Z"
   },
   {
    "duration": 2218,
    "start_time": "2022-09-20T13:23:15.777Z"
   },
   {
    "duration": 42,
    "start_time": "2022-09-20T13:23:29.608Z"
   },
   {
    "duration": 36,
    "start_time": "2022-09-20T13:23:46.857Z"
   },
   {
    "duration": 12,
    "start_time": "2022-09-20T13:23:56.016Z"
   },
   {
    "duration": 42,
    "start_time": "2022-09-20T13:24:13.999Z"
   },
   {
    "duration": 28,
    "start_time": "2022-09-20T13:24:35.793Z"
   },
   {
    "duration": 144,
    "start_time": "2022-09-20T13:24:45.255Z"
   },
   {
    "duration": 13,
    "start_time": "2022-09-20T13:24:45.401Z"
   },
   {
    "duration": 30,
    "start_time": "2022-09-20T13:24:45.415Z"
   },
   {
    "duration": 34,
    "start_time": "2022-09-20T13:24:45.447Z"
   },
   {
    "duration": 52,
    "start_time": "2022-09-20T13:24:45.483Z"
   },
   {
    "duration": 25,
    "start_time": "2022-09-20T13:24:45.537Z"
   },
   {
    "duration": 8,
    "start_time": "2022-09-20T13:24:45.563Z"
   },
   {
    "duration": 41,
    "start_time": "2022-09-20T13:24:45.572Z"
   },
   {
    "duration": 27,
    "start_time": "2022-09-20T13:24:45.614Z"
   },
   {
    "duration": 10,
    "start_time": "2022-09-20T13:24:45.644Z"
   },
   {
    "duration": 17,
    "start_time": "2022-09-20T13:24:45.655Z"
   },
   {
    "duration": 15,
    "start_time": "2022-09-20T13:24:45.674Z"
   },
   {
    "duration": 21,
    "start_time": "2022-09-20T13:24:45.690Z"
   },
   {
    "duration": 38,
    "start_time": "2022-09-20T13:24:45.713Z"
   },
   {
    "duration": 216,
    "start_time": "2022-09-20T13:24:45.753Z"
   },
   {
    "duration": 16,
    "start_time": "2022-09-20T13:24:45.971Z"
   },
   {
    "duration": 428,
    "start_time": "2022-09-20T13:24:45.988Z"
   },
   {
    "duration": 150,
    "start_time": "2022-09-20T13:24:46.418Z"
   },
   {
    "duration": 284,
    "start_time": "2022-09-20T13:24:46.570Z"
   },
   {
    "duration": 276,
    "start_time": "2022-09-20T13:24:46.855Z"
   },
   {
    "duration": 130,
    "start_time": "2022-09-20T13:25:45.486Z"
   },
   {
    "duration": 162,
    "start_time": "2022-09-20T13:25:48.998Z"
   },
   {
    "duration": 21,
    "start_time": "2022-09-20T13:25:49.162Z"
   },
   {
    "duration": 55,
    "start_time": "2022-09-20T13:25:49.185Z"
   },
   {
    "duration": 34,
    "start_time": "2022-09-20T13:25:49.243Z"
   },
   {
    "duration": 28,
    "start_time": "2022-09-20T13:25:49.278Z"
   },
   {
    "duration": 33,
    "start_time": "2022-09-20T13:25:49.324Z"
   },
   {
    "duration": 8,
    "start_time": "2022-09-20T13:25:49.358Z"
   },
   {
    "duration": 41,
    "start_time": "2022-09-20T13:25:49.368Z"
   },
   {
    "duration": 26,
    "start_time": "2022-09-20T13:25:49.411Z"
   },
   {
    "duration": 3,
    "start_time": "2022-09-20T13:25:49.440Z"
   },
   {
    "duration": 9,
    "start_time": "2022-09-20T13:25:49.444Z"
   },
   {
    "duration": 14,
    "start_time": "2022-09-20T13:25:49.455Z"
   },
   {
    "duration": 7,
    "start_time": "2022-09-20T13:25:49.471Z"
   },
   {
    "duration": 25,
    "start_time": "2022-09-20T13:25:49.480Z"
   },
   {
    "duration": 243,
    "start_time": "2022-09-20T13:25:49.506Z"
   },
   {
    "duration": 18,
    "start_time": "2022-09-20T13:25:49.751Z"
   },
   {
    "duration": 439,
    "start_time": "2022-09-20T13:25:49.770Z"
   },
   {
    "duration": 171,
    "start_time": "2022-09-20T13:25:50.211Z"
   },
   {
    "duration": 289,
    "start_time": "2022-09-20T13:25:50.384Z"
   },
   {
    "duration": 281,
    "start_time": "2022-09-20T13:25:50.674Z"
   },
   {
    "duration": 36,
    "start_time": "2022-09-20T13:28:03.232Z"
   },
   {
    "duration": 16,
    "start_time": "2022-09-20T13:32:08.805Z"
   },
   {
    "duration": 143,
    "start_time": "2022-09-20T13:32:12.075Z"
   },
   {
    "duration": 22,
    "start_time": "2022-09-20T13:32:12.220Z"
   },
   {
    "duration": 7,
    "start_time": "2022-09-20T13:32:12.244Z"
   },
   {
    "duration": 0,
    "start_time": "2022-09-20T13:32:12.253Z"
   },
   {
    "duration": 1,
    "start_time": "2022-09-20T13:32:12.254Z"
   },
   {
    "duration": 0,
    "start_time": "2022-09-20T13:32:12.256Z"
   },
   {
    "duration": 0,
    "start_time": "2022-09-20T13:32:12.257Z"
   },
   {
    "duration": 0,
    "start_time": "2022-09-20T13:32:12.259Z"
   },
   {
    "duration": 0,
    "start_time": "2022-09-20T13:32:12.260Z"
   },
   {
    "duration": 0,
    "start_time": "2022-09-20T13:32:12.262Z"
   },
   {
    "duration": 0,
    "start_time": "2022-09-20T13:32:12.263Z"
   },
   {
    "duration": 0,
    "start_time": "2022-09-20T13:32:12.264Z"
   },
   {
    "duration": 0,
    "start_time": "2022-09-20T13:32:12.266Z"
   },
   {
    "duration": 0,
    "start_time": "2022-09-20T13:32:12.267Z"
   },
   {
    "duration": 0,
    "start_time": "2022-09-20T13:32:12.268Z"
   },
   {
    "duration": 0,
    "start_time": "2022-09-20T13:32:12.270Z"
   },
   {
    "duration": 0,
    "start_time": "2022-09-20T13:32:12.271Z"
   },
   {
    "duration": 0,
    "start_time": "2022-09-20T13:32:12.272Z"
   },
   {
    "duration": 0,
    "start_time": "2022-09-20T13:32:12.274Z"
   },
   {
    "duration": 0,
    "start_time": "2022-09-20T13:32:12.275Z"
   },
   {
    "duration": 7,
    "start_time": "2022-09-20T13:32:23.875Z"
   },
   {
    "duration": 7,
    "start_time": "2022-09-20T13:32:45.383Z"
   },
   {
    "duration": 160,
    "start_time": "2022-09-20T13:32:48.755Z"
   },
   {
    "duration": 27,
    "start_time": "2022-09-20T13:32:48.918Z"
   },
   {
    "duration": 35,
    "start_time": "2022-09-20T13:32:48.947Z"
   },
   {
    "duration": 0,
    "start_time": "2022-09-20T13:32:48.984Z"
   },
   {
    "duration": 0,
    "start_time": "2022-09-20T13:32:48.986Z"
   },
   {
    "duration": 0,
    "start_time": "2022-09-20T13:32:48.988Z"
   },
   {
    "duration": 0,
    "start_time": "2022-09-20T13:32:48.989Z"
   },
   {
    "duration": 0,
    "start_time": "2022-09-20T13:32:48.991Z"
   },
   {
    "duration": 0,
    "start_time": "2022-09-20T13:32:48.992Z"
   },
   {
    "duration": 0,
    "start_time": "2022-09-20T13:32:48.993Z"
   },
   {
    "duration": 0,
    "start_time": "2022-09-20T13:32:48.995Z"
   },
   {
    "duration": 0,
    "start_time": "2022-09-20T13:32:48.996Z"
   },
   {
    "duration": 0,
    "start_time": "2022-09-20T13:32:48.998Z"
   },
   {
    "duration": 0,
    "start_time": "2022-09-20T13:32:49.000Z"
   },
   {
    "duration": 0,
    "start_time": "2022-09-20T13:32:49.001Z"
   },
   {
    "duration": 0,
    "start_time": "2022-09-20T13:32:49.002Z"
   },
   {
    "duration": 0,
    "start_time": "2022-09-20T13:32:49.004Z"
   },
   {
    "duration": 0,
    "start_time": "2022-09-20T13:32:49.012Z"
   },
   {
    "duration": 0,
    "start_time": "2022-09-20T13:32:49.022Z"
   },
   {
    "duration": 0,
    "start_time": "2022-09-20T13:32:49.023Z"
   },
   {
    "duration": 7,
    "start_time": "2022-09-20T13:32:57.980Z"
   },
   {
    "duration": 7,
    "start_time": "2022-09-20T13:33:14.907Z"
   },
   {
    "duration": 13,
    "start_time": "2022-09-20T13:33:33.475Z"
   },
   {
    "duration": 8,
    "start_time": "2022-09-20T13:33:34.879Z"
   },
   {
    "duration": 17,
    "start_time": "2022-09-20T13:33:40.700Z"
   },
   {
    "duration": 31,
    "start_time": "2022-09-20T13:33:41.639Z"
   },
   {
    "duration": 147,
    "start_time": "2022-09-20T13:33:46.698Z"
   },
   {
    "duration": 14,
    "start_time": "2022-09-20T13:33:46.847Z"
   },
   {
    "duration": 28,
    "start_time": "2022-09-20T13:33:46.863Z"
   },
   {
    "duration": 63,
    "start_time": "2022-09-20T13:33:46.893Z"
   },
   {
    "duration": 29,
    "start_time": "2022-09-20T13:33:46.957Z"
   },
   {
    "duration": 49,
    "start_time": "2022-09-20T13:33:46.988Z"
   },
   {
    "duration": 9,
    "start_time": "2022-09-20T13:33:47.039Z"
   },
   {
    "duration": 28,
    "start_time": "2022-09-20T13:33:47.049Z"
   },
   {
    "duration": 23,
    "start_time": "2022-09-20T13:33:47.078Z"
   },
   {
    "duration": 13,
    "start_time": "2022-09-20T13:33:47.125Z"
   },
   {
    "duration": 10,
    "start_time": "2022-09-20T13:33:47.140Z"
   },
   {
    "duration": 10,
    "start_time": "2022-09-20T13:33:47.151Z"
   },
   {
    "duration": 9,
    "start_time": "2022-09-20T13:33:47.163Z"
   },
   {
    "duration": 21,
    "start_time": "2022-09-20T13:33:47.174Z"
   },
   {
    "duration": 234,
    "start_time": "2022-09-20T13:33:47.196Z"
   },
   {
    "duration": 21,
    "start_time": "2022-09-20T13:33:47.431Z"
   },
   {
    "duration": 447,
    "start_time": "2022-09-20T13:33:47.453Z"
   },
   {
    "duration": 258,
    "start_time": "2022-09-20T13:33:47.902Z"
   },
   {
    "duration": 289,
    "start_time": "2022-09-20T13:33:48.161Z"
   },
   {
    "duration": 263,
    "start_time": "2022-09-20T13:33:48.452Z"
   },
   {
    "duration": 51,
    "start_time": "2022-09-20T13:39:01.948Z"
   },
   {
    "duration": 26,
    "start_time": "2022-09-20T13:39:33.964Z"
   },
   {
    "duration": 714,
    "start_time": "2022-09-21T08:17:41.281Z"
   },
   {
    "duration": 15,
    "start_time": "2022-09-21T08:17:41.997Z"
   },
   {
    "duration": 47,
    "start_time": "2022-09-21T08:17:42.014Z"
   },
   {
    "duration": 55,
    "start_time": "2022-09-21T08:17:42.064Z"
   },
   {
    "duration": 494,
    "start_time": "2022-09-21T08:17:42.121Z"
   },
   {
    "duration": 38,
    "start_time": "2022-09-21T08:17:42.617Z"
   },
   {
    "duration": 9,
    "start_time": "2022-09-21T08:17:42.657Z"
   },
   {
    "duration": 29,
    "start_time": "2022-09-21T08:17:42.667Z"
   },
   {
    "duration": 59,
    "start_time": "2022-09-21T08:17:42.699Z"
   },
   {
    "duration": 4,
    "start_time": "2022-09-21T08:17:42.761Z"
   },
   {
    "duration": 12,
    "start_time": "2022-09-21T08:17:42.767Z"
   },
   {
    "duration": 15,
    "start_time": "2022-09-21T08:17:42.781Z"
   },
   {
    "duration": 10,
    "start_time": "2022-09-21T08:17:42.798Z"
   },
   {
    "duration": 32,
    "start_time": "2022-09-21T08:17:42.809Z"
   },
   {
    "duration": 253,
    "start_time": "2022-09-21T08:17:42.843Z"
   },
   {
    "duration": 20,
    "start_time": "2022-09-21T08:17:43.099Z"
   },
   {
    "duration": 501,
    "start_time": "2022-09-21T08:17:43.120Z"
   },
   {
    "duration": 169,
    "start_time": "2022-09-21T08:17:43.622Z"
   },
   {
    "duration": 307,
    "start_time": "2022-09-21T08:17:43.794Z"
   },
   {
    "duration": 304,
    "start_time": "2022-09-21T08:17:44.103Z"
   },
   {
    "duration": 384,
    "start_time": "2022-09-21T08:34:51.554Z"
   },
   {
    "duration": 304,
    "start_time": "2022-09-21T08:35:05.209Z"
   },
   {
    "duration": 173,
    "start_time": "2022-09-21T08:36:02.319Z"
   },
   {
    "duration": 240,
    "start_time": "2022-09-21T08:36:57.650Z"
   },
   {
    "duration": 284,
    "start_time": "2022-09-21T08:42:07.422Z"
   },
   {
    "duration": 312,
    "start_time": "2022-09-21T08:42:46.950Z"
   },
   {
    "duration": 341,
    "start_time": "2022-09-21T08:42:59.327Z"
   },
   {
    "duration": 10,
    "start_time": "2022-09-21T08:43:27.366Z"
   },
   {
    "duration": 365,
    "start_time": "2022-09-21T08:43:56.285Z"
   },
   {
    "duration": 143,
    "start_time": "2022-09-21T09:09:21.034Z"
   },
   {
    "duration": 14,
    "start_time": "2022-09-21T09:09:21.178Z"
   },
   {
    "duration": 26,
    "start_time": "2022-09-21T09:09:21.194Z"
   },
   {
    "duration": 36,
    "start_time": "2022-09-21T09:09:21.222Z"
   },
   {
    "duration": 30,
    "start_time": "2022-09-21T09:09:21.259Z"
   },
   {
    "duration": 44,
    "start_time": "2022-09-21T09:09:21.291Z"
   },
   {
    "duration": 9,
    "start_time": "2022-09-21T09:09:21.337Z"
   },
   {
    "duration": 36,
    "start_time": "2022-09-21T09:09:21.348Z"
   },
   {
    "duration": 20,
    "start_time": "2022-09-21T09:09:21.386Z"
   },
   {
    "duration": 5,
    "start_time": "2022-09-21T09:09:21.408Z"
   },
   {
    "duration": 19,
    "start_time": "2022-09-21T09:09:21.414Z"
   },
   {
    "duration": 16,
    "start_time": "2022-09-21T09:09:21.435Z"
   },
   {
    "duration": 23,
    "start_time": "2022-09-21T09:09:21.452Z"
   },
   {
    "duration": 25,
    "start_time": "2022-09-21T09:09:21.477Z"
   },
   {
    "duration": 213,
    "start_time": "2022-09-21T09:09:21.504Z"
   },
   {
    "duration": 22,
    "start_time": "2022-09-21T09:09:21.719Z"
   },
   {
    "duration": 504,
    "start_time": "2022-09-21T09:09:21.743Z"
   },
   {
    "duration": 156,
    "start_time": "2022-09-21T09:09:22.248Z"
   },
   {
    "duration": 297,
    "start_time": "2022-09-21T09:09:22.406Z"
   },
   {
    "duration": 268,
    "start_time": "2022-09-21T09:09:22.705Z"
   },
   {
    "duration": 154,
    "start_time": "2022-09-21T09:10:07.089Z"
   },
   {
    "duration": 15,
    "start_time": "2022-09-21T09:10:07.245Z"
   },
   {
    "duration": 26,
    "start_time": "2022-09-21T09:10:07.262Z"
   },
   {
    "duration": 59,
    "start_time": "2022-09-21T09:10:07.290Z"
   },
   {
    "duration": 28,
    "start_time": "2022-09-21T09:10:07.351Z"
   },
   {
    "duration": 26,
    "start_time": "2022-09-21T09:10:07.380Z"
   },
   {
    "duration": 32,
    "start_time": "2022-09-21T09:10:07.408Z"
   },
   {
    "duration": 26,
    "start_time": "2022-09-21T09:10:07.441Z"
   },
   {
    "duration": 20,
    "start_time": "2022-09-21T09:10:07.468Z"
   },
   {
    "duration": 2,
    "start_time": "2022-09-21T09:10:07.490Z"
   },
   {
    "duration": 8,
    "start_time": "2022-09-21T09:10:07.494Z"
   },
   {
    "duration": 30,
    "start_time": "2022-09-21T09:10:07.503Z"
   },
   {
    "duration": 7,
    "start_time": "2022-09-21T09:10:07.535Z"
   },
   {
    "duration": 19,
    "start_time": "2022-09-21T09:10:07.543Z"
   },
   {
    "duration": 232,
    "start_time": "2022-09-21T09:10:07.563Z"
   },
   {
    "duration": 16,
    "start_time": "2022-09-21T09:10:07.797Z"
   },
   {
    "duration": 428,
    "start_time": "2022-09-21T09:10:07.814Z"
   },
   {
    "duration": 150,
    "start_time": "2022-09-21T09:10:08.243Z"
   },
   {
    "duration": 378,
    "start_time": "2022-09-21T09:10:08.395Z"
   },
   {
    "duration": 277,
    "start_time": "2022-09-21T09:10:08.774Z"
   },
   {
    "duration": 50,
    "start_time": "2022-09-22T09:17:03.627Z"
   },
   {
    "duration": 832,
    "start_time": "2022-09-22T09:17:10.950Z"
   },
   {
    "duration": 13,
    "start_time": "2022-09-22T09:17:11.784Z"
   },
   {
    "duration": 34,
    "start_time": "2022-09-22T09:17:11.799Z"
   },
   {
    "duration": 33,
    "start_time": "2022-09-22T09:17:11.834Z"
   },
   {
    "duration": 457,
    "start_time": "2022-09-22T09:17:11.868Z"
   },
   {
    "duration": 29,
    "start_time": "2022-09-22T09:17:12.326Z"
   },
   {
    "duration": 10,
    "start_time": "2022-09-22T09:17:12.357Z"
   },
   {
    "duration": 26,
    "start_time": "2022-09-22T09:17:12.368Z"
   },
   {
    "duration": 24,
    "start_time": "2022-09-22T09:17:12.409Z"
   },
   {
    "duration": 3,
    "start_time": "2022-09-22T09:17:12.435Z"
   },
   {
    "duration": 7,
    "start_time": "2022-09-22T09:17:12.439Z"
   },
   {
    "duration": 7,
    "start_time": "2022-09-22T09:17:12.448Z"
   },
   {
    "duration": 5,
    "start_time": "2022-09-22T09:17:12.456Z"
   },
   {
    "duration": 17,
    "start_time": "2022-09-22T09:17:12.462Z"
   },
   {
    "duration": 264,
    "start_time": "2022-09-22T09:17:12.480Z"
   },
   {
    "duration": 15,
    "start_time": "2022-09-22T09:17:12.745Z"
   },
   {
    "duration": 467,
    "start_time": "2022-09-22T09:17:12.762Z"
   },
   {
    "duration": 149,
    "start_time": "2022-09-22T09:17:13.231Z"
   },
   {
    "duration": 304,
    "start_time": "2022-09-22T09:17:13.382Z"
   },
   {
    "duration": 252,
    "start_time": "2022-09-22T09:17:13.688Z"
   },
   {
    "duration": 20,
    "start_time": "2022-09-22T09:17:46.644Z"
   },
   {
    "duration": 24,
    "start_time": "2022-09-22T09:18:06.521Z"
   },
   {
    "duration": 33,
    "start_time": "2022-09-22T09:18:57.194Z"
   },
   {
    "duration": 44,
    "start_time": "2022-09-22T10:02:34.848Z"
   },
   {
    "duration": 165,
    "start_time": "2022-09-22T10:02:55.190Z"
   },
   {
    "duration": 13,
    "start_time": "2022-09-22T10:02:55.357Z"
   },
   {
    "duration": 26,
    "start_time": "2022-09-22T10:02:55.372Z"
   },
   {
    "duration": 38,
    "start_time": "2022-09-22T10:02:55.401Z"
   },
   {
    "duration": 27,
    "start_time": "2022-09-22T10:02:55.440Z"
   },
   {
    "duration": 58,
    "start_time": "2022-09-22T10:02:55.468Z"
   },
   {
    "duration": 11,
    "start_time": "2022-09-22T10:02:55.528Z"
   },
   {
    "duration": 0,
    "start_time": "2022-09-22T10:02:55.541Z"
   },
   {
    "duration": 0,
    "start_time": "2022-09-22T10:02:55.542Z"
   },
   {
    "duration": 0,
    "start_time": "2022-09-22T10:02:55.543Z"
   },
   {
    "duration": 0,
    "start_time": "2022-09-22T10:02:55.544Z"
   },
   {
    "duration": 0,
    "start_time": "2022-09-22T10:02:55.545Z"
   },
   {
    "duration": 0,
    "start_time": "2022-09-22T10:02:55.545Z"
   },
   {
    "duration": 0,
    "start_time": "2022-09-22T10:02:55.546Z"
   },
   {
    "duration": 0,
    "start_time": "2022-09-22T10:02:55.547Z"
   },
   {
    "duration": 0,
    "start_time": "2022-09-22T10:02:55.548Z"
   },
   {
    "duration": 0,
    "start_time": "2022-09-22T10:02:55.549Z"
   },
   {
    "duration": 0,
    "start_time": "2022-09-22T10:02:55.550Z"
   },
   {
    "duration": 0,
    "start_time": "2022-09-22T10:02:55.551Z"
   },
   {
    "duration": 0,
    "start_time": "2022-09-22T10:02:55.552Z"
   },
   {
    "duration": 11,
    "start_time": "2022-09-22T10:03:49.836Z"
   },
   {
    "duration": 14,
    "start_time": "2022-09-22T10:04:16.451Z"
   },
   {
    "duration": 24,
    "start_time": "2022-09-22T10:04:27.099Z"
   },
   {
    "duration": 15,
    "start_time": "2022-09-22T10:04:44.666Z"
   },
   {
    "duration": 51,
    "start_time": "2022-09-22T10:06:58.639Z"
   },
   {
    "duration": 61,
    "start_time": "2022-09-22T10:07:05.999Z"
   },
   {
    "duration": 46,
    "start_time": "2022-09-22T10:07:43.750Z"
   },
   {
    "duration": 752,
    "start_time": "2022-11-10T12:41:15.645Z"
   },
   {
    "duration": 15,
    "start_time": "2022-11-10T12:41:16.399Z"
   },
   {
    "duration": 34,
    "start_time": "2022-11-10T12:41:16.416Z"
   },
   {
    "duration": 60,
    "start_time": "2022-11-10T12:41:16.452Z"
   },
   {
    "duration": 325,
    "start_time": "2022-11-10T12:41:16.516Z"
   },
   {
    "duration": 35,
    "start_time": "2022-11-10T12:41:16.843Z"
   },
   {
    "duration": 62,
    "start_time": "2022-11-10T12:41:16.879Z"
   },
   {
    "duration": 31,
    "start_time": "2022-11-10T12:41:16.943Z"
   },
   {
    "duration": 48,
    "start_time": "2022-11-10T12:41:16.976Z"
   },
   {
    "duration": 2,
    "start_time": "2022-11-10T12:41:17.027Z"
   },
   {
    "duration": 13,
    "start_time": "2022-11-10T12:41:17.031Z"
   },
   {
    "duration": 16,
    "start_time": "2022-11-10T12:41:17.046Z"
   },
   {
    "duration": 12,
    "start_time": "2022-11-10T12:41:17.064Z"
   },
   {
    "duration": 41,
    "start_time": "2022-11-10T12:41:17.079Z"
   },
   {
    "duration": 267,
    "start_time": "2022-11-10T12:41:17.122Z"
   },
   {
    "duration": 34,
    "start_time": "2022-11-10T12:41:17.390Z"
   },
   {
    "duration": 551,
    "start_time": "2022-11-10T12:41:17.426Z"
   },
   {
    "duration": 252,
    "start_time": "2022-11-10T12:41:17.979Z"
   },
   {
    "duration": 381,
    "start_time": "2022-11-10T12:41:18.233Z"
   },
   {
    "duration": 300,
    "start_time": "2022-11-10T12:41:18.616Z"
   }
  ],
  "colab": {
   "name": "DA+. Сборный проект 1. Шаблон (1).ipynb",
   "provenance": []
  },
  "kernelspec": {
   "display_name": "Python 3 (ipykernel)",
   "language": "python",
   "name": "python3"
  },
  "language_info": {
   "codemirror_mode": {
    "name": "ipython",
    "version": 3
   },
   "file_extension": ".py",
   "mimetype": "text/x-python",
   "name": "python",
   "nbconvert_exporter": "python",
   "pygments_lexer": "ipython3",
   "version": "3.9.5"
  },
  "toc": {
   "base_numbering": 1,
   "nav_menu": {},
   "number_sections": true,
   "sideBar": true,
   "skip_h1_title": true,
   "title_cell": "Table of Contents",
   "title_sidebar": "Contents",
   "toc_cell": false,
   "toc_position": {
    "height": "calc(100% - 180px)",
    "left": "10px",
    "top": "150px",
    "width": "375.391px"
   },
   "toc_section_display": true,
   "toc_window_display": false
  }
 },
 "nbformat": 4,
 "nbformat_minor": 1
}
