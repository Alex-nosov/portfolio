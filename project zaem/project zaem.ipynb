{
 "cells": [
  {
   "cell_type": "markdown",
   "id": "27a56249",
   "metadata": {},
   "source": [
    "<div class=\"alert alert-info\">\n",
    "\n",
    "<b>Привет, Александр!👋</b>\n",
    "\n",
    "Меня зовут Женя Лаврив, я буду проверять твой проект. У нас, в Яндекс практикуме, принято обращение на \"ты\"😏, но если тебе комфортнее обращаться на Вы, напиши об этом, пожалуйста. Я буду рад перейти на \"Вы\". \n",
    "\n",
    "Я здесь для того, чтобы помочь тебе с учёбой и будущим успешным поиском работы. Вместе мы сможем оптимизировать твой код и найти лучший подход к решению задач!\n",
    "Пожалуйста, не удаляй мои комментарии, они будут особенно полезны для нашей работы в случае повторной проверки проекта. \n",
    "\n",
    "Будет здорово, если ты будешь отвечать на мои комментарии своими, выделяя их цветами или так, как тебе понравится, но так, чтобы их можно было отличить от моих комментариев. Это нужно, чтобы не создавалась путаница😉\n",
    "\n",
    "Ты можешь найти мои комментарии, обозначенные <font color='green'>зеленым</font>, <font color='gold'>желтым</font> и <font color='red'>красным</font> цветами, например:\n",
    "\n",
    "<br/>\n",
    "\n",
    "<div class=\"alert alert-success\">\n",
    "<h2> Комментарий ревьюера <a class=\"tocSkip\"> </h2>\n",
    "\n",
    "<b>Все отлично!👍:</b> В случае, если решение на отдельном шаге является полностью правильным.\n",
    "</div>\n",
    "\n",
    "<br/>\n",
    "\n",
    "<div class=\"alert alert-warning\">\n",
    "    <h2> Комментарий ревьюера <a class=\"tocSkip\"> </h2>\n",
    "    \n",
    "<b>Некоторые замечания и рекомендации💡:</b> В случае, когда решение на отдельном шаге станет еще лучше, если внести небольшие коррективы.\n",
    "</div>\n",
    "\n",
    "\n",
    "<br/>\n",
    "<div class=\"alert alert-block alert-danger\">\n",
    "<h2> Комментарий ревьюера <a class=\"tocSkip\"></h2>\n",
    "\n",
    "    \n",
    "<b>На доработку🤔:</b>\n",
    " В случае, когда решение на отдельном шаге требует существенной переработки и внесения правок. Напоминаю, что проект не может быть принят с первого раза, если ревью содержит комментарии, рекомендующие доработать шаги.\n",
    "</div>\n",
    "    \n",
    "Если в решении будут какие-то неточности, в первый раз я только укажу на их наличие и дам тебе возможность самому найти и исправить их. В реальной работе твои более опытные товарищи будут поступать также, и я хочу подготовить тебя именно к работе аналитиком. Но если ты пока не справишься с такой задачей - при следующей проверке я дам более точную подсказку!🤓\n",
    "\n",
    "Мы все очень ценим время и усилия друг-друга, поэтому я постараюсь давать максимально эффективные комментарии и заботливо подойти к твоей работе.\n",
    "</div>"
   ]
  },
  {
   "cell_type": "markdown",
   "id": "bf950bb1",
   "metadata": {
    "deletable": false,
    "editable": false,
    "id": "c81daeeb"
   },
   "source": [
    "# Исследование надежности заемщиков\n"
   ]
  },
  {
   "cell_type": "markdown",
   "id": "4980ad5e",
   "metadata": {
    "deletable": false,
    "editable": false,
    "id": "827c20bf"
   },
   "source": [
    "Во второй части проекта вы выполните шаги 3 и 4. Их вручную проверит ревьюер.\n",
    "Чтобы вам не пришлось писать код заново для шагов 1 и 2, мы добавили авторские решения в ячейки с кодом. \n",
    "\n"
   ]
  },
  {
   "cell_type": "markdown",
   "id": "f30ddf97",
   "metadata": {
    "deletable": false,
    "editable": false,
    "id": "744d7639"
   },
   "source": [
    "## Откройте таблицу и изучите общую информацию о данных"
   ]
  },
  {
   "cell_type": "markdown",
   "id": "62fc784b",
   "metadata": {
    "deletable": false,
    "editable": false,
    "id": "e7a14c31"
   },
   "source": [
    "**Задание 1. Импортируйте библиотеку pandas. Считайте данные из csv-файла в датафрейм и сохраните в переменную `data`. Путь к файлу:**\n",
    "\n",
    "`/datasets/data.csv`"
   ]
  },
  {
   "cell_type": "code",
   "execution_count": 1,
   "id": "f2b7e341",
   "metadata": {
    "deletable": false,
    "id": "7bcf75c9"
   },
   "outputs": [],
   "source": [
    "import pandas as pd\n",
    "\n",
    "try:\n",
    "    data = pd.read_csv('/datasets/data.csv')\n",
    "except:\n",
    "    data = pd.read_csv('https://code.s3.yandex.net/datasets/data.csv')"
   ]
  },
  {
   "cell_type": "markdown",
   "id": "bd120c56",
   "metadata": {
    "deletable": false,
    "editable": false,
    "id": "b8038fe3"
   },
   "source": [
    "**Задание 2. Выведите первые 20 строчек датафрейма `data` на экран.**"
   ]
  },
  {
   "cell_type": "code",
   "execution_count": 2,
   "id": "2c108ed4",
   "metadata": {
    "deletable": false,
    "id": "2a7cab99",
    "outputId": "1a8f3ef2-d323-4ec2-ddf7-89670b5944c4"
   },
   "outputs": [
    {
     "data": {
      "text/html": [
       "<div>\n",
       "<style scoped>\n",
       "    .dataframe tbody tr th:only-of-type {\n",
       "        vertical-align: middle;\n",
       "    }\n",
       "\n",
       "    .dataframe tbody tr th {\n",
       "        vertical-align: top;\n",
       "    }\n",
       "\n",
       "    .dataframe thead th {\n",
       "        text-align: right;\n",
       "    }\n",
       "</style>\n",
       "<table border=\"1\" class=\"dataframe\">\n",
       "  <thead>\n",
       "    <tr style=\"text-align: right;\">\n",
       "      <th></th>\n",
       "      <th>children</th>\n",
       "      <th>days_employed</th>\n",
       "      <th>dob_years</th>\n",
       "      <th>education</th>\n",
       "      <th>education_id</th>\n",
       "      <th>family_status</th>\n",
       "      <th>family_status_id</th>\n",
       "      <th>gender</th>\n",
       "      <th>income_type</th>\n",
       "      <th>debt</th>\n",
       "      <th>total_income</th>\n",
       "      <th>purpose</th>\n",
       "    </tr>\n",
       "  </thead>\n",
       "  <tbody>\n",
       "    <tr>\n",
       "      <th>0</th>\n",
       "      <td>1</td>\n",
       "      <td>-8437.673028</td>\n",
       "      <td>42</td>\n",
       "      <td>высшее</td>\n",
       "      <td>0</td>\n",
       "      <td>женат / замужем</td>\n",
       "      <td>0</td>\n",
       "      <td>F</td>\n",
       "      <td>сотрудник</td>\n",
       "      <td>0</td>\n",
       "      <td>253875.639453</td>\n",
       "      <td>покупка жилья</td>\n",
       "    </tr>\n",
       "    <tr>\n",
       "      <th>1</th>\n",
       "      <td>1</td>\n",
       "      <td>-4024.803754</td>\n",
       "      <td>36</td>\n",
       "      <td>среднее</td>\n",
       "      <td>1</td>\n",
       "      <td>женат / замужем</td>\n",
       "      <td>0</td>\n",
       "      <td>F</td>\n",
       "      <td>сотрудник</td>\n",
       "      <td>0</td>\n",
       "      <td>112080.014102</td>\n",
       "      <td>приобретение автомобиля</td>\n",
       "    </tr>\n",
       "    <tr>\n",
       "      <th>2</th>\n",
       "      <td>0</td>\n",
       "      <td>-5623.422610</td>\n",
       "      <td>33</td>\n",
       "      <td>Среднее</td>\n",
       "      <td>1</td>\n",
       "      <td>женат / замужем</td>\n",
       "      <td>0</td>\n",
       "      <td>M</td>\n",
       "      <td>сотрудник</td>\n",
       "      <td>0</td>\n",
       "      <td>145885.952297</td>\n",
       "      <td>покупка жилья</td>\n",
       "    </tr>\n",
       "    <tr>\n",
       "      <th>3</th>\n",
       "      <td>3</td>\n",
       "      <td>-4124.747207</td>\n",
       "      <td>32</td>\n",
       "      <td>среднее</td>\n",
       "      <td>1</td>\n",
       "      <td>женат / замужем</td>\n",
       "      <td>0</td>\n",
       "      <td>M</td>\n",
       "      <td>сотрудник</td>\n",
       "      <td>0</td>\n",
       "      <td>267628.550329</td>\n",
       "      <td>дополнительное образование</td>\n",
       "    </tr>\n",
       "    <tr>\n",
       "      <th>4</th>\n",
       "      <td>0</td>\n",
       "      <td>340266.072047</td>\n",
       "      <td>53</td>\n",
       "      <td>среднее</td>\n",
       "      <td>1</td>\n",
       "      <td>гражданский брак</td>\n",
       "      <td>1</td>\n",
       "      <td>F</td>\n",
       "      <td>пенсионер</td>\n",
       "      <td>0</td>\n",
       "      <td>158616.077870</td>\n",
       "      <td>сыграть свадьбу</td>\n",
       "    </tr>\n",
       "    <tr>\n",
       "      <th>5</th>\n",
       "      <td>0</td>\n",
       "      <td>-926.185831</td>\n",
       "      <td>27</td>\n",
       "      <td>высшее</td>\n",
       "      <td>0</td>\n",
       "      <td>гражданский брак</td>\n",
       "      <td>1</td>\n",
       "      <td>M</td>\n",
       "      <td>компаньон</td>\n",
       "      <td>0</td>\n",
       "      <td>255763.565419</td>\n",
       "      <td>покупка жилья</td>\n",
       "    </tr>\n",
       "    <tr>\n",
       "      <th>6</th>\n",
       "      <td>0</td>\n",
       "      <td>-2879.202052</td>\n",
       "      <td>43</td>\n",
       "      <td>высшее</td>\n",
       "      <td>0</td>\n",
       "      <td>женат / замужем</td>\n",
       "      <td>0</td>\n",
       "      <td>F</td>\n",
       "      <td>компаньон</td>\n",
       "      <td>0</td>\n",
       "      <td>240525.971920</td>\n",
       "      <td>операции с жильем</td>\n",
       "    </tr>\n",
       "    <tr>\n",
       "      <th>7</th>\n",
       "      <td>0</td>\n",
       "      <td>-152.779569</td>\n",
       "      <td>50</td>\n",
       "      <td>СРЕДНЕЕ</td>\n",
       "      <td>1</td>\n",
       "      <td>женат / замужем</td>\n",
       "      <td>0</td>\n",
       "      <td>M</td>\n",
       "      <td>сотрудник</td>\n",
       "      <td>0</td>\n",
       "      <td>135823.934197</td>\n",
       "      <td>образование</td>\n",
       "    </tr>\n",
       "    <tr>\n",
       "      <th>8</th>\n",
       "      <td>2</td>\n",
       "      <td>-6929.865299</td>\n",
       "      <td>35</td>\n",
       "      <td>ВЫСШЕЕ</td>\n",
       "      <td>0</td>\n",
       "      <td>гражданский брак</td>\n",
       "      <td>1</td>\n",
       "      <td>F</td>\n",
       "      <td>сотрудник</td>\n",
       "      <td>0</td>\n",
       "      <td>95856.832424</td>\n",
       "      <td>на проведение свадьбы</td>\n",
       "    </tr>\n",
       "    <tr>\n",
       "      <th>9</th>\n",
       "      <td>0</td>\n",
       "      <td>-2188.756445</td>\n",
       "      <td>41</td>\n",
       "      <td>среднее</td>\n",
       "      <td>1</td>\n",
       "      <td>женат / замужем</td>\n",
       "      <td>0</td>\n",
       "      <td>M</td>\n",
       "      <td>сотрудник</td>\n",
       "      <td>0</td>\n",
       "      <td>144425.938277</td>\n",
       "      <td>покупка жилья для семьи</td>\n",
       "    </tr>\n",
       "    <tr>\n",
       "      <th>10</th>\n",
       "      <td>2</td>\n",
       "      <td>-4171.483647</td>\n",
       "      <td>36</td>\n",
       "      <td>высшее</td>\n",
       "      <td>0</td>\n",
       "      <td>женат / замужем</td>\n",
       "      <td>0</td>\n",
       "      <td>M</td>\n",
       "      <td>компаньон</td>\n",
       "      <td>0</td>\n",
       "      <td>113943.491460</td>\n",
       "      <td>покупка недвижимости</td>\n",
       "    </tr>\n",
       "    <tr>\n",
       "      <th>11</th>\n",
       "      <td>0</td>\n",
       "      <td>-792.701887</td>\n",
       "      <td>40</td>\n",
       "      <td>среднее</td>\n",
       "      <td>1</td>\n",
       "      <td>женат / замужем</td>\n",
       "      <td>0</td>\n",
       "      <td>F</td>\n",
       "      <td>сотрудник</td>\n",
       "      <td>0</td>\n",
       "      <td>77069.234271</td>\n",
       "      <td>покупка коммерческой недвижимости</td>\n",
       "    </tr>\n",
       "    <tr>\n",
       "      <th>12</th>\n",
       "      <td>0</td>\n",
       "      <td>NaN</td>\n",
       "      <td>65</td>\n",
       "      <td>среднее</td>\n",
       "      <td>1</td>\n",
       "      <td>гражданский брак</td>\n",
       "      <td>1</td>\n",
       "      <td>M</td>\n",
       "      <td>пенсионер</td>\n",
       "      <td>0</td>\n",
       "      <td>NaN</td>\n",
       "      <td>сыграть свадьбу</td>\n",
       "    </tr>\n",
       "    <tr>\n",
       "      <th>13</th>\n",
       "      <td>0</td>\n",
       "      <td>-1846.641941</td>\n",
       "      <td>54</td>\n",
       "      <td>неоконченное высшее</td>\n",
       "      <td>2</td>\n",
       "      <td>женат / замужем</td>\n",
       "      <td>0</td>\n",
       "      <td>F</td>\n",
       "      <td>сотрудник</td>\n",
       "      <td>0</td>\n",
       "      <td>130458.228857</td>\n",
       "      <td>приобретение автомобиля</td>\n",
       "    </tr>\n",
       "    <tr>\n",
       "      <th>14</th>\n",
       "      <td>0</td>\n",
       "      <td>-1844.956182</td>\n",
       "      <td>56</td>\n",
       "      <td>высшее</td>\n",
       "      <td>0</td>\n",
       "      <td>гражданский брак</td>\n",
       "      <td>1</td>\n",
       "      <td>F</td>\n",
       "      <td>компаньон</td>\n",
       "      <td>1</td>\n",
       "      <td>165127.911772</td>\n",
       "      <td>покупка жилой недвижимости</td>\n",
       "    </tr>\n",
       "    <tr>\n",
       "      <th>15</th>\n",
       "      <td>1</td>\n",
       "      <td>-972.364419</td>\n",
       "      <td>26</td>\n",
       "      <td>среднее</td>\n",
       "      <td>1</td>\n",
       "      <td>женат / замужем</td>\n",
       "      <td>0</td>\n",
       "      <td>F</td>\n",
       "      <td>сотрудник</td>\n",
       "      <td>0</td>\n",
       "      <td>116820.904450</td>\n",
       "      <td>строительство собственной недвижимости</td>\n",
       "    </tr>\n",
       "    <tr>\n",
       "      <th>16</th>\n",
       "      <td>0</td>\n",
       "      <td>-1719.934226</td>\n",
       "      <td>35</td>\n",
       "      <td>среднее</td>\n",
       "      <td>1</td>\n",
       "      <td>женат / замужем</td>\n",
       "      <td>0</td>\n",
       "      <td>F</td>\n",
       "      <td>сотрудник</td>\n",
       "      <td>0</td>\n",
       "      <td>289202.704229</td>\n",
       "      <td>недвижимость</td>\n",
       "    </tr>\n",
       "    <tr>\n",
       "      <th>17</th>\n",
       "      <td>0</td>\n",
       "      <td>-2369.999720</td>\n",
       "      <td>33</td>\n",
       "      <td>высшее</td>\n",
       "      <td>0</td>\n",
       "      <td>гражданский брак</td>\n",
       "      <td>1</td>\n",
       "      <td>M</td>\n",
       "      <td>сотрудник</td>\n",
       "      <td>0</td>\n",
       "      <td>90410.586745</td>\n",
       "      <td>строительство недвижимости</td>\n",
       "    </tr>\n",
       "    <tr>\n",
       "      <th>18</th>\n",
       "      <td>0</td>\n",
       "      <td>400281.136913</td>\n",
       "      <td>53</td>\n",
       "      <td>среднее</td>\n",
       "      <td>1</td>\n",
       "      <td>вдовец / вдова</td>\n",
       "      <td>2</td>\n",
       "      <td>F</td>\n",
       "      <td>пенсионер</td>\n",
       "      <td>0</td>\n",
       "      <td>56823.777243</td>\n",
       "      <td>на покупку подержанного автомобиля</td>\n",
       "    </tr>\n",
       "    <tr>\n",
       "      <th>19</th>\n",
       "      <td>0</td>\n",
       "      <td>-10038.818549</td>\n",
       "      <td>48</td>\n",
       "      <td>СРЕДНЕЕ</td>\n",
       "      <td>1</td>\n",
       "      <td>в разводе</td>\n",
       "      <td>3</td>\n",
       "      <td>F</td>\n",
       "      <td>сотрудник</td>\n",
       "      <td>0</td>\n",
       "      <td>242831.107982</td>\n",
       "      <td>на покупку своего автомобиля</td>\n",
       "    </tr>\n",
       "  </tbody>\n",
       "</table>\n",
       "</div>"
      ],
      "text/plain": [
       "    children  days_employed  dob_years            education  education_id  \\\n",
       "0          1   -8437.673028         42               высшее             0   \n",
       "1          1   -4024.803754         36              среднее             1   \n",
       "2          0   -5623.422610         33              Среднее             1   \n",
       "3          3   -4124.747207         32              среднее             1   \n",
       "4          0  340266.072047         53              среднее             1   \n",
       "5          0    -926.185831         27               высшее             0   \n",
       "6          0   -2879.202052         43               высшее             0   \n",
       "7          0    -152.779569         50              СРЕДНЕЕ             1   \n",
       "8          2   -6929.865299         35               ВЫСШЕЕ             0   \n",
       "9          0   -2188.756445         41              среднее             1   \n",
       "10         2   -4171.483647         36               высшее             0   \n",
       "11         0    -792.701887         40              среднее             1   \n",
       "12         0            NaN         65              среднее             1   \n",
       "13         0   -1846.641941         54  неоконченное высшее             2   \n",
       "14         0   -1844.956182         56               высшее             0   \n",
       "15         1    -972.364419         26              среднее             1   \n",
       "16         0   -1719.934226         35              среднее             1   \n",
       "17         0   -2369.999720         33               высшее             0   \n",
       "18         0  400281.136913         53              среднее             1   \n",
       "19         0  -10038.818549         48              СРЕДНЕЕ             1   \n",
       "\n",
       "       family_status  family_status_id gender income_type  debt  \\\n",
       "0    женат / замужем                 0      F   сотрудник     0   \n",
       "1    женат / замужем                 0      F   сотрудник     0   \n",
       "2    женат / замужем                 0      M   сотрудник     0   \n",
       "3    женат / замужем                 0      M   сотрудник     0   \n",
       "4   гражданский брак                 1      F   пенсионер     0   \n",
       "5   гражданский брак                 1      M   компаньон     0   \n",
       "6    женат / замужем                 0      F   компаньон     0   \n",
       "7    женат / замужем                 0      M   сотрудник     0   \n",
       "8   гражданский брак                 1      F   сотрудник     0   \n",
       "9    женат / замужем                 0      M   сотрудник     0   \n",
       "10   женат / замужем                 0      M   компаньон     0   \n",
       "11   женат / замужем                 0      F   сотрудник     0   \n",
       "12  гражданский брак                 1      M   пенсионер     0   \n",
       "13   женат / замужем                 0      F   сотрудник     0   \n",
       "14  гражданский брак                 1      F   компаньон     1   \n",
       "15   женат / замужем                 0      F   сотрудник     0   \n",
       "16   женат / замужем                 0      F   сотрудник     0   \n",
       "17  гражданский брак                 1      M   сотрудник     0   \n",
       "18    вдовец / вдова                 2      F   пенсионер     0   \n",
       "19         в разводе                 3      F   сотрудник     0   \n",
       "\n",
       "     total_income                                 purpose  \n",
       "0   253875.639453                           покупка жилья  \n",
       "1   112080.014102                 приобретение автомобиля  \n",
       "2   145885.952297                           покупка жилья  \n",
       "3   267628.550329              дополнительное образование  \n",
       "4   158616.077870                         сыграть свадьбу  \n",
       "5   255763.565419                           покупка жилья  \n",
       "6   240525.971920                       операции с жильем  \n",
       "7   135823.934197                             образование  \n",
       "8    95856.832424                   на проведение свадьбы  \n",
       "9   144425.938277                 покупка жилья для семьи  \n",
       "10  113943.491460                    покупка недвижимости  \n",
       "11   77069.234271       покупка коммерческой недвижимости  \n",
       "12            NaN                         сыграть свадьбу  \n",
       "13  130458.228857                 приобретение автомобиля  \n",
       "14  165127.911772              покупка жилой недвижимости  \n",
       "15  116820.904450  строительство собственной недвижимости  \n",
       "16  289202.704229                            недвижимость  \n",
       "17   90410.586745              строительство недвижимости  \n",
       "18   56823.777243      на покупку подержанного автомобиля  \n",
       "19  242831.107982            на покупку своего автомобиля  "
      ]
     },
     "execution_count": 2,
     "metadata": {},
     "output_type": "execute_result"
    }
   ],
   "source": [
    "data.head(20)"
   ]
  },
  {
   "cell_type": "markdown",
   "id": "b30d1a5b",
   "metadata": {
    "deletable": false,
    "editable": false,
    "id": "1c12e233"
   },
   "source": [
    "**Задание 3. Выведите основную информацию о датафрейме с помощью метода `info()`.**"
   ]
  },
  {
   "cell_type": "code",
   "execution_count": 3,
   "id": "853b1d57",
   "metadata": {
    "deletable": false,
    "id": "2b757bca",
    "outputId": "15376089-8dad-46c9-b520-c05248d43158"
   },
   "outputs": [
    {
     "name": "stdout",
     "output_type": "stream",
     "text": [
      "<class 'pandas.core.frame.DataFrame'>\n",
      "RangeIndex: 21525 entries, 0 to 21524\n",
      "Data columns (total 12 columns):\n",
      " #   Column            Non-Null Count  Dtype  \n",
      "---  ------            --------------  -----  \n",
      " 0   children          21525 non-null  int64  \n",
      " 1   days_employed     19351 non-null  float64\n",
      " 2   dob_years         21525 non-null  int64  \n",
      " 3   education         21525 non-null  object \n",
      " 4   education_id      21525 non-null  int64  \n",
      " 5   family_status     21525 non-null  object \n",
      " 6   family_status_id  21525 non-null  int64  \n",
      " 7   gender            21525 non-null  object \n",
      " 8   income_type       21525 non-null  object \n",
      " 9   debt              21525 non-null  int64  \n",
      " 10  total_income      19351 non-null  float64\n",
      " 11  purpose           21525 non-null  object \n",
      "dtypes: float64(2), int64(5), object(5)\n",
      "memory usage: 2.0+ MB\n"
     ]
    }
   ],
   "source": [
    "data.info()"
   ]
  },
  {
   "cell_type": "markdown",
   "id": "bbffb9fa",
   "metadata": {
    "deletable": false,
    "editable": false,
    "id": "333ec665"
   },
   "source": [
    "## Предобработка данных"
   ]
  },
  {
   "cell_type": "markdown",
   "id": "724ab758",
   "metadata": {
    "deletable": false,
    "editable": false,
    "id": "02d92d53"
   },
   "source": [
    "### Удаление пропусков"
   ]
  },
  {
   "cell_type": "markdown",
   "id": "a8bee4a0",
   "metadata": {
    "deletable": false,
    "editable": false,
    "id": "cd84967c"
   },
   "source": [
    "**Задание 4. Выведите количество пропущенных значений для каждого столбца. Используйте комбинацию двух методов.**"
   ]
  },
  {
   "cell_type": "code",
   "execution_count": 4,
   "id": "9ce435e6",
   "metadata": {
    "deletable": false,
    "id": "7f9b2309",
    "outputId": "81f4d817-781c-465c-ed15-91ce4446810d"
   },
   "outputs": [
    {
     "data": {
      "text/plain": [
       "children               0\n",
       "days_employed       2174\n",
       "dob_years              0\n",
       "education              0\n",
       "education_id           0\n",
       "family_status          0\n",
       "family_status_id       0\n",
       "gender                 0\n",
       "income_type            0\n",
       "debt                   0\n",
       "total_income        2174\n",
       "purpose                0\n",
       "dtype: int64"
      ]
     },
     "execution_count": 4,
     "metadata": {},
     "output_type": "execute_result"
    }
   ],
   "source": [
    "data.isna().sum()"
   ]
  },
  {
   "cell_type": "markdown",
   "id": "9619bd79",
   "metadata": {
    "deletable": false,
    "editable": false,
    "id": "db86e27b"
   },
   "source": [
    "**Задание 5. В двух столбцах есть пропущенные значения. Один из них — `days_employed`. Пропуски в этом столбце вы обработаете на следующем этапе. Другой столбец с пропущенными значениями — `total_income` — хранит данные о доходах. На сумму дохода сильнее всего влияет тип занятости, поэтому заполнить пропуски в этом столбце нужно медианным значением по каждому типу из столбца `income_type`. Например, у человека с типом занятости `сотрудник` пропуск в столбце `total_income` должен быть заполнен медианным доходом среди всех записей с тем же типом.**"
   ]
  },
  {
   "cell_type": "code",
   "execution_count": 5,
   "id": "e384c113",
   "metadata": {
    "deletable": false,
    "id": "42006a93"
   },
   "outputs": [],
   "source": [
    "for t in data['income_type'].unique():\n",
    "    data.loc[(data['income_type'] == t) & (data['total_income'].isna()), 'total_income'] = \\\n",
    "    data.loc[(data['income_type'] == t), 'total_income'].median()"
   ]
  },
  {
   "cell_type": "markdown",
   "id": "b6516b97",
   "metadata": {
    "deletable": false,
    "editable": false,
    "id": "89da5ece"
   },
   "source": [
    "### Обработка аномальных значений"
   ]
  },
  {
   "cell_type": "markdown",
   "id": "96e2c36e",
   "metadata": {
    "deletable": false,
    "editable": false,
    "id": "57964554"
   },
   "source": [
    "**Задание 6. В данных могут встречаться артефакты (аномалии) — значения, которые не отражают действительность и появились по какой-то ошибке. таким артефактом будет отрицательное количество дней трудового стажа в столбце `days_employed`. Для реальных данных это нормально. Обработайте значения в этом столбце: замените все отрицательные значения положительными с помощью метода `abs()`.**"
   ]
  },
  {
   "cell_type": "code",
   "execution_count": 6,
   "id": "d077ee81",
   "metadata": {
    "deletable": false,
    "id": "f6f055bf"
   },
   "outputs": [],
   "source": [
    "data['days_employed'] = data['days_employed'].abs()"
   ]
  },
  {
   "cell_type": "markdown",
   "id": "d8d25efb",
   "metadata": {
    "deletable": false,
    "editable": false,
    "id": "6107dd2f"
   },
   "source": [
    "**Задание 7. Для каждого типа занятости выведите медианное значение трудового стажа `days_employed` в днях.**"
   ]
  },
  {
   "cell_type": "code",
   "execution_count": 7,
   "id": "305a15ec",
   "metadata": {
    "deletable": false,
    "id": "85a5faf6",
    "outputId": "801ef80e-522b-4668-f34e-565af7432bcf"
   },
   "outputs": [
    {
     "data": {
      "text/plain": [
       "income_type\n",
       "безработный        366413.652744\n",
       "в декрете            3296.759962\n",
       "госслужащий          2689.368353\n",
       "компаньон            1547.382223\n",
       "пенсионер          365213.306266\n",
       "предприниматель       520.848083\n",
       "сотрудник            1574.202821\n",
       "студент               578.751554\n",
       "Name: days_employed, dtype: float64"
      ]
     },
     "execution_count": 7,
     "metadata": {},
     "output_type": "execute_result"
    }
   ],
   "source": [
    "data.groupby('income_type')['days_employed'].agg('median')"
   ]
  },
  {
   "cell_type": "markdown",
   "id": "c37ab4c3",
   "metadata": {
    "deletable": false,
    "editable": false,
    "id": "38d1a030"
   },
   "source": [
    "У двух типов (безработные и пенсионеры) получатся аномально большие значения. Исправить такие значения сложно, поэтому оставьте их как есть. Тем более этот столбец не понадобится вам для исследования."
   ]
  },
  {
   "cell_type": "markdown",
   "id": "3254b66a",
   "metadata": {
    "deletable": false,
    "editable": false,
    "id": "d8a9f147"
   },
   "source": [
    "**Задание 8. Выведите перечень уникальных значений столбца `children`.**"
   ]
  },
  {
   "cell_type": "code",
   "execution_count": 8,
   "id": "4d8a6050",
   "metadata": {
    "deletable": false,
    "id": "ef5056eb",
    "outputId": "6975b15c-7f95-4697-d16d-a0c79b657b03"
   },
   "outputs": [
    {
     "data": {
      "text/plain": [
       "array([ 1,  0,  3,  2, -1,  4, 20,  5])"
      ]
     },
     "execution_count": 8,
     "metadata": {},
     "output_type": "execute_result"
    }
   ],
   "source": [
    "data['children'].unique()"
   ]
  },
  {
   "cell_type": "markdown",
   "id": "b23957c5",
   "metadata": {
    "deletable": false,
    "editable": false,
    "id": "40b9ebf2"
   },
   "source": [
    "**Задание 9. В столбце `children` есть два аномальных значения. Удалите строки, в которых встречаются такие аномальные значения из датафрейма `data`.**"
   ]
  },
  {
   "cell_type": "code",
   "execution_count": 9,
   "id": "15f812d4",
   "metadata": {
    "deletable": false,
    "id": "3ff9801d"
   },
   "outputs": [],
   "source": [
    "data = data[(data['children'] != -1) & (data['children'] != 20)]"
   ]
  },
  {
   "cell_type": "markdown",
   "id": "1bfc9040",
   "metadata": {
    "deletable": false,
    "editable": false,
    "id": "bbc4d0ce"
   },
   "source": [
    "**Задание 10. Ещё раз выведите перечень уникальных значений столбца `children`, чтобы убедиться, что артефакты удалены.**"
   ]
  },
  {
   "cell_type": "code",
   "execution_count": 10,
   "id": "f38d02e5",
   "metadata": {
    "deletable": false,
    "id": "ad4fa8b7",
    "outputId": "b2097101-d49d-44d9-901b-32a65c9463d1"
   },
   "outputs": [
    {
     "data": {
      "text/plain": [
       "array([1, 0, 3, 2, 4, 5])"
      ]
     },
     "execution_count": 10,
     "metadata": {},
     "output_type": "execute_result"
    }
   ],
   "source": [
    "data['children'].unique()"
   ]
  },
  {
   "cell_type": "markdown",
   "id": "226b85c9",
   "metadata": {
    "deletable": false,
    "editable": false,
    "id": "75440b63"
   },
   "source": [
    "### Удаление пропусков (продолжение)"
   ]
  },
  {
   "cell_type": "markdown",
   "id": "34a92e8a",
   "metadata": {
    "deletable": false,
    "editable": false,
    "id": "f4ea573f"
   },
   "source": [
    "**Задание 11. Заполните пропуски в столбце `days_employed` медианными значениями по каждого типа занятости `income_type`.**"
   ]
  },
  {
   "cell_type": "code",
   "execution_count": 11,
   "id": "cb52f9b1",
   "metadata": {
    "deletable": false,
    "id": "af6b1a7e"
   },
   "outputs": [],
   "source": [
    "for t in data['income_type'].unique():\n",
    "    data.loc[(data['income_type'] == t) & (data['days_employed'].isna()), 'days_employed'] = \\\n",
    "    data.loc[(data['income_type'] == t), 'days_employed'].median()"
   ]
  },
  {
   "cell_type": "markdown",
   "id": "4f5b829d",
   "metadata": {
    "deletable": false,
    "editable": false,
    "id": "2753f40d"
   },
   "source": [
    "**Задание 12. Убедитесь, что все пропуски заполнены. Проверьте себя и ещё раз выведите количество пропущенных значений для каждого столбца с помощью двух методов.**"
   ]
  },
  {
   "cell_type": "code",
   "execution_count": 12,
   "id": "7df67e26",
   "metadata": {
    "deletable": false,
    "id": "55f78bc2",
    "outputId": "8da1e4e1-358e-4e87-98c9-f261bce0a7b2"
   },
   "outputs": [
    {
     "data": {
      "text/plain": [
       "children            0\n",
       "days_employed       0\n",
       "dob_years           0\n",
       "education           0\n",
       "education_id        0\n",
       "family_status       0\n",
       "family_status_id    0\n",
       "gender              0\n",
       "income_type         0\n",
       "debt                0\n",
       "total_income        0\n",
       "purpose             0\n",
       "dtype: int64"
      ]
     },
     "execution_count": 12,
     "metadata": {},
     "output_type": "execute_result"
    }
   ],
   "source": [
    "data.isna().sum()"
   ]
  },
  {
   "cell_type": "markdown",
   "id": "465d8e8c",
   "metadata": {
    "deletable": false,
    "editable": false,
    "id": "ddc81e43"
   },
   "source": [
    "### Изменение типов данных"
   ]
  },
  {
   "cell_type": "markdown",
   "id": "a9f59f47",
   "metadata": {
    "deletable": false,
    "editable": false,
    "id": "42d19d24"
   },
   "source": [
    "**Задание 13. Замените вещественный тип данных в столбце `total_income` на целочисленный с помощью метода `astype()`.**"
   ]
  },
  {
   "cell_type": "code",
   "execution_count": 13,
   "id": "b73d7b0c",
   "metadata": {
    "deletable": false,
    "id": "920b65ad"
   },
   "outputs": [],
   "source": [
    "data['total_income'] = data['total_income'].astype(int)"
   ]
  },
  {
   "cell_type": "markdown",
   "id": "e34dcdaf",
   "metadata": {
    "deletable": false,
    "editable": false,
    "id": "80c420ba"
   },
   "source": [
    "### Обработка дубликатов"
   ]
  },
  {
   "cell_type": "markdown",
   "id": "f1bdbad1",
   "metadata": {
    "deletable": false,
    "editable": false
   },
   "source": [
    "**Задание 14. Обработайте неявные дубликаты в столбце `education`. В этом столбце есть одни и те же значения, но записанные по-разному: с использованием заглавных и строчных букв. Приведите их к нижнему регистру. Проверьте остальные столбцы.**"
   ]
  },
  {
   "cell_type": "code",
   "execution_count": 14,
   "id": "54ce2d61",
   "metadata": {
    "deletable": false
   },
   "outputs": [],
   "source": [
    "data['education'] = data['education'].str.lower()"
   ]
  },
  {
   "cell_type": "markdown",
   "id": "382268ff",
   "metadata": {
    "deletable": false,
    "editable": false,
    "id": "dc587695"
   },
   "source": [
    "**Задание 15. Выведите на экран количество строк-дубликатов в данных. Если такие строки присутствуют, удалите их.**"
   ]
  },
  {
   "cell_type": "code",
   "execution_count": 15,
   "id": "2c238e0d",
   "metadata": {
    "deletable": false,
    "id": "3ee445e4",
    "outputId": "9684deba-1934-42d1-99e1-cda61740f822"
   },
   "outputs": [
    {
     "data": {
      "text/plain": [
       "71"
      ]
     },
     "execution_count": 15,
     "metadata": {},
     "output_type": "execute_result"
    }
   ],
   "source": [
    "data.duplicated().sum()"
   ]
  },
  {
   "cell_type": "code",
   "execution_count": 16,
   "id": "a2b78de6",
   "metadata": {
    "deletable": false,
    "id": "8575fe05"
   },
   "outputs": [],
   "source": [
    "data = data.drop_duplicates()"
   ]
  },
  {
   "cell_type": "markdown",
   "id": "90c6bcf0",
   "metadata": {
    "deletable": false,
    "editable": false,
    "id": "9904cf55"
   },
   "source": [
    "### Категоризация данных"
   ]
  },
  {
   "cell_type": "markdown",
   "id": "1e89f03a",
   "metadata": {
    "deletable": false,
    "editable": false,
    "id": "72fcc8a2"
   },
   "source": [
    "**Задание 16. На основании диапазонов, указанных ниже, создайте в датафрейме `data` столбец `total_income_category` с категориями:**\n",
    "\n",
    "- 0–30000 — `'E'`;\n",
    "- 30001–50000 — `'D'`;\n",
    "- 50001–200000 — `'C'`;\n",
    "- 200001–1000000 — `'B'`;\n",
    "- 1000001 и выше — `'A'`.\n",
    "\n",
    "\n",
    "**Например, кредитополучателю с доходом 25000 нужно назначить категорию `'E'`, а клиенту, получающему 235000, — `'B'`. Используйте собственную функцию с именем `categorize_income()` и метод `apply()`.**"
   ]
  },
  {
   "cell_type": "code",
   "execution_count": 17,
   "id": "4b62f111",
   "metadata": {
    "deletable": false,
    "id": "e1771346"
   },
   "outputs": [],
   "source": [
    "def categorize_income(income):\n",
    "    try:\n",
    "        if 0 <= income <= 30000:\n",
    "            return 'E'\n",
    "        elif 30001 <= income <= 50000:\n",
    "            return 'D'\n",
    "        elif 50001 <= income <= 200000:\n",
    "            return 'C'\n",
    "        elif 200001 <= income <= 1000000:\n",
    "            return 'B'\n",
    "        elif income >= 1000001:\n",
    "            return 'A'\n",
    "    except:\n",
    "        pass"
   ]
  },
  {
   "cell_type": "code",
   "execution_count": 18,
   "id": "dd8a3f69",
   "metadata": {
    "deletable": false,
    "id": "d5f3586d"
   },
   "outputs": [],
   "source": [
    "data['total_income_category'] = data['total_income'].apply(categorize_income)"
   ]
  },
  {
   "cell_type": "markdown",
   "id": "80ee0553",
   "metadata": {
    "deletable": false,
    "editable": false,
    "id": "dde49b5c"
   },
   "source": [
    "**Задание 17. Выведите на экран перечень уникальных целей взятия кредита из столбца `purpose`.**"
   ]
  },
  {
   "cell_type": "code",
   "execution_count": 19,
   "id": "d5c71e04",
   "metadata": {
    "deletable": false,
    "id": "f67ce9b3",
    "outputId": "673c12d9-7d7e-4ae0-9812-c622c89dd244"
   },
   "outputs": [
    {
     "data": {
      "text/plain": [
       "array(['покупка жилья', 'приобретение автомобиля',\n",
       "       'дополнительное образование', 'сыграть свадьбу',\n",
       "       'операции с жильем', 'образование', 'на проведение свадьбы',\n",
       "       'покупка жилья для семьи', 'покупка недвижимости',\n",
       "       'покупка коммерческой недвижимости', 'покупка жилой недвижимости',\n",
       "       'строительство собственной недвижимости', 'недвижимость',\n",
       "       'строительство недвижимости', 'на покупку подержанного автомобиля',\n",
       "       'на покупку своего автомобиля',\n",
       "       'операции с коммерческой недвижимостью',\n",
       "       'строительство жилой недвижимости', 'жилье',\n",
       "       'операции со своей недвижимостью', 'автомобили',\n",
       "       'заняться образованием', 'сделка с подержанным автомобилем',\n",
       "       'получение образования', 'автомобиль', 'свадьба',\n",
       "       'получение дополнительного образования', 'покупка своего жилья',\n",
       "       'операции с недвижимостью', 'получение высшего образования',\n",
       "       'свой автомобиль', 'сделка с автомобилем',\n",
       "       'профильное образование', 'высшее образование',\n",
       "       'покупка жилья для сдачи', 'на покупку автомобиля', 'ремонт жилью',\n",
       "       'заняться высшим образованием'], dtype=object)"
      ]
     },
     "execution_count": 19,
     "metadata": {},
     "output_type": "execute_result"
    }
   ],
   "source": [
    "data['purpose'].unique()"
   ]
  },
  {
   "cell_type": "markdown",
   "id": "42ad5172",
   "metadata": {
    "deletable": false,
    "editable": false,
    "id": "85d0aef0"
   },
   "source": [
    "**Задание 18. Создайте функцию, которая на основании данных из столбца `purpose` сформирует новый столбец `purpose_category`, в который войдут следующие категории:**\n",
    "\n",
    "- `'операции с автомобилем'`,\n",
    "- `'операции с недвижимостью'`,\n",
    "- `'проведение свадьбы'`,\n",
    "- `'получение образования'`.\n",
    "\n",
    "**Например, если в столбце `purpose` находится подстрока `'на покупку автомобиля'`, то в столбце `purpose_category` должна появиться строка `'операции с автомобилем'`.**\n",
    "\n",
    "**Используйте собственную функцию с именем `categorize_purpose()` и метод `apply()`. Изучите данные в столбце `purpose` и определите, какие подстроки помогут вам правильно определить категорию.**"
   ]
  },
  {
   "cell_type": "code",
   "execution_count": 20,
   "id": "eac58552",
   "metadata": {
    "deletable": false,
    "id": "e149fab4"
   },
   "outputs": [],
   "source": [
    "def categorize_purpose(row):\n",
    "    try:\n",
    "        if 'автом' in row:\n",
    "            return 'операции с автомобилем'\n",
    "        elif 'жил' in row or 'недвиж' in row:\n",
    "            return 'операции с недвижимостью'\n",
    "        elif 'свад' in row:\n",
    "            return 'проведение свадьбы'\n",
    "        elif 'образов' in row:\n",
    "            return 'получение образования'\n",
    "    except:\n",
    "        return 'нет категории'"
   ]
  },
  {
   "cell_type": "code",
   "execution_count": 21,
   "id": "8acbea8e",
   "metadata": {
    "deletable": false,
    "id": "bf36e69b"
   },
   "outputs": [],
   "source": [
    "data['purpose_category'] = data['purpose'].apply(categorize_purpose)"
   ]
  },
  {
   "cell_type": "markdown",
   "id": "ddc61ca2",
   "metadata": {
    "deletable": false,
    "editable": false,
    "id": "09b242bf"
   },
   "source": [
    "### Шаг 3. Исследуйте данные и ответьте на вопросы"
   ]
  },
  {
   "cell_type": "markdown",
   "id": "25d46eda",
   "metadata": {
    "deletable": false,
    "editable": false,
    "id": "c5d66278"
   },
   "source": [
    "#### 3.1 Есть ли зависимость между количеством детей и возвратом кредита в срок?"
   ]
  },
  {
   "cell_type": "code",
   "execution_count": 22,
   "id": "f49c1df9",
   "metadata": {
    "deletable": false,
    "id": "2cacfc4a"
   },
   "outputs": [
    {
     "data": {
      "text/html": [
       "<div>\n",
       "<style scoped>\n",
       "    .dataframe tbody tr th:only-of-type {\n",
       "        vertical-align: middle;\n",
       "    }\n",
       "\n",
       "    .dataframe tbody tr th {\n",
       "        vertical-align: top;\n",
       "    }\n",
       "\n",
       "    .dataframe thead th {\n",
       "        text-align: right;\n",
       "    }\n",
       "</style>\n",
       "<table border=\"1\" class=\"dataframe\">\n",
       "  <thead>\n",
       "    <tr style=\"text-align: right;\">\n",
       "      <th></th>\n",
       "      <th>total_people</th>\n",
       "      <th>debt</th>\n",
       "      <th>debt_total_people</th>\n",
       "    </tr>\n",
       "    <tr>\n",
       "      <th>children</th>\n",
       "      <th></th>\n",
       "      <th></th>\n",
       "      <th></th>\n",
       "    </tr>\n",
       "  </thead>\n",
       "  <tbody>\n",
       "    <tr>\n",
       "      <th>5</th>\n",
       "      <td>9</td>\n",
       "      <td>0</td>\n",
       "      <td>0.000000</td>\n",
       "    </tr>\n",
       "    <tr>\n",
       "      <th>0</th>\n",
       "      <td>14091</td>\n",
       "      <td>1063</td>\n",
       "      <td>0.075438</td>\n",
       "    </tr>\n",
       "    <tr>\n",
       "      <th>3</th>\n",
       "      <td>330</td>\n",
       "      <td>27</td>\n",
       "      <td>0.081818</td>\n",
       "    </tr>\n",
       "    <tr>\n",
       "      <th>1</th>\n",
       "      <td>4808</td>\n",
       "      <td>444</td>\n",
       "      <td>0.092346</td>\n",
       "    </tr>\n",
       "    <tr>\n",
       "      <th>2</th>\n",
       "      <td>2052</td>\n",
       "      <td>194</td>\n",
       "      <td>0.094542</td>\n",
       "    </tr>\n",
       "    <tr>\n",
       "      <th>4</th>\n",
       "      <td>41</td>\n",
       "      <td>4</td>\n",
       "      <td>0.097561</td>\n",
       "    </tr>\n",
       "  </tbody>\n",
       "</table>\n",
       "</div>"
      ],
      "text/plain": [
       "          total_people  debt  debt_total_people\n",
       "children                                       \n",
       "5                    9     0           0.000000\n",
       "0                14091  1063           0.075438\n",
       "3                  330    27           0.081818\n",
       "1                 4808   444           0.092346\n",
       "2                 2052   194           0.094542\n",
       "4                   41     4           0.097561"
      ]
     },
     "metadata": {},
     "output_type": "display_data"
    },
    {
     "data": {
      "text/plain": [
       "'children - кол-во детей у заемщика'"
      ]
     },
     "metadata": {},
     "output_type": "display_data"
    },
    {
     "data": {
      "text/plain": [
       "'total_people - общее кол-во заемщиков'"
      ]
     },
     "metadata": {},
     "output_type": "display_data"
    },
    {
     "data": {
      "text/plain": [
       "'debt - кол-во заемщиков которые просрочили возврат кредита '"
      ]
     },
     "metadata": {},
     "output_type": "display_data"
    },
    {
     "data": {
      "text/plain": [
       "'debt_total_people - отношение просроченных кредитов к общему кол-ву заемщиков'"
      ]
     },
     "metadata": {},
     "output_type": "display_data"
    }
   ],
   "source": [
    "\n",
    "children_group = data.groupby('children')['children'].count() #кол-во людей разбито по группам с разным кол-вом детей\n",
    "children_debt = data.groupby('children')['debt'].sum() #кол-во людей с задолженостями\n",
    "children_debt_group = children_debt/children_group #отношение невозвратов к общему кол-ву людей\n",
    " \n",
    "\n",
    "children_debt_group_final = pd.concat([children_group, children_debt, children_debt_group], axis=1)\n",
    "children_debt_group_final = children_debt_group_final.rename(columns={'children': 'total_people', 'debt': 'debt', 0: 'debt_total_people'}) \n",
    "\n",
    "display(children_debt_group_final.sort_values(by='debt_total_people'))\n",
    "display('children - кол-во детей у заемщика')\n",
    "display('total_people - общее кол-во заемщиков') \n",
    "display('debt - кол-во заемщиков которые просрочили возврат кредита ') \n",
    "display('debt_total_people - отношение просроченных кредитов к общему кол-ву заемщиков')\n",
    "\n",
    "\n"
   ]
  },
  {
   "cell_type": "markdown",
   "id": "1f1bf1ab",
   "metadata": {
    "deletable": false,
    "id": "3a6b99ec"
   },
   "source": [
    "**Вывод:** Люди без детей лучше возвращают кредиты.\n",
    "Семьи в которых 5 детей не имели просрочек по кредитам, возможно этот вывод не объективен, выборка слишком маленькая."
   ]
  },
  {
   "cell_type": "markdown",
   "id": "6fe6d735",
   "metadata": {},
   "source": [
    "<div class=\"alert alert-success\">\n",
    "<h2> Комментарий ревьюера <a class=\"tocSkip\"> </h2>\n",
    "\n",
    "<b>Все отлично!👍:</b> \n",
    "    \n",
    "Отличные расчёты и использование сводной таблицы на высоте! "
   ]
  },
  {
   "cell_type": "markdown",
   "id": "54867519",
   "metadata": {
    "deletable": false,
    "editable": false,
    "id": "97be82ca"
   },
   "source": [
    "#### 3.2 Есть ли зависимость между семейным положением и возвратом кредита в срок?"
   ]
  },
  {
   "cell_type": "code",
   "execution_count": 23,
   "id": "a7303c50",
   "metadata": {
    "deletable": false,
    "id": "dc3f7ee8"
   },
   "outputs": [
    {
     "data": {
      "text/html": [
       "<div>\n",
       "<style scoped>\n",
       "    .dataframe tbody tr th:only-of-type {\n",
       "        vertical-align: middle;\n",
       "    }\n",
       "\n",
       "    .dataframe tbody tr th {\n",
       "        vertical-align: top;\n",
       "    }\n",
       "\n",
       "    .dataframe thead th {\n",
       "        text-align: right;\n",
       "    }\n",
       "</style>\n",
       "<table border=\"1\" class=\"dataframe\">\n",
       "  <thead>\n",
       "    <tr style=\"text-align: right;\">\n",
       "      <th></th>\n",
       "      <th>total_people</th>\n",
       "      <th>debt</th>\n",
       "      <th>debt_total_people</th>\n",
       "    </tr>\n",
       "    <tr>\n",
       "      <th>family_status</th>\n",
       "      <th></th>\n",
       "      <th></th>\n",
       "      <th></th>\n",
       "    </tr>\n",
       "  </thead>\n",
       "  <tbody>\n",
       "    <tr>\n",
       "      <th>вдовец / вдова</th>\n",
       "      <td>951</td>\n",
       "      <td>63</td>\n",
       "      <td>0.066246</td>\n",
       "    </tr>\n",
       "    <tr>\n",
       "      <th>в разводе</th>\n",
       "      <td>1189</td>\n",
       "      <td>84</td>\n",
       "      <td>0.070648</td>\n",
       "    </tr>\n",
       "    <tr>\n",
       "      <th>женат / замужем</th>\n",
       "      <td>12261</td>\n",
       "      <td>927</td>\n",
       "      <td>0.075606</td>\n",
       "    </tr>\n",
       "    <tr>\n",
       "      <th>гражданский брак</th>\n",
       "      <td>4134</td>\n",
       "      <td>385</td>\n",
       "      <td>0.093130</td>\n",
       "    </tr>\n",
       "    <tr>\n",
       "      <th>Не женат / не замужем</th>\n",
       "      <td>2796</td>\n",
       "      <td>273</td>\n",
       "      <td>0.097639</td>\n",
       "    </tr>\n",
       "  </tbody>\n",
       "</table>\n",
       "</div>"
      ],
      "text/plain": [
       "                       total_people  debt  debt_total_people\n",
       "family_status                                               \n",
       "вдовец / вдова                  951    63           0.066246\n",
       "в разводе                      1189    84           0.070648\n",
       "женат / замужем               12261   927           0.075606\n",
       "гражданский брак               4134   385           0.093130\n",
       "Не женат / не замужем          2796   273           0.097639"
      ]
     },
     "metadata": {},
     "output_type": "display_data"
    },
    {
     "data": {
      "text/plain": [
       "'family_status - семейный статус у заемщика'"
      ]
     },
     "metadata": {},
     "output_type": "display_data"
    },
    {
     "data": {
      "text/plain": [
       "'total_people - общее кол-во заемщиков'"
      ]
     },
     "metadata": {},
     "output_type": "display_data"
    },
    {
     "data": {
      "text/plain": [
       "'debt - кол-во заемщиков которые просрочили возврат кредита '"
      ]
     },
     "metadata": {},
     "output_type": "display_data"
    },
    {
     "data": {
      "text/plain": [
       "'debt_total_people - отношение просроченных кредитов к общему кол-ву заемщиков'"
      ]
     },
     "metadata": {},
     "output_type": "display_data"
    }
   ],
   "source": [
    "family_status_group = data.groupby('family_status')['family_status'].count() #кол-во людей разбито по группам с разным семейным положением\n",
    "family_status_debt = data.groupby('family_status')['debt'].sum() #кол-во людей с задолженостями\n",
    "family_status_debt_group = family_status_debt/family_status_group #отношение невозвратов к общему кол-ву людей\n",
    "\n",
    "\n",
    "family_status_debt_group_final = pd.concat([family_status_group, family_status_debt, family_status_debt_group], axis=1)\n",
    "family_status_debt_group_final = family_status_debt_group_final.rename(columns={'family_status': 'total_people', 'debt': 'debt', 0: 'debt_total_people'}) \n",
    "\n",
    "display(family_status_debt_group_final.sort_values(by='debt_total_people'))\n",
    "display('family_status - семейный статус у заемщика')\n",
    "display('total_people - общее кол-во заемщиков') \n",
    "display('debt - кол-во заемщиков которые просрочили возврат кредита ') \n",
    "display('debt_total_people - отношение просроченных кредитов к общему кол-ву заемщиков')"
   ]
  },
  {
   "cell_type": "markdown",
   "id": "7b41c0d1",
   "metadata": {
    "deletable": false,
    "id": "1cef7837"
   },
   "source": [
    "**Вывод:** Самое большое кол-во просроченных платежей у людей, которые не состоят в официальном браке,  либо живут в гражданском браке. Меньше всего просроченных платежей у людей потерявших одного из супругов и людей после развода.\n",
    "\n"
   ]
  },
  {
   "cell_type": "markdown",
   "id": "df1a66a1",
   "metadata": {},
   "source": [
    "<div class=\"alert alert-success\">\n",
    "<h2> Комментарий ревьюера <a class=\"tocSkip\"> </h2>\n",
    "\n",
    "<b>Все отлично!👍:</b> \n",
    "    \n",
    "Здесь тоже замечательно!"
   ]
  },
  {
   "cell_type": "markdown",
   "id": "d78d2984",
   "metadata": {
    "deletable": false,
    "editable": false,
    "id": "1e8b2fca"
   },
   "source": [
    "#### 3.3 Есть ли зависимость между уровнем дохода и возвратом кредита в срок?"
   ]
  },
  {
   "cell_type": "code",
   "execution_count": 24,
   "id": "ab1011b5",
   "metadata": {
    "deletable": false,
    "id": "cd7e3720"
   },
   "outputs": [
    {
     "data": {
      "text/html": [
       "<div>\n",
       "<style scoped>\n",
       "    .dataframe tbody tr th:only-of-type {\n",
       "        vertical-align: middle;\n",
       "    }\n",
       "\n",
       "    .dataframe tbody tr th {\n",
       "        vertical-align: top;\n",
       "    }\n",
       "\n",
       "    .dataframe thead th {\n",
       "        text-align: right;\n",
       "    }\n",
       "</style>\n",
       "<table border=\"1\" class=\"dataframe\">\n",
       "  <thead>\n",
       "    <tr style=\"text-align: right;\">\n",
       "      <th></th>\n",
       "      <th>total_people</th>\n",
       "      <th>debt</th>\n",
       "      <th>debt_total_people</th>\n",
       "    </tr>\n",
       "    <tr>\n",
       "      <th>total_income_category</th>\n",
       "      <th></th>\n",
       "      <th></th>\n",
       "      <th></th>\n",
       "    </tr>\n",
       "  </thead>\n",
       "  <tbody>\n",
       "    <tr>\n",
       "      <th>D</th>\n",
       "      <td>349</td>\n",
       "      <td>21</td>\n",
       "      <td>0.060172</td>\n",
       "    </tr>\n",
       "    <tr>\n",
       "      <th>B</th>\n",
       "      <td>5014</td>\n",
       "      <td>354</td>\n",
       "      <td>0.070602</td>\n",
       "    </tr>\n",
       "    <tr>\n",
       "      <th>A</th>\n",
       "      <td>25</td>\n",
       "      <td>2</td>\n",
       "      <td>0.080000</td>\n",
       "    </tr>\n",
       "    <tr>\n",
       "      <th>C</th>\n",
       "      <td>15921</td>\n",
       "      <td>1353</td>\n",
       "      <td>0.084982</td>\n",
       "    </tr>\n",
       "    <tr>\n",
       "      <th>E</th>\n",
       "      <td>22</td>\n",
       "      <td>2</td>\n",
       "      <td>0.090909</td>\n",
       "    </tr>\n",
       "  </tbody>\n",
       "</table>\n",
       "</div>"
      ],
      "text/plain": [
       "                       total_people  debt  debt_total_people\n",
       "total_income_category                                       \n",
       "D                               349    21           0.060172\n",
       "B                              5014   354           0.070602\n",
       "A                                25     2           0.080000\n",
       "C                             15921  1353           0.084982\n",
       "E                                22     2           0.090909"
      ]
     },
     "metadata": {},
     "output_type": "display_data"
    },
    {
     "data": {
      "text/plain": [
       "'total_income_category - уровень дохода  0–30000 — E; 30001–50000 — D; 50001–200000 — C; 200001–1000000 — B; 1000001 и выше — A'"
      ]
     },
     "metadata": {},
     "output_type": "display_data"
    },
    {
     "data": {
      "text/plain": [
       "'total_people - общее кол-во заемщиков'"
      ]
     },
     "metadata": {},
     "output_type": "display_data"
    },
    {
     "data": {
      "text/plain": [
       "'debt - кол-во заемщиков которые просрочили возврат кредита '"
      ]
     },
     "metadata": {},
     "output_type": "display_data"
    },
    {
     "data": {
      "text/plain": [
       "'debt_total_people - отношение просроченных кредитов к общему кол-ву заемщиков'"
      ]
     },
     "metadata": {},
     "output_type": "display_data"
    }
   ],
   "source": [
    "total_income_category_group = data.groupby('total_income_category')['total_income_category'].count() #кол-во людей разбито по группам с разным уровнем дохода\n",
    "total_income_category_debt = data.groupby('total_income_category')['debt'].sum() #кол-во людей разбито по группам с разным кол-вом детей, с задолженостями\n",
    "total_income_category_debt_group = total_income_category_debt/total_income_category_group #отношение невозвратов к общему кол-ву\n",
    "\n",
    "total_income_category_debt_group_final = pd.concat([total_income_category_group, total_income_category_debt, total_income_category_debt_group], axis=1)\n",
    "total_income_category_debt_group_final = total_income_category_debt_group_final.rename(columns={'total_income_category': 'total_people', 'debt': 'debt', 0: 'debt_total_people'}) \n",
    "\n",
    "display(total_income_category_debt_group_final.sort_values(by='debt_total_people'))\n",
    "display('total_income_category - уровень дохода  0–30000 — E; 30001–50000 — D; 50001–200000 — C; 200001–1000000 — B; 1000001 и выше — A')\n",
    "display('total_people - общее кол-во заемщиков') \n",
    "display('debt - кол-во заемщиков которые просрочили возврат кредита ') \n",
    "display('debt_total_people - отношение просроченных кредитов к общему кол-ву заемщиков')# Ваш код будет здесь. Вы можете создавать новые ячейки."
   ]
  },
  {
   "cell_type": "markdown",
   "id": "92e4f0ac",
   "metadata": {
    "deletable": false,
    "id": "e8593def"
   },
   "source": [
    "**Вывод:** Самое большое кол-во просроченных платежей у людей с доходом  50001–200000, людей с уровнем  дохода  0–30000  предлагаю игнорировать, выборка слишком мала. \n",
    "Меньше всего просроченных платежей у людей с доходом 30001–50000.\n",
    "Людей с доходами от 1000001 советую обслуживать с индивидуальным подходом.\n"
   ]
  },
  {
   "cell_type": "markdown",
   "id": "ef4acff9",
   "metadata": {},
   "source": [
    "<div class=\"alert alert-success\">\n",
    "<h2> Комментарий ревьюера <a class=\"tocSkip\"> </h2>\n",
    "\n",
    "<b>Все отлично!👍:</b> \n",
    "    \n",
    "Тоже отлично! Есть рекомендация!"
   ]
  },
  {
   "cell_type": "markdown",
   "id": "de6ca01d",
   "metadata": {
    "deletable": false,
    "editable": false,
    "id": "99ecbd1f"
   },
   "source": [
    "#### 3.4 Как разные цели кредита влияют на его возврат в срок?"
   ]
  },
  {
   "cell_type": "code",
   "execution_count": 25,
   "id": "ae418f4e",
   "metadata": {
    "deletable": false,
    "id": "2b687290"
   },
   "outputs": [
    {
     "data": {
      "text/html": [
       "<div>\n",
       "<style scoped>\n",
       "    .dataframe tbody tr th:only-of-type {\n",
       "        vertical-align: middle;\n",
       "    }\n",
       "\n",
       "    .dataframe tbody tr th {\n",
       "        vertical-align: top;\n",
       "    }\n",
       "\n",
       "    .dataframe thead th {\n",
       "        text-align: right;\n",
       "    }\n",
       "</style>\n",
       "<table border=\"1\" class=\"dataframe\">\n",
       "  <thead>\n",
       "    <tr style=\"text-align: right;\">\n",
       "      <th></th>\n",
       "      <th>total_people</th>\n",
       "      <th>debt</th>\n",
       "      <th>debt_total_people</th>\n",
       "    </tr>\n",
       "    <tr>\n",
       "      <th>purpose_category</th>\n",
       "      <th></th>\n",
       "      <th></th>\n",
       "      <th></th>\n",
       "    </tr>\n",
       "  </thead>\n",
       "  <tbody>\n",
       "    <tr>\n",
       "      <th>операции с недвижимостью</th>\n",
       "      <td>10751</td>\n",
       "      <td>780</td>\n",
       "      <td>0.072551</td>\n",
       "    </tr>\n",
       "    <tr>\n",
       "      <th>проведение свадьбы</th>\n",
       "      <td>2313</td>\n",
       "      <td>183</td>\n",
       "      <td>0.079118</td>\n",
       "    </tr>\n",
       "    <tr>\n",
       "      <th>получение образования</th>\n",
       "      <td>3988</td>\n",
       "      <td>369</td>\n",
       "      <td>0.092528</td>\n",
       "    </tr>\n",
       "    <tr>\n",
       "      <th>операции с автомобилем</th>\n",
       "      <td>4279</td>\n",
       "      <td>400</td>\n",
       "      <td>0.093480</td>\n",
       "    </tr>\n",
       "  </tbody>\n",
       "</table>\n",
       "</div>"
      ],
      "text/plain": [
       "                          total_people  debt  debt_total_people\n",
       "purpose_category                                               \n",
       "операции с недвижимостью         10751   780           0.072551\n",
       "проведение свадьбы                2313   183           0.079118\n",
       "получение образования             3988   369           0.092528\n",
       "операции с автомобилем            4279   400           0.093480"
      ]
     },
     "metadata": {},
     "output_type": "display_data"
    },
    {
     "data": {
      "text/plain": [
       "'purpose_category - цель займа'"
      ]
     },
     "metadata": {},
     "output_type": "display_data"
    },
    {
     "data": {
      "text/plain": [
       "'total_people - общее кол-во заемщиков'"
      ]
     },
     "metadata": {},
     "output_type": "display_data"
    },
    {
     "data": {
      "text/plain": [
       "'debt - кол-во заемщиков которые просрочили возврат кредита '"
      ]
     },
     "metadata": {},
     "output_type": "display_data"
    },
    {
     "data": {
      "text/plain": [
       "'debt_total_people - отношение просроченных кредитов к общему кол-ву заемщиков'"
      ]
     },
     "metadata": {},
     "output_type": "display_data"
    }
   ],
   "source": [
    "purpose_category_group = data.groupby('purpose_category')['purpose_category'].count() #кол-во людей разбито по группам с разными целями\n",
    "purpose_category_debt = data.groupby('purpose_category')['debt'].sum() #кол-во людей разбито по группам с разным кол-вом детей, с задолженостями\n",
    "purpose_category_debt_group = purpose_category_debt/purpose_category_group #отношение невозвратов к общему кол-ву\n",
    "\n",
    "purpose_category_debt_group_final = pd.concat([purpose_category_group, purpose_category_debt, purpose_category_debt_group], axis=1)\n",
    "purpose_category_debt_group_final = purpose_category_debt_group_final.rename(columns={'purpose_category': 'total_people', 'debt': 'debt', 0: 'debt_total_people'}) \n",
    "\n",
    "display(purpose_category_debt_group_final.sort_values(by='debt_total_people'))\n",
    "display('purpose_category - цель займа')\n",
    "display('total_people - общее кол-во заемщиков') \n",
    "display('debt - кол-во заемщиков которые просрочили возврат кредита ') \n",
    "display('debt_total_people - отношение просроченных кредитов к общему кол-ву заемщиков')"
   ]
  },
  {
   "cell_type": "markdown",
   "id": "048f66f6",
   "metadata": {
    "deletable": false,
    "id": "b4bb2ce6"
   },
   "source": [
    "**Вывод:** Самое большое кол-во просроченных платежей у категории автокредитов. Меньше всего просроченных платежей у людей с ипотеками."
   ]
  },
  {
   "cell_type": "markdown",
   "id": "87b5a33f",
   "metadata": {},
   "source": [
    "<div class=\"alert alert-success\">\n",
    "<h2> Комментарий ревьюера <a class=\"tocSkip\"> </h2>\n",
    "\n",
    "<b>Все отлично!👍:</b> \n",
    "    \n",
    "Здесь всё верно, хорошие расчёты!"
   ]
  },
  {
   "cell_type": "markdown",
   "id": "17bccfd2",
   "metadata": {
    "deletable": false,
    "editable": false,
    "id": "09c3ac4c"
   },
   "source": [
    "#### 3.5 Приведите возможные причины появления пропусков в исходных данных."
   ]
  },
  {
   "cell_type": "markdown",
   "id": "6c616149",
   "metadata": {
    "deletable": false,
    "id": "9da2ceda"
   },
   "source": [
    "*Ответ:* Причины появления пропусков:\n",
    "1. Человеческий фактор, например плохая работа кредитного специалиста, который вносил данные в базу.\n",
    "2. Сбой базы данных."
   ]
  },
  {
   "cell_type": "markdown",
   "id": "776d252f",
   "metadata": {},
   "source": [
    "<div class=\"alert alert-success\">\n",
    "<h2> Комментарий ревьюера <a class=\"tocSkip\"> </h2>\n",
    "\n",
    "<b>Все отлично!👍:</b> \n",
    "    \n",
    "А может кто-то не хочет указывать эти данные. Если проверить, у клиентов из категории сотрудник тоже бывают пропуски в этих столбцах. "
   ]
  },
  {
   "cell_type": "markdown",
   "id": "bbb72b50",
   "metadata": {
    "deletable": false,
    "editable": false,
    "id": "7b0487d6"
   },
   "source": [
    "#### 3.6 Объясните, почему заполнить пропуски медианным значением — лучшее решение для количественных переменных."
   ]
  },
  {
   "cell_type": "markdown",
   "id": "4bdf8567",
   "metadata": {
    "deletable": false,
    "id": "7ecf2b8e"
   },
   "source": [
    "*Ответ:* Медианное значение помогает избежать выбросов при подсчете данных, например при подсчете средней ЗП, медианна не будет брать в расчет анамально большие и маленькие значения."
   ]
  },
  {
   "cell_type": "markdown",
   "id": "c9b01555",
   "metadata": {},
   "source": [
    "<div class=\"alert alert-success\">\n",
    "<h2> Комментарий ревьюера <a class=\"tocSkip\"> </h2>\n",
    "\n",
    "<b>Все отлично!👍:</b> \n",
    "    \n",
    "Супер!"
   ]
  },
  {
   "cell_type": "markdown",
   "id": "b589bfc5",
   "metadata": {
    "deletable": false,
    "editable": false,
    "id": "6db5255a"
   },
   "source": [
    "### Шаг 4: общий вывод."
   ]
  },
  {
   "cell_type": "markdown",
   "id": "8113704e",
   "metadata": {
    "deletable": false,
    "id": "bad65432"
   },
   "source": [
    "Идеальный заемщик выглядит так: вдовец / вдова или после развода, без детей, с доходом от 30000 тыс рублей, взявший ипотеку.\n"
   ]
  },
  {
   "cell_type": "markdown",
   "id": "19a0b3c1",
   "metadata": {},
   "source": [
    "<div class=\"alert alert-success\">\n",
    "<h2> Комментарий ревьюера <a class=\"tocSkip\"> </h2>\n",
    "\n",
    "<b>Все отлично!👍:</b> \n",
    "\n",
    "Компактно, но информативно!"
   ]
  },
  {
   "cell_type": "markdown",
   "id": "b0da3e00",
   "metadata": {},
   "source": [
    "<div class=\"alert alert-info\">\n",
    "\n",
    "**Общий вывод по проекту**\n",
    "\n",
    "Александр, спасибо за твой проект! В него действительно вложено много сил и времени! Изучение аналитики данных всегда требует больших усилий, мы это очень ценим! С каждым новым выполненным проектом ты приближаешься всё ближе и ближе к окончанию курса и возможности трудоустройства в новом качестве. \n",
    "    \n",
    "**Отмечу отдельные положительные моменты проекта🙂**:\n",
    " \n",
    "* Использование функций из программы курса на высоте. Хорошая работа!\n",
    "* Здорово получается искать и подмечать зависимости между различными данными и закономерности в них!\n",
    "* Везде есть коментарии и промежуточные выводы.\n",
    "\n",
    "**Отличная работа! С удовольствием принимаю проект!**😉\n",
    "    \n",
    "![gif](https://media.giphy.com/media/l41Yh1olOKd1Tgbw4/giphy.gif)"
   ]
  },
  {
   "cell_type": "code",
   "execution_count": null,
   "id": "a6f2d9bf",
   "metadata": {},
   "outputs": [],
   "source": []
  }
 ],
 "metadata": {
  "ExecuteTimeLog": [
   {
    "duration": 47,
    "start_time": "2022-08-15T10:32:39.047Z"
   },
   {
    "duration": 5,
    "start_time": "2022-08-15T10:33:02.415Z"
   },
   {
    "duration": 439,
    "start_time": "2022-08-15T10:33:09.667Z"
   },
   {
    "duration": 22,
    "start_time": "2022-08-15T10:33:10.107Z"
   },
   {
    "duration": 13,
    "start_time": "2022-08-15T10:33:10.131Z"
   },
   {
    "duration": 8,
    "start_time": "2022-08-15T10:33:10.146Z"
   },
   {
    "duration": 31,
    "start_time": "2022-08-15T10:33:10.155Z"
   },
   {
    "duration": 3,
    "start_time": "2022-08-15T10:33:10.188Z"
   },
   {
    "duration": 12,
    "start_time": "2022-08-15T10:33:10.192Z"
   },
   {
    "duration": 4,
    "start_time": "2022-08-15T10:33:10.206Z"
   },
   {
    "duration": 7,
    "start_time": "2022-08-15T10:33:10.212Z"
   },
   {
    "duration": 4,
    "start_time": "2022-08-15T10:33:10.221Z"
   },
   {
    "duration": 37,
    "start_time": "2022-08-15T10:33:10.226Z"
   },
   {
    "duration": 12,
    "start_time": "2022-08-15T10:33:10.265Z"
   },
   {
    "duration": 15,
    "start_time": "2022-08-15T10:33:10.279Z"
   },
   {
    "duration": 12,
    "start_time": "2022-08-15T10:33:10.297Z"
   },
   {
    "duration": 24,
    "start_time": "2022-08-15T10:33:10.311Z"
   },
   {
    "duration": 22,
    "start_time": "2022-08-15T10:33:10.337Z"
   },
   {
    "duration": 5,
    "start_time": "2022-08-15T10:33:10.361Z"
   },
   {
    "duration": 23,
    "start_time": "2022-08-15T10:33:10.368Z"
   },
   {
    "duration": 12,
    "start_time": "2022-08-15T10:33:10.393Z"
   },
   {
    "duration": 51,
    "start_time": "2022-08-15T10:33:10.406Z"
   },
   {
    "duration": 25,
    "start_time": "2022-08-15T10:33:10.459Z"
   },
   {
    "duration": 32,
    "start_time": "2022-08-15T10:33:10.486Z"
   },
   {
    "duration": 5,
    "start_time": "2022-08-15T10:33:10.520Z"
   },
   {
    "duration": 23,
    "start_time": "2022-08-15T10:33:10.526Z"
   },
   {
    "duration": 11,
    "start_time": "2022-08-15T10:33:10.550Z"
   },
   {
    "duration": 14,
    "start_time": "2022-08-15T10:33:24.874Z"
   },
   {
    "duration": 4,
    "start_time": "2022-08-15T10:41:39.575Z"
   },
   {
    "duration": 5,
    "start_time": "2022-08-15T10:41:46.856Z"
   },
   {
    "duration": 69,
    "start_time": "2022-08-15T10:41:49.493Z"
   },
   {
    "duration": 14,
    "start_time": "2022-08-15T10:41:49.564Z"
   },
   {
    "duration": 15,
    "start_time": "2022-08-15T10:41:49.580Z"
   },
   {
    "duration": 9,
    "start_time": "2022-08-15T10:41:49.597Z"
   },
   {
    "duration": 49,
    "start_time": "2022-08-15T10:41:49.608Z"
   },
   {
    "duration": 3,
    "start_time": "2022-08-15T10:41:49.658Z"
   },
   {
    "duration": 12,
    "start_time": "2022-08-15T10:41:49.662Z"
   },
   {
    "duration": 4,
    "start_time": "2022-08-15T10:41:49.675Z"
   },
   {
    "duration": 16,
    "start_time": "2022-08-15T10:41:49.681Z"
   },
   {
    "duration": 8,
    "start_time": "2022-08-15T10:41:49.700Z"
   },
   {
    "duration": 50,
    "start_time": "2022-08-15T10:41:49.710Z"
   },
   {
    "duration": 9,
    "start_time": "2022-08-15T10:41:49.761Z"
   },
   {
    "duration": 5,
    "start_time": "2022-08-15T10:41:49.771Z"
   },
   {
    "duration": 18,
    "start_time": "2022-08-15T10:41:49.777Z"
   },
   {
    "duration": 20,
    "start_time": "2022-08-15T10:41:49.797Z"
   },
   {
    "duration": 37,
    "start_time": "2022-08-15T10:41:49.818Z"
   },
   {
    "duration": 3,
    "start_time": "2022-08-15T10:41:49.857Z"
   },
   {
    "duration": 11,
    "start_time": "2022-08-15T10:41:49.861Z"
   },
   {
    "duration": 9,
    "start_time": "2022-08-15T10:41:49.874Z"
   },
   {
    "duration": 3,
    "start_time": "2022-08-15T10:41:49.885Z"
   },
   {
    "duration": 11,
    "start_time": "2022-08-15T10:41:49.890Z"
   },
   {
    "duration": 4,
    "start_time": "2022-08-15T10:41:49.903Z"
   },
   {
    "duration": 9,
    "start_time": "2022-08-15T10:41:49.908Z"
   },
   {
    "duration": 6,
    "start_time": "2022-08-15T10:41:49.919Z"
   },
   {
    "duration": 4,
    "start_time": "2022-08-15T10:41:49.926Z"
   },
   {
    "duration": 5,
    "start_time": "2022-08-15T10:42:03.492Z"
   },
   {
    "duration": 4,
    "start_time": "2022-08-15T10:42:23.515Z"
   },
   {
    "duration": 6,
    "start_time": "2022-08-15T10:42:33.337Z"
   },
   {
    "duration": 7,
    "start_time": "2022-08-15T10:42:46.668Z"
   },
   {
    "duration": 12,
    "start_time": "2022-08-15T10:43:14.468Z"
   },
   {
    "duration": 7,
    "start_time": "2022-08-15T10:43:49.097Z"
   },
   {
    "duration": 6,
    "start_time": "2022-08-15T10:43:57.736Z"
   },
   {
    "duration": 68,
    "start_time": "2022-08-15T10:44:00.873Z"
   },
   {
    "duration": 16,
    "start_time": "2022-08-15T10:44:00.942Z"
   },
   {
    "duration": 25,
    "start_time": "2022-08-15T10:44:00.959Z"
   },
   {
    "duration": 35,
    "start_time": "2022-08-15T10:44:00.985Z"
   },
   {
    "duration": 39,
    "start_time": "2022-08-15T10:44:01.022Z"
   },
   {
    "duration": 3,
    "start_time": "2022-08-15T10:44:01.062Z"
   },
   {
    "duration": 21,
    "start_time": "2022-08-15T10:44:01.066Z"
   },
   {
    "duration": 6,
    "start_time": "2022-08-15T10:44:01.088Z"
   },
   {
    "duration": 20,
    "start_time": "2022-08-15T10:44:01.096Z"
   },
   {
    "duration": 14,
    "start_time": "2022-08-15T10:44:01.117Z"
   },
   {
    "duration": 36,
    "start_time": "2022-08-15T10:44:01.133Z"
   },
   {
    "duration": 8,
    "start_time": "2022-08-15T10:44:01.171Z"
   },
   {
    "duration": 7,
    "start_time": "2022-08-15T10:44:01.180Z"
   },
   {
    "duration": 21,
    "start_time": "2022-08-15T10:44:01.189Z"
   },
   {
    "duration": 41,
    "start_time": "2022-08-15T10:44:01.212Z"
   },
   {
    "duration": 28,
    "start_time": "2022-08-15T10:44:01.256Z"
   },
   {
    "duration": 3,
    "start_time": "2022-08-15T10:44:01.286Z"
   },
   {
    "duration": 16,
    "start_time": "2022-08-15T10:44:01.290Z"
   },
   {
    "duration": 18,
    "start_time": "2022-08-15T10:44:01.308Z"
   },
   {
    "duration": 17,
    "start_time": "2022-08-15T10:44:01.328Z"
   },
   {
    "duration": 27,
    "start_time": "2022-08-15T10:44:01.347Z"
   },
   {
    "duration": 16,
    "start_time": "2022-08-15T10:44:01.375Z"
   },
   {
    "duration": 2,
    "start_time": "2022-08-15T10:44:01.392Z"
   },
   {
    "duration": 8,
    "start_time": "2022-08-15T10:44:01.395Z"
   },
   {
    "duration": 10,
    "start_time": "2022-08-15T10:44:01.405Z"
   },
   {
    "duration": 6,
    "start_time": "2022-08-15T10:44:47.056Z"
   },
   {
    "duration": 6,
    "start_time": "2022-08-15T10:45:05.104Z"
   },
   {
    "duration": 5,
    "start_time": "2022-08-15T10:45:41.071Z"
   },
   {
    "duration": 6,
    "start_time": "2022-08-15T10:45:54.671Z"
   },
   {
    "duration": 9,
    "start_time": "2022-08-15T10:46:56.400Z"
   },
   {
    "duration": 11,
    "start_time": "2022-08-15T10:47:12.736Z"
   },
   {
    "duration": 6,
    "start_time": "2022-08-15T10:47:37.773Z"
   },
   {
    "duration": 8,
    "start_time": "2022-08-15T10:47:55.652Z"
   },
   {
    "duration": 7,
    "start_time": "2022-08-15T10:51:08.304Z"
   },
   {
    "duration": 5,
    "start_time": "2022-08-15T10:51:22.040Z"
   },
   {
    "duration": 6,
    "start_time": "2022-08-15T10:51:40.550Z"
   },
   {
    "duration": 8,
    "start_time": "2022-08-15T10:51:58.712Z"
   },
   {
    "duration": 9,
    "start_time": "2022-08-15T10:52:35.549Z"
   },
   {
    "duration": 6,
    "start_time": "2022-08-15T10:53:15.406Z"
   },
   {
    "duration": 9,
    "start_time": "2022-08-15T10:55:30.553Z"
   },
   {
    "duration": 10,
    "start_time": "2022-08-15T10:56:00.218Z"
   },
   {
    "duration": 8,
    "start_time": "2022-08-15T10:56:54.456Z"
   },
   {
    "duration": 8,
    "start_time": "2022-08-15T10:57:23.103Z"
   },
   {
    "duration": 8,
    "start_time": "2022-08-15T11:01:00.602Z"
   },
   {
    "duration": 64,
    "start_time": "2022-08-15T11:01:22.336Z"
   },
   {
    "duration": 14,
    "start_time": "2022-08-15T11:01:22.402Z"
   },
   {
    "duration": 22,
    "start_time": "2022-08-15T11:01:22.418Z"
   },
   {
    "duration": 15,
    "start_time": "2022-08-15T11:01:22.441Z"
   },
   {
    "duration": 47,
    "start_time": "2022-08-15T11:01:22.458Z"
   },
   {
    "duration": 3,
    "start_time": "2022-08-15T11:01:22.506Z"
   },
   {
    "duration": 14,
    "start_time": "2022-08-15T11:01:22.511Z"
   },
   {
    "duration": 11,
    "start_time": "2022-08-15T11:01:22.526Z"
   },
   {
    "duration": 10,
    "start_time": "2022-08-15T11:01:22.539Z"
   },
   {
    "duration": 14,
    "start_time": "2022-08-15T11:01:22.550Z"
   },
   {
    "duration": 40,
    "start_time": "2022-08-15T11:01:22.565Z"
   },
   {
    "duration": 10,
    "start_time": "2022-08-15T11:01:22.606Z"
   },
   {
    "duration": 7,
    "start_time": "2022-08-15T11:01:22.617Z"
   },
   {
    "duration": 14,
    "start_time": "2022-08-15T11:01:22.627Z"
   },
   {
    "duration": 30,
    "start_time": "2022-08-15T11:01:22.642Z"
   },
   {
    "duration": 20,
    "start_time": "2022-08-15T11:01:22.674Z"
   },
   {
    "duration": 4,
    "start_time": "2022-08-15T11:01:22.695Z"
   },
   {
    "duration": 21,
    "start_time": "2022-08-15T11:01:22.701Z"
   },
   {
    "duration": 7,
    "start_time": "2022-08-15T11:01:22.724Z"
   },
   {
    "duration": 6,
    "start_time": "2022-08-15T11:01:22.732Z"
   },
   {
    "duration": 19,
    "start_time": "2022-08-15T11:01:22.739Z"
   },
   {
    "duration": 9,
    "start_time": "2022-08-15T11:01:22.760Z"
   },
   {
    "duration": 14,
    "start_time": "2022-08-15T11:01:22.771Z"
   },
   {
    "duration": 7,
    "start_time": "2022-08-15T11:01:22.787Z"
   },
   {
    "duration": 6,
    "start_time": "2022-08-15T11:01:22.796Z"
   },
   {
    "duration": 19,
    "start_time": "2022-08-15T11:01:49.714Z"
   },
   {
    "duration": 31,
    "start_time": "2022-08-15T11:02:22.745Z"
   },
   {
    "duration": 9,
    "start_time": "2022-08-15T11:02:37.552Z"
   },
   {
    "duration": 13,
    "start_time": "2022-08-15T11:02:47.464Z"
   },
   {
    "duration": 9,
    "start_time": "2022-08-15T11:03:25.415Z"
   },
   {
    "duration": 9,
    "start_time": "2022-08-15T11:04:39.062Z"
   },
   {
    "duration": 9,
    "start_time": "2022-08-15T11:48:34.202Z"
   },
   {
    "duration": 8,
    "start_time": "2022-08-15T12:05:10.524Z"
   },
   {
    "duration": 9,
    "start_time": "2022-08-15T12:11:29.101Z"
   },
   {
    "duration": 24,
    "start_time": "2022-08-15T12:36:45.834Z"
   },
   {
    "duration": 52,
    "start_time": "2022-08-15T12:37:15.646Z"
   },
   {
    "duration": 20,
    "start_time": "2022-08-15T12:37:55.392Z"
   },
   {
    "duration": 17,
    "start_time": "2022-08-15T12:38:20.716Z"
   },
   {
    "duration": 12,
    "start_time": "2022-08-15T12:41:14.783Z"
   },
   {
    "duration": 10,
    "start_time": "2022-08-15T12:42:19.130Z"
   },
   {
    "duration": 38,
    "start_time": "2022-08-15T12:42:26.379Z"
   },
   {
    "duration": 18,
    "start_time": "2022-08-15T12:42:32.902Z"
   },
   {
    "duration": 102,
    "start_time": "2022-08-15T12:42:42.182Z"
   },
   {
    "duration": 21,
    "start_time": "2022-08-15T12:42:42.286Z"
   },
   {
    "duration": 25,
    "start_time": "2022-08-15T12:42:42.309Z"
   },
   {
    "duration": 31,
    "start_time": "2022-08-15T12:42:42.337Z"
   },
   {
    "duration": 46,
    "start_time": "2022-08-15T12:42:42.374Z"
   },
   {
    "duration": 3,
    "start_time": "2022-08-15T12:42:42.422Z"
   },
   {
    "duration": 14,
    "start_time": "2022-08-15T12:42:42.427Z"
   },
   {
    "duration": 6,
    "start_time": "2022-08-15T12:42:42.443Z"
   },
   {
    "duration": 6,
    "start_time": "2022-08-15T12:42:42.455Z"
   },
   {
    "duration": 30,
    "start_time": "2022-08-15T12:42:42.466Z"
   },
   {
    "duration": 53,
    "start_time": "2022-08-15T12:42:42.498Z"
   },
   {
    "duration": 18,
    "start_time": "2022-08-15T12:42:42.553Z"
   },
   {
    "duration": 22,
    "start_time": "2022-08-15T12:42:42.573Z"
   },
   {
    "duration": 16,
    "start_time": "2022-08-15T12:42:42.597Z"
   },
   {
    "duration": 28,
    "start_time": "2022-08-15T12:42:42.615Z"
   },
   {
    "duration": 33,
    "start_time": "2022-08-15T12:42:42.646Z"
   },
   {
    "duration": 5,
    "start_time": "2022-08-15T12:42:42.688Z"
   },
   {
    "duration": 14,
    "start_time": "2022-08-15T12:42:42.694Z"
   },
   {
    "duration": 10,
    "start_time": "2022-08-15T12:42:42.710Z"
   },
   {
    "duration": 13,
    "start_time": "2022-08-15T12:42:42.722Z"
   },
   {
    "duration": 18,
    "start_time": "2022-08-15T12:42:42.736Z"
   },
   {
    "duration": 12,
    "start_time": "2022-08-15T12:42:42.763Z"
   },
   {
    "duration": 33,
    "start_time": "2022-08-15T12:42:42.776Z"
   },
   {
    "duration": 0,
    "start_time": "2022-08-15T12:42:42.811Z"
   },
   {
    "duration": 0,
    "start_time": "2022-08-15T12:42:42.812Z"
   },
   {
    "duration": 20,
    "start_time": "2022-08-15T12:43:28.822Z"
   },
   {
    "duration": 43,
    "start_time": "2022-08-15T12:43:40.607Z"
   },
   {
    "duration": 36,
    "start_time": "2022-08-15T12:44:24.134Z"
   },
   {
    "duration": 15,
    "start_time": "2022-08-15T12:44:45.939Z"
   },
   {
    "duration": 17,
    "start_time": "2022-08-15T12:45:47.954Z"
   },
   {
    "duration": 8,
    "start_time": "2022-08-15T12:47:43.488Z"
   },
   {
    "duration": 10,
    "start_time": "2022-08-15T12:50:04.639Z"
   },
   {
    "duration": 15,
    "start_time": "2022-08-15T12:51:42.900Z"
   },
   {
    "duration": 14,
    "start_time": "2022-08-15T12:54:41.680Z"
   },
   {
    "duration": 24,
    "start_time": "2022-08-15T12:56:41.337Z"
   },
   {
    "duration": 19,
    "start_time": "2022-08-15T12:57:27.167Z"
   },
   {
    "duration": 11,
    "start_time": "2022-08-15T13:35:58.178Z"
   },
   {
    "duration": 12,
    "start_time": "2022-08-15T13:36:34.938Z"
   },
   {
    "duration": 14,
    "start_time": "2022-08-15T13:36:42.904Z"
   },
   {
    "duration": 49,
    "start_time": "2022-08-16T07:44:59.160Z"
   },
   {
    "duration": 9,
    "start_time": "2022-08-16T07:45:08.163Z"
   },
   {
    "duration": 575,
    "start_time": "2022-08-16T07:45:12.410Z"
   },
   {
    "duration": 25,
    "start_time": "2022-08-16T07:45:12.988Z"
   },
   {
    "duration": 18,
    "start_time": "2022-08-16T07:45:13.016Z"
   },
   {
    "duration": 13,
    "start_time": "2022-08-16T07:45:13.036Z"
   },
   {
    "duration": 59,
    "start_time": "2022-08-16T07:45:13.050Z"
   },
   {
    "duration": 4,
    "start_time": "2022-08-16T07:45:13.111Z"
   },
   {
    "duration": 14,
    "start_time": "2022-08-16T07:45:13.116Z"
   },
   {
    "duration": 5,
    "start_time": "2022-08-16T07:45:13.132Z"
   },
   {
    "duration": 11,
    "start_time": "2022-08-16T07:45:13.139Z"
   },
   {
    "duration": 6,
    "start_time": "2022-08-16T07:45:13.153Z"
   },
   {
    "duration": 61,
    "start_time": "2022-08-16T07:45:13.161Z"
   },
   {
    "duration": 12,
    "start_time": "2022-08-16T07:45:13.223Z"
   },
   {
    "duration": 16,
    "start_time": "2022-08-16T07:45:13.238Z"
   },
   {
    "duration": 27,
    "start_time": "2022-08-16T07:45:13.256Z"
   },
   {
    "duration": 30,
    "start_time": "2022-08-16T07:45:13.292Z"
   },
   {
    "duration": 17,
    "start_time": "2022-08-16T07:45:13.324Z"
   },
   {
    "duration": 4,
    "start_time": "2022-08-16T07:45:13.343Z"
   },
   {
    "duration": 15,
    "start_time": "2022-08-16T07:45:13.348Z"
   },
   {
    "duration": 26,
    "start_time": "2022-08-16T07:45:13.365Z"
   },
   {
    "duration": 4,
    "start_time": "2022-08-16T07:45:13.393Z"
   },
   {
    "duration": 11,
    "start_time": "2022-08-16T07:45:13.399Z"
   },
   {
    "duration": 22,
    "start_time": "2022-08-16T07:45:13.412Z"
   },
   {
    "duration": 18,
    "start_time": "2022-08-16T07:45:13.435Z"
   },
   {
    "duration": 38,
    "start_time": "2022-08-16T07:45:13.454Z"
   },
   {
    "duration": 8,
    "start_time": "2022-08-16T07:45:13.495Z"
   },
   {
    "duration": 49,
    "start_time": "2022-08-16T07:47:14.064Z"
   },
   {
    "duration": 23,
    "start_time": "2022-08-16T07:47:34.671Z"
   },
   {
    "duration": 79,
    "start_time": "2022-08-16T07:47:39.646Z"
   },
   {
    "duration": 16,
    "start_time": "2022-08-16T07:47:39.727Z"
   },
   {
    "duration": 18,
    "start_time": "2022-08-16T07:47:39.744Z"
   },
   {
    "duration": 37,
    "start_time": "2022-08-16T07:47:39.764Z"
   },
   {
    "duration": 47,
    "start_time": "2022-08-16T07:47:39.803Z"
   },
   {
    "duration": 4,
    "start_time": "2022-08-16T07:47:39.851Z"
   },
   {
    "duration": 11,
    "start_time": "2022-08-16T07:47:39.856Z"
   },
   {
    "duration": 9,
    "start_time": "2022-08-16T07:47:39.869Z"
   },
   {
    "duration": 9,
    "start_time": "2022-08-16T07:47:39.880Z"
   },
   {
    "duration": 18,
    "start_time": "2022-08-16T07:47:39.892Z"
   },
   {
    "duration": 37,
    "start_time": "2022-08-16T07:47:39.912Z"
   },
   {
    "duration": 11,
    "start_time": "2022-08-16T07:47:39.951Z"
   },
   {
    "duration": 3,
    "start_time": "2022-08-16T07:47:39.963Z"
   },
   {
    "duration": 27,
    "start_time": "2022-08-16T07:47:39.967Z"
   },
   {
    "duration": 36,
    "start_time": "2022-08-16T07:47:40.006Z"
   },
   {
    "duration": 21,
    "start_time": "2022-08-16T07:47:40.044Z"
   },
   {
    "duration": 4,
    "start_time": "2022-08-16T07:47:40.067Z"
   },
   {
    "duration": 14,
    "start_time": "2022-08-16T07:47:40.073Z"
   },
   {
    "duration": 19,
    "start_time": "2022-08-16T07:47:40.088Z"
   },
   {
    "duration": 9,
    "start_time": "2022-08-16T07:47:40.110Z"
   },
   {
    "duration": 12,
    "start_time": "2022-08-16T07:47:40.120Z"
   },
   {
    "duration": 22,
    "start_time": "2022-08-16T07:47:40.134Z"
   },
   {
    "duration": 1,
    "start_time": "2022-08-16T07:47:40.157Z"
   },
   {
    "duration": 0,
    "start_time": "2022-08-16T07:47:40.159Z"
   },
   {
    "duration": 0,
    "start_time": "2022-08-16T07:47:40.160Z"
   },
   {
    "duration": 37,
    "start_time": "2022-08-16T07:51:07.469Z"
   },
   {
    "duration": 25,
    "start_time": "2022-08-16T07:51:58.777Z"
   },
   {
    "duration": 70,
    "start_time": "2022-08-16T07:52:42.616Z"
   },
   {
    "duration": 26,
    "start_time": "2022-08-16T07:52:42.688Z"
   },
   {
    "duration": 17,
    "start_time": "2022-08-16T07:52:42.715Z"
   },
   {
    "duration": 11,
    "start_time": "2022-08-16T07:52:42.734Z"
   },
   {
    "duration": 36,
    "start_time": "2022-08-16T07:52:42.747Z"
   },
   {
    "duration": 5,
    "start_time": "2022-08-16T07:52:42.798Z"
   },
   {
    "duration": 14,
    "start_time": "2022-08-16T07:52:42.805Z"
   },
   {
    "duration": 4,
    "start_time": "2022-08-16T07:52:42.821Z"
   },
   {
    "duration": 6,
    "start_time": "2022-08-16T07:52:42.827Z"
   },
   {
    "duration": 4,
    "start_time": "2022-08-16T07:52:42.835Z"
   },
   {
    "duration": 35,
    "start_time": "2022-08-16T07:52:42.841Z"
   },
   {
    "duration": 29,
    "start_time": "2022-08-16T07:52:42.878Z"
   },
   {
    "duration": 8,
    "start_time": "2022-08-16T07:52:42.909Z"
   },
   {
    "duration": 28,
    "start_time": "2022-08-16T07:52:42.918Z"
   },
   {
    "duration": 56,
    "start_time": "2022-08-16T07:52:42.948Z"
   },
   {
    "duration": 19,
    "start_time": "2022-08-16T07:52:43.006Z"
   },
   {
    "duration": 8,
    "start_time": "2022-08-16T07:52:43.026Z"
   },
   {
    "duration": 33,
    "start_time": "2022-08-16T07:52:43.036Z"
   },
   {
    "duration": 16,
    "start_time": "2022-08-16T07:52:43.071Z"
   },
   {
    "duration": 32,
    "start_time": "2022-08-16T07:52:43.089Z"
   },
   {
    "duration": 36,
    "start_time": "2022-08-16T07:52:43.123Z"
   },
   {
    "duration": 43,
    "start_time": "2022-08-16T07:52:43.161Z"
   },
   {
    "duration": 0,
    "start_time": "2022-08-16T07:52:43.206Z"
   },
   {
    "duration": 0,
    "start_time": "2022-08-16T07:52:43.207Z"
   },
   {
    "duration": 0,
    "start_time": "2022-08-16T07:52:43.209Z"
   },
   {
    "duration": 12,
    "start_time": "2022-08-16T07:55:20.531Z"
   },
   {
    "duration": 18,
    "start_time": "2022-08-16T07:55:47.492Z"
   },
   {
    "duration": 12,
    "start_time": "2022-08-16T07:56:11.539Z"
   },
   {
    "duration": 75,
    "start_time": "2022-08-16T07:56:15.611Z"
   },
   {
    "duration": 24,
    "start_time": "2022-08-16T07:56:15.688Z"
   },
   {
    "duration": 21,
    "start_time": "2022-08-16T07:56:15.713Z"
   },
   {
    "duration": 12,
    "start_time": "2022-08-16T07:56:15.737Z"
   },
   {
    "duration": 59,
    "start_time": "2022-08-16T07:56:15.751Z"
   },
   {
    "duration": 4,
    "start_time": "2022-08-16T07:56:15.812Z"
   },
   {
    "duration": 19,
    "start_time": "2022-08-16T07:56:15.818Z"
   },
   {
    "duration": 6,
    "start_time": "2022-08-16T07:56:15.839Z"
   },
   {
    "duration": 8,
    "start_time": "2022-08-16T07:56:15.846Z"
   },
   {
    "duration": 14,
    "start_time": "2022-08-16T07:56:15.857Z"
   },
   {
    "duration": 66,
    "start_time": "2022-08-16T07:56:15.873Z"
   },
   {
    "duration": 18,
    "start_time": "2022-08-16T07:56:15.941Z"
   },
   {
    "duration": 9,
    "start_time": "2022-08-16T07:56:15.961Z"
   },
   {
    "duration": 36,
    "start_time": "2022-08-16T07:56:15.972Z"
   },
   {
    "duration": 31,
    "start_time": "2022-08-16T07:56:16.010Z"
   },
   {
    "duration": 22,
    "start_time": "2022-08-16T07:56:16.042Z"
   },
   {
    "duration": 3,
    "start_time": "2022-08-16T07:56:16.066Z"
   },
   {
    "duration": 24,
    "start_time": "2022-08-16T07:56:16.071Z"
   },
   {
    "duration": 10,
    "start_time": "2022-08-16T07:56:16.101Z"
   },
   {
    "duration": 7,
    "start_time": "2022-08-16T07:56:16.113Z"
   },
   {
    "duration": 14,
    "start_time": "2022-08-16T07:56:16.121Z"
   },
   {
    "duration": 16,
    "start_time": "2022-08-16T07:56:16.136Z"
   },
   {
    "duration": 0,
    "start_time": "2022-08-16T07:56:16.153Z"
   },
   {
    "duration": 0,
    "start_time": "2022-08-16T07:56:16.154Z"
   },
   {
    "duration": 0,
    "start_time": "2022-08-16T07:56:16.156Z"
   },
   {
    "duration": 12,
    "start_time": "2022-08-16T08:00:26.358Z"
   },
   {
    "duration": 21,
    "start_time": "2022-08-16T08:01:07.781Z"
   },
   {
    "duration": 20,
    "start_time": "2022-08-16T08:01:41.604Z"
   },
   {
    "duration": 20,
    "start_time": "2022-08-16T08:01:52.292Z"
   },
   {
    "duration": 22,
    "start_time": "2022-08-16T08:03:37.881Z"
   },
   {
    "duration": 20,
    "start_time": "2022-08-16T08:04:24.628Z"
   },
   {
    "duration": 19,
    "start_time": "2022-08-16T08:04:54.152Z"
   },
   {
    "duration": 69,
    "start_time": "2022-08-16T08:05:08.295Z"
   },
   {
    "duration": 15,
    "start_time": "2022-08-16T08:05:08.366Z"
   },
   {
    "duration": 18,
    "start_time": "2022-08-16T08:05:08.383Z"
   },
   {
    "duration": 11,
    "start_time": "2022-08-16T08:05:08.403Z"
   },
   {
    "duration": 48,
    "start_time": "2022-08-16T08:05:08.416Z"
   },
   {
    "duration": 3,
    "start_time": "2022-08-16T08:05:08.466Z"
   },
   {
    "duration": 19,
    "start_time": "2022-08-16T08:05:08.471Z"
   },
   {
    "duration": 5,
    "start_time": "2022-08-16T08:05:08.492Z"
   },
   {
    "duration": 8,
    "start_time": "2022-08-16T08:05:08.499Z"
   },
   {
    "duration": 4,
    "start_time": "2022-08-16T08:05:08.510Z"
   },
   {
    "duration": 37,
    "start_time": "2022-08-16T08:05:08.515Z"
   },
   {
    "duration": 10,
    "start_time": "2022-08-16T08:05:08.555Z"
   },
   {
    "duration": 25,
    "start_time": "2022-08-16T08:05:08.567Z"
   },
   {
    "duration": 17,
    "start_time": "2022-08-16T08:05:08.594Z"
   },
   {
    "duration": 18,
    "start_time": "2022-08-16T08:05:08.612Z"
   },
   {
    "duration": 19,
    "start_time": "2022-08-16T08:05:08.631Z"
   },
   {
    "duration": 4,
    "start_time": "2022-08-16T08:05:08.651Z"
   },
   {
    "duration": 35,
    "start_time": "2022-08-16T08:05:08.656Z"
   },
   {
    "duration": 6,
    "start_time": "2022-08-16T08:05:08.693Z"
   },
   {
    "duration": 5,
    "start_time": "2022-08-16T08:05:08.700Z"
   },
   {
    "duration": 13,
    "start_time": "2022-08-16T08:05:08.706Z"
   },
   {
    "duration": 21,
    "start_time": "2022-08-16T08:05:08.720Z"
   },
   {
    "duration": 0,
    "start_time": "2022-08-16T08:05:08.742Z"
   },
   {
    "duration": 0,
    "start_time": "2022-08-16T08:05:08.744Z"
   },
   {
    "duration": 0,
    "start_time": "2022-08-16T08:05:08.745Z"
   },
   {
    "duration": 19,
    "start_time": "2022-08-16T08:05:34.302Z"
   },
   {
    "duration": 20,
    "start_time": "2022-08-16T08:06:17.742Z"
   },
   {
    "duration": 70,
    "start_time": "2022-08-16T08:06:21.124Z"
   },
   {
    "duration": 14,
    "start_time": "2022-08-16T08:06:21.196Z"
   },
   {
    "duration": 22,
    "start_time": "2022-08-16T08:06:21.212Z"
   },
   {
    "duration": 12,
    "start_time": "2022-08-16T08:06:21.236Z"
   },
   {
    "duration": 45,
    "start_time": "2022-08-16T08:06:21.249Z"
   },
   {
    "duration": 3,
    "start_time": "2022-08-16T08:06:21.296Z"
   },
   {
    "duration": 12,
    "start_time": "2022-08-16T08:06:21.301Z"
   },
   {
    "duration": 4,
    "start_time": "2022-08-16T08:06:21.315Z"
   },
   {
    "duration": 6,
    "start_time": "2022-08-16T08:06:21.321Z"
   },
   {
    "duration": 4,
    "start_time": "2022-08-16T08:06:21.329Z"
   },
   {
    "duration": 59,
    "start_time": "2022-08-16T08:06:21.334Z"
   },
   {
    "duration": 11,
    "start_time": "2022-08-16T08:06:21.395Z"
   },
   {
    "duration": 4,
    "start_time": "2022-08-16T08:06:21.407Z"
   },
   {
    "duration": 18,
    "start_time": "2022-08-16T08:06:21.413Z"
   },
   {
    "duration": 20,
    "start_time": "2022-08-16T08:06:21.432Z"
   },
   {
    "duration": 39,
    "start_time": "2022-08-16T08:06:21.454Z"
   },
   {
    "duration": 4,
    "start_time": "2022-08-16T08:06:21.495Z"
   },
   {
    "duration": 14,
    "start_time": "2022-08-16T08:06:21.501Z"
   },
   {
    "duration": 7,
    "start_time": "2022-08-16T08:06:21.517Z"
   },
   {
    "duration": 6,
    "start_time": "2022-08-16T08:06:21.526Z"
   },
   {
    "duration": 15,
    "start_time": "2022-08-16T08:06:21.533Z"
   },
   {
    "duration": 46,
    "start_time": "2022-08-16T08:06:21.550Z"
   },
   {
    "duration": 0,
    "start_time": "2022-08-16T08:06:21.597Z"
   },
   {
    "duration": 0,
    "start_time": "2022-08-16T08:06:21.598Z"
   },
   {
    "duration": 0,
    "start_time": "2022-08-16T08:06:21.600Z"
   },
   {
    "duration": 15,
    "start_time": "2022-08-16T08:06:29.878Z"
   },
   {
    "duration": 15,
    "start_time": "2022-08-16T08:07:05.886Z"
   },
   {
    "duration": 12,
    "start_time": "2022-08-16T08:07:40.532Z"
   },
   {
    "duration": 73,
    "start_time": "2022-08-16T08:07:44.840Z"
   },
   {
    "duration": 14,
    "start_time": "2022-08-16T08:07:44.915Z"
   },
   {
    "duration": 18,
    "start_time": "2022-08-16T08:07:44.931Z"
   },
   {
    "duration": 11,
    "start_time": "2022-08-16T08:07:44.951Z"
   },
   {
    "duration": 54,
    "start_time": "2022-08-16T08:07:44.963Z"
   },
   {
    "duration": 4,
    "start_time": "2022-08-16T08:07:45.019Z"
   },
   {
    "duration": 29,
    "start_time": "2022-08-16T08:07:45.024Z"
   },
   {
    "duration": 4,
    "start_time": "2022-08-16T08:07:45.056Z"
   },
   {
    "duration": 8,
    "start_time": "2022-08-16T08:07:45.062Z"
   },
   {
    "duration": 10,
    "start_time": "2022-08-16T08:07:45.073Z"
   },
   {
    "duration": 40,
    "start_time": "2022-08-16T08:07:45.085Z"
   },
   {
    "duration": 12,
    "start_time": "2022-08-16T08:07:45.127Z"
   },
   {
    "duration": 7,
    "start_time": "2022-08-16T08:07:45.141Z"
   },
   {
    "duration": 16,
    "start_time": "2022-08-16T08:07:45.150Z"
   },
   {
    "duration": 35,
    "start_time": "2022-08-16T08:07:45.168Z"
   },
   {
    "duration": 18,
    "start_time": "2022-08-16T08:07:45.204Z"
   },
   {
    "duration": 3,
    "start_time": "2022-08-16T08:07:45.224Z"
   },
   {
    "duration": 13,
    "start_time": "2022-08-16T08:07:45.229Z"
   },
   {
    "duration": 8,
    "start_time": "2022-08-16T08:07:45.244Z"
   },
   {
    "duration": 4,
    "start_time": "2022-08-16T08:07:45.253Z"
   },
   {
    "duration": 36,
    "start_time": "2022-08-16T08:07:45.258Z"
   },
   {
    "duration": 14,
    "start_time": "2022-08-16T08:07:45.296Z"
   },
   {
    "duration": 2,
    "start_time": "2022-08-16T08:07:45.312Z"
   },
   {
    "duration": 6,
    "start_time": "2022-08-16T08:07:45.316Z"
   },
   {
    "duration": 9,
    "start_time": "2022-08-16T08:07:45.323Z"
   },
   {
    "duration": 6,
    "start_time": "2022-08-16T08:16:35.983Z"
   },
   {
    "duration": 13,
    "start_time": "2022-08-16T08:17:09.078Z"
   },
   {
    "duration": 25,
    "start_time": "2022-08-16T08:17:36.229Z"
   },
   {
    "duration": 39,
    "start_time": "2022-08-16T08:18:02.508Z"
   },
   {
    "duration": 7,
    "start_time": "2022-08-16T08:23:26.462Z"
   },
   {
    "duration": 9,
    "start_time": "2022-08-16T08:23:44.996Z"
   },
   {
    "duration": 8,
    "start_time": "2022-08-16T08:24:09.308Z"
   },
   {
    "duration": 8,
    "start_time": "2022-08-16T08:24:25.292Z"
   },
   {
    "duration": 12,
    "start_time": "2022-08-16T08:26:04.851Z"
   },
   {
    "duration": 13,
    "start_time": "2022-08-16T08:27:05.410Z"
   },
   {
    "duration": 12,
    "start_time": "2022-08-16T08:27:19.488Z"
   },
   {
    "duration": 12,
    "start_time": "2022-08-16T08:27:26.776Z"
   },
   {
    "duration": 21,
    "start_time": "2022-08-16T08:27:35.143Z"
   },
   {
    "duration": 24,
    "start_time": "2022-08-16T08:27:46.569Z"
   },
   {
    "duration": 12,
    "start_time": "2022-08-16T08:28:17.551Z"
   },
   {
    "duration": 11,
    "start_time": "2022-08-16T08:28:25.350Z"
   },
   {
    "duration": 410,
    "start_time": "2022-08-16T08:33:27.648Z"
   },
   {
    "duration": 11,
    "start_time": "2022-08-16T08:35:25.197Z"
   },
   {
    "duration": 2910,
    "start_time": "2022-08-16T08:36:42.780Z"
   },
   {
    "duration": 11,
    "start_time": "2022-08-16T08:36:55.986Z"
   },
   {
    "duration": 12,
    "start_time": "2022-08-16T08:37:22.331Z"
   },
   {
    "duration": 12,
    "start_time": "2022-08-16T08:37:39.617Z"
   },
   {
    "duration": 15,
    "start_time": "2022-08-16T08:48:47.147Z"
   },
   {
    "duration": 15,
    "start_time": "2022-08-16T08:51:31.129Z"
   },
   {
    "duration": 10,
    "start_time": "2022-08-16T08:51:46.240Z"
   },
   {
    "duration": 15,
    "start_time": "2022-08-16T08:51:51.848Z"
   },
   {
    "duration": 20,
    "start_time": "2022-08-16T08:52:23.694Z"
   },
   {
    "duration": 23,
    "start_time": "2022-08-16T10:11:56.792Z"
   },
   {
    "duration": 85,
    "start_time": "2022-08-16T10:12:08.359Z"
   },
   {
    "duration": 16,
    "start_time": "2022-08-16T10:12:08.446Z"
   },
   {
    "duration": 39,
    "start_time": "2022-08-16T10:12:08.464Z"
   },
   {
    "duration": 19,
    "start_time": "2022-08-16T10:12:08.507Z"
   },
   {
    "duration": 37,
    "start_time": "2022-08-16T10:12:08.528Z"
   },
   {
    "duration": 27,
    "start_time": "2022-08-16T10:12:08.567Z"
   },
   {
    "duration": 18,
    "start_time": "2022-08-16T10:12:08.596Z"
   },
   {
    "duration": 6,
    "start_time": "2022-08-16T10:12:08.617Z"
   },
   {
    "duration": 9,
    "start_time": "2022-08-16T10:12:08.625Z"
   },
   {
    "duration": 7,
    "start_time": "2022-08-16T10:12:08.636Z"
   },
   {
    "duration": 79,
    "start_time": "2022-08-16T10:12:08.645Z"
   },
   {
    "duration": 17,
    "start_time": "2022-08-16T10:12:08.726Z"
   },
   {
    "duration": 5,
    "start_time": "2022-08-16T10:12:08.745Z"
   },
   {
    "duration": 18,
    "start_time": "2022-08-16T10:12:08.751Z"
   },
   {
    "duration": 38,
    "start_time": "2022-08-16T10:12:08.770Z"
   },
   {
    "duration": 26,
    "start_time": "2022-08-16T10:12:08.811Z"
   },
   {
    "duration": 4,
    "start_time": "2022-08-16T10:12:08.839Z"
   },
   {
    "duration": 20,
    "start_time": "2022-08-16T10:12:08.844Z"
   },
   {
    "duration": 34,
    "start_time": "2022-08-16T10:12:08.866Z"
   },
   {
    "duration": 21,
    "start_time": "2022-08-16T10:12:08.902Z"
   },
   {
    "duration": 21,
    "start_time": "2022-08-16T10:12:08.925Z"
   },
   {
    "duration": 24,
    "start_time": "2022-08-16T10:12:08.947Z"
   },
   {
    "duration": 2,
    "start_time": "2022-08-16T10:12:08.973Z"
   },
   {
    "duration": 11,
    "start_time": "2022-08-16T10:12:08.977Z"
   },
   {
    "duration": 7,
    "start_time": "2022-08-16T10:12:08.990Z"
   },
   {
    "duration": 26,
    "start_time": "2022-08-16T10:12:13.887Z"
   },
   {
    "duration": 20,
    "start_time": "2022-08-16T10:12:36.254Z"
   },
   {
    "duration": 34,
    "start_time": "2022-08-16T10:21:51.051Z"
   },
   {
    "duration": 95,
    "start_time": "2022-08-16T10:26:20.198Z"
   },
   {
    "duration": 32,
    "start_time": "2022-08-16T10:26:35.234Z"
   },
   {
    "duration": 21,
    "start_time": "2022-08-16T10:30:03.404Z"
   },
   {
    "duration": 21,
    "start_time": "2022-08-16T10:31:19.765Z"
   },
   {
    "duration": 22,
    "start_time": "2022-08-16T10:31:34.498Z"
   },
   {
    "duration": 26,
    "start_time": "2022-08-16T10:32:10.057Z"
   },
   {
    "duration": 22,
    "start_time": "2022-08-16T10:39:43.409Z"
   },
   {
    "duration": 18,
    "start_time": "2022-08-16T10:43:06.688Z"
   },
   {
    "duration": 19,
    "start_time": "2022-08-16T10:46:37.124Z"
   },
   {
    "duration": 28,
    "start_time": "2022-08-16T10:47:02.427Z"
   },
   {
    "duration": 26,
    "start_time": "2022-08-16T10:47:20.586Z"
   },
   {
    "duration": 20,
    "start_time": "2022-08-16T11:00:26.223Z"
   },
   {
    "duration": 26,
    "start_time": "2022-08-16T11:03:57.274Z"
   },
   {
    "duration": 23,
    "start_time": "2022-08-16T11:07:51.466Z"
   },
   {
    "duration": 73,
    "start_time": "2022-08-16T11:08:40.708Z"
   },
   {
    "duration": 22,
    "start_time": "2022-08-16T11:08:47.260Z"
   },
   {
    "duration": 20,
    "start_time": "2022-08-16T11:09:05.724Z"
   },
   {
    "duration": 759,
    "start_time": "2022-08-16T11:09:25.131Z"
   },
   {
    "duration": 23,
    "start_time": "2022-08-16T11:09:40.714Z"
   },
   {
    "duration": 83,
    "start_time": "2022-08-16T11:10:14.546Z"
   },
   {
    "duration": 80,
    "start_time": "2022-08-16T11:10:23.370Z"
   },
   {
    "duration": 80,
    "start_time": "2022-08-16T11:11:10.735Z"
   },
   {
    "duration": 130,
    "start_time": "2022-08-16T11:11:49.511Z"
   },
   {
    "duration": 23,
    "start_time": "2022-08-16T11:12:30.471Z"
   },
   {
    "duration": 23,
    "start_time": "2022-08-16T11:12:41.278Z"
   },
   {
    "duration": 17,
    "start_time": "2022-08-16T11:21:14.755Z"
   },
   {
    "duration": 26,
    "start_time": "2022-08-16T11:23:42.302Z"
   },
   {
    "duration": 24,
    "start_time": "2022-08-16T11:23:52.431Z"
   },
   {
    "duration": 19,
    "start_time": "2022-08-16T11:24:03.565Z"
   },
   {
    "duration": 18,
    "start_time": "2022-08-16T11:24:27.389Z"
   },
   {
    "duration": 22,
    "start_time": "2022-08-16T11:26:21.843Z"
   },
   {
    "duration": 21,
    "start_time": "2022-08-16T11:26:35.066Z"
   },
   {
    "duration": 18,
    "start_time": "2022-08-16T11:26:49.610Z"
   },
   {
    "duration": 18,
    "start_time": "2022-08-16T11:26:53.562Z"
   },
   {
    "duration": 17,
    "start_time": "2022-08-16T11:27:00.641Z"
   },
   {
    "duration": 21,
    "start_time": "2022-08-16T11:27:37.304Z"
   },
   {
    "duration": 23,
    "start_time": "2022-08-16T11:29:41.323Z"
   },
   {
    "duration": 12,
    "start_time": "2022-08-16T11:32:25.740Z"
   },
   {
    "duration": 26,
    "start_time": "2022-08-16T11:34:19.281Z"
   },
   {
    "duration": 25,
    "start_time": "2022-08-16T11:35:53.070Z"
   },
   {
    "duration": 23,
    "start_time": "2022-08-16T11:36:04.408Z"
   },
   {
    "duration": 25,
    "start_time": "2022-08-16T11:36:11.326Z"
   },
   {
    "duration": 707,
    "start_time": "2022-08-17T08:24:00.795Z"
   },
   {
    "duration": 22,
    "start_time": "2022-08-17T08:24:01.504Z"
   },
   {
    "duration": 39,
    "start_time": "2022-08-17T08:24:01.528Z"
   },
   {
    "duration": 27,
    "start_time": "2022-08-17T08:24:01.569Z"
   },
   {
    "duration": 44,
    "start_time": "2022-08-17T08:24:01.597Z"
   },
   {
    "duration": 4,
    "start_time": "2022-08-17T08:24:01.642Z"
   },
   {
    "duration": 28,
    "start_time": "2022-08-17T08:24:01.647Z"
   },
   {
    "duration": 20,
    "start_time": "2022-08-17T08:24:01.677Z"
   },
   {
    "duration": 35,
    "start_time": "2022-08-17T08:24:01.699Z"
   },
   {
    "duration": 10,
    "start_time": "2022-08-17T08:24:01.736Z"
   },
   {
    "duration": 46,
    "start_time": "2022-08-17T08:24:01.747Z"
   },
   {
    "duration": 10,
    "start_time": "2022-08-17T08:24:01.795Z"
   },
   {
    "duration": 9,
    "start_time": "2022-08-17T08:24:01.807Z"
   },
   {
    "duration": 34,
    "start_time": "2022-08-17T08:24:01.818Z"
   },
   {
    "duration": 37,
    "start_time": "2022-08-17T08:24:01.853Z"
   },
   {
    "duration": 28,
    "start_time": "2022-08-17T08:24:01.891Z"
   },
   {
    "duration": 8,
    "start_time": "2022-08-17T08:24:01.920Z"
   },
   {
    "duration": 17,
    "start_time": "2022-08-17T08:24:01.930Z"
   },
   {
    "duration": 30,
    "start_time": "2022-08-17T08:24:01.949Z"
   },
   {
    "duration": 31,
    "start_time": "2022-08-17T08:24:01.980Z"
   },
   {
    "duration": 28,
    "start_time": "2022-08-17T08:24:02.013Z"
   },
   {
    "duration": 34,
    "start_time": "2022-08-17T08:24:02.044Z"
   },
   {
    "duration": 27,
    "start_time": "2022-08-17T08:24:02.079Z"
   },
   {
    "duration": 34,
    "start_time": "2022-08-17T08:24:02.108Z"
   },
   {
    "duration": 20,
    "start_time": "2022-08-17T08:24:02.144Z"
   }
  ],
  "colab": {
   "name": "dpp_template_part2.ipynb",
   "provenance": []
  },
  "kernelspec": {
   "display_name": "Python 3 (ipykernel)",
   "language": "python",
   "name": "python3"
  },
  "language_info": {
   "codemirror_mode": {
    "name": "ipython",
    "version": 3
   },
   "file_extension": ".py",
   "mimetype": "text/x-python",
   "name": "python",
   "nbconvert_exporter": "python",
   "pygments_lexer": "ipython3",
   "version": "3.9.5"
  },
  "toc": {
   "base_numbering": 1,
   "nav_menu": {},
   "number_sections": true,
   "sideBar": true,
   "skip_h1_title": true,
   "title_cell": "Table of Contents",
   "title_sidebar": "Contents",
   "toc_cell": false,
   "toc_position": {},
   "toc_section_display": true,
   "toc_window_display": false
  }
 },
 "nbformat": 4,
 "nbformat_minor": 5
}
