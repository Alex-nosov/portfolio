{
 "cells": [
  {
   "cell_type": "markdown",
   "metadata": {
    "deletable": false,
    "editable": false,
    "id": "E0vqbgi9ay0H"
   },
   "source": [
    "# Яндекс Музыка"
   ]
  },
  {
   "cell_type": "markdown",
   "metadata": {
    "deletable": false,
    "editable": false,
    "id": "VUC88oWjTJw2"
   },
   "source": [
    "Сравнение Москвы и Петербурга окружено мифами. Например:\n",
    " * Москва — мегаполис, подчинённый жёсткому ритму рабочей недели;\n",
    " * Петербург — культурная столица, со своими вкусами.\n",
    "\n",
    "На данных Яндекс Музыки вы сравните поведение пользователей двух столиц.\n",
    "\n",
    "**Цель исследования** — проверьте три гипотезы:\n",
    "1. Активность пользователей зависит от дня недели. Причём в Москве и Петербурге это проявляется по-разному.\n",
    "2. В понедельник утром в Москве преобладают одни жанры, а в Петербурге — другие. Так же и вечером пятницы преобладают разные жанры — в зависимости от города. \n",
    "3. Москва и Петербург предпочитают разные жанры музыки. В Москве чаще слушают поп-музыку, в Петербурге — русский рэп.\n",
    "\n",
    "**Ход исследования**\n",
    "\n",
    "Данные о поведении пользователей вы получите из файла `yandex_music_project.csv`. О качестве данных ничего не известно. Поэтому перед проверкой гипотез понадобится обзор данных. \n",
    "\n",
    "Вы проверите данные на ошибки и оцените их влияние на исследование. Затем, на этапе предобработки вы поищете возможность исправить самые критичные ошибки данных.\n",
    " \n",
    "Таким образом, исследование пройдёт в три этапа:\n",
    " 1. Обзор данных.\n",
    " 2. Предобработка данных.\n",
    " 3. Проверка гипотез.\n",
    "\n"
   ]
  },
  {
   "cell_type": "markdown",
   "metadata": {
    "deletable": false,
    "editable": false,
    "id": "Ml1hmfXC_Zcs"
   },
   "source": [
    "## Обзор данных\n",
    "\n",
    "Составьте первое представление о данных Яндекс Музыки.\n",
    "\n",
    "\n"
   ]
  },
  {
   "cell_type": "markdown",
   "metadata": {
    "deletable": false,
    "editable": false,
    "id": "57eAOGIz_Zcs",
    "tags": [
     "start_task"
    ]
   },
   "source": [
    "**Задание 1**\n",
    "\n",
    "Основной инструмент аналитика — `pandas`. Импортируйте эту библиотеку."
   ]
  },
  {
   "cell_type": "code",
   "execution_count": 276,
   "metadata": {
    "deletable": false,
    "id": "AXN7PHPN_Zcs"
   },
   "outputs": [],
   "source": [
    "import pandas as pd# импорт библиотеки pandas"
   ]
  },
  {
   "cell_type": "markdown",
   "metadata": {
    "deletable": false,
    "editable": false,
    "id": "SG23P8tt_Zcs",
    "tags": [
     "start_task"
    ]
   },
   "source": [
    "**Задание 2**\n",
    "\n",
    "Прочитайте файл `yandex_music_project.csv` из папки `/datasets` и сохраните его в переменной `df`:"
   ]
  },
  {
   "cell_type": "code",
   "execution_count": 277,
   "metadata": {
    "deletable": false,
    "id": "fFVu7vqh_Zct"
   },
   "outputs": [],
   "source": [
    "df = pd.read_csv('/datasets/yandex_music_project.csv')# чтение файла с данными и сохранение в df"
   ]
  },
  {
   "cell_type": "markdown",
   "metadata": {
    "deletable": false,
    "editable": false,
    "id": "rDoOMd3uTqnZ",
    "tags": [
     "start_task"
    ]
   },
   "source": [
    "**Задание 3**\n",
    "\n",
    "\n",
    "Выведите на экран первые десять строк таблицы:"
   ]
  },
  {
   "cell_type": "code",
   "execution_count": 278,
   "metadata": {
    "deletable": false,
    "id": "oWTVX3gW_Zct"
   },
   "outputs": [
    {
     "name": "stdout",
     "output_type": "stream",
     "text": [
      "     userID                        Track            artist   genre  \\\n",
      "0  FFB692EC            Kamigata To Boots  The Mass Missile    rock   \n",
      "1  55204538  Delayed Because of Accident  Andreas Rönnberg    rock   \n",
      "2    20EC38            Funiculì funiculà       Mario Lanza     pop   \n",
      "3  A3DD03C9        Dragons in the Sunset        Fire + Ice    folk   \n",
      "4  E2DC1FAE                  Soul People        Space Echo   dance   \n",
      "5  842029A1                    Преданная         IMPERVTOR  rusrap   \n",
      "6  4CB90AA5                         True      Roman Messer   dance   \n",
      "7  F03E1C1F             Feeling This Way   Polina Griffith   dance   \n",
      "8  8FA1D3BE     И вновь продолжается бой               NaN  ruspop   \n",
      "9  E772D5C0                    Pessimist               NaN   dance   \n",
      "\n",
      "             City        time        Day  \n",
      "0  Saint-Petersburg  20:28:33  Wednesday  \n",
      "1            Moscow  14:07:09     Friday  \n",
      "2  Saint-Petersburg  20:58:07  Wednesday  \n",
      "3  Saint-Petersburg  08:37:09     Monday  \n",
      "4            Moscow  08:34:34     Monday  \n",
      "5  Saint-Petersburg  13:09:41     Friday  \n",
      "6            Moscow  13:00:07  Wednesday  \n",
      "7            Moscow  20:47:49  Wednesday  \n",
      "8            Moscow  09:17:40     Friday  \n",
      "9  Saint-Petersburg  21:20:49  Wednesday  \n"
     ]
    }
   ],
   "source": [
    "print(df.head(10))\n",
    "# получение первых 10 строк таблицы df"
   ]
  },
  {
   "cell_type": "markdown",
   "metadata": {
    "deletable": false,
    "editable": false,
    "id": "EO73Kwic_Zct",
    "tags": [
     "start_task"
    ]
   },
   "source": [
    "**Задание 4**\n",
    "\n",
    "\n",
    "Одной командой получить общую информацию о таблице c помощью метода `info()`:"
   ]
  },
  {
   "cell_type": "code",
   "execution_count": 279,
   "metadata": {
    "deletable": false,
    "id": "DSf2kIb-_Zct"
   },
   "outputs": [
    {
     "name": "stdout",
     "output_type": "stream",
     "text": [
      "<class 'pandas.core.frame.DataFrame'>\n",
      "RangeIndex: 65079 entries, 0 to 65078\n",
      "Data columns (total 7 columns):\n",
      " #   Column    Non-Null Count  Dtype \n",
      "---  ------    --------------  ----- \n",
      " 0     userID  65079 non-null  object\n",
      " 1   Track     63848 non-null  object\n",
      " 2   artist    57876 non-null  object\n",
      " 3   genre     63881 non-null  object\n",
      " 4     City    65079 non-null  object\n",
      " 5   time      65079 non-null  object\n",
      " 6   Day       65079 non-null  object\n",
      "dtypes: object(7)\n",
      "memory usage: 3.5+ MB\n"
     ]
    }
   ],
   "source": [
    "df.info()# получение общей информации о данных в таблице df"
   ]
  },
  {
   "cell_type": "markdown",
   "metadata": {
    "deletable": false,
    "editable": false,
    "id": "TaQ2Iwbr_Zct"
   },
   "source": [
    "Итак, в таблице семь столбцов. Тип данных во всех столбцах — `object`.\n",
    "\n",
    "Согласно документации к данным:\n",
    "* `userID` — идентификатор пользователя;\n",
    "* `Track` — название трека;  \n",
    "* `artist` — имя исполнителя;\n",
    "* `genre` — название жанра;\n",
    "* `City` — город пользователя;\n",
    "* `time` — время начала прослушивания;\n",
    "* `Day` — день недели.\n",
    "\n",
    "Количество значений в столбцах различается. Значит, в данных есть пропущенные значения."
   ]
  },
  {
   "cell_type": "markdown",
   "metadata": {
    "deletable": false,
    "editable": false,
    "id": "rAfziTBDmf2h",
    "tags": [
     "start_task"
    ]
   },
   "source": [
    "**Задание 5**\n",
    "\n",
    "**Вопрос со свободной формой ответа**\n",
    "\n",
    "В названиях колонок видны нарушения стиля:\n",
    "* Строчные буквы сочетаются с прописными.\n",
    "* Встречаются пробелы.\n",
    "\n",
    "Какое третье нарушение?"
   ]
  },
  {
   "cell_type": "code",
   "execution_count": 280,
   "metadata": {
    "id": "jD8EXEIvmf2h"
   },
   "outputs": [],
   "source": [
    "#слова не разделяются символом _ user_id например# Напишите ваш ответ здесь комментарием. Не удаляйте символ #. Не меняйте тип этой ячейки на Markdown."
   ]
  },
  {
   "cell_type": "markdown",
   "metadata": {
    "deletable": false,
    "editable": false,
    "id": "MCB6-dXG_Zct"
   },
   "source": [
    "**Выводы**\n",
    "\n",
    "В каждой строке таблицы — данные о прослушанном треке. Часть колонок описывает саму композицию: название, исполнителя и жанр. Остальные данные рассказывают о пользователе: из какого он города, когда он слушал музыку. \n",
    "\n",
    "Предварительно можно утверждать, что данных достаточно для проверки гипотез. Но встречаются пропуски в данных, а в названиях колонок — расхождения с хорошим стилем.\n",
    "\n",
    "Чтобы двигаться дальше, нужно устранить проблемы в данных."
   ]
  },
  {
   "cell_type": "markdown",
   "metadata": {
    "deletable": false,
    "editable": false,
    "id": "SjYF6Ub9_Zct"
   },
   "source": [
    "## Предобработка данных\n",
    "Исправьте стиль в заголовках столбцов, исключите пропуски. Затем проверьте данные на дубликаты."
   ]
  },
  {
   "cell_type": "markdown",
   "metadata": {
    "deletable": false,
    "editable": false,
    "id": "dIaKXr29_Zct",
    "tags": [
     "start_task"
    ]
   },
   "source": [
    "### Стиль заголовков\n",
    "\n",
    "**Задание 6**\n",
    "\n",
    "Выведите на экран названия столбцов:"
   ]
  },
  {
   "cell_type": "code",
   "execution_count": 281,
   "metadata": {
    "deletable": false,
    "id": "oKOTdF_Q_Zct"
   },
   "outputs": [
    {
     "name": "stdout",
     "output_type": "stream",
     "text": [
      "Index(['  userID', 'Track', 'artist', 'genre', '  City  ', 'time', 'Day'], dtype='object')\n"
     ]
    }
   ],
   "source": [
    "print(df.columns)# перечень названий столбцов таблицы df"
   ]
  },
  {
   "cell_type": "markdown",
   "metadata": {
    "deletable": false,
    "editable": false,
    "id": "zj5534cv_Zct",
    "tags": [
     "start_task"
    ]
   },
   "source": [
    "**Задание 7**\n",
    "\n",
    "\n",
    "Приведите названия в соответствие с хорошим стилем:\n",
    "* несколько слов в названии запишите в «змеином_регистре»,\n",
    "* все символы сделайте строчными,\n",
    "* устраните пробелы.\n",
    "\n",
    "Для этого переименуйте колонки так:\n",
    "* `'  userID'` → `'user_id'`;\n",
    "* `'Track'` → `'track'`;\n",
    "* `'  City  '` → `'city'`;\n",
    "* `'Day'` → `'day'`."
   ]
  },
  {
   "cell_type": "code",
   "execution_count": 282,
   "metadata": {
    "deletable": false,
    "id": "ISlFqs5y_Zct"
   },
   "outputs": [],
   "source": [
    "df = df.rename(columns={'  userID':'user_id','Track':'track','  City  ':'city','Day':'day'})# переименование столбцов"
   ]
  },
  {
   "cell_type": "markdown",
   "metadata": {
    "deletable": false,
    "editable": false,
    "id": "1dqbh00J_Zct",
    "tags": [
     "start_task"
    ]
   },
   "source": [
    "**Задание 8**\n",
    "\n",
    "\n",
    "Проверьте результат. Для этого ещё раз выведите на экран названия столбцов:"
   ]
  },
  {
   "cell_type": "code",
   "execution_count": 283,
   "metadata": {
    "deletable": false,
    "id": "d4NOAmTW_Zct"
   },
   "outputs": [
    {
     "name": "stdout",
     "output_type": "stream",
     "text": [
      "Index(['user_id', 'track', 'artist', 'genre', 'city', 'time', 'day'], dtype='object')\n"
     ]
    }
   ],
   "source": [
    "print(df.columns)# проверка результатов - перечень названий столбцов"
   ]
  },
  {
   "cell_type": "markdown",
   "metadata": {
    "deletable": false,
    "editable": false,
    "id": "5ISfbcfY_Zct",
    "tags": [
     "start_task"
    ]
   },
   "source": [
    "### Пропуски значений\n",
    "\n",
    "**Задание 9**\n",
    "\n",
    "Сначала посчитайте, сколько в таблице пропущенных значений. Для этого достаточно двух методов `pandas`:"
   ]
  },
  {
   "cell_type": "code",
   "execution_count": 284,
   "metadata": {
    "deletable": false,
    "id": "RskX29qr_Zct"
   },
   "outputs": [
    {
     "data": {
      "text/plain": [
       "user_id       0\n",
       "track      1231\n",
       "artist     7203\n",
       "genre      1198\n",
       "city          0\n",
       "time          0\n",
       "day           0\n",
       "dtype: int64"
      ]
     },
     "execution_count": 284,
     "metadata": {},
     "output_type": "execute_result"
    }
   ],
   "source": [
    "df.isna().sum()# подсчёт пропусков"
   ]
  },
  {
   "cell_type": "markdown",
   "metadata": {
    "deletable": false,
    "editable": false,
    "id": "qubhgnlO_Zct"
   },
   "source": [
    "Не все пропущенные значения влияют на исследование. Так в `track` и `artist` пропуски не важны для вашей работы. Достаточно заменить их явными обозначениями.\n",
    "\n",
    "Но пропуски в `genre` могут помешать сравнению музыкальных вкусов в Москве и Санкт-Петербурге. На практике было бы правильно установить причину пропусков и восстановить данные. Такой возможности нет в учебном проекте. Придётся:\n",
    "* заполнить и эти пропуски явными обозначениями;\n",
    "* оценить, насколько они повредят расчётам. "
   ]
  },
  {
   "cell_type": "markdown",
   "metadata": {
    "deletable": false,
    "editable": false,
    "id": "fSv2laPA_Zct",
    "tags": [
     "start_task"
    ]
   },
   "source": [
    "**Задание 10**\n",
    "\n",
    "Замените пропущенные значения в столбцах `track`, `artist` и `genre` на строку `'unknown'`. Для этого создайте список `columns_to_replace`, переберите его элементы циклом `for` и для каждого столбца выполните замену пропущенных значений:"
   ]
  },
  {
   "cell_type": "code",
   "execution_count": 285,
   "metadata": {
    "deletable": false,
    "id": "KplB5qWs_Zct"
   },
   "outputs": [],
   "source": [
    "columns_to_replace = ['track','artist','genre']\n",
    "for column in columns_to_replace:\n",
    "    df[column] = df[column].fillna('unknown')# перебор названий столбцов в цикле и замена пропущенных значений на 'unknown'"
   ]
  },
  {
   "cell_type": "markdown",
   "metadata": {
    "deletable": false,
    "editable": false,
    "id": "Ilsm-MZo_Zct",
    "tags": [
     "start_task"
    ]
   },
   "source": [
    "**Задание 11**\n",
    "\n",
    "Убедитесь, что в таблице не осталось пропусков. Для этого ещё раз посчитайте пропущенные значения."
   ]
  },
  {
   "cell_type": "code",
   "execution_count": 286,
   "metadata": {
    "deletable": false,
    "id": "Tq4nYRX4_Zct"
   },
   "outputs": [
    {
     "data": {
      "text/plain": [
       "user_id    0\n",
       "track      0\n",
       "artist     0\n",
       "genre      0\n",
       "city       0\n",
       "time       0\n",
       "day        0\n",
       "dtype: int64"
      ]
     },
     "execution_count": 286,
     "metadata": {},
     "output_type": "execute_result"
    }
   ],
   "source": [
    "df.isna().sum()# подсчёт пропусков"
   ]
  },
  {
   "cell_type": "markdown",
   "metadata": {
    "deletable": false,
    "editable": false,
    "id": "BWKRtBJ3_Zct",
    "tags": [
     "start_task"
    ]
   },
   "source": [
    "### Дубликаты\n",
    "\n",
    "**Задание 12**\n",
    "\n",
    "Посчитайте явные дубликаты в таблице одной командой:"
   ]
  },
  {
   "cell_type": "code",
   "execution_count": 287,
   "metadata": {
    "deletable": false,
    "id": "36eES_S0_Zct"
   },
   "outputs": [
    {
     "data": {
      "text/plain": [
       "3826"
      ]
     },
     "execution_count": 287,
     "metadata": {},
     "output_type": "execute_result"
    }
   ],
   "source": [
    "df.duplicated().sum()# подсчёт явных дубликатов"
   ]
  },
  {
   "cell_type": "markdown",
   "metadata": {
    "deletable": false,
    "editable": false,
    "id": "Ot25h6XR_Zct",
    "tags": [
     "start_task"
    ]
   },
   "source": [
    "**Задание 13**\n",
    "\n",
    "Вызовите специальный метод `pandas`, чтобы удалить явные дубликаты:"
   ]
  },
  {
   "cell_type": "code",
   "execution_count": 288,
   "metadata": {
    "deletable": false,
    "id": "exFHq6tt_Zct"
   },
   "outputs": [],
   "source": [
    "df = df.drop_duplicates() \n",
    "# удаление явных дубликатов"
   ]
  },
  {
   "cell_type": "markdown",
   "metadata": {
    "deletable": false,
    "editable": false,
    "id": "Im2YwBEG_Zct",
    "tags": [
     "start_task"
    ]
   },
   "source": [
    "**Задание 14**\n",
    "\n",
    "Ещё раз посчитайте явные дубликаты в таблице — убедитесь, что полностью от них избавились:"
   ]
  },
  {
   "cell_type": "code",
   "execution_count": 289,
   "metadata": {
    "deletable": false,
    "id": "-8PuNWQ0_Zct"
   },
   "outputs": [
    {
     "data": {
      "text/plain": [
       "0"
      ]
     },
     "execution_count": 289,
     "metadata": {},
     "output_type": "execute_result"
    }
   ],
   "source": [
    "df.duplicated().sum()# проверка на отсутствие дубликатов"
   ]
  },
  {
   "cell_type": "markdown",
   "metadata": {
    "deletable": false,
    "editable": false,
    "id": "QlFBsxAr_Zct"
   },
   "source": [
    "Теперь избавьтесь от неявных дубликатов в колонке `genre`. Например, название одного и того же жанра может быть записано немного по-разному. Такие ошибки тоже повлияют на результат исследования."
   ]
  },
  {
   "cell_type": "markdown",
   "metadata": {
    "deletable": false,
    "editable": false,
    "id": "eSjWwsOh_Zct",
    "tags": [
     "start_task"
    ]
   },
   "source": [
    "**Задание 15**\n",
    "\n",
    "Выведите на экран список уникальных названий жанров, отсортированный в алфавитном порядке. Для этого:\n",
    "1. извлеките нужный столбец датафрейма; \n",
    "2. примените к нему метод сортировки;\n",
    "3. для отсортированного столбца вызовите метод, который вернёт уникальные значения из столбца."
   ]
  },
  {
   "cell_type": "code",
   "execution_count": 290,
   "metadata": {
    "deletable": false,
    "id": "JIUcqzZN_Zct"
   },
   "outputs": [
    {
     "data": {
      "text/plain": [
       "array(['acid', 'acoustic', 'action', 'adult', 'africa', 'afrikaans',\n",
       "       'alternative', 'alternativepunk', 'ambient', 'americana',\n",
       "       'animated', 'anime', 'arabesk', 'arabic', 'arena',\n",
       "       'argentinetango', 'art', 'audiobook', 'author', 'avantgarde',\n",
       "       'axé', 'baile', 'balkan', 'beats', 'bigroom', 'black', 'bluegrass',\n",
       "       'blues', 'bollywood', 'bossa', 'brazilian', 'breakbeat', 'breaks',\n",
       "       'broadway', 'cantautori', 'cantopop', 'canzone', 'caribbean',\n",
       "       'caucasian', 'celtic', 'chamber', 'chanson', 'children', 'chill',\n",
       "       'chinese', 'choral', 'christian', 'christmas', 'classical',\n",
       "       'classicmetal', 'club', 'colombian', 'comedy', 'conjazz',\n",
       "       'contemporary', 'country', 'cuban', 'dance', 'dancehall',\n",
       "       'dancepop', 'dark', 'death', 'deep', 'deutschrock', 'deutschspr',\n",
       "       'dirty', 'disco', 'dnb', 'documentary', 'downbeat', 'downtempo',\n",
       "       'drum', 'dub', 'dubstep', 'eastern', 'easy', 'electronic',\n",
       "       'electropop', 'emo', 'entehno', 'epicmetal', 'estrada', 'ethnic',\n",
       "       'eurofolk', 'european', 'experimental', 'extrememetal', 'fado',\n",
       "       'fairytail', 'film', 'fitness', 'flamenco', 'folk', 'folklore',\n",
       "       'folkmetal', 'folkrock', 'folktronica', 'forró', 'frankreich',\n",
       "       'französisch', 'french', 'funk', 'future', 'gangsta', 'garage',\n",
       "       'german', 'ghazal', 'gitarre', 'glitch', 'gospel', 'gothic',\n",
       "       'grime', 'grunge', 'gypsy', 'handsup', \"hard'n'heavy\", 'hardcore',\n",
       "       'hardstyle', 'hardtechno', 'hip', 'hip-hop', 'hiphop',\n",
       "       'historisch', 'holiday', 'hop', 'horror', 'house', 'hymn', 'idm',\n",
       "       'independent', 'indian', 'indie', 'indipop', 'industrial',\n",
       "       'inspirational', 'instrumental', 'international', 'irish', 'jam',\n",
       "       'japanese', 'jazz', 'jewish', 'jpop', 'jungle', 'k-pop',\n",
       "       'karadeniz', 'karaoke', 'kayokyoku', 'korean', 'laiko', 'latin',\n",
       "       'latino', 'leftfield', 'local', 'lounge', 'loungeelectronic',\n",
       "       'lovers', 'malaysian', 'mandopop', 'marschmusik', 'meditative',\n",
       "       'mediterranean', 'melodic', 'metal', 'metalcore', 'mexican',\n",
       "       'middle', 'minimal', 'miscellaneous', 'modern', 'mood', 'mpb',\n",
       "       'muslim', 'native', 'neoklassik', 'neue', 'new', 'newage',\n",
       "       'newwave', 'nu', 'nujazz', 'numetal', 'oceania', 'old', 'opera',\n",
       "       'orchestral', 'other', 'piano', 'podcasts', 'pop', 'popdance',\n",
       "       'popelectronic', 'popeurodance', 'poprussian', 'post',\n",
       "       'posthardcore', 'postrock', 'power', 'progmetal', 'progressive',\n",
       "       'psychedelic', 'punjabi', 'punk', 'quebecois', 'ragga', 'ram',\n",
       "       'rancheras', 'rap', 'rave', 'reggae', 'reggaeton', 'regional',\n",
       "       'relax', 'religious', 'retro', 'rhythm', 'rnb', 'rnr', 'rock',\n",
       "       'rockabilly', 'rockalternative', 'rockindie', 'rockother',\n",
       "       'romance', 'roots', 'ruspop', 'rusrap', 'rusrock', 'russian',\n",
       "       'salsa', 'samba', 'scenic', 'schlager', 'self', 'sertanejo',\n",
       "       'shanson', 'shoegazing', 'showtunes', 'singer', 'ska', 'skarock',\n",
       "       'slow', 'smooth', 'soft', 'soul', 'soulful', 'sound', 'soundtrack',\n",
       "       'southern', 'specialty', 'speech', 'spiritual', 'sport',\n",
       "       'stonerrock', 'surf', 'swing', 'synthpop', 'synthrock',\n",
       "       'sängerportrait', 'tango', 'tanzorchester', 'taraftar', 'tatar',\n",
       "       'tech', 'techno', 'teen', 'thrash', 'top', 'traditional',\n",
       "       'tradjazz', 'trance', 'tribal', 'trip', 'triphop', 'tropical',\n",
       "       'türk', 'türkçe', 'ukrrock', 'unknown', 'urban', 'uzbek',\n",
       "       'variété', 'vi', 'videogame', 'vocal', 'western', 'world',\n",
       "       'worldbeat', 'ïîï', 'электроника'], dtype=object)"
      ]
     },
     "execution_count": 290,
     "metadata": {},
     "output_type": "execute_result"
    }
   ],
   "source": [
    "df['genre'].sort_values( ascending=True).unique() # Просмотр уникальных названий жанров"
   ]
  },
  {
   "cell_type": "markdown",
   "metadata": {
    "deletable": false,
    "editable": false,
    "id": "qej-Qmuo_Zct",
    "tags": [
     "start_task"
    ]
   },
   "source": [
    "**Задание 16**\n",
    "\n",
    "Просмотрите список и найдите неявные дубликаты названия `hiphop`. Это могут быть названия с ошибками или альтернативные названия того же жанра.\n",
    "\n",
    "Вы увидите следующие неявные дубликаты:\n",
    "* *hip*,\n",
    "* *hop*,\n",
    "* *hip-hop*.\n",
    "\n",
    "Чтобы очистить от них таблицу используйте метод `replace()` с двумя аргументами: списком строк-дубликатов (включащий *hip*, *hop* и *hip-hop*) и строкой с правильным значением. Вам нужно исправить колонку `genre` в таблице `df`: заменить каждое значение из списка дубликатов на верное. Вместо `hip`, `hop` и `hip-hop` в таблице должно быть значение `hiphop`:"
   ]
  },
  {
   "cell_type": "code",
   "execution_count": 291,
   "metadata": {
    "deletable": false,
    "id": "ErNDkmns_Zct"
   },
   "outputs": [],
   "source": [
    "duplicates = ['hip','hop','hip-hop']\n",
    "genre = 'hiphop'\n",
    "df['genre'] = df['genre'].replace(duplicates,genre)# Устранение неявных дубликатов"
   ]
  },
  {
   "cell_type": "markdown",
   "metadata": {
    "deletable": false,
    "editable": false,
    "id": "zQKF16_RG15m",
    "tags": [
     "start_task"
    ]
   },
   "source": [
    "**Задание 17**\n",
    "\n",
    "Проверьте, что заменили неправильные названия:\n",
    "\n",
    "*   hip,\n",
    "*   hop,\n",
    "*   hip-hop.\n",
    "\n",
    "Выведите отсортированный список уникальных значений столбца `genre`:"
   ]
  },
  {
   "cell_type": "code",
   "execution_count": 292,
   "metadata": {
    "deletable": false,
    "id": "wvixALnFG15m"
   },
   "outputs": [
    {
     "data": {
      "text/plain": [
       "array(['acid', 'acoustic', 'action', 'adult', 'africa', 'afrikaans',\n",
       "       'alternative', 'alternativepunk', 'ambient', 'americana',\n",
       "       'animated', 'anime', 'arabesk', 'arabic', 'arena',\n",
       "       'argentinetango', 'art', 'audiobook', 'author', 'avantgarde',\n",
       "       'axé', 'baile', 'balkan', 'beats', 'bigroom', 'black', 'bluegrass',\n",
       "       'blues', 'bollywood', 'bossa', 'brazilian', 'breakbeat', 'breaks',\n",
       "       'broadway', 'cantautori', 'cantopop', 'canzone', 'caribbean',\n",
       "       'caucasian', 'celtic', 'chamber', 'chanson', 'children', 'chill',\n",
       "       'chinese', 'choral', 'christian', 'christmas', 'classical',\n",
       "       'classicmetal', 'club', 'colombian', 'comedy', 'conjazz',\n",
       "       'contemporary', 'country', 'cuban', 'dance', 'dancehall',\n",
       "       'dancepop', 'dark', 'death', 'deep', 'deutschrock', 'deutschspr',\n",
       "       'dirty', 'disco', 'dnb', 'documentary', 'downbeat', 'downtempo',\n",
       "       'drum', 'dub', 'dubstep', 'eastern', 'easy', 'electronic',\n",
       "       'electropop', 'emo', 'entehno', 'epicmetal', 'estrada', 'ethnic',\n",
       "       'eurofolk', 'european', 'experimental', 'extrememetal', 'fado',\n",
       "       'fairytail', 'film', 'fitness', 'flamenco', 'folk', 'folklore',\n",
       "       'folkmetal', 'folkrock', 'folktronica', 'forró', 'frankreich',\n",
       "       'französisch', 'french', 'funk', 'future', 'gangsta', 'garage',\n",
       "       'german', 'ghazal', 'gitarre', 'glitch', 'gospel', 'gothic',\n",
       "       'grime', 'grunge', 'gypsy', 'handsup', \"hard'n'heavy\", 'hardcore',\n",
       "       'hardstyle', 'hardtechno', 'hiphop', 'historisch', 'holiday',\n",
       "       'horror', 'house', 'hymn', 'idm', 'independent', 'indian', 'indie',\n",
       "       'indipop', 'industrial', 'inspirational', 'instrumental',\n",
       "       'international', 'irish', 'jam', 'japanese', 'jazz', 'jewish',\n",
       "       'jpop', 'jungle', 'k-pop', 'karadeniz', 'karaoke', 'kayokyoku',\n",
       "       'korean', 'laiko', 'latin', 'latino', 'leftfield', 'local',\n",
       "       'lounge', 'loungeelectronic', 'lovers', 'malaysian', 'mandopop',\n",
       "       'marschmusik', 'meditative', 'mediterranean', 'melodic', 'metal',\n",
       "       'metalcore', 'mexican', 'middle', 'minimal', 'miscellaneous',\n",
       "       'modern', 'mood', 'mpb', 'muslim', 'native', 'neoklassik', 'neue',\n",
       "       'new', 'newage', 'newwave', 'nu', 'nujazz', 'numetal', 'oceania',\n",
       "       'old', 'opera', 'orchestral', 'other', 'piano', 'podcasts', 'pop',\n",
       "       'popdance', 'popelectronic', 'popeurodance', 'poprussian', 'post',\n",
       "       'posthardcore', 'postrock', 'power', 'progmetal', 'progressive',\n",
       "       'psychedelic', 'punjabi', 'punk', 'quebecois', 'ragga', 'ram',\n",
       "       'rancheras', 'rap', 'rave', 'reggae', 'reggaeton', 'regional',\n",
       "       'relax', 'religious', 'retro', 'rhythm', 'rnb', 'rnr', 'rock',\n",
       "       'rockabilly', 'rockalternative', 'rockindie', 'rockother',\n",
       "       'romance', 'roots', 'ruspop', 'rusrap', 'rusrock', 'russian',\n",
       "       'salsa', 'samba', 'scenic', 'schlager', 'self', 'sertanejo',\n",
       "       'shanson', 'shoegazing', 'showtunes', 'singer', 'ska', 'skarock',\n",
       "       'slow', 'smooth', 'soft', 'soul', 'soulful', 'sound', 'soundtrack',\n",
       "       'southern', 'specialty', 'speech', 'spiritual', 'sport',\n",
       "       'stonerrock', 'surf', 'swing', 'synthpop', 'synthrock',\n",
       "       'sängerportrait', 'tango', 'tanzorchester', 'taraftar', 'tatar',\n",
       "       'tech', 'techno', 'teen', 'thrash', 'top', 'traditional',\n",
       "       'tradjazz', 'trance', 'tribal', 'trip', 'triphop', 'tropical',\n",
       "       'türk', 'türkçe', 'ukrrock', 'unknown', 'urban', 'uzbek',\n",
       "       'variété', 'vi', 'videogame', 'vocal', 'western', 'world',\n",
       "       'worldbeat', 'ïîï', 'электроника'], dtype=object)"
      ]
     },
     "execution_count": 292,
     "metadata": {},
     "output_type": "execute_result"
    }
   ],
   "source": [
    "df['genre'].sort_values( ascending=True).unique()# Проверка на неявные дубликаты"
   ]
  },
  {
   "cell_type": "markdown",
   "metadata": {
    "deletable": false,
    "editable": false,
    "id": "jz6a9-7HQUDd"
   },
   "source": [
    "**Выводы**\n",
    "\n",
    "Предобработка обнаружила три проблемы в данных:\n",
    "\n",
    "- нарушения в стиле заголовков,\n",
    "- пропущенные значения,\n",
    "- дубликаты — явные и неявные.\n",
    "\n",
    "Вы исправили заголовки, чтобы упростить работу с таблицей. Без дубликатов исследование станет более точным.\n",
    "\n",
    "Пропущенные значения вы заменили на `'unknown'`. Ещё предстоит увидеть, не повредят ли исследованию пропуски в колонке `genre`.\n",
    "\n",
    "Теперь можно перейти к проверке гипотез. "
   ]
  },
  {
   "cell_type": "markdown",
   "metadata": {
    "deletable": false,
    "editable": false,
    "id": "WttZHXH0SqKk"
   },
   "source": [
    "## Проверка гипотез"
   ]
  },
  {
   "cell_type": "markdown",
   "metadata": {
    "deletable": false,
    "editable": false,
    "id": "Im936VVi_Zcu"
   },
   "source": [
    "### Сравнение поведения пользователей двух столиц"
   ]
  },
  {
   "cell_type": "markdown",
   "metadata": {
    "deletable": false,
    "editable": false,
    "id": "nwt_MuaL_Zcu"
   },
   "source": [
    "Первая гипотеза утверждает, что пользователи по-разному слушают музыку в Москве и Санкт-Петербурге. Проверьте это предположение по данным о трёх днях недели — понедельнике, среде и пятнице. Для этого:\n",
    "\n",
    "* Разделите пользователей Москвы и Санкт-Петербурга.\n",
    "* Сравните, сколько треков послушала каждая группа пользователей в понедельник, среду и пятницу.\n"
   ]
  },
  {
   "cell_type": "markdown",
   "metadata": {
    "deletable": false,
    "editable": false,
    "id": "8Dw_YMmT_Zcu",
    "tags": [
     "start_task"
    ]
   },
   "source": [
    "**Задание 18**\n",
    "\n",
    "Для тренировки сначала выполните каждый из расчётов по отдельности. \n",
    "\n",
    "Оцените активность пользователей в каждом городе. Сгруппируйте данные по городу и посчитайте прослушивания в каждой группе.\n",
    "\n"
   ]
  },
  {
   "cell_type": "code",
   "execution_count": 293,
   "metadata": {
    "deletable": false,
    "id": "0_Qs96oh_Zcu"
   },
   "outputs": [
    {
     "data": {
      "text/plain": [
       "city\n",
       "Moscow              42741\n",
       "Saint-Petersburg    18512\n",
       "Name: user_id, dtype: int64"
      ]
     },
     "execution_count": 293,
     "metadata": {},
     "output_type": "execute_result"
    }
   ],
   "source": [
    "df.groupby('city')['user_id'].count()# Подсчёт прослушиваний в каждом городе"
   ]
  },
  {
   "cell_type": "markdown",
   "metadata": {
    "deletable": false,
    "editable": false,
    "id": "dzli3w8o_Zcu",
    "tags": [
     "start_task"
    ]
   },
   "source": [
    "В Москве прослушиваний больше, чем в Петербурге. Из этого не следует, что московские пользователи чаще слушают музыку. Просто самих пользователей в Москве больше.\n",
    "\n",
    "**Задание 19**\n",
    "\n",
    "Теперь сгруппируйте данные по дню недели и посчитайте прослушивания в понедельник, среду и пятницу. Учтите, что в данных есть информация о прослушиваниях только за эти дни.\n"
   ]
  },
  {
   "cell_type": "code",
   "execution_count": 294,
   "metadata": {
    "deletable": false,
    "id": "uZMKjiJz_Zcu"
   },
   "outputs": [
    {
     "data": {
      "text/plain": [
       "day\n",
       "Friday       21840\n",
       "Monday       21354\n",
       "Wednesday    18059\n",
       "Name: user_id, dtype: int64"
      ]
     },
     "execution_count": 294,
     "metadata": {},
     "output_type": "execute_result"
    }
   ],
   "source": [
    "df.groupby('day')['user_id'].count()# Подсчёт прослушиваний в каждый из трёх дней"
   ]
  },
  {
   "cell_type": "markdown",
   "metadata": {
    "deletable": false,
    "editable": false,
    "id": "cC2tNrlL_Zcu"
   },
   "source": [
    "В среднем пользователи из двух городов менее активны по средам. Но картина может измениться, если рассмотреть каждый город в отдельности."
   ]
  },
  {
   "cell_type": "markdown",
   "metadata": {
    "deletable": false,
    "editable": false,
    "id": "POzs8bGa_Zcu",
    "tags": [
     "start_task"
    ]
   },
   "source": [
    "**Задание 20**\n",
    "\n",
    "\n",
    "Вы видели, как работает группировка по городу и по дням недели. Теперь напишите функцию, которая объединит два эти расчёта.\n",
    "\n",
    "Создайте функцию `number_tracks()`, которая посчитает прослушивания для заданного дня и города. Ей понадобятся два параметра:\n",
    "* день недели,\n",
    "* название города.\n",
    "\n",
    "В функции сохраните в переменную строки исходной таблицы, у которых значение:\n",
    "  * в колонке `day` равно параметру `day`,\n",
    "  * в колонке `city` равно параметру `city`.\n",
    "\n",
    "Для этого примените последовательную фильтрацию с логической индексацией (или сложные логические выражения в одну строку, если вы уже знакомы с ними).\n",
    "\n",
    "Затем посчитайте значения в столбце `user_id` получившейся таблицы. Результат сохраните в новую переменную. Верните эту переменную из функции."
   ]
  },
  {
   "cell_type": "code",
   "execution_count": 295,
   "metadata": {
    "deletable": false,
    "id": "Nz3GdQB1_Zcu"
   },
   "outputs": [],
   "source": [
    "def number_tracks(day,city):# number_tracks()<создание функции number_tracks()>\n",
    "# Объявляется функция с двумя параметрами: day, city.\n",
    " \n",
    "\n",
    "    track_list = df[(df['day'] == day) & (df['city'] == city)]\n",
    "    track_list_count = track_list['user_id'].count()\n",
    "    return track_list_count # track_list В переменной track_list сохраняются те строки таблицы df, для которых \n",
    "# значение в столбце 'day' равно параметру day и одновременно значение\n",
    "# в столбце 'city' равно параметру city (используйте последовательную фильтрацию\n",
    "# с помощью логической индексации или сложные логические выражения в одну строку, если вы уже знакомы с ними).\n",
    "# В переменной track_list_count сохраняется число значений столбца 'user_id',\n",
    "# рассчитанное методом count() для таблицы track_list.\n",
    "# Функция возвращает число - значение track_list_count.\n",
    "\n",
    "# Функция для подсчёта прослушиваний для конкретного города и дня.\n",
    "# С помощью последовательной фильтрации с логической индексацией она \n",
    "# сначала получит из исходной таблицы строки с нужным днём,\n",
    "# затем из результата отфильтрует строки с нужным городом,\n",
    "# методом count() посчитает количество значений в колонке user_id. \n",
    "# Это количество функция вернёт в качестве результата"
   ]
  },
  {
   "cell_type": "markdown",
   "metadata": {
    "deletable": false,
    "editable": false,
    "id": "ytf7xFrFJQ2r",
    "tags": [
     "start_task"
    ]
   },
   "source": [
    "**Задание 21**\n",
    "\n",
    "Вызовите `number_tracks()` шесть раз, меняя значение параметров — так, чтобы получить данные для каждого города в каждый из трёх дней."
   ]
  },
  {
   "cell_type": "code",
   "execution_count": 296,
   "metadata": {
    "deletable": false,
    "id": "rJcRATNQ_Zcu"
   },
   "outputs": [
    {
     "data": {
      "text/plain": [
       "15740"
      ]
     },
     "execution_count": 296,
     "metadata": {},
     "output_type": "execute_result"
    }
   ],
   "source": [
    "number_tracks('Monday', 'Moscow')# количество прослушиваний в Москве по понедельникам"
   ]
  },
  {
   "cell_type": "code",
   "execution_count": 297,
   "metadata": {
    "deletable": false,
    "id": "hq_ncZ5T_Zcu"
   },
   "outputs": [
    {
     "data": {
      "text/plain": [
       "5614"
      ]
     },
     "execution_count": 297,
     "metadata": {},
     "output_type": "execute_result"
    }
   ],
   "source": [
    "number_tracks('Monday', 'Saint-Petersburg')# количество прослушиваний в Санкт-Петербурге по понедельникам"
   ]
  },
  {
   "cell_type": "code",
   "execution_count": 298,
   "metadata": {
    "deletable": false,
    "id": "_NTy2VPU_Zcu"
   },
   "outputs": [
    {
     "data": {
      "text/plain": [
       "11056"
      ]
     },
     "execution_count": 298,
     "metadata": {},
     "output_type": "execute_result"
    }
   ],
   "source": [
    "number_tracks('Wednesday', 'Moscow')# количество прослушиваний в Москве по средам"
   ]
  },
  {
   "cell_type": "code",
   "execution_count": 299,
   "metadata": {
    "deletable": false,
    "id": "j2y3TAwo_Zcu"
   },
   "outputs": [
    {
     "data": {
      "text/plain": [
       "7003"
      ]
     },
     "execution_count": 299,
     "metadata": {},
     "output_type": "execute_result"
    }
   ],
   "source": [
    "number_tracks('Wednesday', 'Saint-Petersburg')# количество прослушиваний в Санкт-Петербурге по средам"
   ]
  },
  {
   "cell_type": "code",
   "execution_count": 300,
   "metadata": {
    "deletable": false,
    "id": "vYDw5u_K_Zcu"
   },
   "outputs": [
    {
     "data": {
      "text/plain": [
       "15945"
      ]
     },
     "execution_count": 300,
     "metadata": {},
     "output_type": "execute_result"
    }
   ],
   "source": [
    "number_tracks('Friday', 'Moscow')# количество прослушиваний в Москве по пятницам"
   ]
  },
  {
   "cell_type": "code",
   "execution_count": 301,
   "metadata": {
    "deletable": false,
    "id": "8_yzFtW3_Zcu"
   },
   "outputs": [
    {
     "data": {
      "text/plain": [
       "5895"
      ]
     },
     "execution_count": 301,
     "metadata": {},
     "output_type": "execute_result"
    }
   ],
   "source": [
    "number_tracks('Friday', 'Saint-Petersburg')# количество прослушиваний в Санкт-Петербурге по пятницам"
   ]
  },
  {
   "cell_type": "markdown",
   "metadata": {
    "deletable": false,
    "editable": false,
    "id": "7QXffbO-_Zcu",
    "tags": [
     "start_task"
    ]
   },
   "source": [
    "**Задание 22**\n",
    "\n",
    "Создайте c помощью конструктора `pd.DataFrame` таблицу, где\n",
    "* названия колонок — `['city', 'monday', 'wednesday', 'friday']`;\n",
    "* данные — результаты, которые вы получили с помощью `number_tracks`."
   ]
  },
  {
   "cell_type": "code",
   "execution_count": 302,
   "metadata": {
    "deletable": false,
    "id": "APAcLpOr_Zcu"
   },
   "outputs": [
    {
     "data": {
      "text/html": [
       "<div>\n",
       "<style scoped>\n",
       "    .dataframe tbody tr th:only-of-type {\n",
       "        vertical-align: middle;\n",
       "    }\n",
       "\n",
       "    .dataframe tbody tr th {\n",
       "        vertical-align: top;\n",
       "    }\n",
       "\n",
       "    .dataframe thead th {\n",
       "        text-align: right;\n",
       "    }\n",
       "</style>\n",
       "<table border=\"1\" class=\"dataframe\">\n",
       "  <thead>\n",
       "    <tr style=\"text-align: right;\">\n",
       "      <th></th>\n",
       "      <th>city</th>\n",
       "      <th>monday</th>\n",
       "      <th>wednesday</th>\n",
       "      <th>friday</th>\n",
       "    </tr>\n",
       "  </thead>\n",
       "  <tbody>\n",
       "    <tr>\n",
       "      <th>0</th>\n",
       "      <td>Москва</td>\n",
       "      <td>15740</td>\n",
       "      <td>11056</td>\n",
       "      <td>15945</td>\n",
       "    </tr>\n",
       "    <tr>\n",
       "      <th>1</th>\n",
       "      <td>Санкт-Петербург</td>\n",
       "      <td>7003</td>\n",
       "      <td>15945</td>\n",
       "      <td>5895</td>\n",
       "    </tr>\n",
       "  </tbody>\n",
       "</table>\n",
       "</div>"
      ],
      "text/plain": [
       "              city  monday  wednesday  friday\n",
       "0           Москва   15740      11056   15945\n",
       "1  Санкт-Петербург    7003      15945    5895"
      ]
     },
     "execution_count": 302,
     "metadata": {},
     "output_type": "execute_result"
    }
   ],
   "source": [
    "info = pd.DataFrame(data=[['Москва',15740,11056,15945], ['Санкт-Петербург', 7003, 15945, 5895]], columns=['city', 'monday', 'wednesday', 'friday'])\n",
    "info# Таблица с результатами"
   ]
  },
  {
   "cell_type": "markdown",
   "metadata": {
    "deletable": false,
    "editable": false,
    "id": "-EgPIHYu_Zcu"
   },
   "source": [
    "**Выводы**\n",
    "\n",
    "Данные показывают разницу поведения пользователей:\n",
    "\n",
    "- В Москве пик прослушиваний приходится на понедельник и пятницу, а в среду заметен спад.\n",
    "- В Петербурге, наоборот, больше слушают музыку по средам. Активность в понедельник и пятницу здесь почти в равной мере уступает среде.\n",
    "\n",
    "Значит, данные говорят в пользу первой гипотезы."
   ]
  },
  {
   "cell_type": "markdown",
   "metadata": {
    "deletable": false,
    "editable": false,
    "id": "atZAxtq4_Zcu"
   },
   "source": [
    "### Музыка в начале и в конце недели"
   ]
  },
  {
   "cell_type": "markdown",
   "metadata": {
    "deletable": false,
    "editable": false,
    "id": "eXrQqXFH_Zcu"
   },
   "source": [
    "Согласно второй гипотезе, утром в понедельник в Москве преобладают одни жанры, а в Петербурге — другие. Так же и вечером пятницы преобладают разные жанры — в зависимости от города."
   ]
  },
  {
   "cell_type": "markdown",
   "metadata": {
    "deletable": false,
    "editable": false,
    "id": "S8UcW6Hw_Zcu",
    "tags": [
     "start_task"
    ]
   },
   "source": [
    "**Задание 23**\n",
    "\n",
    "Сохраните таблицы с данными в две переменные:\n",
    "* по Москве — в `moscow_general`;\n",
    "* по Санкт-Петербургу — в `spb_general`."
   ]
  },
  {
   "cell_type": "code",
   "execution_count": 303,
   "metadata": {
    "deletable": false,
    "id": "qeaFfM_P_Zcu"
   },
   "outputs": [],
   "source": [
    "moscow_general = df[df['city'] == 'Moscow']\n",
    "# получение таблицы moscow_general из тех строк таблицы df, \n",
    "# для которых значение в столбце 'city' равно 'Moscow'\n"
   ]
  },
  {
   "cell_type": "code",
   "execution_count": 304,
   "metadata": {
    "deletable": false,
    "id": "ORaVRKto_Zcu"
   },
   "outputs": [],
   "source": [
    "spb_general = df[df['city'] == 'Saint-Petersburg']# получение таблицы spb_general из тех строк таблицы df,\n",
    "# для которых значение в столбце 'city' равно 'Saint-Petersburg'\n"
   ]
  },
  {
   "cell_type": "markdown",
   "metadata": {
    "deletable": false,
    "editable": false,
    "id": "MEJV-CX2_Zcu",
    "tags": [
     "start_task"
    ]
   },
   "source": [
    "**Задание 24**\n",
    "\n",
    "Создайте функцию `genre_weekday()` с четырьмя параметрами:\n",
    "* таблица (датафрейм) с данными,\n",
    "* день недели,\n",
    "* начальная временная метка в формате 'hh:mm', \n",
    "* последняя временная метка в формате 'hh:mm'.\n",
    "\n",
    "Функция должна вернуть информацию о топ-10 жанров тех треков, которые прослушивали в указанный день, в промежутке между двумя отметками времени."
   ]
  },
  {
   "cell_type": "code",
   "execution_count": 305,
   "metadata": {
    "deletable": false,
    "id": "laJT9BYl_Zcu"
   },
   "outputs": [],
   "source": [
    "# Объявление функции genre_weekday() с параметрами table, day, time1, time2,\n",
    "# которая возвращает информацию о самых популярных жанрах в указанный день в\n",
    "# заданное время:\n",
    "# 1) в переменную genre_df сохраняются те строки переданного датафрейма table, для\n",
    "#    которых одновременно:\n",
    "#    - значение в столбце day равно значению аргумента day\n",
    "#    - значение в столбце time больше значения аргумента time1\n",
    "#    - значение в столбце time меньше значения аргумента time2\n",
    "#    Используйте последовательную фильтрацию с помощью логической индексации.\n",
    "    # 2) сгруппировать датафрейм genre_df по столбцу genre, взять один из его\n",
    "#    столбцов и посчитать методом count() количество записей для каждого из\n",
    "#    присутствующих жанров, получившийся Series записать в переменную\n",
    "#    genre_df_count\n",
    "    # 3) отсортировать genre_df_count по убыванию встречаемости и сохранить\n",
    "#    в переменную genre_df_sorted\n",
    "# 4) вернуть Series из 10 первых значений genre_df_sorted, это будут топ-10\n",
    "#    популярных жанров (в указанный день, в заданное время)\n",
    "\n",
    "def genre_weekday(df, day, time1, time2):\n",
    "    # последовательная фильтрация\n",
    "    # оставляем в genre_df только те строки df, у которых день равен day\n",
    "    genre_df = df[df['day'] == day] # ваш код здесь\n",
    "    # оставляем в genre_df только те строки genre_df, у которых время меньше time2\n",
    "    genre_df = genre_df[genre_df['time'] < time2] # ваш код здесь\n",
    "    # оставляем в genre_df только те строки genre_df, у которых время больше time1\n",
    "    genre_df = genre_df[genre_df['time'] > time1]# ваш код здесь\n",
    "    # сгруппируем отфильтрованный датафрейм по столбцу с названиями жанров, возьмём столбец genre и посчитаем кол-во строк для каждого жанра методом count()\n",
    "    genre_df_grouped = genre_df.groupby('genre')['genre'].count()# ваш код здесь\n",
    "    # отсортируем результат по убыванию (чтобы в начале Series оказались самые популярные жанры)\n",
    "    genre_df_sorted = genre_df_grouped.sort_values(ascending=False)# ваш код здесь\n",
    "    # вернём Series с 10 самыми популярными жанрами в указанный отрезок времени заданного дня\n",
    "    return genre_df_sorted[:10]"
   ]
  },
  {
   "cell_type": "markdown",
   "metadata": {
    "deletable": false,
    "editable": false,
    "id": "la2s2_PF_Zcu",
    "tags": [
     "start_task"
    ]
   },
   "source": [
    "**Задание 25**\n",
    "\n",
    "\n",
    "Cравните результаты функции `genre_weekday()` для Москвы и Санкт-Петербурга в понедельник утром (с 7:00 до 11:00) и в пятницу вечером (с 17:00 до 23:00):"
   ]
  },
  {
   "cell_type": "code",
   "execution_count": 306,
   "metadata": {
    "deletable": false,
    "id": "yz7itPUQ_Zcu"
   },
   "outputs": [
    {
     "data": {
      "text/plain": [
       "genre\n",
       "pop            781\n",
       "dance          549\n",
       "electronic     480\n",
       "rock           474\n",
       "hiphop         286\n",
       "ruspop         186\n",
       "world          181\n",
       "rusrap         175\n",
       "alternative    164\n",
       "unknown        161\n",
       "Name: genre, dtype: int64"
      ]
     },
     "execution_count": 306,
     "metadata": {},
     "output_type": "execute_result"
    }
   ],
   "source": [
    "# вызов функции для утра понедельника в Москве (вместо df — таблица moscow_general)\n",
    "# объекты, хранящие время, являются строками и сравниваются как строки\n",
    "# пример вызова: genre_weekday(moscow_general, 'Monday', '07:00', '11:00')\n",
    "genre_weekday(moscow_general,'Monday','07:00','11:00')"
   ]
  },
  {
   "cell_type": "code",
   "execution_count": 307,
   "metadata": {
    "deletable": false,
    "id": "kwUcHPdy_Zcu"
   },
   "outputs": [
    {
     "data": {
      "text/plain": [
       "genre\n",
       "pop            218\n",
       "dance          182\n",
       "rock           162\n",
       "electronic     147\n",
       "hiphop          80\n",
       "ruspop          64\n",
       "alternative     58\n",
       "rusrap          55\n",
       "jazz            44\n",
       "classical       40\n",
       "Name: genre, dtype: int64"
      ]
     },
     "execution_count": 307,
     "metadata": {},
     "output_type": "execute_result"
    }
   ],
   "source": [
    "genre_weekday(spb_general,'Monday','07:00','11:00')# вызов функции для утра понедельника в Петербурге (вместо df — таблица spb_general)"
   ]
  },
  {
   "cell_type": "code",
   "execution_count": 308,
   "metadata": {
    "deletable": false,
    "id": "EzXVRE1o_Zcu"
   },
   "outputs": [
    {
     "data": {
      "text/plain": [
       "genre\n",
       "pop            713\n",
       "rock           517\n",
       "dance          495\n",
       "electronic     482\n",
       "hiphop         273\n",
       "world          208\n",
       "ruspop         170\n",
       "alternative    163\n",
       "classical      163\n",
       "rusrap         142\n",
       "Name: genre, dtype: int64"
      ]
     },
     "execution_count": 308,
     "metadata": {},
     "output_type": "execute_result"
    }
   ],
   "source": [
    "genre_weekday(moscow_general,'Friday','17:00','23:00')# вызов функции для вечера пятницы в Москве"
   ]
  },
  {
   "cell_type": "code",
   "execution_count": 309,
   "metadata": {
    "deletable": false,
    "id": "JZaEKu5v_Zcu"
   },
   "outputs": [
    {
     "data": {
      "text/plain": [
       "genre\n",
       "pop            256\n",
       "electronic     216\n",
       "rock           216\n",
       "dance          210\n",
       "hiphop          97\n",
       "alternative     63\n",
       "jazz            61\n",
       "classical       60\n",
       "rusrap          59\n",
       "world           54\n",
       "Name: genre, dtype: int64"
      ]
     },
     "execution_count": 309,
     "metadata": {},
     "output_type": "execute_result"
    }
   ],
   "source": [
    "genre_weekday(spb_general,'Friday','17:00','23:00')# вызов функции для вечера пятницы в Петербурге"
   ]
  },
  {
   "cell_type": "markdown",
   "metadata": {
    "deletable": false,
    "editable": false,
    "id": "wrCe4MNX_Zcu"
   },
   "source": [
    "**Выводы**\n",
    "\n",
    "Если сравнить топ-10 жанров в понедельник утром, можно сделать такие выводы:\n",
    "\n",
    "1. В Москве и Петербурге слушают похожую музыку. Единственное отличие — в московский рейтинг вошёл жанр “world”, а в петербургский — джаз и классика.\n",
    "\n",
    "2. В Москве пропущенных значений оказалось так много, что значение `'unknown'` заняло десятое место среди самых популярных жанров. Значит, пропущенные значения занимают существенную долю в данных и угрожают достоверности исследования.\n",
    "\n",
    "Вечер пятницы не меняет эту картину. Некоторые жанры поднимаются немного выше, другие спускаются, но в целом топ-10 остаётся тем же самым.\n",
    "\n",
    "Таким образом, вторая гипотеза подтвердилась лишь частично:\n",
    "* Пользователи слушают похожую музыку в начале недели и в конце.\n",
    "* Разница между Москвой и Петербургом не слишком выражена. В Москве чаще слушают русскую популярную музыку, в Петербурге — джаз.\n",
    "\n",
    "Однако пропуски в данных ставят под сомнение этот результат. В Москве их так много, что рейтинг топ-10 мог бы выглядеть иначе, если бы не утерянные  данные о жанрах."
   ]
  },
  {
   "cell_type": "markdown",
   "metadata": {
    "deletable": false,
    "editable": false,
    "id": "JolODAqr_Zcu"
   },
   "source": [
    "### Жанровые предпочтения в Москве и Петербурге\n",
    "\n",
    "Гипотеза: Петербург — столица рэпа, музыку этого жанра там слушают чаще, чем в Москве.  А Москва — город контрастов, в котором, тем не менее, преобладает поп-музыка."
   ]
  },
  {
   "cell_type": "markdown",
   "metadata": {
    "deletable": false,
    "editable": false,
    "id": "DlegSvaT_Zcu",
    "tags": [
     "start_task"
    ]
   },
   "source": [
    "**Задание 26**\n",
    "\n",
    "Сгруппируйте таблицу `moscow_general` по жанру и посчитайте прослушивания треков каждого жанра методом `count()`. Затем отсортируйте результат в порядке убывания и сохраните его в таблице `moscow_genres`."
   ]
  },
  {
   "cell_type": "code",
   "execution_count": 310,
   "metadata": {
    "deletable": false,
    "id": "r19lIPke_Zcu"
   },
   "outputs": [],
   "source": [
    "moscow_genres  = moscow_general.groupby('genre')['genre'].count().sort_values(ascending=False)\n",
    "            # одной строкой: группировка таблицы moscow_general по столбцу 'genre', \n",
    "# подсчёт числа значений 'genre' в этой группировке методом count(), \n",
    "# сортировка получившегося Series в порядке убывания и сохранение в moscow_genres"
   ]
  },
  {
   "cell_type": "markdown",
   "metadata": {
    "deletable": false,
    "editable": false,
    "id": "6kMuomxTiIr8",
    "tags": [
     "start_task"
    ]
   },
   "source": [
    "**Задание 27**\n",
    "\n",
    "Выведите на экран первые десять строк `moscow_genres`:"
   ]
  },
  {
   "cell_type": "code",
   "execution_count": 316,
   "metadata": {
    "deletable": false,
    "id": "WhCSooF8_Zcv"
   },
   "outputs": [
    {
     "name": "stdout",
     "output_type": "stream",
     "text": [
      "genre\n",
      "pop            5892\n",
      "dance          4435\n",
      "rock           3965\n",
      "electronic     3786\n",
      "hiphop         2096\n",
      "classical      1616\n",
      "world          1432\n",
      "alternative    1379\n",
      "ruspop         1372\n",
      "rusrap         1161\n",
      "Name: genre, dtype: int64\n"
     ]
    }
   ],
   "source": [
    "print(moscow_genres.head(10))# просмотр первых 10 строк moscow_genres"
   ]
  },
  {
   "cell_type": "markdown",
   "metadata": {
    "deletable": false,
    "editable": false,
    "id": "cnPG2vnN_Zcv",
    "tags": [
     "start_task"
    ]
   },
   "source": [
    "**Задание 28**\n",
    "\n",
    "\n",
    "Теперь повторите то же и для Петербурга.\n",
    "\n",
    "Сгруппируйте таблицу `spb_general` по жанру. Посчитайте прослушивания треков каждого жанра. Результат отсортируйте в порядке убывания и сохраните в таблице `spb_genres`:\n"
   ]
  },
  {
   "cell_type": "code",
   "execution_count": 317,
   "metadata": {
    "deletable": false,
    "id": "gluLIpE7_Zcv"
   },
   "outputs": [],
   "source": [
    "spb_genres  = spb_general.groupby('genre')['genre'].count().sort_values(ascending=False)\n",
    "# одной строкой: группировка таблицы spb_general по столбцу 'genre', \n",
    "# подсчёт числа значений 'genre' в этой группировке методом count(), \n",
    "# сортировка получившегося Series в порядке убывания и сохранение в spb_genres"
   ]
  },
  {
   "cell_type": "markdown",
   "metadata": {
    "deletable": false,
    "editable": false,
    "id": "5Doha_ODgyQ8",
    "tags": [
     "start_task"
    ]
   },
   "source": [
    "**Задание 29**\n",
    "\n",
    "Выведите на экран первые десять строк `spb_genres`:"
   ]
  },
  {
   "cell_type": "code",
   "execution_count": 318,
   "metadata": {
    "deletable": false,
    "id": "uaGJHjVU_Zcv"
   },
   "outputs": [
    {
     "name": "stdout",
     "output_type": "stream",
     "text": [
      "genre\n",
      "pop            2431\n",
      "dance          1932\n",
      "rock           1879\n",
      "electronic     1736\n",
      "hiphop          960\n",
      "alternative     649\n",
      "classical       646\n",
      "rusrap          564\n",
      "ruspop          538\n",
      "world           515\n",
      "Name: genre, dtype: int64\n"
     ]
    }
   ],
   "source": [
    "print(spb_genres.head(10))# просмотр первых 10 строк spb_genres"
   ]
  },
  {
   "cell_type": "markdown",
   "metadata": {
    "deletable": false,
    "editable": false,
    "id": "RY51YJYu_Zcv"
   },
   "source": [
    "**Выводы**"
   ]
  },
  {
   "cell_type": "markdown",
   "metadata": {
    "deletable": false,
    "editable": false,
    "id": "nVhnJEm__Zcv"
   },
   "source": [
    "Гипотеза частично подтвердилась:\n",
    "* Поп-музыка — самый популярный жанр в Москве, как и предполагала гипотеза. Более того, в топ-10 жанров встречается близкий жанр — русская популярная музыка.\n",
    "* Вопреки ожиданиям, рэп одинаково популярен в Москве и Петербурге. \n"
   ]
  },
  {
   "cell_type": "markdown",
   "metadata": {
    "deletable": false,
    "editable": false,
    "id": "ykKQ0N65_Zcv"
   },
   "source": [
    "## Итоги исследования"
   ]
  },
  {
   "cell_type": "markdown",
   "metadata": {
    "deletable": false,
    "editable": false,
    "id": "tjUwbHb3_Zcv"
   },
   "source": [
    "Вы проверили три гипотезы и установили:\n",
    "\n",
    "1. День недели по-разному влияет на активность пользователей в Москве и Петербурге. \n",
    "\n",
    "Первая гипотеза полностью подтвердилась.\n",
    "\n",
    "2. Музыкальные предпочтения не сильно меняются в течение недели — будь то Москва или Петербург. Небольшие различия заметны в начале недели, по понедельникам:\n",
    "* в Москве слушают музыку жанра “world”,\n",
    "* в Петербурге — джаз и классику.\n",
    "\n",
    "Таким образом, вторая гипотеза подтвердилась лишь отчасти. Этот результат мог оказаться иным, если бы не пропуски в данных.\n",
    "\n",
    "3. Во вкусах пользователей Москвы и Петербурга больше общего чем различий. Вопреки ожиданиям, предпочтения жанров в Петербурге напоминают московские.\n",
    "\n",
    "Третья гипотеза не подтвердилась. Если различия в предпочтениях и существуют, на основной массе пользователей они незаметны.\n",
    "\n",
    "**На практике исследования содержат проверки статистических гипотез.**\n",
    "Из данных одного сервиса не всегда можно сделать вывод о всех жителях города.\n",
    "Проверки статистических гипотез покажут, насколько они достоверны, исходя из имеющихся данных. \n",
    "С методами проверок гипотез вы ещё познакомитесь в следующих темах."
   ]
  }
 ],
 "metadata": {
  "ExecuteTimeLog": [
   {
    "duration": 437,
    "start_time": "2022-07-28T19:57:03.576Z"
   },
   {
    "duration": 81,
    "start_time": "2022-07-28T19:59:42.959Z"
   },
   {
    "duration": 11,
    "start_time": "2022-07-28T20:01:15.040Z"
   },
   {
    "duration": 10,
    "start_time": "2022-07-28T20:01:37.364Z"
   },
   {
    "duration": 8,
    "start_time": "2022-07-28T20:01:50.058Z"
   },
   {
    "duration": 3,
    "start_time": "2022-07-28T20:01:55.451Z"
   },
   {
    "duration": 243,
    "start_time": "2022-07-28T20:01:55.498Z"
   },
   {
    "duration": 8,
    "start_time": "2022-07-28T20:01:55.743Z"
   },
   {
    "duration": 7,
    "start_time": "2022-07-28T20:01:55.752Z"
   },
   {
    "duration": 9,
    "start_time": "2022-07-28T20:01:55.761Z"
   },
   {
    "duration": 17,
    "start_time": "2022-07-28T20:01:55.773Z"
   },
   {
    "duration": 18,
    "start_time": "2022-07-28T20:01:55.791Z"
   },
   {
    "duration": 11,
    "start_time": "2022-07-28T20:01:55.811Z"
   },
   {
    "duration": 17,
    "start_time": "2022-07-28T20:01:55.832Z"
   },
   {
    "duration": 12,
    "start_time": "2022-07-28T20:01:55.852Z"
   },
   {
    "duration": 15,
    "start_time": "2022-07-28T20:01:55.866Z"
   },
   {
    "duration": 18,
    "start_time": "2022-07-28T20:01:55.883Z"
   },
   {
    "duration": 22,
    "start_time": "2022-07-28T20:01:55.903Z"
   },
   {
    "duration": 32,
    "start_time": "2022-07-28T20:01:55.928Z"
   },
   {
    "duration": 25,
    "start_time": "2022-07-28T20:01:55.964Z"
   },
   {
    "duration": 17,
    "start_time": "2022-07-28T20:01:55.990Z"
   },
   {
    "duration": 31,
    "start_time": "2022-07-28T20:01:56.009Z"
   },
   {
    "duration": 7,
    "start_time": "2022-07-28T20:01:56.042Z"
   },
   {
    "duration": 20,
    "start_time": "2022-07-28T20:01:56.051Z"
   },
   {
    "duration": 12,
    "start_time": "2022-07-28T20:01:56.073Z"
   },
   {
    "duration": 13,
    "start_time": "2022-07-28T20:01:56.087Z"
   },
   {
    "duration": 21,
    "start_time": "2022-07-28T20:01:56.101Z"
   },
   {
    "duration": 17,
    "start_time": "2022-07-28T20:01:56.127Z"
   },
   {
    "duration": 17,
    "start_time": "2022-07-28T20:01:56.146Z"
   },
   {
    "duration": 15,
    "start_time": "2022-07-28T20:01:56.165Z"
   },
   {
    "duration": 24,
    "start_time": "2022-07-28T20:01:56.181Z"
   },
   {
    "duration": 18,
    "start_time": "2022-07-28T20:01:56.207Z"
   },
   {
    "duration": 20,
    "start_time": "2022-07-28T20:01:56.235Z"
   },
   {
    "duration": 26,
    "start_time": "2022-07-28T20:01:56.257Z"
   },
   {
    "duration": 59,
    "start_time": "2022-07-28T20:01:56.285Z"
   },
   {
    "duration": 0,
    "start_time": "2022-07-28T20:01:56.345Z"
   },
   {
    "duration": 0,
    "start_time": "2022-07-28T20:01:56.347Z"
   },
   {
    "duration": 0,
    "start_time": "2022-07-28T20:01:56.349Z"
   },
   {
    "duration": 0,
    "start_time": "2022-07-28T20:01:56.350Z"
   },
   {
    "duration": 0,
    "start_time": "2022-07-28T20:01:56.351Z"
   },
   {
    "duration": 0,
    "start_time": "2022-07-28T20:01:56.352Z"
   },
   {
    "duration": 0,
    "start_time": "2022-07-28T20:01:56.353Z"
   },
   {
    "duration": 0,
    "start_time": "2022-07-28T20:01:56.355Z"
   },
   {
    "duration": 24,
    "start_time": "2022-07-28T20:02:13.280Z"
   },
   {
    "duration": 30,
    "start_time": "2022-07-28T20:02:54.990Z"
   },
   {
    "duration": 65,
    "start_time": "2022-07-29T07:11:17.387Z"
   },
   {
    "duration": 444,
    "start_time": "2022-07-29T07:14:49.564Z"
   },
   {
    "duration": 529,
    "start_time": "2022-07-29T07:14:50.011Z"
   },
   {
    "duration": 10,
    "start_time": "2022-07-29T07:14:50.542Z"
   },
   {
    "duration": 62,
    "start_time": "2022-07-29T07:14:50.555Z"
   },
   {
    "duration": 34,
    "start_time": "2022-07-29T07:14:50.619Z"
   },
   {
    "duration": 15,
    "start_time": "2022-07-29T07:14:50.656Z"
   },
   {
    "duration": 8,
    "start_time": "2022-07-29T07:14:50.673Z"
   },
   {
    "duration": 11,
    "start_time": "2022-07-29T07:14:50.683Z"
   },
   {
    "duration": 20,
    "start_time": "2022-07-29T07:14:50.696Z"
   },
   {
    "duration": 11,
    "start_time": "2022-07-29T07:14:50.720Z"
   },
   {
    "duration": 8,
    "start_time": "2022-07-29T07:14:50.733Z"
   },
   {
    "duration": 17,
    "start_time": "2022-07-29T07:14:50.743Z"
   },
   {
    "duration": 11,
    "start_time": "2022-07-29T07:14:50.762Z"
   },
   {
    "duration": 20,
    "start_time": "2022-07-29T07:14:50.775Z"
   },
   {
    "duration": 17,
    "start_time": "2022-07-29T07:14:50.797Z"
   },
   {
    "duration": 40,
    "start_time": "2022-07-29T07:14:50.816Z"
   },
   {
    "duration": 10,
    "start_time": "2022-07-29T07:14:50.859Z"
   },
   {
    "duration": 32,
    "start_time": "2022-07-29T07:14:50.871Z"
   },
   {
    "duration": 35,
    "start_time": "2022-07-29T07:14:50.904Z"
   },
   {
    "duration": 28,
    "start_time": "2022-07-29T07:14:50.941Z"
   },
   {
    "duration": 44,
    "start_time": "2022-07-29T07:14:50.971Z"
   },
   {
    "duration": 20,
    "start_time": "2022-07-29T07:14:51.017Z"
   },
   {
    "duration": 42,
    "start_time": "2022-07-29T07:14:51.039Z"
   },
   {
    "duration": 30,
    "start_time": "2022-07-29T07:14:51.083Z"
   },
   {
    "duration": 31,
    "start_time": "2022-07-29T07:14:51.115Z"
   },
   {
    "duration": 45,
    "start_time": "2022-07-29T07:14:51.149Z"
   },
   {
    "duration": 29,
    "start_time": "2022-07-29T07:14:51.196Z"
   },
   {
    "duration": 18,
    "start_time": "2022-07-29T07:14:51.231Z"
   },
   {
    "duration": 23,
    "start_time": "2022-07-29T07:14:51.251Z"
   },
   {
    "duration": 104,
    "start_time": "2022-07-29T07:14:51.277Z"
   },
   {
    "duration": 0,
    "start_time": "2022-07-29T07:14:51.383Z"
   },
   {
    "duration": 0,
    "start_time": "2022-07-29T07:14:51.385Z"
   },
   {
    "duration": 0,
    "start_time": "2022-07-29T07:14:51.386Z"
   },
   {
    "duration": 0,
    "start_time": "2022-07-29T07:14:51.387Z"
   },
   {
    "duration": 1,
    "start_time": "2022-07-29T07:14:51.388Z"
   },
   {
    "duration": 0,
    "start_time": "2022-07-29T07:14:51.389Z"
   },
   {
    "duration": 0,
    "start_time": "2022-07-29T07:14:51.391Z"
   },
   {
    "duration": 0,
    "start_time": "2022-07-29T07:14:51.392Z"
   },
   {
    "duration": 9,
    "start_time": "2022-07-29T07:29:00.872Z"
   },
   {
    "duration": 14,
    "start_time": "2022-07-29T07:29:14.072Z"
   },
   {
    "duration": 5,
    "start_time": "2022-07-29T07:29:18.160Z"
   },
   {
    "duration": 4,
    "start_time": "2022-07-29T07:29:38.205Z"
   },
   {
    "duration": 30,
    "start_time": "2022-07-29T07:44:08.893Z"
   },
   {
    "duration": 36,
    "start_time": "2022-07-29T08:20:35.241Z"
   },
   {
    "duration": 20,
    "start_time": "2022-07-29T08:24:18.997Z"
   },
   {
    "duration": 17,
    "start_time": "2022-07-29T08:24:24.574Z"
   },
   {
    "duration": 28,
    "start_time": "2022-07-29T08:25:06.395Z"
   },
   {
    "duration": 75,
    "start_time": "2022-07-29T08:25:59.019Z"
   },
   {
    "duration": 79,
    "start_time": "2022-07-29T08:26:31.283Z"
   },
   {
    "duration": 7,
    "start_time": "2022-07-29T08:27:17.880Z"
   },
   {
    "duration": 3,
    "start_time": "2022-07-29T08:27:24.464Z"
   },
   {
    "duration": 10,
    "start_time": "2022-07-29T08:27:37.288Z"
   },
   {
    "duration": 8,
    "start_time": "2022-07-29T08:27:45.247Z"
   },
   {
    "duration": 10,
    "start_time": "2022-07-29T08:27:48.039Z"
   },
   {
    "duration": 9,
    "start_time": "2022-07-29T08:28:11.304Z"
   },
   {
    "duration": 2,
    "start_time": "2022-07-29T08:28:25.896Z"
   },
   {
    "duration": 215,
    "start_time": "2022-07-29T08:28:25.900Z"
   },
   {
    "duration": 6,
    "start_time": "2022-07-29T08:28:26.118Z"
   },
   {
    "duration": 36,
    "start_time": "2022-07-29T08:28:26.126Z"
   },
   {
    "duration": 3,
    "start_time": "2022-07-29T08:28:26.164Z"
   },
   {
    "duration": 5,
    "start_time": "2022-07-29T08:28:26.170Z"
   },
   {
    "duration": 11,
    "start_time": "2022-07-29T08:28:26.210Z"
   },
   {
    "duration": 4,
    "start_time": "2022-07-29T08:28:26.223Z"
   },
   {
    "duration": 44,
    "start_time": "2022-07-29T08:28:26.230Z"
   },
   {
    "duration": 41,
    "start_time": "2022-07-29T08:28:26.276Z"
   },
   {
    "duration": 29,
    "start_time": "2022-07-29T08:28:26.321Z"
   },
   {
    "duration": 97,
    "start_time": "2022-07-29T08:28:26.352Z"
   },
   {
    "duration": 86,
    "start_time": "2022-07-29T08:28:26.451Z"
   },
   {
    "duration": 3,
    "start_time": "2022-07-29T08:28:26.539Z"
   },
   {
    "duration": 11,
    "start_time": "2022-07-29T08:28:26.544Z"
   },
   {
    "duration": 7,
    "start_time": "2022-07-29T08:28:26.557Z"
   },
   {
    "duration": 5,
    "start_time": "2022-07-29T08:28:26.566Z"
   },
   {
    "duration": 10,
    "start_time": "2022-07-29T08:28:26.573Z"
   },
   {
    "duration": 6,
    "start_time": "2022-07-29T08:28:26.585Z"
   },
   {
    "duration": 3,
    "start_time": "2022-07-29T08:28:26.611Z"
   },
   {
    "duration": 9,
    "start_time": "2022-07-29T08:28:26.616Z"
   },
   {
    "duration": 7,
    "start_time": "2022-07-29T08:28:26.628Z"
   },
   {
    "duration": 11,
    "start_time": "2022-07-29T08:28:26.637Z"
   },
   {
    "duration": 6,
    "start_time": "2022-07-29T08:28:26.650Z"
   },
   {
    "duration": 8,
    "start_time": "2022-07-29T08:28:26.658Z"
   },
   {
    "duration": 5,
    "start_time": "2022-07-29T08:28:26.669Z"
   },
   {
    "duration": 5,
    "start_time": "2022-07-29T08:28:26.677Z"
   },
   {
    "duration": 25,
    "start_time": "2022-07-29T08:28:26.685Z"
   },
   {
    "duration": 3,
    "start_time": "2022-07-29T08:28:26.715Z"
   },
   {
    "duration": 75,
    "start_time": "2022-07-29T08:28:26.720Z"
   },
   {
    "duration": 0,
    "start_time": "2022-07-29T08:28:26.797Z"
   },
   {
    "duration": 0,
    "start_time": "2022-07-29T08:28:26.798Z"
   },
   {
    "duration": 0,
    "start_time": "2022-07-29T08:28:26.802Z"
   },
   {
    "duration": 0,
    "start_time": "2022-07-29T08:28:26.803Z"
   },
   {
    "duration": 0,
    "start_time": "2022-07-29T08:28:26.805Z"
   },
   {
    "duration": 0,
    "start_time": "2022-07-29T08:28:26.806Z"
   },
   {
    "duration": 0,
    "start_time": "2022-07-29T08:28:26.808Z"
   },
   {
    "duration": 0,
    "start_time": "2022-07-29T08:28:26.811Z"
   },
   {
    "duration": 88,
    "start_time": "2022-07-29T08:28:38.367Z"
   },
   {
    "duration": 65,
    "start_time": "2022-07-29T08:28:42.607Z"
   },
   {
    "duration": 66,
    "start_time": "2022-07-29T08:29:01.510Z"
   },
   {
    "duration": 82,
    "start_time": "2022-07-29T10:33:18.597Z"
   },
   {
    "duration": 55,
    "start_time": "2022-07-29T10:33:48.538Z"
   },
   {
    "duration": 3,
    "start_time": "2022-07-29T10:34:05.495Z"
   },
   {
    "duration": 197,
    "start_time": "2022-07-29T10:34:05.500Z"
   },
   {
    "duration": 7,
    "start_time": "2022-07-29T10:34:05.698Z"
   },
   {
    "duration": 45,
    "start_time": "2022-07-29T10:34:05.709Z"
   },
   {
    "duration": 3,
    "start_time": "2022-07-29T10:34:05.757Z"
   },
   {
    "duration": 10,
    "start_time": "2022-07-29T10:34:05.761Z"
   },
   {
    "duration": 12,
    "start_time": "2022-07-29T10:34:05.773Z"
   },
   {
    "duration": 4,
    "start_time": "2022-07-29T10:34:05.787Z"
   },
   {
    "duration": 53,
    "start_time": "2022-07-29T10:34:05.793Z"
   },
   {
    "duration": 25,
    "start_time": "2022-07-29T10:34:05.848Z"
   },
   {
    "duration": 53,
    "start_time": "2022-07-29T10:34:05.875Z"
   },
   {
    "duration": 69,
    "start_time": "2022-07-29T10:34:05.930Z"
   },
   {
    "duration": 87,
    "start_time": "2022-07-29T10:34:06.002Z"
   },
   {
    "duration": 75,
    "start_time": "2022-07-29T10:34:06.090Z"
   },
   {
    "duration": 75,
    "start_time": "2022-07-29T10:34:06.167Z"
   },
   {
    "duration": 3,
    "start_time": "2022-07-29T10:34:06.244Z"
   },
   {
    "duration": 7,
    "start_time": "2022-07-29T10:34:06.249Z"
   },
   {
    "duration": 4,
    "start_time": "2022-07-29T10:34:06.258Z"
   },
   {
    "duration": 6,
    "start_time": "2022-07-29T10:34:06.264Z"
   },
   {
    "duration": 6,
    "start_time": "2022-07-29T10:34:06.272Z"
   },
   {
    "duration": 4,
    "start_time": "2022-07-29T10:34:06.280Z"
   },
   {
    "duration": 6,
    "start_time": "2022-07-29T10:34:06.286Z"
   },
   {
    "duration": 19,
    "start_time": "2022-07-29T10:34:06.313Z"
   },
   {
    "duration": 6,
    "start_time": "2022-07-29T10:34:06.333Z"
   },
   {
    "duration": 5,
    "start_time": "2022-07-29T10:34:06.340Z"
   },
   {
    "duration": 12,
    "start_time": "2022-07-29T10:34:06.347Z"
   },
   {
    "duration": 5,
    "start_time": "2022-07-29T10:34:06.361Z"
   },
   {
    "duration": 8,
    "start_time": "2022-07-29T10:34:06.368Z"
   },
   {
    "duration": 5,
    "start_time": "2022-07-29T10:34:06.378Z"
   },
   {
    "duration": 85,
    "start_time": "2022-07-29T10:34:06.385Z"
   },
   {
    "duration": 0,
    "start_time": "2022-07-29T10:34:06.472Z"
   },
   {
    "duration": 0,
    "start_time": "2022-07-29T10:34:06.474Z"
   },
   {
    "duration": 0,
    "start_time": "2022-07-29T10:34:06.475Z"
   },
   {
    "duration": 0,
    "start_time": "2022-07-29T10:34:06.476Z"
   },
   {
    "duration": 0,
    "start_time": "2022-07-29T10:34:06.477Z"
   },
   {
    "duration": 0,
    "start_time": "2022-07-29T10:34:06.478Z"
   },
   {
    "duration": 0,
    "start_time": "2022-07-29T10:34:06.480Z"
   },
   {
    "duration": 0,
    "start_time": "2022-07-29T10:34:06.481Z"
   },
   {
    "duration": 41,
    "start_time": "2022-07-29T10:35:15.031Z"
   },
   {
    "duration": 11,
    "start_time": "2022-07-29T10:36:04.166Z"
   },
   {
    "duration": 42,
    "start_time": "2022-07-29T10:38:10.131Z"
   },
   {
    "duration": 8,
    "start_time": "2022-07-29T10:44:36.266Z"
   },
   {
    "duration": 12,
    "start_time": "2022-07-29T10:45:03.978Z"
   },
   {
    "duration": 73,
    "start_time": "2022-07-29T10:45:50.905Z"
   },
   {
    "duration": 15,
    "start_time": "2022-07-29T11:07:11.907Z"
   },
   {
    "duration": 43,
    "start_time": "2022-07-29T11:08:23.510Z"
   },
   {
    "duration": 14,
    "start_time": "2022-07-29T11:09:05.956Z"
   },
   {
    "duration": 39,
    "start_time": "2022-07-29T11:09:26.149Z"
   },
   {
    "duration": 14,
    "start_time": "2022-07-29T11:12:04.266Z"
   },
   {
    "duration": 46,
    "start_time": "2022-07-30T06:44:10.989Z"
   },
   {
    "duration": 411,
    "start_time": "2022-07-30T06:44:17.230Z"
   },
   {
    "duration": 210,
    "start_time": "2022-07-30T06:44:17.642Z"
   },
   {
    "duration": 9,
    "start_time": "2022-07-30T06:44:17.853Z"
   },
   {
    "duration": 29,
    "start_time": "2022-07-30T06:44:17.864Z"
   },
   {
    "duration": 2,
    "start_time": "2022-07-30T06:44:17.895Z"
   },
   {
    "duration": 8,
    "start_time": "2022-07-30T06:44:17.899Z"
   },
   {
    "duration": 15,
    "start_time": "2022-07-30T06:44:17.909Z"
   },
   {
    "duration": 15,
    "start_time": "2022-07-30T06:44:17.925Z"
   },
   {
    "duration": 39,
    "start_time": "2022-07-30T06:44:17.942Z"
   },
   {
    "duration": 18,
    "start_time": "2022-07-30T06:44:17.984Z"
   },
   {
    "duration": 43,
    "start_time": "2022-07-30T06:44:18.005Z"
   },
   {
    "duration": 88,
    "start_time": "2022-07-30T06:44:18.051Z"
   },
   {
    "duration": 63,
    "start_time": "2022-07-30T06:44:18.141Z"
   },
   {
    "duration": 110,
    "start_time": "2022-07-30T06:44:18.205Z"
   },
   {
    "duration": 62,
    "start_time": "2022-07-30T06:44:18.317Z"
   },
   {
    "duration": 11,
    "start_time": "2022-07-30T06:44:18.381Z"
   },
   {
    "duration": 62,
    "start_time": "2022-07-30T06:44:18.394Z"
   },
   {
    "duration": 11,
    "start_time": "2022-07-30T06:44:18.458Z"
   },
   {
    "duration": 14,
    "start_time": "2022-07-30T06:44:18.471Z"
   },
   {
    "duration": 3,
    "start_time": "2022-07-30T06:44:18.487Z"
   },
   {
    "duration": 13,
    "start_time": "2022-07-30T06:44:18.491Z"
   },
   {
    "duration": 6,
    "start_time": "2022-07-30T06:44:18.505Z"
   },
   {
    "duration": 25,
    "start_time": "2022-07-30T06:44:18.512Z"
   },
   {
    "duration": 6,
    "start_time": "2022-07-30T06:44:18.539Z"
   },
   {
    "duration": 12,
    "start_time": "2022-07-30T06:44:18.548Z"
   },
   {
    "duration": 8,
    "start_time": "2022-07-30T06:44:18.562Z"
   },
   {
    "duration": 9,
    "start_time": "2022-07-30T06:44:18.572Z"
   },
   {
    "duration": 9,
    "start_time": "2022-07-30T06:44:18.584Z"
   },
   {
    "duration": 10,
    "start_time": "2022-07-30T06:44:18.594Z"
   },
   {
    "duration": 66,
    "start_time": "2022-07-30T06:44:18.607Z"
   },
   {
    "duration": 0,
    "start_time": "2022-07-30T06:44:18.674Z"
   },
   {
    "duration": 0,
    "start_time": "2022-07-30T06:44:18.675Z"
   },
   {
    "duration": 0,
    "start_time": "2022-07-30T06:44:18.677Z"
   },
   {
    "duration": 0,
    "start_time": "2022-07-30T06:44:18.678Z"
   },
   {
    "duration": 0,
    "start_time": "2022-07-30T06:44:18.679Z"
   },
   {
    "duration": 0,
    "start_time": "2022-07-30T06:44:18.680Z"
   },
   {
    "duration": 0,
    "start_time": "2022-07-30T06:44:18.681Z"
   },
   {
    "duration": 0,
    "start_time": "2022-07-30T06:44:18.682Z"
   },
   {
    "duration": 78,
    "start_time": "2022-07-30T07:26:16.551Z"
   },
   {
    "duration": 47,
    "start_time": "2022-07-30T07:27:17.574Z"
   },
   {
    "duration": 85,
    "start_time": "2022-07-30T07:27:20.033Z"
   },
   {
    "duration": 3,
    "start_time": "2022-07-30T07:27:24.244Z"
   },
   {
    "duration": 173,
    "start_time": "2022-07-30T07:27:24.249Z"
   },
   {
    "duration": 17,
    "start_time": "2022-07-30T07:27:24.424Z"
   },
   {
    "duration": 34,
    "start_time": "2022-07-30T07:27:24.442Z"
   },
   {
    "duration": 3,
    "start_time": "2022-07-30T07:27:24.477Z"
   },
   {
    "duration": 6,
    "start_time": "2022-07-30T07:27:24.481Z"
   },
   {
    "duration": 9,
    "start_time": "2022-07-30T07:27:24.489Z"
   },
   {
    "duration": 2,
    "start_time": "2022-07-30T07:27:24.500Z"
   },
   {
    "duration": 47,
    "start_time": "2022-07-30T07:27:24.504Z"
   },
   {
    "duration": 17,
    "start_time": "2022-07-30T07:27:24.553Z"
   },
   {
    "duration": 22,
    "start_time": "2022-07-30T07:27:24.572Z"
   },
   {
    "duration": 75,
    "start_time": "2022-07-30T07:27:24.596Z"
   },
   {
    "duration": 71,
    "start_time": "2022-07-30T07:27:24.673Z"
   },
   {
    "duration": 53,
    "start_time": "2022-07-30T07:27:24.746Z"
   },
   {
    "duration": 52,
    "start_time": "2022-07-30T07:27:24.800Z"
   },
   {
    "duration": 10,
    "start_time": "2022-07-30T07:27:24.854Z"
   },
   {
    "duration": 38,
    "start_time": "2022-07-30T07:27:24.865Z"
   },
   {
    "duration": 32,
    "start_time": "2022-07-30T07:27:24.905Z"
   },
   {
    "duration": 13,
    "start_time": "2022-07-30T07:27:24.938Z"
   },
   {
    "duration": 59,
    "start_time": "2022-07-30T07:27:24.953Z"
   },
   {
    "duration": 0,
    "start_time": "2022-07-30T07:27:25.013Z"
   },
   {
    "duration": 0,
    "start_time": "2022-07-30T07:27:25.014Z"
   },
   {
    "duration": 0,
    "start_time": "2022-07-30T07:27:25.015Z"
   },
   {
    "duration": 0,
    "start_time": "2022-07-30T07:27:25.016Z"
   },
   {
    "duration": 0,
    "start_time": "2022-07-30T07:27:25.018Z"
   },
   {
    "duration": 0,
    "start_time": "2022-07-30T07:27:25.019Z"
   },
   {
    "duration": 0,
    "start_time": "2022-07-30T07:27:25.019Z"
   },
   {
    "duration": 0,
    "start_time": "2022-07-30T07:27:25.020Z"
   },
   {
    "duration": 0,
    "start_time": "2022-07-30T07:27:25.022Z"
   },
   {
    "duration": 0,
    "start_time": "2022-07-30T07:27:25.023Z"
   },
   {
    "duration": 0,
    "start_time": "2022-07-30T07:27:25.024Z"
   },
   {
    "duration": 0,
    "start_time": "2022-07-30T07:27:25.025Z"
   },
   {
    "duration": 0,
    "start_time": "2022-07-30T07:27:25.026Z"
   },
   {
    "duration": 0,
    "start_time": "2022-07-30T07:27:25.027Z"
   },
   {
    "duration": 0,
    "start_time": "2022-07-30T07:27:25.028Z"
   },
   {
    "duration": 0,
    "start_time": "2022-07-30T07:27:25.029Z"
   },
   {
    "duration": 0,
    "start_time": "2022-07-30T07:27:25.030Z"
   },
   {
    "duration": 0,
    "start_time": "2022-07-30T07:27:25.031Z"
   },
   {
    "duration": 51,
    "start_time": "2022-07-30T07:27:31.466Z"
   },
   {
    "duration": 67,
    "start_time": "2022-07-30T07:30:41.633Z"
   },
   {
    "duration": 3,
    "start_time": "2022-07-30T07:33:38.033Z"
   },
   {
    "duration": 3,
    "start_time": "2022-07-30T07:33:52.667Z"
   },
   {
    "duration": 3,
    "start_time": "2022-07-30T07:35:56.070Z"
   },
   {
    "duration": 3,
    "start_time": "2022-07-30T07:36:02.051Z"
   },
   {
    "duration": 4,
    "start_time": "2022-07-30T07:36:06.337Z"
   },
   {
    "duration": 4,
    "start_time": "2022-07-30T07:40:26.838Z"
   },
   {
    "duration": 3,
    "start_time": "2022-07-30T07:45:28.145Z"
   },
   {
    "duration": 4,
    "start_time": "2022-07-30T07:46:03.906Z"
   },
   {
    "duration": 4,
    "start_time": "2022-07-30T07:50:37.657Z"
   },
   {
    "duration": 3,
    "start_time": "2022-07-30T07:51:11.793Z"
   },
   {
    "duration": 4,
    "start_time": "2022-07-30T07:58:01.018Z"
   },
   {
    "duration": 28,
    "start_time": "2022-07-30T07:59:17.431Z"
   },
   {
    "duration": 16,
    "start_time": "2022-07-30T07:59:53.290Z"
   },
   {
    "duration": 15,
    "start_time": "2022-07-30T08:01:02.489Z"
   },
   {
    "duration": 14,
    "start_time": "2022-07-30T08:01:04.129Z"
   },
   {
    "duration": 14,
    "start_time": "2022-07-30T08:01:04.649Z"
   },
   {
    "duration": 14,
    "start_time": "2022-07-30T08:01:05.070Z"
   },
   {
    "duration": 17,
    "start_time": "2022-07-30T08:01:05.534Z"
   },
   {
    "duration": 14,
    "start_time": "2022-07-30T08:01:06.049Z"
   },
   {
    "duration": 9,
    "start_time": "2022-07-30T08:05:39.515Z"
   },
   {
    "duration": 8,
    "start_time": "2022-07-30T08:05:57.123Z"
   },
   {
    "duration": 7,
    "start_time": "2022-07-30T08:10:07.010Z"
   },
   {
    "duration": 7,
    "start_time": "2022-07-30T08:10:31.000Z"
   },
   {
    "duration": 7,
    "start_time": "2022-07-30T08:11:21.281Z"
   },
   {
    "duration": 7,
    "start_time": "2022-07-30T08:12:01.097Z"
   },
   {
    "duration": 7,
    "start_time": "2022-07-30T08:12:22.584Z"
   },
   {
    "duration": 50,
    "start_time": "2022-07-30T08:12:51.201Z"
   },
   {
    "duration": 7,
    "start_time": "2022-07-30T08:15:06.896Z"
   },
   {
    "duration": 8,
    "start_time": "2022-07-30T08:15:12.047Z"
   },
   {
    "duration": 10,
    "start_time": "2022-07-30T08:27:35.737Z"
   },
   {
    "duration": 12,
    "start_time": "2022-07-30T08:31:27.438Z"
   },
   {
    "duration": 8,
    "start_time": "2022-07-30T08:31:53.322Z"
   },
   {
    "duration": 8,
    "start_time": "2022-07-30T08:32:22.459Z"
   },
   {
    "duration": 8,
    "start_time": "2022-07-30T08:36:50.757Z"
   },
   {
    "duration": 4,
    "start_time": "2022-07-30T09:07:49.609Z"
   },
   {
    "duration": 5,
    "start_time": "2022-07-30T09:12:24.221Z"
   },
   {
    "duration": 10,
    "start_time": "2022-07-30T09:14:05.833Z"
   },
   {
    "duration": 11,
    "start_time": "2022-07-30T09:15:32.745Z"
   },
   {
    "duration": 7,
    "start_time": "2022-07-30T09:16:16.603Z"
   },
   {
    "duration": 7,
    "start_time": "2022-07-30T09:17:09.435Z"
   },
   {
    "duration": 7,
    "start_time": "2022-07-30T09:17:22.392Z"
   },
   {
    "duration": 3,
    "start_time": "2022-07-30T09:17:34.234Z"
   },
   {
    "duration": 170,
    "start_time": "2022-07-30T09:17:34.238Z"
   },
   {
    "duration": 7,
    "start_time": "2022-07-30T09:17:34.410Z"
   },
   {
    "duration": 58,
    "start_time": "2022-07-30T09:17:34.418Z"
   },
   {
    "duration": 4,
    "start_time": "2022-07-30T09:17:34.478Z"
   },
   {
    "duration": 21,
    "start_time": "2022-07-30T09:17:34.483Z"
   },
   {
    "duration": 25,
    "start_time": "2022-07-30T09:17:34.506Z"
   },
   {
    "duration": 5,
    "start_time": "2022-07-30T09:17:34.533Z"
   },
   {
    "duration": 35,
    "start_time": "2022-07-30T09:17:34.540Z"
   },
   {
    "duration": 32,
    "start_time": "2022-07-30T09:17:34.576Z"
   },
   {
    "duration": 27,
    "start_time": "2022-07-30T09:17:34.611Z"
   },
   {
    "duration": 75,
    "start_time": "2022-07-30T09:17:34.640Z"
   },
   {
    "duration": 87,
    "start_time": "2022-07-30T09:17:34.717Z"
   },
   {
    "duration": 77,
    "start_time": "2022-07-30T09:17:34.807Z"
   },
   {
    "duration": 52,
    "start_time": "2022-07-30T09:17:34.886Z"
   },
   {
    "duration": 11,
    "start_time": "2022-07-30T09:17:34.940Z"
   },
   {
    "duration": 43,
    "start_time": "2022-07-30T09:17:34.952Z"
   },
   {
    "duration": 11,
    "start_time": "2022-07-30T09:17:34.997Z"
   },
   {
    "duration": 35,
    "start_time": "2022-07-30T09:17:35.010Z"
   },
   {
    "duration": 3,
    "start_time": "2022-07-30T09:17:35.047Z"
   },
   {
    "duration": 24,
    "start_time": "2022-07-30T09:17:35.052Z"
   },
   {
    "duration": 21,
    "start_time": "2022-07-30T09:17:35.078Z"
   },
   {
    "duration": 19,
    "start_time": "2022-07-30T09:17:35.101Z"
   },
   {
    "duration": 26,
    "start_time": "2022-07-30T09:17:35.122Z"
   },
   {
    "duration": 33,
    "start_time": "2022-07-30T09:17:35.150Z"
   },
   {
    "duration": 29,
    "start_time": "2022-07-30T09:17:35.185Z"
   },
   {
    "duration": 15,
    "start_time": "2022-07-30T09:17:35.215Z"
   },
   {
    "duration": 22,
    "start_time": "2022-07-30T09:17:35.232Z"
   },
   {
    "duration": 18,
    "start_time": "2022-07-30T09:17:35.257Z"
   },
   {
    "duration": 16,
    "start_time": "2022-07-30T09:17:35.277Z"
   },
   {
    "duration": 24,
    "start_time": "2022-07-30T09:17:35.295Z"
   },
   {
    "duration": 12,
    "start_time": "2022-07-30T09:17:35.321Z"
   },
   {
    "duration": 24,
    "start_time": "2022-07-30T09:17:35.334Z"
   },
   {
    "duration": 2,
    "start_time": "2022-07-30T09:17:35.360Z"
   },
   {
    "duration": 5,
    "start_time": "2022-07-30T09:17:35.364Z"
   },
   {
    "duration": 7,
    "start_time": "2022-07-30T09:17:35.370Z"
   },
   {
    "duration": 5,
    "start_time": "2022-07-30T09:17:35.378Z"
   },
   {
    "duration": 7,
    "start_time": "2022-07-30T09:17:35.384Z"
   },
   {
    "duration": 16,
    "start_time": "2022-07-30T09:18:32.339Z"
   },
   {
    "duration": 9,
    "start_time": "2022-07-30T09:30:26.898Z"
   },
   {
    "duration": 2,
    "start_time": "2022-07-30T09:31:09.856Z"
   },
   {
    "duration": 166,
    "start_time": "2022-07-30T09:31:09.860Z"
   },
   {
    "duration": 13,
    "start_time": "2022-07-30T09:31:10.027Z"
   },
   {
    "duration": 31,
    "start_time": "2022-07-30T09:31:10.042Z"
   },
   {
    "duration": 2,
    "start_time": "2022-07-30T09:31:10.075Z"
   },
   {
    "duration": 8,
    "start_time": "2022-07-30T09:31:10.079Z"
   },
   {
    "duration": 12,
    "start_time": "2022-07-30T09:31:10.089Z"
   },
   {
    "duration": 3,
    "start_time": "2022-07-30T09:31:10.102Z"
   },
   {
    "duration": 48,
    "start_time": "2022-07-30T09:31:10.106Z"
   },
   {
    "duration": 18,
    "start_time": "2022-07-30T09:31:10.157Z"
   },
   {
    "duration": 28,
    "start_time": "2022-07-30T09:31:10.176Z"
   },
   {
    "duration": 78,
    "start_time": "2022-07-30T09:31:10.205Z"
   },
   {
    "duration": 71,
    "start_time": "2022-07-30T09:31:10.284Z"
   },
   {
    "duration": 56,
    "start_time": "2022-07-30T09:31:10.357Z"
   },
   {
    "duration": 53,
    "start_time": "2022-07-30T09:31:10.414Z"
   },
   {
    "duration": 11,
    "start_time": "2022-07-30T09:31:10.468Z"
   },
   {
    "duration": 39,
    "start_time": "2022-07-30T09:31:10.481Z"
   },
   {
    "duration": 13,
    "start_time": "2022-07-30T09:31:10.537Z"
   },
   {
    "duration": 12,
    "start_time": "2022-07-30T09:31:10.551Z"
   },
   {
    "duration": 3,
    "start_time": "2022-07-30T09:31:10.565Z"
   },
   {
    "duration": 22,
    "start_time": "2022-07-30T09:31:10.569Z"
   },
   {
    "duration": 13,
    "start_time": "2022-07-30T09:31:10.593Z"
   },
   {
    "duration": 40,
    "start_time": "2022-07-30T09:31:10.608Z"
   },
   {
    "duration": 14,
    "start_time": "2022-07-30T09:31:10.650Z"
   },
   {
    "duration": 25,
    "start_time": "2022-07-30T09:31:10.666Z"
   },
   {
    "duration": 15,
    "start_time": "2022-07-30T09:31:10.693Z"
   },
   {
    "duration": 30,
    "start_time": "2022-07-30T09:31:10.709Z"
   },
   {
    "duration": 17,
    "start_time": "2022-07-30T09:31:10.743Z"
   },
   {
    "duration": 13,
    "start_time": "2022-07-30T09:31:10.762Z"
   },
   {
    "duration": 5,
    "start_time": "2022-07-30T09:31:10.776Z"
   },
   {
    "duration": 24,
    "start_time": "2022-07-30T09:31:10.783Z"
   },
   {
    "duration": 33,
    "start_time": "2022-07-30T09:31:10.808Z"
   },
   {
    "duration": 18,
    "start_time": "2022-07-30T09:31:10.843Z"
   },
   {
    "duration": 11,
    "start_time": "2022-07-30T09:31:10.862Z"
   },
   {
    "duration": 11,
    "start_time": "2022-07-30T09:31:10.875Z"
   },
   {
    "duration": 8,
    "start_time": "2022-07-30T09:31:10.887Z"
   },
   {
    "duration": 7,
    "start_time": "2022-07-30T09:31:10.896Z"
   },
   {
    "duration": 5,
    "start_time": "2022-07-30T09:31:10.905Z"
   },
   {
    "duration": 2,
    "start_time": "2022-07-30T09:33:13.750Z"
   },
   {
    "duration": 164,
    "start_time": "2022-07-30T09:33:13.754Z"
   },
   {
    "duration": 17,
    "start_time": "2022-07-30T09:33:13.920Z"
   },
   {
    "duration": 29,
    "start_time": "2022-07-30T09:33:13.938Z"
   },
   {
    "duration": 2,
    "start_time": "2022-07-30T09:33:13.969Z"
   },
   {
    "duration": 8,
    "start_time": "2022-07-30T09:33:13.973Z"
   },
   {
    "duration": 12,
    "start_time": "2022-07-30T09:33:13.983Z"
   },
   {
    "duration": 3,
    "start_time": "2022-07-30T09:33:13.996Z"
   },
   {
    "duration": 48,
    "start_time": "2022-07-30T09:33:14.001Z"
   },
   {
    "duration": 17,
    "start_time": "2022-07-30T09:33:14.051Z"
   },
   {
    "duration": 24,
    "start_time": "2022-07-30T09:33:14.071Z"
   },
   {
    "duration": 76,
    "start_time": "2022-07-30T09:33:14.096Z"
   },
   {
    "duration": 73,
    "start_time": "2022-07-30T09:33:14.174Z"
   },
   {
    "duration": 63,
    "start_time": "2022-07-30T09:33:14.249Z"
   },
   {
    "duration": 53,
    "start_time": "2022-07-30T09:33:14.314Z"
   },
   {
    "duration": 10,
    "start_time": "2022-07-30T09:33:14.368Z"
   },
   {
    "duration": 40,
    "start_time": "2022-07-30T09:33:14.379Z"
   },
   {
    "duration": 24,
    "start_time": "2022-07-30T09:33:14.421Z"
   },
   {
    "duration": 11,
    "start_time": "2022-07-30T09:33:14.447Z"
   },
   {
    "duration": 8,
    "start_time": "2022-07-30T09:33:14.460Z"
   },
   {
    "duration": 20,
    "start_time": "2022-07-30T09:33:14.469Z"
   },
   {
    "duration": 13,
    "start_time": "2022-07-30T09:33:14.490Z"
   },
   {
    "duration": 37,
    "start_time": "2022-07-30T09:33:14.504Z"
   },
   {
    "duration": 16,
    "start_time": "2022-07-30T09:33:14.543Z"
   },
   {
    "duration": 15,
    "start_time": "2022-07-30T09:33:14.561Z"
   },
   {
    "duration": 14,
    "start_time": "2022-07-30T09:33:14.577Z"
   },
   {
    "duration": 8,
    "start_time": "2022-07-30T09:33:14.592Z"
   },
   {
    "duration": 47,
    "start_time": "2022-07-30T09:33:14.601Z"
   },
   {
    "duration": 13,
    "start_time": "2022-07-30T09:33:14.651Z"
   },
   {
    "duration": 13,
    "start_time": "2022-07-30T09:33:14.666Z"
   },
   {
    "duration": 23,
    "start_time": "2022-07-30T09:33:14.680Z"
   },
   {
    "duration": 11,
    "start_time": "2022-07-30T09:33:14.705Z"
   },
   {
    "duration": 32,
    "start_time": "2022-07-30T09:33:14.718Z"
   },
   {
    "duration": 14,
    "start_time": "2022-07-30T09:33:14.752Z"
   },
   {
    "duration": 4,
    "start_time": "2022-07-30T09:33:14.767Z"
   },
   {
    "duration": 6,
    "start_time": "2022-07-30T09:33:14.772Z"
   },
   {
    "duration": 4,
    "start_time": "2022-07-30T09:33:14.780Z"
   },
   {
    "duration": 4,
    "start_time": "2022-07-30T09:33:14.786Z"
   },
   {
    "duration": 13,
    "start_time": "2022-07-30T09:35:16.937Z"
   },
   {
    "duration": 12,
    "start_time": "2022-07-30T09:35:21.363Z"
   },
   {
    "duration": 19,
    "start_time": "2022-07-30T09:35:25.039Z"
   },
   {
    "duration": 12,
    "start_time": "2022-07-30T09:35:31.153Z"
   },
   {
    "duration": 17,
    "start_time": "2022-07-30T09:35:33.586Z"
   },
   {
    "duration": 4,
    "start_time": "2022-07-30T09:41:58.884Z"
   },
   {
    "duration": 17,
    "start_time": "2022-07-30T09:42:04.096Z"
   },
   {
    "duration": 12,
    "start_time": "2022-07-30T09:42:04.915Z"
   },
   {
    "duration": 18,
    "start_time": "2022-07-30T09:42:05.427Z"
   },
   {
    "duration": 12,
    "start_time": "2022-07-30T09:42:05.958Z"
   },
   {
    "duration": 9,
    "start_time": "2022-07-30T09:43:14.947Z"
   },
   {
    "duration": 50,
    "start_time": "2022-07-30T09:44:06.380Z"
   },
   {
    "duration": 189,
    "start_time": "2022-07-30T09:44:20.564Z"
   },
   {
    "duration": 10,
    "start_time": "2022-07-30T09:45:47.109Z"
   },
   {
    "duration": 8,
    "start_time": "2022-07-30T09:47:50.946Z"
   },
   {
    "duration": 8,
    "start_time": "2022-07-30T09:48:14.249Z"
   },
   {
    "duration": 8,
    "start_time": "2022-07-30T09:48:36.540Z"
   },
   {
    "duration": 66,
    "start_time": "2022-07-30T09:49:13.996Z"
   },
   {
    "duration": 8,
    "start_time": "2022-07-30T09:50:50.014Z"
   },
   {
    "duration": 3,
    "start_time": "2022-07-30T09:50:55.233Z"
   },
   {
    "duration": 161,
    "start_time": "2022-07-30T09:50:55.238Z"
   },
   {
    "duration": 6,
    "start_time": "2022-07-30T09:50:55.401Z"
   },
   {
    "duration": 43,
    "start_time": "2022-07-30T09:50:55.408Z"
   },
   {
    "duration": 4,
    "start_time": "2022-07-30T09:50:55.453Z"
   },
   {
    "duration": 11,
    "start_time": "2022-07-30T09:50:55.458Z"
   },
   {
    "duration": 14,
    "start_time": "2022-07-30T09:50:55.471Z"
   },
   {
    "duration": 6,
    "start_time": "2022-07-30T09:50:55.486Z"
   },
   {
    "duration": 27,
    "start_time": "2022-07-30T09:50:55.493Z"
   },
   {
    "duration": 30,
    "start_time": "2022-07-30T09:50:55.521Z"
   },
   {
    "duration": 23,
    "start_time": "2022-07-30T09:50:55.552Z"
   },
   {
    "duration": 72,
    "start_time": "2022-07-30T09:50:55.576Z"
   },
   {
    "duration": 63,
    "start_time": "2022-07-30T09:50:55.649Z"
   },
   {
    "duration": 66,
    "start_time": "2022-07-30T09:50:55.715Z"
   },
   {
    "duration": 39,
    "start_time": "2022-07-30T09:50:55.783Z"
   },
   {
    "duration": 20,
    "start_time": "2022-07-30T09:50:55.823Z"
   },
   {
    "duration": 39,
    "start_time": "2022-07-30T09:50:55.845Z"
   },
   {
    "duration": 12,
    "start_time": "2022-07-30T09:50:55.885Z"
   },
   {
    "duration": 11,
    "start_time": "2022-07-30T09:50:55.899Z"
   },
   {
    "duration": 32,
    "start_time": "2022-07-30T09:50:55.911Z"
   },
   {
    "duration": 21,
    "start_time": "2022-07-30T09:50:55.945Z"
   },
   {
    "duration": 13,
    "start_time": "2022-07-30T09:50:55.968Z"
   },
   {
    "duration": 15,
    "start_time": "2022-07-30T09:50:55.982Z"
   },
   {
    "duration": 14,
    "start_time": "2022-07-30T09:50:55.999Z"
   },
   {
    "duration": 35,
    "start_time": "2022-07-30T09:50:56.015Z"
   },
   {
    "duration": 14,
    "start_time": "2022-07-30T09:50:56.052Z"
   },
   {
    "duration": 8,
    "start_time": "2022-07-30T09:50:56.068Z"
   },
   {
    "duration": 12,
    "start_time": "2022-07-30T09:50:56.077Z"
   },
   {
    "duration": 11,
    "start_time": "2022-07-30T09:50:56.090Z"
   },
   {
    "duration": 35,
    "start_time": "2022-07-30T09:50:56.103Z"
   },
   {
    "duration": 28,
    "start_time": "2022-07-30T09:50:56.139Z"
   },
   {
    "duration": 10,
    "start_time": "2022-07-30T09:50:56.168Z"
   },
   {
    "duration": 25,
    "start_time": "2022-07-30T09:50:56.179Z"
   },
   {
    "duration": 11,
    "start_time": "2022-07-30T09:50:56.205Z"
   },
   {
    "duration": 7,
    "start_time": "2022-07-30T09:50:56.218Z"
   },
   {
    "duration": 11,
    "start_time": "2022-07-30T09:50:56.226Z"
   },
   {
    "duration": 5,
    "start_time": "2022-07-30T09:50:56.238Z"
   },
   {
    "duration": 5,
    "start_time": "2022-07-30T09:50:56.244Z"
   },
   {
    "duration": 3,
    "start_time": "2022-07-30T09:51:03.341Z"
   },
   {
    "duration": 56,
    "start_time": "2022-07-30T09:51:11.109Z"
   },
   {
    "duration": 8,
    "start_time": "2022-07-30T09:51:20.540Z"
   },
   {
    "duration": 8,
    "start_time": "2022-07-30T09:51:41.329Z"
   },
   {
    "duration": 5,
    "start_time": "2022-07-30T09:52:23.500Z"
   },
   {
    "duration": 2,
    "start_time": "2022-07-30T09:53:34.263Z"
   },
   {
    "duration": 179,
    "start_time": "2022-07-30T09:53:34.267Z"
   },
   {
    "duration": 7,
    "start_time": "2022-07-30T09:53:34.449Z"
   },
   {
    "duration": 41,
    "start_time": "2022-07-30T09:53:34.458Z"
   },
   {
    "duration": 7,
    "start_time": "2022-07-30T09:53:34.502Z"
   },
   {
    "duration": 23,
    "start_time": "2022-07-30T09:53:34.511Z"
   },
   {
    "duration": 30,
    "start_time": "2022-07-30T09:53:34.536Z"
   },
   {
    "duration": 16,
    "start_time": "2022-07-30T09:53:34.567Z"
   },
   {
    "duration": 43,
    "start_time": "2022-07-30T09:53:34.585Z"
   },
   {
    "duration": 23,
    "start_time": "2022-07-30T09:53:34.630Z"
   },
   {
    "duration": 45,
    "start_time": "2022-07-30T09:53:34.656Z"
   },
   {
    "duration": 78,
    "start_time": "2022-07-30T09:53:34.703Z"
   },
   {
    "duration": 71,
    "start_time": "2022-07-30T09:53:34.782Z"
   },
   {
    "duration": 60,
    "start_time": "2022-07-30T09:53:34.855Z"
   },
   {
    "duration": 50,
    "start_time": "2022-07-30T09:53:34.917Z"
   },
   {
    "duration": 10,
    "start_time": "2022-07-30T09:53:34.969Z"
   },
   {
    "duration": 55,
    "start_time": "2022-07-30T09:53:34.981Z"
   },
   {
    "duration": 13,
    "start_time": "2022-07-30T09:53:35.038Z"
   },
   {
    "duration": 19,
    "start_time": "2022-07-30T09:53:35.052Z"
   },
   {
    "duration": 3,
    "start_time": "2022-07-30T09:53:35.073Z"
   },
   {
    "duration": 34,
    "start_time": "2022-07-30T09:53:35.078Z"
   },
   {
    "duration": 36,
    "start_time": "2022-07-30T09:53:35.114Z"
   },
   {
    "duration": 24,
    "start_time": "2022-07-30T09:53:35.151Z"
   },
   {
    "duration": 24,
    "start_time": "2022-07-30T09:53:35.177Z"
   },
   {
    "duration": 37,
    "start_time": "2022-07-30T09:53:35.202Z"
   },
   {
    "duration": 20,
    "start_time": "2022-07-30T09:53:35.241Z"
   },
   {
    "duration": 22,
    "start_time": "2022-07-30T09:53:35.262Z"
   },
   {
    "duration": 28,
    "start_time": "2022-07-30T09:53:35.286Z"
   },
   {
    "duration": 17,
    "start_time": "2022-07-30T09:53:35.318Z"
   },
   {
    "duration": 23,
    "start_time": "2022-07-30T09:53:35.337Z"
   },
   {
    "duration": 50,
    "start_time": "2022-07-30T09:53:35.362Z"
   },
   {
    "duration": 18,
    "start_time": "2022-07-30T09:53:35.413Z"
   },
   {
    "duration": 19,
    "start_time": "2022-07-30T09:53:35.433Z"
   },
   {
    "duration": 17,
    "start_time": "2022-07-30T09:53:35.453Z"
   },
   {
    "duration": 36,
    "start_time": "2022-07-30T09:53:35.471Z"
   },
   {
    "duration": 24,
    "start_time": "2022-07-30T09:53:35.509Z"
   },
   {
    "duration": 20,
    "start_time": "2022-07-30T09:53:35.535Z"
   },
   {
    "duration": 24,
    "start_time": "2022-07-30T09:53:35.556Z"
   },
   {
    "duration": 4,
    "start_time": "2022-07-30T09:53:55.964Z"
   },
   {
    "duration": 4,
    "start_time": "2022-07-30T09:54:07.916Z"
   },
   {
    "duration": 5,
    "start_time": "2022-07-30T09:54:38.849Z"
   },
   {
    "duration": 7,
    "start_time": "2022-07-30T09:55:25.768Z"
   },
   {
    "duration": 4,
    "start_time": "2022-07-30T09:55:58.449Z"
   }
  ],
  "colab": {
   "collapsed_sections": [
    "E0vqbgi9ay0H",
    "VUC88oWjTJw2"
   ],
   "name": "automatization_template_upd4.ipynb",
   "provenance": []
  },
  "kernelspec": {
   "display_name": "Python 3 (ipykernel)",
   "language": "python",
   "name": "python3"
  },
  "language_info": {
   "codemirror_mode": {
    "name": "ipython",
    "version": 3
   },
   "file_extension": ".py",
   "mimetype": "text/x-python",
   "name": "python",
   "nbconvert_exporter": "python",
   "pygments_lexer": "ipython3",
   "version": "3.9.5"
  },
  "toc": {
   "base_numbering": 1,
   "nav_menu": {
    "height": "215px",
    "width": "403px"
   },
   "number_sections": true,
   "sideBar": true,
   "skip_h1_title": true,
   "title_cell": "Table of Contents",
   "title_sidebar": "Contents",
   "toc_cell": false,
   "toc_position": {
    "height": "calc(100% - 180px)",
    "left": "10px",
    "top": "150px",
    "width": "285.825px"
   },
   "toc_section_display": true,
   "toc_window_display": false
  }
 },
 "nbformat": 4,
 "nbformat_minor": 1
}
